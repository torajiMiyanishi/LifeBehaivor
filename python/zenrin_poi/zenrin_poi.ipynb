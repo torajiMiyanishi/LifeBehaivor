{
 "cells": [
  {
   "cell_type": "code",
   "execution_count": 50,
   "id": "initial_id",
   "metadata": {
    "collapsed": true,
    "ExecuteTime": {
     "end_time": "2024-09-22T10:55:57.770577400Z",
     "start_time": "2024-09-22T10:55:57.743543200Z"
    }
   },
   "outputs": [],
   "source": [
    "import pandas as pd"
   ]
  },
  {
   "cell_type": "code",
   "execution_count": 78,
   "outputs": [],
   "source": [
    "INDUSTRY_NAME_TO_INDUSTRY_TYPE = {\n",
    "    \"A_農業，林業\": \"A_AGRICULTURE_FORESTRY\",\n",
    "    \"B_漁業\": \"B_FISHERIES\",\n",
    "    \"C_鉱業，採石業，砂利採取業\": \"C_MINING_QUARRYING_GRAVEL\",\n",
    "    \"D_建設業\": \"D_CONSTRUCTION\",\n",
    "    \"E_製造業\": \"E_MANUFACTURING\",\n",
    "    \"F_電気・ガス・熱供給・水道業\": \"F_ELECTRICITY_GAS_WATER\",\n",
    "    \"G_情報通信業\": \"G_INFORMATION_COMMUNICATION\",\n",
    "    \"H_運輸業，郵便業\": \"H_TRANSPORTATION_POSTAL\",\n",
    "    \"I_卸売業，小売業\": \"I_WHOLESALE_RETAIL\",\n",
    "    \"J_金融業，保険業\": \"J_FINANCE_INSURANCE\",\n",
    "    \"K_不動産業，物品賃貸業\": \"K_REAL_ESTATE_RENTAL\",\n",
    "    \"L_学術研究，専門・技術サービス業\": \"L_RESEARCH_TECHNICAL_SERVICES\",\n",
    "    \"M_宿泊業，飲食サービス業\": \"M_ACCOMMODATION_FOOD_SERVICES\",\n",
    "    \"N_生活関連サービス業，娯楽業\": \"N_PERSONAL_SERVICES_ENTERTAINMENT\",\n",
    "    \"O_教育，学習支援業\": \"O_EDUCATION_SUPPORT\",\n",
    "    \"P_医療，福祉\": \"P_MEDICAL_WELFARE\",\n",
    "    \"Q_複合サービス事業\": \"Q_COMPOUND_SERVICES\",\n",
    "    \"R_サービス業（他に分類されないもの）\": \"R_OTHER_SERVICES\",\n",
    "    \"S_公務（他に分類されるものを除く）\": \"S_GOVERNMENT\",\n",
    "    \"T_分類不能の産業\": \"T_UNCLASSIFIABLE_INDUSTRY\",\n",
    "}\n",
    "def str2label(industries):\n",
    "    replaced = []\n",
    "    for industry in industries.split(\",\"):\n",
    "        replaced.append(INDUSTRY_NAME_TO_INDUSTRY_TYPE[industry.replace(\" \",\"\")])\n",
    "    return \",\".join(replaced)"
   ],
   "metadata": {
    "collapsed": false,
    "ExecuteTime": {
     "end_time": "2024-09-23T00:04:38.045329600Z",
     "start_time": "2024-09-23T00:04:38.000334700Z"
    }
   },
   "id": "2aeb454f001dcc19"
  },
  {
   "cell_type": "code",
   "execution_count": 79,
   "outputs": [],
   "source": [
    "DIR_ZENRIN = \"Z:\\\\lab\\\\zenrin_poi\\\\origin\\\\BPO47207.csv\"\n",
    "DIR_LABEL = \"Z:\\\\lab\\\\zenrin_poi\\\\zenrin_poi - 行為_従業.csv\""
   ],
   "metadata": {
    "collapsed": false,
    "ExecuteTime": {
     "end_time": "2024-09-23T00:04:38.583501500Z",
     "start_time": "2024-09-23T00:04:38.549829100Z"
    }
   },
   "id": "ac9762043907f49d"
  },
  {
   "cell_type": "code",
   "execution_count": 85,
   "outputs": [],
   "source": [
    "origin = pd.read_csv(DIR_ZENRIN,encoding=\"shift_jis\",usecols=[\"建物名\",\"建物分類\",\"面積\",\"緯度\",\"経度\"]).set_axis([\"BuildingName\",\"GenreCode\",\"Area\",\"Longitude\",\"Latitude\"],axis=1)\n",
    "label = pd.read_csv(DIR_LABEL,usecols=[\"建物分類\",\"分類名\",\"産業大分類\",\"モデル用定義\"]).set_axis([\"GenreCode\",\"GenreName\",\"Industry\",\"Activity\"],axis=1)\n",
    "label[\"Industry\"] = label[\"Industry\"].apply(str2label)"
   ],
   "metadata": {
    "collapsed": false,
    "ExecuteTime": {
     "end_time": "2024-09-23T00:32:30.625707300Z",
     "start_time": "2024-09-23T00:32:29.521054400Z"
    }
   },
   "id": "fd59d41e9e769252"
  },
  {
   "cell_type": "code",
   "execution_count": 86,
   "outputs": [],
   "source": [
    "house = [1001,1002,1003,1004,1005,1006,1007,1008,9999]\n",
    "non_house = origin.query(\"GenreCode not in @house\")"
   ],
   "metadata": {
    "collapsed": false,
    "ExecuteTime": {
     "end_time": "2024-09-23T00:32:30.901693100Z",
     "start_time": "2024-09-23T00:32:30.843235500Z"
    }
   },
   "id": "6b523f2f79e54395"
  },
  {
   "cell_type": "code",
   "execution_count": 87,
   "outputs": [],
   "source": [
    "poi = pd.merge(non_house,label,on=\"GenreCode\",how=\"left\")"
   ],
   "metadata": {
    "collapsed": false,
    "ExecuteTime": {
     "end_time": "2024-09-23T00:32:34.765199500Z",
     "start_time": "2024-09-23T00:32:34.702226Z"
    }
   },
   "id": "708d1d275eee8928"
  },
  {
   "cell_type": "code",
   "execution_count": 89,
   "outputs": [],
   "source": [
    "poi.to_csv(f\"Z:\\\\lab\\\\zenrin_poi\\\\modified\\\\47207.csv\",index=False)"
   ],
   "metadata": {
    "collapsed": false,
    "ExecuteTime": {
     "end_time": "2024-09-23T00:32:45.785451700Z",
     "start_time": "2024-09-23T00:32:44.813651900Z"
    }
   },
   "id": "80f673bef58772b9"
  },
  {
   "cell_type": "code",
   "execution_count": 75,
   "outputs": [],
   "source": [],
   "metadata": {
    "collapsed": false,
    "ExecuteTime": {
     "end_time": "2024-09-23T00:01:39.132665900Z",
     "start_time": "2024-09-23T00:01:39.082389300Z"
    }
   },
   "id": "9680879daad36679"
  },
  {
   "cell_type": "code",
   "execution_count": 76,
   "outputs": [],
   "source": [],
   "metadata": {
    "collapsed": false,
    "ExecuteTime": {
     "end_time": "2024-09-23T00:01:39.724732600Z",
     "start_time": "2024-09-23T00:01:39.682620100Z"
    }
   },
   "id": "50fe91c331063b89"
  },
  {
   "cell_type": "code",
   "execution_count": 88,
   "outputs": [
    {
     "data": {
      "text/plain": "               BuildingName  GenreCode    Area   Longitude   Latitude  \\\n0                      本村製菓       2002  198.02  124.118659  24.361826   \n1                     冨崎観音堂       2026   98.76  124.116389  24.364971   \n2                 物産センター石垣島       2027  183.64  124.112971  24.366100   \n3                   琉球観音埼燈台       2027   18.20  124.111556  24.365711   \n4                   アトリエ八重山       2027  205.04  124.114803  24.365456   \n...                     ...        ...     ...         ...        ...   \n2762        マリンバンクキャッシュコーナー       3004   24.66  124.164783  24.332541   \n2763    国際サンゴ礁研究・モニタリングセンター       3002  741.51  124.168640  24.331839   \n2764               八重山漁協冷凍庫       2027  332.61  124.164542  24.332574   \n2765  （株）りゅうせきロジコム八重山物流センター       3004  314.48  124.143899  24.331468   \n2766         ドルフィンファンタジー石垣島       2027   23.52  124.155858  24.330999   \n\n     GenreName                                           Industry  \\\n0       物販（食品）                                 I_WHOLESALE_RETAIL   \n1         宗教関連                                   R_OTHER_SERVICES   \n2          一般業  A_AGRICULTURE_FORESTRY,B_FISHERIES,C_MINING_QU...   \n3          一般業  A_AGRICULTURE_FORESTRY,B_FISHERIES,C_MINING_QU...   \n4          一般業  A_AGRICULTURE_FORESTRY,B_FISHERIES,C_MINING_QU...   \n...        ...                                                ...   \n2762   オフィス系建物  A_AGRICULTURE_FORESTRY,B_FISHERIES,C_MINING_QU...   \n2763     商業系建物  A_AGRICULTURE_FORESTRY,B_FISHERIES,C_MINING_QU...   \n2764       一般業  A_AGRICULTURE_FORESTRY,B_FISHERIES,C_MINING_QU...   \n2765   オフィス系建物  A_AGRICULTURE_FORESTRY,B_FISHERIES,C_MINING_QU...   \n2766       一般業  A_AGRICULTURE_FORESTRY,B_FISHERIES,C_MINING_QU...   \n\n                    Activity  \n0                        買い物  \n1                       家庭雑事  \n2     家庭雑事, 買い物, 行楽・散策, 社会参加  \n3     家庭雑事, 買い物, 行楽・散策, 社会参加  \n4     家庭雑事, 買い物, 行楽・散策, 社会参加  \n...                      ...  \n2762  家庭雑事, 買い物, 行楽・散策, 社会参加  \n2763  家庭雑事, 買い物, 行楽・散策, 社会参加  \n2764  家庭雑事, 買い物, 行楽・散策, 社会参加  \n2765  家庭雑事, 買い物, 行楽・散策, 社会参加  \n2766  家庭雑事, 買い物, 行楽・散策, 社会参加  \n\n[2767 rows x 8 columns]",
      "text/html": "<div>\n<style scoped>\n    .dataframe tbody tr th:only-of-type {\n        vertical-align: middle;\n    }\n\n    .dataframe tbody tr th {\n        vertical-align: top;\n    }\n\n    .dataframe thead th {\n        text-align: right;\n    }\n</style>\n<table border=\"1\" class=\"dataframe\">\n  <thead>\n    <tr style=\"text-align: right;\">\n      <th></th>\n      <th>BuildingName</th>\n      <th>GenreCode</th>\n      <th>Area</th>\n      <th>Longitude</th>\n      <th>Latitude</th>\n      <th>GenreName</th>\n      <th>Industry</th>\n      <th>Activity</th>\n    </tr>\n  </thead>\n  <tbody>\n    <tr>\n      <th>0</th>\n      <td>本村製菓</td>\n      <td>2002</td>\n      <td>198.02</td>\n      <td>124.118659</td>\n      <td>24.361826</td>\n      <td>物販（食品）</td>\n      <td>I_WHOLESALE_RETAIL</td>\n      <td>買い物</td>\n    </tr>\n    <tr>\n      <th>1</th>\n      <td>冨崎観音堂</td>\n      <td>2026</td>\n      <td>98.76</td>\n      <td>124.116389</td>\n      <td>24.364971</td>\n      <td>宗教関連</td>\n      <td>R_OTHER_SERVICES</td>\n      <td>家庭雑事</td>\n    </tr>\n    <tr>\n      <th>2</th>\n      <td>物産センター石垣島</td>\n      <td>2027</td>\n      <td>183.64</td>\n      <td>124.112971</td>\n      <td>24.366100</td>\n      <td>一般業</td>\n      <td>A_AGRICULTURE_FORESTRY,B_FISHERIES,C_MINING_QU...</td>\n      <td>家庭雑事, 買い物, 行楽・散策, 社会参加</td>\n    </tr>\n    <tr>\n      <th>3</th>\n      <td>琉球観音埼燈台</td>\n      <td>2027</td>\n      <td>18.20</td>\n      <td>124.111556</td>\n      <td>24.365711</td>\n      <td>一般業</td>\n      <td>A_AGRICULTURE_FORESTRY,B_FISHERIES,C_MINING_QU...</td>\n      <td>家庭雑事, 買い物, 行楽・散策, 社会参加</td>\n    </tr>\n    <tr>\n      <th>4</th>\n      <td>アトリエ八重山</td>\n      <td>2027</td>\n      <td>205.04</td>\n      <td>124.114803</td>\n      <td>24.365456</td>\n      <td>一般業</td>\n      <td>A_AGRICULTURE_FORESTRY,B_FISHERIES,C_MINING_QU...</td>\n      <td>家庭雑事, 買い物, 行楽・散策, 社会参加</td>\n    </tr>\n    <tr>\n      <th>...</th>\n      <td>...</td>\n      <td>...</td>\n      <td>...</td>\n      <td>...</td>\n      <td>...</td>\n      <td>...</td>\n      <td>...</td>\n      <td>...</td>\n    </tr>\n    <tr>\n      <th>2762</th>\n      <td>マリンバンクキャッシュコーナー</td>\n      <td>3004</td>\n      <td>24.66</td>\n      <td>124.164783</td>\n      <td>24.332541</td>\n      <td>オフィス系建物</td>\n      <td>A_AGRICULTURE_FORESTRY,B_FISHERIES,C_MINING_QU...</td>\n      <td>家庭雑事, 買い物, 行楽・散策, 社会参加</td>\n    </tr>\n    <tr>\n      <th>2763</th>\n      <td>国際サンゴ礁研究・モニタリングセンター</td>\n      <td>3002</td>\n      <td>741.51</td>\n      <td>124.168640</td>\n      <td>24.331839</td>\n      <td>商業系建物</td>\n      <td>A_AGRICULTURE_FORESTRY,B_FISHERIES,C_MINING_QU...</td>\n      <td>家庭雑事, 買い物, 行楽・散策, 社会参加</td>\n    </tr>\n    <tr>\n      <th>2764</th>\n      <td>八重山漁協冷凍庫</td>\n      <td>2027</td>\n      <td>332.61</td>\n      <td>124.164542</td>\n      <td>24.332574</td>\n      <td>一般業</td>\n      <td>A_AGRICULTURE_FORESTRY,B_FISHERIES,C_MINING_QU...</td>\n      <td>家庭雑事, 買い物, 行楽・散策, 社会参加</td>\n    </tr>\n    <tr>\n      <th>2765</th>\n      <td>（株）りゅうせきロジコム八重山物流センター</td>\n      <td>3004</td>\n      <td>314.48</td>\n      <td>124.143899</td>\n      <td>24.331468</td>\n      <td>オフィス系建物</td>\n      <td>A_AGRICULTURE_FORESTRY,B_FISHERIES,C_MINING_QU...</td>\n      <td>家庭雑事, 買い物, 行楽・散策, 社会参加</td>\n    </tr>\n    <tr>\n      <th>2766</th>\n      <td>ドルフィンファンタジー石垣島</td>\n      <td>2027</td>\n      <td>23.52</td>\n      <td>124.155858</td>\n      <td>24.330999</td>\n      <td>一般業</td>\n      <td>A_AGRICULTURE_FORESTRY,B_FISHERIES,C_MINING_QU...</td>\n      <td>家庭雑事, 買い物, 行楽・散策, 社会参加</td>\n    </tr>\n  </tbody>\n</table>\n<p>2767 rows × 8 columns</p>\n</div>"
     },
     "execution_count": 88,
     "metadata": {},
     "output_type": "execute_result"
    }
   ],
   "source": [
    "poi"
   ],
   "metadata": {
    "collapsed": false,
    "ExecuteTime": {
     "end_time": "2024-09-23T00:32:37.717405900Z",
     "start_time": "2024-09-23T00:32:37.648754400Z"
    }
   },
   "id": "57df1a1139f0f660"
  },
  {
   "cell_type": "code",
   "execution_count": null,
   "outputs": [],
   "source": [],
   "metadata": {
    "collapsed": false
   },
   "id": "319dfe9db21e9515"
  }
 ],
 "metadata": {
  "kernelspec": {
   "display_name": "Python 3",
   "language": "python",
   "name": "python3"
  },
  "language_info": {
   "codemirror_mode": {
    "name": "ipython",
    "version": 2
   },
   "file_extension": ".py",
   "mimetype": "text/x-python",
   "name": "python",
   "nbconvert_exporter": "python",
   "pygments_lexer": "ipython2",
   "version": "2.7.6"
  }
 },
 "nbformat": 4,
 "nbformat_minor": 5
}
