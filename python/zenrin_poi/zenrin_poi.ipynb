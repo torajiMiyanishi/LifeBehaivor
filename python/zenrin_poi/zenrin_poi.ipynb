{
 "cells": [
  {
   "cell_type": "code",
   "execution_count": 90,
   "id": "initial_id",
   "metadata": {
    "collapsed": true,
    "ExecuteTime": {
     "end_time": "2024-09-24T08:14:53.885935100Z",
     "start_time": "2024-09-24T08:14:53.880471100Z"
    }
   },
   "outputs": [],
   "source": [
    "import pandas as pd"
   ]
  },
  {
   "cell_type": "code",
   "execution_count": 91,
   "outputs": [],
   "source": [
    "INDUSTRY_NAME_TO_INDUSTRY_TYPE = {\n",
    "    \"A_農業，林業\": \"A_AGRICULTURE_FORESTRY\",\n",
    "    \"B_漁業\": \"B_FISHERIES\",\n",
    "    \"C_鉱業，採石業，砂利採取業\": \"C_MINING_QUARRYING_GRAVEL\",\n",
    "    \"D_建設業\": \"D_CONSTRUCTION\",\n",
    "    \"E_製造業\": \"E_MANUFACTURING\",\n",
    "    \"F_電気・ガス・熱供給・水道業\": \"F_ELECTRICITY_GAS_WATER\",\n",
    "    \"G_情報通信業\": \"G_INFORMATION_COMMUNICATION\",\n",
    "    \"H_運輸業，郵便業\": \"H_TRANSPORTATION_POSTAL\",\n",
    "    \"I_卸売業，小売業\": \"I_WHOLESALE_RETAIL\",\n",
    "    \"J_金融業，保険業\": \"J_FINANCE_INSURANCE\",\n",
    "    \"K_不動産業，物品賃貸業\": \"K_REAL_ESTATE_RENTAL\",\n",
    "    \"L_学術研究，専門・技術サービス業\": \"L_RESEARCH_TECHNICAL_SERVICES\",\n",
    "    \"M_宿泊業，飲食サービス業\": \"M_ACCOMMODATION_FOOD_SERVICES\",\n",
    "    \"N_生活関連サービス業，娯楽業\": \"N_PERSONAL_SERVICES_ENTERTAINMENT\",\n",
    "    \"O_教育，学習支援業\": \"O_EDUCATION_SUPPORT\",\n",
    "    \"P_医療，福祉\": \"P_MEDICAL_WELFARE\",\n",
    "    \"Q_複合サービス事業\": \"Q_COMPOUND_SERVICES\",\n",
    "    \"R_サービス業（他に分類されないもの）\": \"R_OTHER_SERVICES\",\n",
    "    \"S_公務（他に分類されるものを除く）\": \"S_GOVERNMENT\",\n",
    "    \"T_分類不能の産業\": \"T_UNCLASSIFIABLE_INDUSTRY\",\n",
    "}\n",
    "def str2label(industries):\n",
    "    replaced = []\n",
    "    for industry in industries.split(\",\"):\n",
    "        replaced.append(INDUSTRY_NAME_TO_INDUSTRY_TYPE[industry.replace(\" \",\"\")])\n",
    "    return \",\".join(replaced)"
   ],
   "metadata": {
    "collapsed": false,
    "ExecuteTime": {
     "end_time": "2024-09-24T08:14:54.694742800Z",
     "start_time": "2024-09-24T08:14:54.676565700Z"
    }
   },
   "id": "2aeb454f001dcc19"
  },
  {
   "cell_type": "code",
   "execution_count": 92,
   "outputs": [],
   "source": [
    "DIR_ZENRIN = \"Z:\\\\lab\\\\zenrin_poi\\\\origin\\\\BPO47207.csv\"\n",
    "DIR_LABEL = \"Z:\\\\lab\\\\zenrin_poi\\\\zenrin_poi - 行為_従業.csv\""
   ],
   "metadata": {
    "collapsed": false,
    "ExecuteTime": {
     "end_time": "2024-09-24T08:14:58.283119100Z",
     "start_time": "2024-09-24T08:14:58.259529300Z"
    }
   },
   "id": "ac9762043907f49d"
  },
  {
   "cell_type": "code",
   "execution_count": 93,
   "outputs": [],
   "source": [
    "origin = pd.read_csv(DIR_ZENRIN,encoding=\"shift_jis\",usecols=[\"建物名\",\"建物分類\",\"面積\",\"緯度\",\"経度\"]).set_axis([\"BuildingName\",\"GenreCode\",\"Area\",\"Longitude\",\"Latitude\"],axis=1)\n",
    "label = pd.read_csv(DIR_LABEL,usecols=[\"建物分類\",\"分類名\",\"産業大分類\",\"モデル用定義\"]).set_axis([\"GenreCode\",\"GenreName\",\"Industry\",\"Activity\"],axis=1)\n",
    "label[\"Industry\"] = label[\"Industry\"].apply(str2label)"
   ],
   "metadata": {
    "collapsed": false,
    "ExecuteTime": {
     "end_time": "2024-09-24T08:15:03.573317300Z",
     "start_time": "2024-09-24T08:15:03.012348600Z"
    }
   },
   "id": "fd59d41e9e769252"
  },
  {
   "cell_type": "code",
   "execution_count": 94,
   "outputs": [],
   "source": [
    "house = [1001,1002,1003,1004,1005,1006,1007,1008,9999]\n",
    "non_house = origin.query(\"GenreCode not in @house\")"
   ],
   "metadata": {
    "collapsed": false,
    "ExecuteTime": {
     "end_time": "2024-09-24T08:15:03.789662100Z",
     "start_time": "2024-09-24T08:15:03.768958100Z"
    }
   },
   "id": "6b523f2f79e54395"
  },
  {
   "cell_type": "code",
   "execution_count": 95,
   "outputs": [],
   "source": [
    "poi = pd.merge(non_house,label,on=\"GenreCode\",how=\"left\")"
   ],
   "metadata": {
    "collapsed": false,
    "ExecuteTime": {
     "end_time": "2024-09-24T08:15:08.528077400Z",
     "start_time": "2024-09-24T08:15:08.508132500Z"
    }
   },
   "id": "708d1d275eee8928"
  },
  {
   "cell_type": "code",
   "execution_count": 89,
   "outputs": [],
   "source": [
    "poi.to_csv(f\"Z:\\\\lab\\\\zenrin_poi\\\\modified\\\\47207.csv\",index=False)"
   ],
   "metadata": {
    "collapsed": false,
    "ExecuteTime": {
     "end_time": "2024-09-23T00:32:45.785451700Z",
     "start_time": "2024-09-23T00:32:44.813651900Z"
    }
   },
   "id": "80f673bef58772b9"
  },
  {
   "cell_type": "code",
   "execution_count": 97,
   "outputs": [
    {
     "data": {
      "text/plain": "GenreCode\n2027    1378\n3004     205\n3003     122\n3001     117\n2001     111\n2004     108\n2020     107\n3002      86\n2019      74\n2017      66\n2018      66\n2002      37\n2007      35\n2008      34\n2010      27\n2026      25\n2015      25\n2023      24\n2013      23\n2005      17\n2016      14\n2022      13\n2012      12\n2011      10\n2003       9\n2021       7\n2024       7\n2014       4\n2006       3\n2009       1\nName: count, dtype: int64"
     },
     "execution_count": 97,
     "metadata": {},
     "output_type": "execute_result"
    }
   ],
   "source": [
    "poi[\"GenreCode\"].value_counts()"
   ],
   "metadata": {
    "collapsed": false,
    "ExecuteTime": {
     "end_time": "2024-09-24T08:16:33.190189600Z",
     "start_time": "2024-09-24T08:16:33.155917900Z"
    }
   },
   "id": "9680879daad36679"
  },
  {
   "cell_type": "code",
   "execution_count": 76,
   "outputs": [],
   "source": [],
   "metadata": {
    "collapsed": false,
    "ExecuteTime": {
     "end_time": "2024-09-23T00:01:39.724732600Z",
     "start_time": "2024-09-23T00:01:39.682620100Z"
    }
   },
   "id": "50fe91c331063b89"
  },
  {
   "cell_type": "code",
   "execution_count": 96,
   "outputs": [],
   "source": [],
   "metadata": {
    "collapsed": false,
    "ExecuteTime": {
     "end_time": "2024-09-24T08:15:17.165236Z",
     "start_time": "2024-09-24T08:15:17.151704800Z"
    }
   },
   "id": "57df1a1139f0f660"
  },
  {
   "cell_type": "code",
   "execution_count": null,
   "outputs": [],
   "source": [],
   "metadata": {
    "collapsed": false
   },
   "id": "319dfe9db21e9515"
  }
 ],
 "metadata": {
  "kernelspec": {
   "display_name": "Python 3",
   "language": "python",
   "name": "python3"
  },
  "language_info": {
   "codemirror_mode": {
    "name": "ipython",
    "version": 2
   },
   "file_extension": ".py",
   "mimetype": "text/x-python",
   "name": "python",
   "nbconvert_exporter": "python",
   "pygments_lexer": "ipython2",
   "version": "2.7.6"
  }
 },
 "nbformat": 4,
 "nbformat_minor": 5
}
