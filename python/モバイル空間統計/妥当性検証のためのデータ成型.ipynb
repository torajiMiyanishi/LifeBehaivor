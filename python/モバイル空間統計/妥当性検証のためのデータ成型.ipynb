{
 "cells": [
  {
   "cell_type": "code",
   "execution_count": 72,
   "id": "initial_id",
   "metadata": {
    "collapsed": true,
    "ExecuteTime": {
     "end_time": "2024-09-26T00:19:53.262730700Z",
     "start_time": "2024-09-26T00:19:53.212510Z"
    }
   },
   "outputs": [],
   "source": [
    "import pandas as pd\n",
    "import geopandas as gpd\n",
    "import glob\n",
    "import requests\n",
    "import zipfile\n",
    "import os\n",
    "import io\n",
    "from tqdm import tqdm"
   ]
  },
  {
   "cell_type": "code",
   "execution_count": 157,
   "outputs": [],
   "source": [
    "DIR_DATA = \"Z:/lab/モバイル空間統計/\"\n",
    "DIR_MESH = \"Z:\\\\lab\\\\境界データ\\\\500mメッシュ\\\\\"\n",
    "DIR_POLY = \"Z:\\\\lab\\\\境界データ\\\\japan_ver84\\\\japan_ver84.shp\"\n",
    "DIR_WEEKDAY_OUT = \"Z:\\\\lab\\\\SSI2024_検証\\\\モバイル空間統計_WEEKDAY\\\\\"\n",
    "URL_MESH = \"https://www.e-stat.go.jp/gis/statmap-search/data?dlserveyId=H&code={}&coordSys=1&format=shape&downloadType=5\"\n",
    "ISHIGAKI_J_CODE = \"47207\"\n",
    "OKINAWA_PREF_CODE = \"47\"\n",
    "NTT_TIME_LIST = ['0000', '0100', '0200', '0300', '0400', '0500', '0600', '0700', '0800', '0900', '1000', '1100', '1200', '1300', '1400', '1500', '1600', '1700', '1800', '1900', '2000', '2100', '2200', '2300']\n",
    "NTT_DATE_LIST = [\"20190204\",\"20190205\",\"20190206\",\"20190207\",\"20190208\"]"
   ],
   "metadata": {
    "collapsed": false,
    "ExecuteTime": {
     "end_time": "2024-09-26T01:56:31.056428300Z",
     "start_time": "2024-09-26T01:56:31.004812Z"
    }
   },
   "id": "8fe7c4caaa912d68"
  },
  {
   "cell_type": "markdown",
   "source": [
    "境界データの準備"
   ],
   "metadata": {
    "collapsed": false
   },
   "id": "b1e120e52c21a95a"
  },
  {
   "cell_type": "code",
   "execution_count": 84,
   "outputs": [
    {
     "name": "stderr",
     "output_type": "stream",
     "text": [
      "100%|██████████| 15/15 [00:12<00:00,  1.20it/s]\n"
     ]
    }
   ],
   "source": [
    "# meshのshpをestatからダウンロード\n",
    "target_mesh_codes = ['M3622', 'M3623', 'M3624', 'M3631', 'M3724', 'M3725', 'M3823', 'M3824', 'M3831', 'M3926', 'M3927', 'M3928', 'M4027', 'M4028', 'M4128'] # hpをテキストとして，コピーし，gptで抜き出す\n",
    "for c in tqdm(target_mesh_codes):\n",
    "    target_mesh_code = c[1:]\n",
    "    response = requests.get(URL_MESH.format(target_mesh_code))\n",
    "    \n",
    "    save_dir = DIR_MESH + OKINAWA_PREF_CODE +\"\\\\\"\n",
    "    # ディレクトリが存在しない場合は作成\n",
    "    if not os.path.exists(save_dir):\n",
    "        os.makedirs(save_dir)\n",
    "    \n",
    "    # メモリ上でZIPファイルを解凍\n",
    "    with zipfile.ZipFile(io.BytesIO(response.content)) as z:\n",
    "        # ZIPファイル内のファイルをすべて解凍して保存先ディレクトリに展開\n",
    "        z.extractall(save_dir)"
   ],
   "metadata": {
    "collapsed": false,
    "ExecuteTime": {
     "end_time": "2024-09-26T00:29:04.298927500Z",
     "start_time": "2024-09-26T00:28:51.761802800Z"
    }
   },
   "id": "ccf566db32647d9e"
  },
  {
   "cell_type": "code",
   "execution_count": 91,
   "outputs": [
    {
     "name": "stderr",
     "output_type": "stream",
     "text": [
      "100%|██████████| 15/15 [00:21<00:00,  1.41s/it]\n"
     ]
    }
   ],
   "source": [
    "# shpファイルを読み込む\n",
    "all_mesh = gpd.GeoDataFrame()\n",
    "for path in tqdm(glob.glob(DIR_MESH + OKINAWA_PREF_CODE +\"/*.shp\")):\n",
    "    all_mesh = pd.concat([all_mesh,gpd.read_file(path).to_crs(6668)])\n",
    "target_poly = gpd.read_file(DIR_POLY)[[\"JCODE\",\"geometry\"]].query(\"JCODE == @ISHIGAKI_J_CODE\").to_crs(6668)"
   ],
   "metadata": {
    "collapsed": false,
    "ExecuteTime": {
     "end_time": "2024-09-26T00:47:10.072689100Z",
     "start_time": "2024-09-26T00:46:46.820801400Z"
    }
   },
   "id": "d835fe35606c7b95"
  },
  {
   "cell_type": "code",
   "execution_count": null,
   "outputs": [],
   "source": [
    "# インターセクトで，対象市区町村のデータを抽出\n",
    "target_mesh = gpd.sjoin(all_mesh,target_poly,how=\"inner\",predicate=\"intersects\").filter(items=[\"KEY_CODE\",\"JCODE\",\"geometry\"])\n",
    "TARGET_MESH_IDS = target_mesh[\"KEY_CODE\"].astype(str).to_list()"
   ],
   "metadata": {
    "collapsed": false
   },
   "id": "81f231ec86ddb4b9"
  },
  {
   "cell_type": "markdown",
   "source": [
    "モバイル空間統計の抽出"
   ],
   "metadata": {
    "collapsed": false
   },
   "id": "74d3832071a25622"
  },
  {
   "cell_type": "code",
   "execution_count": 159,
   "outputs": [
    {
     "name": "stderr",
     "output_type": "stream",
     "text": [
      "100%|██████████| 24/24 [01:54<00:00,  4.78s/it]\n"
     ]
    }
   ],
   "source": [
    "# モバイル空間統計の読み込み\n",
    "for time in tqdm(NTT_TIME_LIST):\n",
    "    mobile_by_times = []\n",
    "    for date in NTT_DATE_LIST:\n",
    "        path = DIR_DATA + f\"{date}/clipped_mesh_pop_{date}{time}_00003.csv.zip\"\n",
    "        raw_mobile = pd.read_csv(path,\n",
    "                                 usecols=[\"date\",\"time\",\"area\",\"residence\",\"population\"],\n",
    "                                 dtype={\"date\":str,\"time\":str,\"area\":str,\"residence\":str,\"population\":int}\n",
    "                                 ).query(\"residence == @ISHIGAKI_J_CODE\").drop(columns=[\"residence\"])\n",
    "        mobile_by_times.append(target_mesh.filter(items=[\"KEY_CODE\"]).merge(raw_mobile,how=\"left\",left_on=\"KEY_CODE\",right_on=\"area\").drop(columns=[\"area\"]))\n",
    "    mobile_by_time = pd.concat(mobile_by_times,axis=0).drop(columns=[\"date\"])\n",
    "    mobile_by_time[\"time\"] = mobile_by_time[\"time\"].fillna(time)\n",
    "    mobile_by_time[\"population\"] = mobile_by_time[\"population\"].fillna(0.0)\n",
    "    mobile_by_time.groupby([\"KEY_CODE\",\"time\"]).mean()\n",
    "    mobile_by_time.to_csv(DIR_WEEKDAY_OUT+f\"{time}.csv\",index=False)"
   ],
   "metadata": {
    "collapsed": false,
    "ExecuteTime": {
     "end_time": "2024-09-26T02:00:43.143661600Z",
     "start_time": "2024-09-26T01:58:48.306281500Z"
    }
   },
   "id": "9bf4fc42c6f77a3a"
  },
  {
   "cell_type": "code",
   "execution_count": 138,
   "outputs": [
    {
     "data": {
      "text/plain": "      KEY_CODE  time  population\n0    362431911  0000         0.0\n1    362431912  0000         0.0\n2    362431913  0000         0.0\n3    362431914  0000         0.0\n4    362431923  0000        13.0\n..         ...   ...         ...\n975  382375053  0000         0.0\n976  382375141  0000         0.0\n977  382375142  0000         0.0\n978  382474043  0000         0.0\n979  382474044  0000         0.0\n\n[980 rows x 3 columns]",
      "text/html": "<div>\n<style scoped>\n    .dataframe tbody tr th:only-of-type {\n        vertical-align: middle;\n    }\n\n    .dataframe tbody tr th {\n        vertical-align: top;\n    }\n\n    .dataframe thead th {\n        text-align: right;\n    }\n</style>\n<table border=\"1\" class=\"dataframe\">\n  <thead>\n    <tr style=\"text-align: right;\">\n      <th></th>\n      <th>KEY_CODE</th>\n      <th>time</th>\n      <th>population</th>\n    </tr>\n  </thead>\n  <tbody>\n    <tr>\n      <th>0</th>\n      <td>362431911</td>\n      <td>0000</td>\n      <td>0.0</td>\n    </tr>\n    <tr>\n      <th>1</th>\n      <td>362431912</td>\n      <td>0000</td>\n      <td>0.0</td>\n    </tr>\n    <tr>\n      <th>2</th>\n      <td>362431913</td>\n      <td>0000</td>\n      <td>0.0</td>\n    </tr>\n    <tr>\n      <th>3</th>\n      <td>362431914</td>\n      <td>0000</td>\n      <td>0.0</td>\n    </tr>\n    <tr>\n      <th>4</th>\n      <td>362431923</td>\n      <td>0000</td>\n      <td>13.0</td>\n    </tr>\n    <tr>\n      <th>...</th>\n      <td>...</td>\n      <td>...</td>\n      <td>...</td>\n    </tr>\n    <tr>\n      <th>975</th>\n      <td>382375053</td>\n      <td>0000</td>\n      <td>0.0</td>\n    </tr>\n    <tr>\n      <th>976</th>\n      <td>382375141</td>\n      <td>0000</td>\n      <td>0.0</td>\n    </tr>\n    <tr>\n      <th>977</th>\n      <td>382375142</td>\n      <td>0000</td>\n      <td>0.0</td>\n    </tr>\n    <tr>\n      <th>978</th>\n      <td>382474043</td>\n      <td>0000</td>\n      <td>0.0</td>\n    </tr>\n    <tr>\n      <th>979</th>\n      <td>382474044</td>\n      <td>0000</td>\n      <td>0.0</td>\n    </tr>\n  </tbody>\n</table>\n<p>980 rows × 3 columns</p>\n</div>"
     },
     "execution_count": 138,
     "metadata": {},
     "output_type": "execute_result"
    }
   ],
   "source": [
    "weekday_mean = target_mesh.filter(items=[\"KEY_CODE\"]).merge(mobile_by_time,how=\"left\",left_on=\"KEY_CODE\",right_on=\"area\").drop(columns=[\"area\"])\n",
    "weekday_mean[\"time\"] = weekday_mean[\"time\"].fillna(time)\n",
    "weekday_mean[\"population\"] = weekday_mean[\"population\"].fillna(0.0)\n",
    "weekday_mean.groupby([\"KEY_CODE\",\"time\"],as_index=False).mean()"
   ],
   "metadata": {
    "collapsed": false,
    "ExecuteTime": {
     "end_time": "2024-09-26T01:39:59.230629300Z",
     "start_time": "2024-09-26T01:39:59.160227800Z"
    }
   },
   "id": "9719694dd458c1cf"
  },
  {
   "cell_type": "code",
   "execution_count": 135,
   "outputs": [
    {
     "data": {
      "text/plain": "0       0000\n1       0000\n2       0000\n3       0000\n4       0000\n        ... \n1566    0000\n1567    0000\n1568    0000\n1569    0000\n1570    0000\nName: time, Length: 1571, dtype: object"
     },
     "execution_count": 135,
     "metadata": {},
     "output_type": "execute_result"
    }
   ],
   "source": [
    "weekday_mean"
   ],
   "metadata": {
    "collapsed": false,
    "ExecuteTime": {
     "end_time": "2024-09-26T01:38:37.853524600Z",
     "start_time": "2024-09-26T01:38:37.799985Z"
    }
   },
   "id": "bd0d5897f141f863"
  },
  {
   "cell_type": "code",
   "execution_count": 132,
   "outputs": [
    {
     "data": {
      "text/plain": "       KEY_CODE  time  population\n0     362431911   NaN         NaN\n1     362431912   NaN         NaN\n2     362431913   NaN         NaN\n3     362431914   NaN         NaN\n4     362431923  0000        13.0\n...         ...   ...         ...\n1566  382375053   NaN         NaN\n1567  382375141   NaN         NaN\n1568  382375142   NaN         NaN\n1569  382474043   NaN         NaN\n1570  382474044   NaN         NaN\n\n[1571 rows x 3 columns]",
      "text/html": "<div>\n<style scoped>\n    .dataframe tbody tr th:only-of-type {\n        vertical-align: middle;\n    }\n\n    .dataframe tbody tr th {\n        vertical-align: top;\n    }\n\n    .dataframe thead th {\n        text-align: right;\n    }\n</style>\n<table border=\"1\" class=\"dataframe\">\n  <thead>\n    <tr style=\"text-align: right;\">\n      <th></th>\n      <th>KEY_CODE</th>\n      <th>time</th>\n      <th>population</th>\n    </tr>\n  </thead>\n  <tbody>\n    <tr>\n      <th>0</th>\n      <td>362431911</td>\n      <td>NaN</td>\n      <td>NaN</td>\n    </tr>\n    <tr>\n      <th>1</th>\n      <td>362431912</td>\n      <td>NaN</td>\n      <td>NaN</td>\n    </tr>\n    <tr>\n      <th>2</th>\n      <td>362431913</td>\n      <td>NaN</td>\n      <td>NaN</td>\n    </tr>\n    <tr>\n      <th>3</th>\n      <td>362431914</td>\n      <td>NaN</td>\n      <td>NaN</td>\n    </tr>\n    <tr>\n      <th>4</th>\n      <td>362431923</td>\n      <td>0000</td>\n      <td>13.0</td>\n    </tr>\n    <tr>\n      <th>...</th>\n      <td>...</td>\n      <td>...</td>\n      <td>...</td>\n    </tr>\n    <tr>\n      <th>1566</th>\n      <td>382375053</td>\n      <td>NaN</td>\n      <td>NaN</td>\n    </tr>\n    <tr>\n      <th>1567</th>\n      <td>382375141</td>\n      <td>NaN</td>\n      <td>NaN</td>\n    </tr>\n    <tr>\n      <th>1568</th>\n      <td>382375142</td>\n      <td>NaN</td>\n      <td>NaN</td>\n    </tr>\n    <tr>\n      <th>1569</th>\n      <td>382474043</td>\n      <td>NaN</td>\n      <td>NaN</td>\n    </tr>\n    <tr>\n      <th>1570</th>\n      <td>382474044</td>\n      <td>NaN</td>\n      <td>NaN</td>\n    </tr>\n  </tbody>\n</table>\n<p>1571 rows × 3 columns</p>\n</div>"
     },
     "execution_count": 132,
     "metadata": {},
     "output_type": "execute_result"
    }
   ],
   "source": [
    "target_mesh.filter(items=[\"KEY_CODE\"]).merge(mobile_by_time,how=\"left\",left_on=\"KEY_CODE\",right_on=\"area\").drop(columns=[\"area\"])"
   ],
   "metadata": {
    "collapsed": false,
    "ExecuteTime": {
     "end_time": "2024-09-26T01:37:43.681207900Z",
     "start_time": "2024-09-26T01:37:43.613606200Z"
    }
   },
   "id": "e6efad97c7a1ab4f"
  },
  {
   "cell_type": "code",
   "execution_count": 62,
   "outputs": [
    {
     "data": {
      "text/plain": "<Axes: >"
     },
     "execution_count": 62,
     "metadata": {},
     "output_type": "execute_result"
    },
    {
     "data": {
      "text/plain": "<Figure size 640x480 with 1 Axes>",
      "image/png": "[encoded data removed]"
     },
     "metadata": {},
     "output_type": "display_data"
    }
   ],
   "source": [
    "ishigaki_mesh.plot()"
   ],
   "metadata": {
    "collapsed": false,
    "ExecuteTime": {
     "end_time": "2024-09-25T23:53:29.438931200Z",
     "start_time": "2024-09-25T23:53:27.776270500Z"
    }
   },
   "id": "e646553b52a84d65"
  },
  {
   "cell_type": "code",
   "execution_count": 161,
   "outputs": [],
   "source": [
    "target_mesh.to_file(\"Z:\\\\lab\\\\SSI2024_検証\\\\47207_mesh_poly.shp\")"
   ],
   "metadata": {
    "collapsed": false,
    "ExecuteTime": {
     "end_time": "2024-09-26T10:09:07.091396900Z",
     "start_time": "2024-09-26T10:09:06.216589700Z"
    }
   },
   "id": "1ba847c7e5193d61"
  },
  {
   "cell_type": "code",
   "execution_count": null,
   "outputs": [],
   "source": [],
   "metadata": {
    "collapsed": false
   },
   "id": "e036f4110beb4b19"
  }
 ],
 "metadata": {
  "kernelspec": {
   "display_name": "Python 3",
   "language": "python",
   "name": "python3"
  },
  "language_info": {
   "codemirror_mode": {
    "name": "ipython",
    "version": 2
   },
   "file_extension": ".py",
   "mimetype": "text/x-python",
   "name": "python",
   "nbconvert_exporter": "python",
   "pygments_lexer": "ipython2",
   "version": "2.7.6"
  }
 },
 "nbformat": 4,
 "nbformat_minor": 5
}
