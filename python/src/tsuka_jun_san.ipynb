{
 "cells": [
  {
   "cell_type": "code",
   "execution_count": 1,
   "metadata": {},
   "outputs": [],
   "source": [
    "import pandas as pd"
   ]
  },
  {
   "cell_type": "code",
   "execution_count": 6,
   "metadata": {},
   "outputs": [],
   "source": [
    "DIR_MOGI = r\"Y:\\GIS\\土砂災害\\模擬個票と最寄り避難所_D24Hコード付き_軽量版\\最寄り避難所D24Hコード付軽量版_42.csv\"\n",
    "\n",
    "def label_judge(age: int, sex_id: int) -> str:\n",
    "    # ラベルの定義\n",
    "    labels = {\n",
    "        0: ['男１０代', '男２０代', '男３０代', '男４０代', '男５０代', '男６０代', '男７０歳以上'],\n",
    "        1: ['女１０代', '女２０代', '女３０代', '女４０代', '女５０代', '女６０代', '女７０歳以上']\n",
    "    }\n",
    "\n",
    "    # 年齢に基づいたラベル判定\n",
    "    if age < 20:\n",
    "        age_index = 0\n",
    "    elif 20 <= age < 30:\n",
    "        age_index = 1\n",
    "    elif 30 <= age < 40:\n",
    "        age_index = 2\n",
    "    elif 40 <= age < 50:\n",
    "        age_index = 3\n",
    "    elif 50 <= age < 60:\n",
    "        age_index = 4\n",
    "    elif 60 <= age < 70:\n",
    "        age_index = 5\n",
    "    else:\n",
    "        age_index = 6\n",
    "\n",
    "    # sex_idに基づいてラベルを返す\n",
    "    return labels[sex_id][age_index]"
   ]
  },
  {
   "cell_type": "markdown",
   "metadata": {},
   "source": [
    "個票生成量の定義"
   ]
  },
  {
   "cell_type": "code",
   "execution_count": 21,
   "metadata": {},
   "outputs": [
    {
     "name": "stderr",
     "output_type": "stream",
     "text": [
      "C:\\Users\\tora2\\AppData\\Local\\Temp\\ipykernel_29524\\3356218550.py:4: SettingWithCopyWarning: \n",
      "A value is trying to be set on a copy of a slice from a DataFrame.\n",
      "Try using .loc[row_indexer,col_indexer] = value instead\n",
      "\n",
      "See the caveats in the documentation: https://pandas.pydata.org/pandas-docs/stable/user_guide/indexing.html#returning-a-view-versus-a-copy\n",
      "  extracted['Group'] = extracted.apply(lambda row: label_judge(row['age'], row['sex_id']), axis=1)\n",
      "C:\\Users\\tora2\\AppData\\Local\\Temp\\ipykernel_29524\\3356218550.py:5: SettingWithCopyWarning: \n",
      "A value is trying to be set on a copy of a slice from a DataFrame.\n",
      "Try using .loc[row_indexer,col_indexer] = value instead\n",
      "\n",
      "See the caveats in the documentation: https://pandas.pydata.org/pandas-docs/stable/user_guide/indexing.html#returning-a-view-versus-a-copy\n",
      "  extracted[\"count\"] = 1\n"
     ]
    }
   ],
   "source": [
    "mogi = pd.read_csv(DIR_MOGI)\n",
    "extracted = mogi[[\"person_id\",\"age\",\"sex_id\"]]\n",
    "extracted['Group'] = extracted.apply(lambda row: label_judge(row['age'], row['sex_id']), axis=1)\n",
    "extracted[\"count\"] = 1\n",
    "extracted[[\"Group\",\"count\"]].groupby(\"Group\",as_index=False).sum()\n",
    "count = extracted[[\"Group\",\"count\"]].groupby(\"Group\",as_index=False).sum()\n",
    "NUN_OF_GENERATE = {}\n",
    "for k,v in zip(count[\"Group\"],count[\"count\"]):\n",
    "    NUN_OF_GENERATE[k] = v"
   ]
  },
  {
   "cell_type": "code",
   "execution_count": 22,
   "metadata": {},
   "outputs": [
    {
     "data": {
      "text/plain": [
       "{'女１０代': 78427,\n",
       " '女２０代': 37643,\n",
       " '女３０代': 49877,\n",
       " '女４０代': 61194,\n",
       " '女５０代': 65569,\n",
       " '女６０代': 78957,\n",
       " '女７０歳以上': 111931,\n",
       " '男１０代': 81087,\n",
       " '男２０代': 37154,\n",
       " '男３０代': 48205,\n",
       " '男４０代': 57493,\n",
       " '男５０代': 61215,\n",
       " '男６０代': 73628,\n",
       " '男７０歳以上': 75859}"
      ]
     },
     "execution_count": 22,
     "metadata": {},
     "output_type": "execute_result"
    }
   ],
   "source": [
    "NUN_OF_GENERATE"
   ]
  },
  {
   "cell_type": "markdown",
   "metadata": {},
   "source": [
    "要求量に応じて個票を生成する"
   ]
  },
  {
   "cell_type": "code",
   "execution_count": null,
   "metadata": {},
   "outputs": [],
   "source": []
  }
 ],
 "metadata": {
  "kernelspec": {
   "display_name": "geo_env",
   "language": "python",
   "name": "python3"
  },
  "language_info": {
   "codemirror_mode": {
    "name": "ipython",
    "version": 3
   },
   "file_extension": ".py",
   "mimetype": "text/x-python",
   "name": "python",
   "nbconvert_exporter": "python",
   "pygments_lexer": "ipython3",
   "version": "3.12.0"
  }
 },
 "nbformat": 4,
 "nbformat_minor": 2
}
