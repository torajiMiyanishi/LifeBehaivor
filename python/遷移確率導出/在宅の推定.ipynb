{
 "cells": [
  {
   "cell_type": "code",
   "execution_count": 1,
   "id": "initial_id",
   "metadata": {
    "collapsed": true,
    "ExecuteTime": {
     "end_time": "2024-09-24T23:29:56.036269700Z",
     "start_time": "2024-09-24T23:29:55.251949300Z"
    }
   },
   "outputs": [],
   "source": [
    "import pandas as pd"
   ]
  },
  {
   "cell_type": "code",
   "execution_count": 2,
   "outputs": [],
   "source": [
    "DIR = \"C:\\\\Users\\\\tora2\\\\IdeaProjects\\\\LifeBehavior\\\\data\\\\2020_jikoku_danjonenso.csv\""
   ],
   "metadata": {
    "collapsed": false,
    "ExecuteTime": {
     "end_time": "2024-09-24T23:30:38.619179500Z",
     "start_time": "2024-09-24T23:30:38.612987600Z"
    }
   },
   "id": "d472ca07ffaabac4"
  },
  {
   "cell_type": "code",
   "execution_count": 4,
   "outputs": [],
   "source": [
    "df = pd.read_csv(DIR)"
   ],
   "metadata": {
    "collapsed": false,
    "ExecuteTime": {
     "end_time": "2024-09-24T23:30:53.488143400Z",
     "start_time": "2024-09-24T23:30:53.373035400Z"
    }
   },
   "id": "8ee5fa726077721e"
  },
  {
   "cell_type": "code",
   "execution_count": 5,
   "outputs": [
    {
     "data": {
      "text/plain": "         曜日       層        行動 時刻(時間:分)  行為者率(%)\n0        平日    男１０代        睡眠     0:00     86.6\n1        平日    男１０代        睡眠     0:15     87.2\n2        平日    男１０代        睡眠     0:30     88.8\n3        平日    男１０代        睡眠     0:45     88.8\n4        平日    男１０代        睡眠     1:00     92.0\n...     ...     ...       ...      ...      ...\n173371  日曜日  女７０歳以上  テレビ（専　念）    22:45     18.9\n173372  日曜日  女７０歳以上  テレビ（専　念）    23:00      9.6\n173373  日曜日  女７０歳以上  テレビ（専　念）    23:15      8.8\n173374  日曜日  女７０歳以上  テレビ（専　念）    23:30      4.4\n173375  日曜日  女７０歳以上  テレビ（専　念）    23:45      4.0\n\n[173376 rows x 5 columns]",
      "text/html": "<div>\n<style scoped>\n    .dataframe tbody tr th:only-of-type {\n        vertical-align: middle;\n    }\n\n    .dataframe tbody tr th {\n        vertical-align: top;\n    }\n\n    .dataframe thead th {\n        text-align: right;\n    }\n</style>\n<table border=\"1\" class=\"dataframe\">\n  <thead>\n    <tr style=\"text-align: right;\">\n      <th></th>\n      <th>曜日</th>\n      <th>層</th>\n      <th>行動</th>\n      <th>時刻(時間:分)</th>\n      <th>行為者率(%)</th>\n    </tr>\n  </thead>\n  <tbody>\n    <tr>\n      <th>0</th>\n      <td>平日</td>\n      <td>男１０代</td>\n      <td>睡眠</td>\n      <td>0:00</td>\n      <td>86.6</td>\n    </tr>\n    <tr>\n      <th>1</th>\n      <td>平日</td>\n      <td>男１０代</td>\n      <td>睡眠</td>\n      <td>0:15</td>\n      <td>87.2</td>\n    </tr>\n    <tr>\n      <th>2</th>\n      <td>平日</td>\n      <td>男１０代</td>\n      <td>睡眠</td>\n      <td>0:30</td>\n      <td>88.8</td>\n    </tr>\n    <tr>\n      <th>3</th>\n      <td>平日</td>\n      <td>男１０代</td>\n      <td>睡眠</td>\n      <td>0:45</td>\n      <td>88.8</td>\n    </tr>\n    <tr>\n      <th>4</th>\n      <td>平日</td>\n      <td>男１０代</td>\n      <td>睡眠</td>\n      <td>1:00</td>\n      <td>92.0</td>\n    </tr>\n    <tr>\n      <th>...</th>\n      <td>...</td>\n      <td>...</td>\n      <td>...</td>\n      <td>...</td>\n      <td>...</td>\n    </tr>\n    <tr>\n      <th>173371</th>\n      <td>日曜日</td>\n      <td>女７０歳以上</td>\n      <td>テレビ（専　念）</td>\n      <td>22:45</td>\n      <td>18.9</td>\n    </tr>\n    <tr>\n      <th>173372</th>\n      <td>日曜日</td>\n      <td>女７０歳以上</td>\n      <td>テレビ（専　念）</td>\n      <td>23:00</td>\n      <td>9.6</td>\n    </tr>\n    <tr>\n      <th>173373</th>\n      <td>日曜日</td>\n      <td>女７０歳以上</td>\n      <td>テレビ（専　念）</td>\n      <td>23:15</td>\n      <td>8.8</td>\n    </tr>\n    <tr>\n      <th>173374</th>\n      <td>日曜日</td>\n      <td>女７０歳以上</td>\n      <td>テレビ（専　念）</td>\n      <td>23:30</td>\n      <td>4.4</td>\n    </tr>\n    <tr>\n      <th>173375</th>\n      <td>日曜日</td>\n      <td>女７０歳以上</td>\n      <td>テレビ（専　念）</td>\n      <td>23:45</td>\n      <td>4.0</td>\n    </tr>\n  </tbody>\n</table>\n<p>173376 rows × 5 columns</p>\n</div>"
     },
     "execution_count": 5,
     "metadata": {},
     "output_type": "execute_result"
    }
   ],
   "source": [
    "df"
   ],
   "metadata": {
    "collapsed": false,
    "ExecuteTime": {
     "end_time": "2024-09-24T23:30:54.625226300Z",
     "start_time": "2024-09-24T23:30:54.600788900Z"
    }
   },
   "id": "18da9a49e9905677"
  },
  {
   "cell_type": "code",
   "execution_count": 7,
   "outputs": [
    {
     "data": {
      "text/plain": "         曜日       層  行動 時刻(時間:分)  行為者率(%)\n49728    平日    男１０代  在宅     0:00     95.2\n49729    平日    男１０代  在宅     0:15     95.2\n49730    平日    男１０代  在宅     0:30     95.2\n49731    平日    男１０代  在宅     0:45     95.2\n49732    平日    男１０代  在宅     1:00     95.7\n...     ...     ...  ..      ...      ...\n166651  日曜日  女７０歳以上  在宅    22:45     84.7\n166652  日曜日  女７０歳以上  在宅    23:00     85.1\n166653  日曜日  女７０歳以上  在宅    23:15     85.1\n166654  日曜日  女７０歳以上  在宅    23:30     85.5\n166655  日曜日  女７０歳以上  在宅    23:45     85.5\n\n[4032 rows x 5 columns]",
      "text/html": "<div>\n<style scoped>\n    .dataframe tbody tr th:only-of-type {\n        vertical-align: middle;\n    }\n\n    .dataframe tbody tr th {\n        vertical-align: top;\n    }\n\n    .dataframe thead th {\n        text-align: right;\n    }\n</style>\n<table border=\"1\" class=\"dataframe\">\n  <thead>\n    <tr style=\"text-align: right;\">\n      <th></th>\n      <th>曜日</th>\n      <th>層</th>\n      <th>行動</th>\n      <th>時刻(時間:分)</th>\n      <th>行為者率(%)</th>\n    </tr>\n  </thead>\n  <tbody>\n    <tr>\n      <th>49728</th>\n      <td>平日</td>\n      <td>男１０代</td>\n      <td>在宅</td>\n      <td>0:00</td>\n      <td>95.2</td>\n    </tr>\n    <tr>\n      <th>49729</th>\n      <td>平日</td>\n      <td>男１０代</td>\n      <td>在宅</td>\n      <td>0:15</td>\n      <td>95.2</td>\n    </tr>\n    <tr>\n      <th>49730</th>\n      <td>平日</td>\n      <td>男１０代</td>\n      <td>在宅</td>\n      <td>0:30</td>\n      <td>95.2</td>\n    </tr>\n    <tr>\n      <th>49731</th>\n      <td>平日</td>\n      <td>男１０代</td>\n      <td>在宅</td>\n      <td>0:45</td>\n      <td>95.2</td>\n    </tr>\n    <tr>\n      <th>49732</th>\n      <td>平日</td>\n      <td>男１０代</td>\n      <td>在宅</td>\n      <td>1:00</td>\n      <td>95.7</td>\n    </tr>\n    <tr>\n      <th>...</th>\n      <td>...</td>\n      <td>...</td>\n      <td>...</td>\n      <td>...</td>\n      <td>...</td>\n    </tr>\n    <tr>\n      <th>166651</th>\n      <td>日曜日</td>\n      <td>女７０歳以上</td>\n      <td>在宅</td>\n      <td>22:45</td>\n      <td>84.7</td>\n    </tr>\n    <tr>\n      <th>166652</th>\n      <td>日曜日</td>\n      <td>女７０歳以上</td>\n      <td>在宅</td>\n      <td>23:00</td>\n      <td>85.1</td>\n    </tr>\n    <tr>\n      <th>166653</th>\n      <td>日曜日</td>\n      <td>女７０歳以上</td>\n      <td>在宅</td>\n      <td>23:15</td>\n      <td>85.1</td>\n    </tr>\n    <tr>\n      <th>166654</th>\n      <td>日曜日</td>\n      <td>女７０歳以上</td>\n      <td>在宅</td>\n      <td>23:30</td>\n      <td>85.5</td>\n    </tr>\n    <tr>\n      <th>166655</th>\n      <td>日曜日</td>\n      <td>女７０歳以上</td>\n      <td>在宅</td>\n      <td>23:45</td>\n      <td>85.5</td>\n    </tr>\n  </tbody>\n</table>\n<p>4032 rows × 5 columns</p>\n</div>"
     },
     "execution_count": 7,
     "metadata": {},
     "output_type": "execute_result"
    }
   ],
   "source": [
    "df.query(\"行動 == '在宅'\")"
   ],
   "metadata": {
    "collapsed": false,
    "ExecuteTime": {
     "end_time": "2024-09-24T23:36:48.144825400Z",
     "start_time": "2024-09-24T23:36:48.117342600Z"
    }
   },
   "id": "840e510e4af58a54"
  },
  {
   "cell_type": "code",
   "execution_count": null,
   "outputs": [],
   "source": [],
   "metadata": {
    "collapsed": false
   },
   "id": "116bda6f39813677"
  }
 ],
 "metadata": {
  "kernelspec": {
   "display_name": "Python 3",
   "language": "python",
   "name": "python3"
  },
  "language_info": {
   "codemirror_mode": {
    "name": "ipython",
    "version": 2
   },
   "file_extension": ".py",
   "mimetype": "text/x-python",
   "name": "python",
   "nbconvert_exporter": "python",
   "pygments_lexer": "ipython2",
   "version": "2.7.6"
  }
 },
 "nbformat": 4,
 "nbformat_minor": 5
}
