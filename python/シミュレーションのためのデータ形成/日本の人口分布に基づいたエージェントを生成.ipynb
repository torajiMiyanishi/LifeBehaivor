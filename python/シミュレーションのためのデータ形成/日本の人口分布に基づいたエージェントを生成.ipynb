{
 "cells": [
  {
   "cell_type": "markdown",
   "metadata": {},
   "source": [
    "性別、年齢のみ"
   ]
  },
  {
   "cell_type": "code",
   "execution_count": 66,
   "metadata": {},
   "outputs": [
    {
     "name": "stdout",
     "output_type": "stream",
     "text": [
      "     age  gender\n",
      "0      0    MALE\n",
      "1      0    MALE\n",
      "2      0    MALE\n",
      "3      1    MALE\n",
      "4      1    MALE\n",
      "..   ...     ...\n",
      "995   97  FEMALE\n",
      "996   91  FEMALE\n",
      "997   58    MALE\n",
      "998   72  FEMALE\n",
      "999   35    MALE\n",
      "\n",
      "[1000 rows x 2 columns]\n"
     ]
    }
   ],
   "source": [
    "import pandas as pd\n",
    "import numpy as np\n",
    "\n",
    "# Load the cleaned CSV file (replace 'your_cleaned_file_path.csv' with the actual file path)\n",
    "file_path_cleaned = r'C:\\Users\\tora2\\vsProject\\LifeBehaivor\\data\\国勢調査2020_日本総人口年性別.csv'\n",
    "df_cleaned = pd.read_csv(file_path_cleaned, encoding='shift_jis')\n",
    "\n",
    "# Filter the necessary columns: '年齢', '男女', and 'value'\n",
    "df_filtered_cleaned = df_cleaned[['年齢', '男女', 'value']].copy()\n",
    "\n",
    "# Remove any rows that don't have numeric '年齢' values\n",
    "df_filtered_cleaned = df_filtered_cleaned[df_filtered_cleaned['年齢'] != '総数']\n",
    "\n",
    "# Convert '年齢' and 'value' columns to appropriate types\n",
    "df_filtered_cleaned['年齢'] = df_filtered_cleaned['年齢'].str.replace('歳', '').astype(int)\n",
    "df_filtered_cleaned['value'] = df_filtered_cleaned['value'].astype(int)\n",
    "\n",
    "# Map the '男女' column to 'MALE' and 'FEMALE'\n",
    "df_filtered_cleaned['男女'] = df_filtered_cleaned['男女'].map({'男': 'MALE', '女': 'FEMALE'})\n",
    "\n",
    "# Calculate the total population in the dataset\n",
    "total_population_cleaned = df_filtered_cleaned['value'].sum()\n",
    "\n",
    "# Calculate the proportion of each group in the dataset\n",
    "df_filtered_cleaned['proportion'] = df_filtered_cleaned['value'] / total_population_cleaned\n",
    "\n",
    "# Generate 100 agents based on these proportions\n",
    "NUM_AGENTS = 1000\n",
    "agents_cleaned = []\n",
    "\n",
    "for _, row in df_filtered_cleaned.iterrows():\n",
    "    count = int(round(row['proportion'] * NUM_AGENTS))\n",
    "    agents_cleaned.extend([{'age': row['年齢'], 'gender': row['男女']}] * count)\n",
    "\n",
    "# If we have slightly fewer or more than 100 agents due to rounding, adjust randomly\n",
    "while len(agents_cleaned) < NUM_AGENTS:\n",
    "    agents_cleaned.append(agents_cleaned[np.random.randint(len(agents_cleaned))])\n",
    "while len(agents_cleaned) > NUM_AGENTS:\n",
    "    agents_cleaned.pop(np.random.randint(len(agents_cleaned)))\n",
    "\n",
    "# Convert the list of agents to a DataFrame\n",
    "agents_cleaned_df = pd.DataFrame(agents_cleaned)\n",
    "\n",
    "# Output the result to a CSV file\n",
    "# output_cleaned_path = 'generated_agents_cleaned_final.csv'\n",
    "# agents_cleaned_df.to_csv(output_cleaned_path, index=False)\n",
    "\n",
    "# Display the result DataFrame\n",
    "print(agents_cleaned_df)\n"
   ]
  },
  {
   "cell_type": "markdown",
   "metadata": {},
   "source": [
    "初期行動も含める"
   ]
  },
  {
   "cell_type": "code",
   "execution_count": 67,
   "metadata": {},
   "outputs": [],
   "source": [
    "import pandas as pd\n",
    "from tqdm import tqdm\n",
    "import random\n",
    "\n",
    "\n",
    "DIR_HOURLY = r\"C:\\Users\\tora2\\vsProject\\LifeBehaivor\\data\\2020_jikoku_danjonenso.csv\"\n",
    "DIR_GENRE= r\"C:\\Users\\tora2\\vsProject\\LifeBehaivor\\data\\nhk_genre.csv\"\n",
    "\n",
    "# データフレームを参照リストに基づいてソートするヘルパー関数\n",
    "def sort_df_by_list(df, column, reference_list):\n",
    "    return df.set_index(column).reindex(reference_list).reset_index()\n",
    "\n",
    "\n",
    "# 独自定義のラベルを適用するためにまず辞書を作る\n",
    "small = [\n",
    "    \"睡眠\", \"食事\", \"身のまわりの用事\", \"療養・静養\", \"仕事\", \"仕事のつきあい\", \n",
    "    \"授業・学内の活動\", \"学校外の学習\", \"炊事・掃除・洗濯\", \"買い物\", \n",
    "    \"子どもの世話\", \"家庭雑事\", \"通勤\", \"通学\", \"社会参加\", \"会話・交際\", \n",
    "    \"スポーツ\", \"行楽・散策\", \"趣味・娯楽・教養(インターネット除く)\", \n",
    "    \"趣味・娯楽・教養のインターネット(動画除く)\", \"インターネット動画\", \n",
    "    \"テレビ\", \"録画番組・DVD\", \"ラジオ\", \"新聞\", \"雑誌・マンガ・本\", \n",
    "    \"音楽\", \"休息\", \"その他\", \"不明\"\n",
    "]\n",
    "label_master = pd.read_csv(DIR_GENRE)\n",
    "label_dict = {}\n",
    "for k,v in zip(label_master[\"小分類\"],label_master[\"モデル用定義\"]):\n",
    "    label_dict[k]=v\n",
    "\n",
    "# 行動種別の並び順管理\n",
    "ACTIVITY_ORDERING = ['睡眠', '食事', '身のまわりの用事', '療養・静養', '仕事', '仕事のつきあい', '授業・学内の活動',\n",
    "       '学校外の学習', '炊事・掃除・洗濯', '買い物', '子どもの世話', '家庭雑事', '通勤', '通学', '社会参加',\n",
    "       '会話・交際', 'スポーツ', '行楽・散策', '趣味・娯楽・教養', 'マスメディア接触', '休息']\n",
    "# label_master[\"モデル用定義\"].unique()"
   ]
  },
  {
   "cell_type": "code",
   "execution_count": 68,
   "metadata": {},
   "outputs": [
    {
     "name": "stderr",
     "output_type": "stream",
     "text": [
      "100%|██████████| 14/14 [00:02<00:00,  4.67it/s]\n"
     ]
    }
   ],
   "source": [
    "# t_0の行為者割合のtableを作成\n",
    "# 時間帯ごとの行為者率テーブルの処理\n",
    "weight_master = {}\n",
    "for label in tqdm([\n",
    "        '男１０代', '男２０代', '男３０代', '男４０代', '男５０代', '男６０代', '男７０歳以上',\n",
    "        '女１０代', '女２０代', '女３０代', '女４０代', '女５０代', '女６０代', '女７０歳以上']):\n",
    "    # for day in ([\"平日\",\"土曜日\",\"日曜日\"]):\n",
    "    day = \"平日\"\n",
    "    data_hourly = pd.read_csv(DIR_HOURLY)\n",
    "    data_hourly = data_hourly.set_axis([\"Day\",\"Group\",\"Activity\",\"Time\",\"Rate\"],axis=1)\n",
    "    data_hourly = data_hourly.query(\"Time == '0:00'\")\n",
    "    data_hourly = data_hourly.query(\"Group == @label & Activity in @small & Day == @day\")\n",
    "    data_hourly[\"Activity\"] = data_hourly[\"Activity\"].map(label_dict) # 独自定義のラベル適用\n",
    "    data_hourly = data_hourly.groupby([\"Time\",\"Day\",\"Group\",\"Activity\"],as_index=False).sum().copy()\n",
    "    weights = []\n",
    "    for act,r in zip(data_hourly['Activity'],data_hourly[\"Rate\"]):\n",
    "        weights.append((act,r))\n",
    "    weight_master[label] = weights\n"
   ]
  },
  {
   "cell_type": "code",
   "execution_count": 69,
   "metadata": {},
   "outputs": [],
   "source": [
    "# 各エージェントに行動を割り当てるためのマッピング\n",
    "# グループと性別、年齢を基にして、適切な行動を割り当てる\n",
    "def make_label(age:int,gender:str):\n",
    "    ageStr = \"\"\n",
    "    if age >= 10 and age < 20:\n",
    "        ageStr = \"１０代\"\n",
    "    elif age >= 20 and age < 30:\n",
    "        ageStr = \"２０代\"\n",
    "    elif age >= 30 and age < 40:\n",
    "        ageStr = \"３０代\"\n",
    "    elif age >= 40 and age < 50:\n",
    "        ageStr = \"４０代\"\n",
    "    elif age >= 50 and age < 60:\n",
    "        ageStr = \"５０代\"\n",
    "    elif age >= 60 and age < 70:\n",
    "        ageStr = \"６０代\"\n",
    "    else:\n",
    "        ageStr = \"７０歳以上\"\n",
    "    genderJp = \"\"\n",
    "    if gender == \"MALE\":\n",
    "        genderJp = \"男\"\n",
    "    else:\n",
    "        genderJp = \"女\"\n",
    "    \n",
    "    return genderJp+ageStr\n",
    "\n",
    "# ルーレット選択を行う関数\n",
    "def roulette_selection(choices):\n",
    "    # 数値のリスト（重み）の合計を計算\n",
    "    total = sum(weight for _, weight in choices)\n",
    "    \n",
    "    # ランダムに0からtotalの間の値を選択\n",
    "    pick = random.uniform(0, total)\n",
    "    \n",
    "    # ランダムな選択に対応するアイテムを返す\n",
    "    current = 0\n",
    "    for item, weight in choices:\n",
    "        current += weight\n",
    "        if current > pick:\n",
    "            return item\n",
    "\n",
    "\n",
    "agents_cleaned_df[\"action\"] = agents_cleaned_df.apply(lambda row: roulette_selection(weight_master[make_label(row[\"age\"],row[\"gender\"])]),axis=1)"
   ]
  },
  {
   "cell_type": "code",
   "execution_count": 70,
   "metadata": {},
   "outputs": [],
   "source": [
    "agents_cleaned_df.to_csv(f\"Z:/lab/lifebehavior/agent_{NUM_AGENTS}.csv\",index=False)"
   ]
  },
  {
   "cell_type": "code",
   "execution_count": null,
   "metadata": {},
   "outputs": [],
   "source": []
  }
 ],
 "metadata": {
  "kernelspec": {
   "display_name": "geo_env",
   "language": "python",
   "name": "python3"
  },
  "language_info": {
   "codemirror_mode": {
    "name": "ipython",
    "version": 3
   },
   "file_extension": ".py",
   "mimetype": "text/x-python",
   "name": "python",
   "nbconvert_exporter": "python",
   "pygments_lexer": "ipython3",
   "version": "3.12.0"
  }
 },
 "nbformat": 4,
 "nbformat_minor": 2
}
