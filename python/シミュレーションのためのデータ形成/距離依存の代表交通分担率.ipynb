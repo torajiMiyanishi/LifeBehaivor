{
 "cells": [
  {
   "cell_type": "code",
   "execution_count": 2,
   "id": "initial_id",
   "metadata": {
    "collapsed": true,
    "ExecuteTime": {
     "end_time": "2024-09-23T01:25:46.656404700Z",
     "start_time": "2024-09-23T01:25:46.652630700Z"
    }
   },
   "outputs": [],
   "source": [
    "import pandas as pd"
   ]
  },
  {
   "cell_type": "code",
   "execution_count": 3,
   "outputs": [],
   "source": [
    "DIR_ORIGIN_CSV = \"Z:\\\\lab\\\\交通分担率\\\\6_トリップ長集計.csv\""
   ],
   "metadata": {
    "collapsed": false,
    "ExecuteTime": {
     "end_time": "2024-09-23T01:27:57.945910800Z",
     "start_time": "2024-09-23T01:27:57.912664600Z"
    }
   },
   "id": "8bdac889bf33b0e"
  },
  {
   "cell_type": "code",
   "execution_count": 82,
   "outputs": [],
   "source": [
    "df = pd.read_csv(DIR_ORIGIN_CSV,header=5).iloc[:, list(range(3, 6)) + list(range(19, 30))]\n",
    "tmp = df.copy()\n",
    "df = pd.melt(df,\n",
    "             id_vars=['平日／休日', '地域', '代表交通手段'],  # これらの列をそのまま維持\n",
    "             value_vars=df.columns[3:],\n",
    "             var_name='距離',  # 変数名にする列\n",
    "             value_name='分担率' # 値の列名\n",
    "             ).set_axis([\"day\",\"area\",\"mode\",\"distance\",\"unit\"],axis=1)\n",
    "\n",
    "all_jp = df.query(\"area == '全国計' and mode in ('徒歩','合計')\").drop(columns=[\"area\"])\n",
    "all_jp[\"distance\"] = all_jp[\"distance\"].apply(lambda x: float(x.split(\"km\")[0])*100)\n",
    "all_jp = all_jp.pivot_table(index=['day', 'distance'], columns='mode', values='unit')\n",
    "# 多層カラムをフラットにする\n",
    "all_jp.columns.name = None  # カラム名をNoneにしてリセット\n",
    "all_jp = all_jp.reset_index()  # インデックスをリセットして通常のDataFrameに\n",
    "all_jp.columns = [\"day\",\"distance\",\"total\",\"walk\"]\n",
    "all_jp[\"walk_rate\"] = all_jp[\"walk\"] / all_jp[\"total\"]\n",
    "walk_ratio = all_jp[[\"distance\",\"walk_rate\"]].groupby([\"distance\"],as_index=False).mean()"
   ],
   "metadata": {
    "collapsed": false,
    "ExecuteTime": {
     "end_time": "2024-09-23T07:28:58.511912700Z",
     "start_time": "2024-09-23T07:28:58.377404200Z"
    }
   },
   "id": "838f71af2a67b6ac"
  },
  {
   "cell_type": "code",
   "execution_count": 82,
   "outputs": [],
   "source": [
    "walk_ratio.csv(\"\")"
   ],
   "metadata": {
    "collapsed": false,
    "ExecuteTime": {
     "end_time": "2024-09-23T07:29:08.682697Z",
     "start_time": "2024-09-23T07:29:08.606758600Z"
    }
   },
   "id": "7a2ac64d6da96626"
  },
  {
   "cell_type": "code",
   "execution_count": 82,
   "outputs": [],
   "source": [],
   "metadata": {
    "collapsed": false,
    "ExecuteTime": {
     "end_time": "2024-09-23T07:29:11.028567500Z",
     "start_time": "2024-09-23T07:29:10.960344700Z"
    }
   },
   "id": "c587ff938d20f585"
  },
  {
   "cell_type": "code",
   "execution_count": 83,
   "outputs": [],
   "source": [],
   "metadata": {
    "collapsed": false,
    "ExecuteTime": {
     "end_time": "2024-09-23T07:29:14.969187200Z",
     "start_time": "2024-09-23T07:29:14.910903800Z"
    }
   },
   "id": "9d284182b4990927"
  },
  {
   "cell_type": "code",
   "execution_count": null,
   "outputs": [],
   "source": [],
   "metadata": {
    "collapsed": false
   },
   "id": "63cae5e075fc2980"
  }
 ],
 "metadata": {
  "kernelspec": {
   "display_name": "Python 3",
   "language": "python",
   "name": "python3"
  },
  "language_info": {
   "codemirror_mode": {
    "name": "ipython",
    "version": 2
   },
   "file_extension": ".py",
   "mimetype": "text/x-python",
   "name": "python",
   "nbconvert_exporter": "python",
   "pygments_lexer": "ipython2",
   "version": "2.7.6"
  }
 },
 "nbformat": 4,
 "nbformat_minor": 5
}
