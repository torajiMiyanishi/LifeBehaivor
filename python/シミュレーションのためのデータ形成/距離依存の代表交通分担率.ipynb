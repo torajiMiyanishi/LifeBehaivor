{
 "cells": [
  {
   "cell_type": "code",
   "execution_count": 2,
   "id": "initial_id",
   "metadata": {
    "collapsed": true,
    "ExecuteTime": {
     "end_time": "2024-09-23T01:25:46.656404700Z",
     "start_time": "2024-09-23T01:25:46.652630700Z"
    }
   },
   "outputs": [],
   "source": [
    "import pandas as pd"
   ]
  },
  {
   "cell_type": "code",
   "execution_count": 3,
   "outputs": [],
   "source": [
    "DIR_ORIGIN_CSV = \"Z:\\\\lab\\\\交通分担率\\\\6_トリップ長集計.csv\""
   ],
   "metadata": {
    "collapsed": false,
    "ExecuteTime": {
     "end_time": "2024-09-23T01:27:57.945910800Z",
     "start_time": "2024-09-23T01:27:57.912664600Z"
    }
   },
   "id": "8bdac889bf33b0e"
  },
  {
   "cell_type": "code",
   "execution_count": 11,
   "outputs": [
    {
     "data": {
      "text/plain": "    Unnamed: 0_level_0 Unnamed: 1_level_0 Unnamed: 2_level_0  \\\n              平日／休日コード              地域コード          代表交通手段コード   \n0                  1.0                1.0                1.0   \n1                  1.0                1.0                2.0   \n2                  1.0                1.0                3.0   \n3                  1.0                1.0                4.0   \n4                  1.0                1.0                5.0   \n..                 ...                ...                ...   \n244                NaN                NaN                NaN   \n245                NaN                NaN                NaN   \n246                NaN                NaN                NaN   \n247                NaN                NaN                NaN   \n248                NaN                NaN                NaN   \n\n    Unnamed: 3_level_0 Unnamed: 4_level_0 Unnamed: 5_level_0  (回/日)         \\\n                 平日／休日                 地域             代表交通手段 0.0km～ 1.0km～   \n0                   平日         三大都市圏／中心都市                 鉄道   0.00   0.01   \n1                   平日         三大都市圏／中心都市                 バス   0.00   0.01   \n2                   平日         三大都市圏／中心都市                自動車   0.01   0.04   \n3                   平日         三大都市圏／中心都市                ２輪車   0.05   0.08   \n4                   平日         三大都市圏／中心都市                 徒歩   0.26   0.19   \n..                 ...                ...                ...    ...    ...   \n244                NaN                NaN                NaN    NaN    NaN   \n245                NaN                NaN                NaN    NaN    NaN   \n246                NaN                NaN                NaN    NaN    NaN   \n247                NaN                NaN                NaN    NaN    NaN   \n248                NaN                NaN                NaN    NaN    NaN   \n\n                   ...      (%)                                        \\\n    2.0km～ 3.0km～  ... 3.0km～.1 4.0km～.1 5.0km～.1 10.0km～.1 15.0km～.1   \n0     0.02   0.02  ...     3.4%     4.2%    19.9%     17.8%     11.7%   \n1     0.01   0.01  ...    17.7%    11.5%    23.3%      7.4%      1.0%   \n2     0.04   0.03  ...     9.4%     5.3%    22.0%     11.5%      5.8%   \n3     0.05   0.02  ...     8.7%     6.4%     9.8%      2.3%      0.7%   \n4     0.04   0.01  ...     2.3%     0.8%     1.1%      0.1%      0.0%   \n..     ...    ...  ...      ...      ...      ...       ...       ...   \n244    NaN    NaN  ...      NaN      NaN      NaN       NaN       NaN   \n245    NaN    NaN  ...      NaN      NaN      NaN       NaN       NaN   \n246    NaN    NaN  ...      NaN      NaN      NaN       NaN       NaN   \n247    NaN    NaN  ...      NaN      NaN      NaN       NaN       NaN   \n248    NaN    NaN  ...      NaN      NaN      NaN       NaN       NaN   \n\n                                                 \n    20.0km～.1 25.0km～.1 30.0km～.1  不明.1    合計.1  \n0       12.6%      5.1%     18.2%  2.7%  100.0%  \n1        1.4%      0.0%      0.8%  1.4%  100.0%  \n2        4.5%      1.8%     10.1%  1.6%  100.0%  \n3        0.2%      0.1%      0.3%  3.2%  100.0%  \n4        0.2%      0.1%      0.0%  4.5%  100.0%  \n..        ...       ...       ...   ...     ...  \n244       NaN       NaN       NaN   NaN     NaN  \n245       NaN       NaN       NaN   NaN     NaN  \n246       NaN       NaN       NaN   NaN     NaN  \n247       NaN       NaN       NaN   NaN     NaN  \n248       NaN       NaN       NaN   NaN     NaN  \n\n[249 rows x 58 columns]",
      "text/html": "<div>\n<style scoped>\n    .dataframe tbody tr th:only-of-type {\n        vertical-align: middle;\n    }\n\n    .dataframe tbody tr th {\n        vertical-align: top;\n    }\n\n    .dataframe thead tr th {\n        text-align: left;\n    }\n</style>\n<table border=\"1\" class=\"dataframe\">\n  <thead>\n    <tr>\n      <th></th>\n      <th>Unnamed: 0_level_0</th>\n      <th>Unnamed: 1_level_0</th>\n      <th>Unnamed: 2_level_0</th>\n      <th>Unnamed: 3_level_0</th>\n      <th>Unnamed: 4_level_0</th>\n      <th>Unnamed: 5_level_0</th>\n      <th colspan=\"4\" halign=\"left\">(回/日)</th>\n      <th>...</th>\n      <th colspan=\"10\" halign=\"left\">(%)</th>\n    </tr>\n    <tr>\n      <th></th>\n      <th>平日／休日コード</th>\n      <th>地域コード</th>\n      <th>代表交通手段コード</th>\n      <th>平日／休日</th>\n      <th>地域</th>\n      <th>代表交通手段</th>\n      <th>0.0km～</th>\n      <th>1.0km～</th>\n      <th>2.0km～</th>\n      <th>3.0km～</th>\n      <th>...</th>\n      <th>3.0km～.1</th>\n      <th>4.0km～.1</th>\n      <th>5.0km～.1</th>\n      <th>10.0km～.1</th>\n      <th>15.0km～.1</th>\n      <th>20.0km～.1</th>\n      <th>25.0km～.1</th>\n      <th>30.0km～.1</th>\n      <th>不明.1</th>\n      <th>合計.1</th>\n    </tr>\n  </thead>\n  <tbody>\n    <tr>\n      <th>0</th>\n      <td>1.0</td>\n      <td>1.0</td>\n      <td>1.0</td>\n      <td>平日</td>\n      <td>三大都市圏／中心都市</td>\n      <td>鉄道</td>\n      <td>0.00</td>\n      <td>0.01</td>\n      <td>0.02</td>\n      <td>0.02</td>\n      <td>...</td>\n      <td>3.4%</td>\n      <td>4.2%</td>\n      <td>19.9%</td>\n      <td>17.8%</td>\n      <td>11.7%</td>\n      <td>12.6%</td>\n      <td>5.1%</td>\n      <td>18.2%</td>\n      <td>2.7%</td>\n      <td>100.0%</td>\n    </tr>\n    <tr>\n      <th>1</th>\n      <td>1.0</td>\n      <td>1.0</td>\n      <td>2.0</td>\n      <td>平日</td>\n      <td>三大都市圏／中心都市</td>\n      <td>バス</td>\n      <td>0.00</td>\n      <td>0.01</td>\n      <td>0.01</td>\n      <td>0.01</td>\n      <td>...</td>\n      <td>17.7%</td>\n      <td>11.5%</td>\n      <td>23.3%</td>\n      <td>7.4%</td>\n      <td>1.0%</td>\n      <td>1.4%</td>\n      <td>0.0%</td>\n      <td>0.8%</td>\n      <td>1.4%</td>\n      <td>100.0%</td>\n    </tr>\n    <tr>\n      <th>2</th>\n      <td>1.0</td>\n      <td>1.0</td>\n      <td>3.0</td>\n      <td>平日</td>\n      <td>三大都市圏／中心都市</td>\n      <td>自動車</td>\n      <td>0.01</td>\n      <td>0.04</td>\n      <td>0.04</td>\n      <td>0.03</td>\n      <td>...</td>\n      <td>9.4%</td>\n      <td>5.3%</td>\n      <td>22.0%</td>\n      <td>11.5%</td>\n      <td>5.8%</td>\n      <td>4.5%</td>\n      <td>1.8%</td>\n      <td>10.1%</td>\n      <td>1.6%</td>\n      <td>100.0%</td>\n    </tr>\n    <tr>\n      <th>3</th>\n      <td>1.0</td>\n      <td>1.0</td>\n      <td>4.0</td>\n      <td>平日</td>\n      <td>三大都市圏／中心都市</td>\n      <td>２輪車</td>\n      <td>0.05</td>\n      <td>0.08</td>\n      <td>0.05</td>\n      <td>0.02</td>\n      <td>...</td>\n      <td>8.7%</td>\n      <td>6.4%</td>\n      <td>9.8%</td>\n      <td>2.3%</td>\n      <td>0.7%</td>\n      <td>0.2%</td>\n      <td>0.1%</td>\n      <td>0.3%</td>\n      <td>3.2%</td>\n      <td>100.0%</td>\n    </tr>\n    <tr>\n      <th>4</th>\n      <td>1.0</td>\n      <td>1.0</td>\n      <td>5.0</td>\n      <td>平日</td>\n      <td>三大都市圏／中心都市</td>\n      <td>徒歩</td>\n      <td>0.26</td>\n      <td>0.19</td>\n      <td>0.04</td>\n      <td>0.01</td>\n      <td>...</td>\n      <td>2.3%</td>\n      <td>0.8%</td>\n      <td>1.1%</td>\n      <td>0.1%</td>\n      <td>0.0%</td>\n      <td>0.2%</td>\n      <td>0.1%</td>\n      <td>0.0%</td>\n      <td>4.5%</td>\n      <td>100.0%</td>\n    </tr>\n    <tr>\n      <th>...</th>\n      <td>...</td>\n      <td>...</td>\n      <td>...</td>\n      <td>...</td>\n      <td>...</td>\n      <td>...</td>\n      <td>...</td>\n      <td>...</td>\n      <td>...</td>\n      <td>...</td>\n      <td>...</td>\n      <td>...</td>\n      <td>...</td>\n      <td>...</td>\n      <td>...</td>\n      <td>...</td>\n      <td>...</td>\n      <td>...</td>\n      <td>...</td>\n      <td>...</td>\n      <td>...</td>\n    </tr>\n    <tr>\n      <th>244</th>\n      <td>NaN</td>\n      <td>NaN</td>\n      <td>NaN</td>\n      <td>NaN</td>\n      <td>NaN</td>\n      <td>NaN</td>\n      <td>NaN</td>\n      <td>NaN</td>\n      <td>NaN</td>\n      <td>NaN</td>\n      <td>...</td>\n      <td>NaN</td>\n      <td>NaN</td>\n      <td>NaN</td>\n      <td>NaN</td>\n      <td>NaN</td>\n      <td>NaN</td>\n      <td>NaN</td>\n      <td>NaN</td>\n      <td>NaN</td>\n      <td>NaN</td>\n    </tr>\n    <tr>\n      <th>245</th>\n      <td>NaN</td>\n      <td>NaN</td>\n      <td>NaN</td>\n      <td>NaN</td>\n      <td>NaN</td>\n      <td>NaN</td>\n      <td>NaN</td>\n      <td>NaN</td>\n      <td>NaN</td>\n      <td>NaN</td>\n      <td>...</td>\n      <td>NaN</td>\n      <td>NaN</td>\n      <td>NaN</td>\n      <td>NaN</td>\n      <td>NaN</td>\n      <td>NaN</td>\n      <td>NaN</td>\n      <td>NaN</td>\n      <td>NaN</td>\n      <td>NaN</td>\n    </tr>\n    <tr>\n      <th>246</th>\n      <td>NaN</td>\n      <td>NaN</td>\n      <td>NaN</td>\n      <td>NaN</td>\n      <td>NaN</td>\n      <td>NaN</td>\n      <td>NaN</td>\n      <td>NaN</td>\n      <td>NaN</td>\n      <td>NaN</td>\n      <td>...</td>\n      <td>NaN</td>\n      <td>NaN</td>\n      <td>NaN</td>\n      <td>NaN</td>\n      <td>NaN</td>\n      <td>NaN</td>\n      <td>NaN</td>\n      <td>NaN</td>\n      <td>NaN</td>\n      <td>NaN</td>\n    </tr>\n    <tr>\n      <th>247</th>\n      <td>NaN</td>\n      <td>NaN</td>\n      <td>NaN</td>\n      <td>NaN</td>\n      <td>NaN</td>\n      <td>NaN</td>\n      <td>NaN</td>\n      <td>NaN</td>\n      <td>NaN</td>\n      <td>NaN</td>\n      <td>...</td>\n      <td>NaN</td>\n      <td>NaN</td>\n      <td>NaN</td>\n      <td>NaN</td>\n      <td>NaN</td>\n      <td>NaN</td>\n      <td>NaN</td>\n      <td>NaN</td>\n      <td>NaN</td>\n      <td>NaN</td>\n    </tr>\n    <tr>\n      <th>248</th>\n      <td>NaN</td>\n      <td>NaN</td>\n      <td>NaN</td>\n      <td>NaN</td>\n      <td>NaN</td>\n      <td>NaN</td>\n      <td>NaN</td>\n      <td>NaN</td>\n      <td>NaN</td>\n      <td>NaN</td>\n      <td>...</td>\n      <td>NaN</td>\n      <td>NaN</td>\n      <td>NaN</td>\n      <td>NaN</td>\n      <td>NaN</td>\n      <td>NaN</td>\n      <td>NaN</td>\n      <td>NaN</td>\n      <td>NaN</td>\n      <td>NaN</td>\n    </tr>\n  </tbody>\n</table>\n<p>249 rows × 58 columns</p>\n</div>"
     },
     "execution_count": 11,
     "metadata": {},
     "output_type": "execute_result"
    }
   ],
   "source": [
    "pd.read_csv(DIR_ORIGIN_CSV,header=[4,5])"
   ],
   "metadata": {
    "collapsed": false,
    "ExecuteTime": {
     "end_time": "2024-09-23T04:49:09.436644600Z",
     "start_time": "2024-09-23T04:49:09.183199900Z"
    }
   },
   "id": "838f71af2a67b6ac"
  },
  {
   "cell_type": "code",
   "execution_count": null,
   "outputs": [],
   "source": [],
   "metadata": {
    "collapsed": false
   },
   "id": "7a2ac64d6da96626"
  }
 ],
 "metadata": {
  "kernelspec": {
   "display_name": "Python 3",
   "language": "python",
   "name": "python3"
  },
  "language_info": {
   "codemirror_mode": {
    "name": "ipython",
    "version": 2
   },
   "file_extension": ".py",
   "mimetype": "text/x-python",
   "name": "python",
   "nbconvert_exporter": "python",
   "pygments_lexer": "ipython2",
   "version": "2.7.6"
  }
 },
 "nbformat": 4,
 "nbformat_minor": 5
}
