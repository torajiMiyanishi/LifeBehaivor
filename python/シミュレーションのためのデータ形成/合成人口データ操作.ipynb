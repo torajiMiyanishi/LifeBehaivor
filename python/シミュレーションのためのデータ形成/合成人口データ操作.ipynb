{
 "cells": [
  {
   "cell_type": "code",
   "execution_count": 2,
   "id": "initial_id",
   "metadata": {
    "collapsed": true,
    "ExecuteTime": {
     "end_time": "2024-09-24T08:36:06.782885Z",
     "start_time": "2024-09-24T08:36:06.779167300Z"
    }
   },
   "outputs": [],
   "source": [
    "import pandas as pd"
   ]
  },
  {
   "cell_type": "code",
   "execution_count": 12,
   "outputs": [],
   "source": [
    "df = pd.read_csv(\"C:\\\\Users\\\\tora2\\\\IdeaProjects\\\\LifeBehavior\\\\input\\\\2015_003_8_47207_ok.csv\")"
   ],
   "metadata": {
    "collapsed": false,
    "ExecuteTime": {
     "end_time": "2024-09-24T08:38:57.334987800Z",
     "start_time": "2024-09-24T08:38:57.201375Z"
    }
   },
   "id": "1aa4dee7b501044f"
  },
  {
   "cell_type": "code",
   "execution_count": 14,
   "outputs": [
    {
     "data": {
      "text/plain": "   prefecture_code  prefecture_name city_code    city_name town_code  \\\n47             沖縄県            47207       石垣市  47207003000       字石垣   \n47             沖縄県            47207       石垣市  47207004000       字新川   \n47             沖縄県            47207       石垣市  47207006000       新栄町   \n47             沖縄県            47207       石垣市  47207003000       字石垣   \n47             沖縄県            47207       石垣市  47207006000       新栄町   \n..             ...              ...       ...          ...       ...   \n47             沖縄県            47207       石垣市  47207002000       字大川   \n47             沖縄県            47207       石垣市  47207002000       字大川   \n47             沖縄県            47207       石垣市  47207002000       字大川   \n47             沖縄県            47207       石垣市  47207002000       字大川   \n47             沖縄県            47207       石垣市  47207002000       字大川   \n\n    town_name    latitude  longitude  household_id   family_type_id  ...  \\\n47  24.363116  124.151367   49566056             0             単独世帯  ...   \n47  24.353763  124.142360   49566057             0             単独世帯  ...   \n47  24.343187  124.150816   49566058             0             単独世帯  ...   \n47  24.362456  124.146893   49566059             0             単独世帯  ...   \n47  24.344603  124.151606   49566060             0             単独世帯  ...   \n..        ...         ...        ...           ...              ...  ...   \n47  24.340819  124.158194   49585251            80  夫婦、子供とひとり親（夫の親）  ...   \n47  24.340819  124.158194   49585251            80  夫婦、子供とひとり親（夫の親）  ...   \n47  24.340819  124.158194   49585251            80  夫婦、子供とひとり親（夫の親）  ...   \n47  24.340819  124.158194   49585251            80  夫婦、子供とひとり親（夫の親）  ...   \n47  24.340819  124.158194   49585251            80  夫婦、子供とひとり親（夫の親）  ...   \n\n    gender_id  gender  role_household_type_id  role_household_type  \\\n47         男性       0                単独世帯（男性）                  NaN   \n47         女性       1                単独世帯（女性）                  NaN   \n47         女性       1                単独世帯（女性）                  NaN   \n47         男性       0                単独世帯（男性）                  NaN   \n47         男性       0                単独世帯（男性）                  NaN   \n..        ...     ...                     ...                  ...   \n47         男性      20                  子供（男性）                  NaN   \n47         女性      21                  子供（女性）                  NaN   \n47         女性      21                  子供（女性）                  NaN   \n47         女性      21                  子供（女性）                  NaN   \n47         女性      31                   親（女性）                  NaN   \n\n    industry_type_id industry_type  employment_type_id employment_type  \\\n47               NaN           NaN                 NaN             NaN   \n47               NaN           NaN                 NaN             NaN   \n47               NaN           NaN                 NaN             NaN   \n47               NaN           NaN                 NaN             NaN   \n47               NaN           NaN                 NaN             NaN   \n..               ...           ...                 ...             ...   \n47               NaN           NaN                 NaN             NaN   \n47               NaN           NaN                 NaN             NaN   \n47               NaN           NaN                 NaN             NaN   \n47               NaN           NaN                 NaN             NaN   \n47               NaN           NaN                 NaN             NaN   \n\n    company_size_id company_size  \n47              NaN          NaN  \n47              NaN          NaN  \n47              NaN          NaN  \n47              NaN          NaN  \n47              NaN          NaN  \n..              ...          ...  \n47              NaN          NaN  \n47              NaN          NaN  \n47              NaN          NaN  \n47              NaN          NaN  \n47              NaN          NaN  \n\n[42849 rows x 25 columns]",
      "text/html": "<div>\n<style scoped>\n    .dataframe tbody tr th:only-of-type {\n        vertical-align: middle;\n    }\n\n    .dataframe tbody tr th {\n        vertical-align: top;\n    }\n\n    .dataframe thead th {\n        text-align: right;\n    }\n</style>\n<table border=\"1\" class=\"dataframe\">\n  <thead>\n    <tr style=\"text-align: right;\">\n      <th></th>\n      <th>prefecture_code</th>\n      <th>prefecture_name</th>\n      <th>city_code</th>\n      <th>city_name</th>\n      <th>town_code</th>\n      <th>town_name</th>\n      <th>latitude</th>\n      <th>longitude</th>\n      <th>household_id</th>\n      <th>family_type_id</th>\n      <th>...</th>\n      <th>gender_id</th>\n      <th>gender</th>\n      <th>role_household_type_id</th>\n      <th>role_household_type</th>\n      <th>industry_type_id</th>\n      <th>industry_type</th>\n      <th>employment_type_id</th>\n      <th>employment_type</th>\n      <th>company_size_id</th>\n      <th>company_size</th>\n    </tr>\n  </thead>\n  <tbody>\n    <tr>\n      <th>47</th>\n      <td>沖縄県</td>\n      <td>47207</td>\n      <td>石垣市</td>\n      <td>47207003000</td>\n      <td>字石垣</td>\n      <td>24.363116</td>\n      <td>124.151367</td>\n      <td>49566056</td>\n      <td>0</td>\n      <td>単独世帯</td>\n      <td>...</td>\n      <td>男性</td>\n      <td>0</td>\n      <td>単独世帯（男性）</td>\n      <td>NaN</td>\n      <td>NaN</td>\n      <td>NaN</td>\n      <td>NaN</td>\n      <td>NaN</td>\n      <td>NaN</td>\n      <td>NaN</td>\n    </tr>\n    <tr>\n      <th>47</th>\n      <td>沖縄県</td>\n      <td>47207</td>\n      <td>石垣市</td>\n      <td>47207004000</td>\n      <td>字新川</td>\n      <td>24.353763</td>\n      <td>124.142360</td>\n      <td>49566057</td>\n      <td>0</td>\n      <td>単独世帯</td>\n      <td>...</td>\n      <td>女性</td>\n      <td>1</td>\n      <td>単独世帯（女性）</td>\n      <td>NaN</td>\n      <td>NaN</td>\n      <td>NaN</td>\n      <td>NaN</td>\n      <td>NaN</td>\n      <td>NaN</td>\n      <td>NaN</td>\n    </tr>\n    <tr>\n      <th>47</th>\n      <td>沖縄県</td>\n      <td>47207</td>\n      <td>石垣市</td>\n      <td>47207006000</td>\n      <td>新栄町</td>\n      <td>24.343187</td>\n      <td>124.150816</td>\n      <td>49566058</td>\n      <td>0</td>\n      <td>単独世帯</td>\n      <td>...</td>\n      <td>女性</td>\n      <td>1</td>\n      <td>単独世帯（女性）</td>\n      <td>NaN</td>\n      <td>NaN</td>\n      <td>NaN</td>\n      <td>NaN</td>\n      <td>NaN</td>\n      <td>NaN</td>\n      <td>NaN</td>\n    </tr>\n    <tr>\n      <th>47</th>\n      <td>沖縄県</td>\n      <td>47207</td>\n      <td>石垣市</td>\n      <td>47207003000</td>\n      <td>字石垣</td>\n      <td>24.362456</td>\n      <td>124.146893</td>\n      <td>49566059</td>\n      <td>0</td>\n      <td>単独世帯</td>\n      <td>...</td>\n      <td>男性</td>\n      <td>0</td>\n      <td>単独世帯（男性）</td>\n      <td>NaN</td>\n      <td>NaN</td>\n      <td>NaN</td>\n      <td>NaN</td>\n      <td>NaN</td>\n      <td>NaN</td>\n      <td>NaN</td>\n    </tr>\n    <tr>\n      <th>47</th>\n      <td>沖縄県</td>\n      <td>47207</td>\n      <td>石垣市</td>\n      <td>47207006000</td>\n      <td>新栄町</td>\n      <td>24.344603</td>\n      <td>124.151606</td>\n      <td>49566060</td>\n      <td>0</td>\n      <td>単独世帯</td>\n      <td>...</td>\n      <td>男性</td>\n      <td>0</td>\n      <td>単独世帯（男性）</td>\n      <td>NaN</td>\n      <td>NaN</td>\n      <td>NaN</td>\n      <td>NaN</td>\n      <td>NaN</td>\n      <td>NaN</td>\n      <td>NaN</td>\n    </tr>\n    <tr>\n      <th>...</th>\n      <td>...</td>\n      <td>...</td>\n      <td>...</td>\n      <td>...</td>\n      <td>...</td>\n      <td>...</td>\n      <td>...</td>\n      <td>...</td>\n      <td>...</td>\n      <td>...</td>\n      <td>...</td>\n      <td>...</td>\n      <td>...</td>\n      <td>...</td>\n      <td>...</td>\n      <td>...</td>\n      <td>...</td>\n      <td>...</td>\n      <td>...</td>\n      <td>...</td>\n      <td>...</td>\n    </tr>\n    <tr>\n      <th>47</th>\n      <td>沖縄県</td>\n      <td>47207</td>\n      <td>石垣市</td>\n      <td>47207002000</td>\n      <td>字大川</td>\n      <td>24.340819</td>\n      <td>124.158194</td>\n      <td>49585251</td>\n      <td>80</td>\n      <td>夫婦、子供とひとり親（夫の親）</td>\n      <td>...</td>\n      <td>男性</td>\n      <td>20</td>\n      <td>子供（男性）</td>\n      <td>NaN</td>\n      <td>NaN</td>\n      <td>NaN</td>\n      <td>NaN</td>\n      <td>NaN</td>\n      <td>NaN</td>\n      <td>NaN</td>\n    </tr>\n    <tr>\n      <th>47</th>\n      <td>沖縄県</td>\n      <td>47207</td>\n      <td>石垣市</td>\n      <td>47207002000</td>\n      <td>字大川</td>\n      <td>24.340819</td>\n      <td>124.158194</td>\n      <td>49585251</td>\n      <td>80</td>\n      <td>夫婦、子供とひとり親（夫の親）</td>\n      <td>...</td>\n      <td>女性</td>\n      <td>21</td>\n      <td>子供（女性）</td>\n      <td>NaN</td>\n      <td>NaN</td>\n      <td>NaN</td>\n      <td>NaN</td>\n      <td>NaN</td>\n      <td>NaN</td>\n      <td>NaN</td>\n    </tr>\n    <tr>\n      <th>47</th>\n      <td>沖縄県</td>\n      <td>47207</td>\n      <td>石垣市</td>\n      <td>47207002000</td>\n      <td>字大川</td>\n      <td>24.340819</td>\n      <td>124.158194</td>\n      <td>49585251</td>\n      <td>80</td>\n      <td>夫婦、子供とひとり親（夫の親）</td>\n      <td>...</td>\n      <td>女性</td>\n      <td>21</td>\n      <td>子供（女性）</td>\n      <td>NaN</td>\n      <td>NaN</td>\n      <td>NaN</td>\n      <td>NaN</td>\n      <td>NaN</td>\n      <td>NaN</td>\n      <td>NaN</td>\n    </tr>\n    <tr>\n      <th>47</th>\n      <td>沖縄県</td>\n      <td>47207</td>\n      <td>石垣市</td>\n      <td>47207002000</td>\n      <td>字大川</td>\n      <td>24.340819</td>\n      <td>124.158194</td>\n      <td>49585251</td>\n      <td>80</td>\n      <td>夫婦、子供とひとり親（夫の親）</td>\n      <td>...</td>\n      <td>女性</td>\n      <td>21</td>\n      <td>子供（女性）</td>\n      <td>NaN</td>\n      <td>NaN</td>\n      <td>NaN</td>\n      <td>NaN</td>\n      <td>NaN</td>\n      <td>NaN</td>\n      <td>NaN</td>\n    </tr>\n    <tr>\n      <th>47</th>\n      <td>沖縄県</td>\n      <td>47207</td>\n      <td>石垣市</td>\n      <td>47207002000</td>\n      <td>字大川</td>\n      <td>24.340819</td>\n      <td>124.158194</td>\n      <td>49585251</td>\n      <td>80</td>\n      <td>夫婦、子供とひとり親（夫の親）</td>\n      <td>...</td>\n      <td>女性</td>\n      <td>31</td>\n      <td>親（女性）</td>\n      <td>NaN</td>\n      <td>NaN</td>\n      <td>NaN</td>\n      <td>NaN</td>\n      <td>NaN</td>\n      <td>NaN</td>\n      <td>NaN</td>\n    </tr>\n  </tbody>\n</table>\n<p>42849 rows × 25 columns</p>\n</div>"
     },
     "execution_count": 14,
     "metadata": {},
     "output_type": "execute_result"
    }
   ],
   "source": [
    "df"
   ],
   "metadata": {
    "collapsed": false,
    "ExecuteTime": {
     "end_time": "2024-09-24T08:39:34.089277200Z",
     "start_time": "2024-09-24T08:39:34.054455600Z"
    }
   },
   "id": "8ba20f5bb770e350"
  },
  {
   "cell_type": "code",
   "execution_count": null,
   "outputs": [],
   "source": [],
   "metadata": {
    "collapsed": false
   },
   "id": "a3d04d4ed443b128"
  }
 ],
 "metadata": {
  "kernelspec": {
   "display_name": "Python 3",
   "language": "python",
   "name": "python3"
  },
  "language_info": {
   "codemirror_mode": {
    "name": "ipython",
    "version": 2
   },
   "file_extension": ".py",
   "mimetype": "text/x-python",
   "name": "python",
   "nbconvert_exporter": "python",
   "pygments_lexer": "ipython2",
   "version": "2.7.6"
  }
 },
 "nbformat": 4,
 "nbformat_minor": 5
}
