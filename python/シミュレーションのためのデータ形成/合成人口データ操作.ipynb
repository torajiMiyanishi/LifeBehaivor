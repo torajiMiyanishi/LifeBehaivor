{
 "cells": [
  {
   "cell_type": "code",
   "execution_count": 15,
   "id": "initial_id",
   "metadata": {
    "collapsed": true,
    "ExecuteTime": {
     "end_time": "2024-09-25T01:58:18.407754800Z",
     "start_time": "2024-09-25T01:58:18.380800600Z"
    }
   },
   "outputs": [],
   "source": [
    "import pandas as pd\n",
    "import geopandas as gpd\n",
    "import folium\n",
    "import csv"
   ]
  },
  {
   "cell_type": "code",
   "execution_count": 41,
   "outputs": [],
   "source": [
    "df = pd.read_csv(\"Z:\\\\lab\\\\input\\\\2015_003_8_47207_ok.csv\", index_col=False, dtype=str)"
   ],
   "metadata": {
    "collapsed": false,
    "ExecuteTime": {
     "end_time": "2024-09-25T02:50:50.223921Z",
     "start_time": "2024-09-25T02:50:49.424022500Z"
    }
   },
   "id": "1aa4dee7b501044f"
  },
  {
   "cell_type": "code",
   "execution_count": 48,
   "outputs": [],
   "source": [
    "noOfSample = 10000\n",
    "outPath = f\"Z:\\\\lab\\\\input\\\\2015_003_8_47207_ok_{str(noOfSample)}.csv\"\n",
    "df.sample(frac=1).head(noOfSample).to_csv(outPath, index=False, quotechar='\"', quoting=csv.QUOTE_ALL)"
   ],
   "metadata": {
    "collapsed": false,
    "ExecuteTime": {
     "end_time": "2024-09-25T02:51:34.216573500Z",
     "start_time": "2024-09-25T02:51:32.482543800Z"
    }
   },
   "id": "8ba20f5bb770e350"
  },
  {
   "cell_type": "code",
   "execution_count": 37,
   "outputs": [
    {
     "data": {
      "text/plain": "       prefecture_code prefecture_name  city_code city_name    town_code  \\\n0                   47             沖縄県      47207       石垣市  47207003000   \n1                   47             沖縄県      47207       石垣市  47207004000   \n2                   47             沖縄県      47207       石垣市  47207006000   \n3                   47             沖縄県      47207       石垣市  47207003000   \n4                   47             沖縄県      47207       石垣市  47207006000   \n...                ...             ...        ...       ...          ...   \n42844               47             沖縄県      47207       石垣市  47207002000   \n42845               47             沖縄県      47207       石垣市  47207002000   \n42846               47             沖縄県      47207       石垣市  47207002000   \n42847               47             沖縄県      47207       石垣市  47207002000   \n42848               47             沖縄県      47207       石垣市  47207002000   \n\n      town_name   latitude   longitude  household_id  family_type_id  ...  \\\n0           字石垣  24.363116  124.151367      49566056               0  ...   \n1           字新川  24.353763  124.142360      49566057               0  ...   \n2           新栄町  24.343187  124.150816      49566058               0  ...   \n3           字石垣  24.362456  124.146893      49566059               0  ...   \n4           新栄町  24.344603  124.151606      49566060               0  ...   \n...         ...        ...         ...           ...             ...  ...   \n42844       字大川  24.340819  124.158194      49585251              80  ...   \n42845       字大川  24.340819  124.158194      49585251              80  ...   \n42846       字大川  24.340819  124.158194      49585251              80  ...   \n42847       字大川  24.340819  124.158194      49585251              80  ...   \n42848       字大川  24.340819  124.158194      49585251              80  ...   \n\n      gender_id  gender  role_household_type_id  role_household_type  \\\n0             0      男性                       0             単独世帯（男性）   \n1             1      女性                       1             単独世帯（女性）   \n2             1      女性                       1             単独世帯（女性）   \n3             0      男性                       0             単独世帯（男性）   \n4             0      男性                       0             単独世帯（男性）   \n...         ...     ...                     ...                  ...   \n42844         0      男性                      20               子供（男性）   \n42845         1      女性                      21               子供（女性）   \n42846         1      女性                      21               子供（女性）   \n42847         1      女性                      21               子供（女性）   \n42848         1      女性                      31                親（女性）   \n\n       industry_type_id  industry_type employment_type_id  employment_type  \\\n0                   NaN            NaN                NaN              NaN   \n1                   NaN            NaN                NaN              NaN   \n2                   NaN            NaN                NaN              NaN   \n3                   NaN            NaN                NaN              NaN   \n4                   NaN            NaN                NaN              NaN   \n...                 ...            ...                ...              ...   \n42844               NaN            NaN                NaN              NaN   \n42845               NaN            NaN                NaN              NaN   \n42846               NaN            NaN                NaN              NaN   \n42847               NaN            NaN                NaN              NaN   \n42848               NaN            NaN                NaN              NaN   \n\n      company_size_id  company_size  \n0                 NaN           NaN  \n1                 NaN           NaN  \n2                 NaN           NaN  \n3                 NaN           NaN  \n4                 NaN           NaN  \n...               ...           ...  \n42844             NaN           NaN  \n42845             NaN           NaN  \n42846             NaN           NaN  \n42847             NaN           NaN  \n42848             NaN           NaN  \n\n[42849 rows x 25 columns]",
      "text/html": "<div>\n<style scoped>\n    .dataframe tbody tr th:only-of-type {\n        vertical-align: middle;\n    }\n\n    .dataframe tbody tr th {\n        vertical-align: top;\n    }\n\n    .dataframe thead th {\n        text-align: right;\n    }\n</style>\n<table border=\"1\" class=\"dataframe\">\n  <thead>\n    <tr style=\"text-align: right;\">\n      <th></th>\n      <th>prefecture_code</th>\n      <th>prefecture_name</th>\n      <th>city_code</th>\n      <th>city_name</th>\n      <th>town_code</th>\n      <th>town_name</th>\n      <th>latitude</th>\n      <th>longitude</th>\n      <th>household_id</th>\n      <th>family_type_id</th>\n      <th>...</th>\n      <th>gender_id</th>\n      <th>gender</th>\n      <th>role_household_type_id</th>\n      <th>role_household_type</th>\n      <th>industry_type_id</th>\n      <th>industry_type</th>\n      <th>employment_type_id</th>\n      <th>employment_type</th>\n      <th>company_size_id</th>\n      <th>company_size</th>\n    </tr>\n  </thead>\n  <tbody>\n    <tr>\n      <th>0</th>\n      <td>47</td>\n      <td>沖縄県</td>\n      <td>47207</td>\n      <td>石垣市</td>\n      <td>47207003000</td>\n      <td>字石垣</td>\n      <td>24.363116</td>\n      <td>124.151367</td>\n      <td>49566056</td>\n      <td>0</td>\n      <td>...</td>\n      <td>0</td>\n      <td>男性</td>\n      <td>0</td>\n      <td>単独世帯（男性）</td>\n      <td>NaN</td>\n      <td>NaN</td>\n      <td>NaN</td>\n      <td>NaN</td>\n      <td>NaN</td>\n      <td>NaN</td>\n    </tr>\n    <tr>\n      <th>1</th>\n      <td>47</td>\n      <td>沖縄県</td>\n      <td>47207</td>\n      <td>石垣市</td>\n      <td>47207004000</td>\n      <td>字新川</td>\n      <td>24.353763</td>\n      <td>124.142360</td>\n      <td>49566057</td>\n      <td>0</td>\n      <td>...</td>\n      <td>1</td>\n      <td>女性</td>\n      <td>1</td>\n      <td>単独世帯（女性）</td>\n      <td>NaN</td>\n      <td>NaN</td>\n      <td>NaN</td>\n      <td>NaN</td>\n      <td>NaN</td>\n      <td>NaN</td>\n    </tr>\n    <tr>\n      <th>2</th>\n      <td>47</td>\n      <td>沖縄県</td>\n      <td>47207</td>\n      <td>石垣市</td>\n      <td>47207006000</td>\n      <td>新栄町</td>\n      <td>24.343187</td>\n      <td>124.150816</td>\n      <td>49566058</td>\n      <td>0</td>\n      <td>...</td>\n      <td>1</td>\n      <td>女性</td>\n      <td>1</td>\n      <td>単独世帯（女性）</td>\n      <td>NaN</td>\n      <td>NaN</td>\n      <td>NaN</td>\n      <td>NaN</td>\n      <td>NaN</td>\n      <td>NaN</td>\n    </tr>\n    <tr>\n      <th>3</th>\n      <td>47</td>\n      <td>沖縄県</td>\n      <td>47207</td>\n      <td>石垣市</td>\n      <td>47207003000</td>\n      <td>字石垣</td>\n      <td>24.362456</td>\n      <td>124.146893</td>\n      <td>49566059</td>\n      <td>0</td>\n      <td>...</td>\n      <td>0</td>\n      <td>男性</td>\n      <td>0</td>\n      <td>単独世帯（男性）</td>\n      <td>NaN</td>\n      <td>NaN</td>\n      <td>NaN</td>\n      <td>NaN</td>\n      <td>NaN</td>\n      <td>NaN</td>\n    </tr>\n    <tr>\n      <th>4</th>\n      <td>47</td>\n      <td>沖縄県</td>\n      <td>47207</td>\n      <td>石垣市</td>\n      <td>47207006000</td>\n      <td>新栄町</td>\n      <td>24.344603</td>\n      <td>124.151606</td>\n      <td>49566060</td>\n      <td>0</td>\n      <td>...</td>\n      <td>0</td>\n      <td>男性</td>\n      <td>0</td>\n      <td>単独世帯（男性）</td>\n      <td>NaN</td>\n      <td>NaN</td>\n      <td>NaN</td>\n      <td>NaN</td>\n      <td>NaN</td>\n      <td>NaN</td>\n    </tr>\n    <tr>\n      <th>...</th>\n      <td>...</td>\n      <td>...</td>\n      <td>...</td>\n      <td>...</td>\n      <td>...</td>\n      <td>...</td>\n      <td>...</td>\n      <td>...</td>\n      <td>...</td>\n      <td>...</td>\n      <td>...</td>\n      <td>...</td>\n      <td>...</td>\n      <td>...</td>\n      <td>...</td>\n      <td>...</td>\n      <td>...</td>\n      <td>...</td>\n      <td>...</td>\n      <td>...</td>\n      <td>...</td>\n    </tr>\n    <tr>\n      <th>42844</th>\n      <td>47</td>\n      <td>沖縄県</td>\n      <td>47207</td>\n      <td>石垣市</td>\n      <td>47207002000</td>\n      <td>字大川</td>\n      <td>24.340819</td>\n      <td>124.158194</td>\n      <td>49585251</td>\n      <td>80</td>\n      <td>...</td>\n      <td>0</td>\n      <td>男性</td>\n      <td>20</td>\n      <td>子供（男性）</td>\n      <td>NaN</td>\n      <td>NaN</td>\n      <td>NaN</td>\n      <td>NaN</td>\n      <td>NaN</td>\n      <td>NaN</td>\n    </tr>\n    <tr>\n      <th>42845</th>\n      <td>47</td>\n      <td>沖縄県</td>\n      <td>47207</td>\n      <td>石垣市</td>\n      <td>47207002000</td>\n      <td>字大川</td>\n      <td>24.340819</td>\n      <td>124.158194</td>\n      <td>49585251</td>\n      <td>80</td>\n      <td>...</td>\n      <td>1</td>\n      <td>女性</td>\n      <td>21</td>\n      <td>子供（女性）</td>\n      <td>NaN</td>\n      <td>NaN</td>\n      <td>NaN</td>\n      <td>NaN</td>\n      <td>NaN</td>\n      <td>NaN</td>\n    </tr>\n    <tr>\n      <th>42846</th>\n      <td>47</td>\n      <td>沖縄県</td>\n      <td>47207</td>\n      <td>石垣市</td>\n      <td>47207002000</td>\n      <td>字大川</td>\n      <td>24.340819</td>\n      <td>124.158194</td>\n      <td>49585251</td>\n      <td>80</td>\n      <td>...</td>\n      <td>1</td>\n      <td>女性</td>\n      <td>21</td>\n      <td>子供（女性）</td>\n      <td>NaN</td>\n      <td>NaN</td>\n      <td>NaN</td>\n      <td>NaN</td>\n      <td>NaN</td>\n      <td>NaN</td>\n    </tr>\n    <tr>\n      <th>42847</th>\n      <td>47</td>\n      <td>沖縄県</td>\n      <td>47207</td>\n      <td>石垣市</td>\n      <td>47207002000</td>\n      <td>字大川</td>\n      <td>24.340819</td>\n      <td>124.158194</td>\n      <td>49585251</td>\n      <td>80</td>\n      <td>...</td>\n      <td>1</td>\n      <td>女性</td>\n      <td>21</td>\n      <td>子供（女性）</td>\n      <td>NaN</td>\n      <td>NaN</td>\n      <td>NaN</td>\n      <td>NaN</td>\n      <td>NaN</td>\n      <td>NaN</td>\n    </tr>\n    <tr>\n      <th>42848</th>\n      <td>47</td>\n      <td>沖縄県</td>\n      <td>47207</td>\n      <td>石垣市</td>\n      <td>47207002000</td>\n      <td>字大川</td>\n      <td>24.340819</td>\n      <td>124.158194</td>\n      <td>49585251</td>\n      <td>80</td>\n      <td>...</td>\n      <td>1</td>\n      <td>女性</td>\n      <td>31</td>\n      <td>親（女性）</td>\n      <td>NaN</td>\n      <td>NaN</td>\n      <td>NaN</td>\n      <td>NaN</td>\n      <td>NaN</td>\n      <td>NaN</td>\n    </tr>\n  </tbody>\n</table>\n<p>42849 rows × 25 columns</p>\n</div>"
     },
     "execution_count": 37,
     "metadata": {},
     "output_type": "execute_result"
    }
   ],
   "source": [
    "df"
   ],
   "metadata": {
    "collapsed": false,
    "ExecuteTime": {
     "end_time": "2024-09-25T02:19:00.398621900Z",
     "start_time": "2024-09-25T02:19:00.337586300Z"
    }
   },
   "id": "6d92e42f130d8b0e"
  },
  {
   "cell_type": "code",
   "execution_count": 30,
   "outputs": [
    {
     "data": {
      "text/plain": "       prefecture_code prefecture_name  city_code city_name    town_code  \\\n0                   47             沖縄県      47207       石垣市  47207003000   \n1                   47             沖縄県      47207       石垣市  47207004000   \n2                   47             沖縄県      47207       石垣市  47207006000   \n3                   47             沖縄県      47207       石垣市  47207003000   \n4                   47             沖縄県      47207       石垣市  47207006000   \n...                ...             ...        ...       ...          ...   \n42844               47             沖縄県      47207       石垣市  47207002000   \n42845               47             沖縄県      47207       石垣市  47207002000   \n42846               47             沖縄県      47207       石垣市  47207002000   \n42847               47             沖縄県      47207       石垣市  47207002000   \n42848               47             沖縄県      47207       石垣市  47207002000   \n\n      town_name   latitude   longitude  household_id  family_type_id  ...  \\\n0           字石垣  24.363116  124.151367      49566056               0  ...   \n1           字新川  24.353763  124.142360      49566057               0  ...   \n2           新栄町  24.343187  124.150816      49566058               0  ...   \n3           字石垣  24.362456  124.146893      49566059               0  ...   \n4           新栄町  24.344603  124.151606      49566060               0  ...   \n...         ...        ...         ...           ...             ...  ...   \n42844       字大川  24.340819  124.158194      49585251              80  ...   \n42845       字大川  24.340819  124.158194      49585251              80  ...   \n42846       字大川  24.340819  124.158194      49585251              80  ...   \n42847       字大川  24.340819  124.158194      49585251              80  ...   \n42848       字大川  24.340819  124.158194      49585251              80  ...   \n\n      gender_id  gender  role_household_type_id  role_household_type  \\\n0             0      男性                       0             単独世帯（男性）   \n1             1      女性                       1             単独世帯（女性）   \n2             1      女性                       1             単独世帯（女性）   \n3             0      男性                       0             単独世帯（男性）   \n4             0      男性                       0             単独世帯（男性）   \n...         ...     ...                     ...                  ...   \n42844         0      男性                      20               子供（男性）   \n42845         1      女性                      21               子供（女性）   \n42846         1      女性                      21               子供（女性）   \n42847         1      女性                      21               子供（女性）   \n42848         1      女性                      31                親（女性）   \n\n       industry_type_id  industry_type employment_type_id  employment_type  \\\n0                   NaN            NaN                NaN              NaN   \n1                   NaN            NaN                NaN              NaN   \n2                   NaN            NaN                NaN              NaN   \n3                   NaN            NaN                NaN              NaN   \n4                   NaN            NaN                NaN              NaN   \n...                 ...            ...                ...              ...   \n42844               NaN            NaN                NaN              NaN   \n42845               NaN            NaN                NaN              NaN   \n42846               NaN            NaN                NaN              NaN   \n42847               NaN            NaN                NaN              NaN   \n42848               NaN            NaN                NaN              NaN   \n\n      company_size_id  company_size  \n0                 NaN           NaN  \n1                 NaN           NaN  \n2                 NaN           NaN  \n3                 NaN           NaN  \n4                 NaN           NaN  \n...               ...           ...  \n42844             NaN           NaN  \n42845             NaN           NaN  \n42846             NaN           NaN  \n42847             NaN           NaN  \n42848             NaN           NaN  \n\n[42849 rows x 25 columns]",
      "text/html": "<div>\n<style scoped>\n    .dataframe tbody tr th:only-of-type {\n        vertical-align: middle;\n    }\n\n    .dataframe tbody tr th {\n        vertical-align: top;\n    }\n\n    .dataframe thead th {\n        text-align: right;\n    }\n</style>\n<table border=\"1\" class=\"dataframe\">\n  <thead>\n    <tr style=\"text-align: right;\">\n      <th></th>\n      <th>prefecture_code</th>\n      <th>prefecture_name</th>\n      <th>city_code</th>\n      <th>city_name</th>\n      <th>town_code</th>\n      <th>town_name</th>\n      <th>latitude</th>\n      <th>longitude</th>\n      <th>household_id</th>\n      <th>family_type_id</th>\n      <th>...</th>\n      <th>gender_id</th>\n      <th>gender</th>\n      <th>role_household_type_id</th>\n      <th>role_household_type</th>\n      <th>industry_type_id</th>\n      <th>industry_type</th>\n      <th>employment_type_id</th>\n      <th>employment_type</th>\n      <th>company_size_id</th>\n      <th>company_size</th>\n    </tr>\n  </thead>\n  <tbody>\n    <tr>\n      <th>0</th>\n      <td>47</td>\n      <td>沖縄県</td>\n      <td>47207</td>\n      <td>石垣市</td>\n      <td>47207003000</td>\n      <td>字石垣</td>\n      <td>24.363116</td>\n      <td>124.151367</td>\n      <td>49566056</td>\n      <td>0</td>\n      <td>...</td>\n      <td>0</td>\n      <td>男性</td>\n      <td>0</td>\n      <td>単独世帯（男性）</td>\n      <td>NaN</td>\n      <td>NaN</td>\n      <td>NaN</td>\n      <td>NaN</td>\n      <td>NaN</td>\n      <td>NaN</td>\n    </tr>\n    <tr>\n      <th>1</th>\n      <td>47</td>\n      <td>沖縄県</td>\n      <td>47207</td>\n      <td>石垣市</td>\n      <td>47207004000</td>\n      <td>字新川</td>\n      <td>24.353763</td>\n      <td>124.142360</td>\n      <td>49566057</td>\n      <td>0</td>\n      <td>...</td>\n      <td>1</td>\n      <td>女性</td>\n      <td>1</td>\n      <td>単独世帯（女性）</td>\n      <td>NaN</td>\n      <td>NaN</td>\n      <td>NaN</td>\n      <td>NaN</td>\n      <td>NaN</td>\n      <td>NaN</td>\n    </tr>\n    <tr>\n      <th>2</th>\n      <td>47</td>\n      <td>沖縄県</td>\n      <td>47207</td>\n      <td>石垣市</td>\n      <td>47207006000</td>\n      <td>新栄町</td>\n      <td>24.343187</td>\n      <td>124.150816</td>\n      <td>49566058</td>\n      <td>0</td>\n      <td>...</td>\n      <td>1</td>\n      <td>女性</td>\n      <td>1</td>\n      <td>単独世帯（女性）</td>\n      <td>NaN</td>\n      <td>NaN</td>\n      <td>NaN</td>\n      <td>NaN</td>\n      <td>NaN</td>\n      <td>NaN</td>\n    </tr>\n    <tr>\n      <th>3</th>\n      <td>47</td>\n      <td>沖縄県</td>\n      <td>47207</td>\n      <td>石垣市</td>\n      <td>47207003000</td>\n      <td>字石垣</td>\n      <td>24.362456</td>\n      <td>124.146893</td>\n      <td>49566059</td>\n      <td>0</td>\n      <td>...</td>\n      <td>0</td>\n      <td>男性</td>\n      <td>0</td>\n      <td>単独世帯（男性）</td>\n      <td>NaN</td>\n      <td>NaN</td>\n      <td>NaN</td>\n      <td>NaN</td>\n      <td>NaN</td>\n      <td>NaN</td>\n    </tr>\n    <tr>\n      <th>4</th>\n      <td>47</td>\n      <td>沖縄県</td>\n      <td>47207</td>\n      <td>石垣市</td>\n      <td>47207006000</td>\n      <td>新栄町</td>\n      <td>24.344603</td>\n      <td>124.151606</td>\n      <td>49566060</td>\n      <td>0</td>\n      <td>...</td>\n      <td>0</td>\n      <td>男性</td>\n      <td>0</td>\n      <td>単独世帯（男性）</td>\n      <td>NaN</td>\n      <td>NaN</td>\n      <td>NaN</td>\n      <td>NaN</td>\n      <td>NaN</td>\n      <td>NaN</td>\n    </tr>\n    <tr>\n      <th>...</th>\n      <td>...</td>\n      <td>...</td>\n      <td>...</td>\n      <td>...</td>\n      <td>...</td>\n      <td>...</td>\n      <td>...</td>\n      <td>...</td>\n      <td>...</td>\n      <td>...</td>\n      <td>...</td>\n      <td>...</td>\n      <td>...</td>\n      <td>...</td>\n      <td>...</td>\n      <td>...</td>\n      <td>...</td>\n      <td>...</td>\n      <td>...</td>\n      <td>...</td>\n      <td>...</td>\n    </tr>\n    <tr>\n      <th>42844</th>\n      <td>47</td>\n      <td>沖縄県</td>\n      <td>47207</td>\n      <td>石垣市</td>\n      <td>47207002000</td>\n      <td>字大川</td>\n      <td>24.340819</td>\n      <td>124.158194</td>\n      <td>49585251</td>\n      <td>80</td>\n      <td>...</td>\n      <td>0</td>\n      <td>男性</td>\n      <td>20</td>\n      <td>子供（男性）</td>\n      <td>NaN</td>\n      <td>NaN</td>\n      <td>NaN</td>\n      <td>NaN</td>\n      <td>NaN</td>\n      <td>NaN</td>\n    </tr>\n    <tr>\n      <th>42845</th>\n      <td>47</td>\n      <td>沖縄県</td>\n      <td>47207</td>\n      <td>石垣市</td>\n      <td>47207002000</td>\n      <td>字大川</td>\n      <td>24.340819</td>\n      <td>124.158194</td>\n      <td>49585251</td>\n      <td>80</td>\n      <td>...</td>\n      <td>1</td>\n      <td>女性</td>\n      <td>21</td>\n      <td>子供（女性）</td>\n      <td>NaN</td>\n      <td>NaN</td>\n      <td>NaN</td>\n      <td>NaN</td>\n      <td>NaN</td>\n      <td>NaN</td>\n    </tr>\n    <tr>\n      <th>42846</th>\n      <td>47</td>\n      <td>沖縄県</td>\n      <td>47207</td>\n      <td>石垣市</td>\n      <td>47207002000</td>\n      <td>字大川</td>\n      <td>24.340819</td>\n      <td>124.158194</td>\n      <td>49585251</td>\n      <td>80</td>\n      <td>...</td>\n      <td>1</td>\n      <td>女性</td>\n      <td>21</td>\n      <td>子供（女性）</td>\n      <td>NaN</td>\n      <td>NaN</td>\n      <td>NaN</td>\n      <td>NaN</td>\n      <td>NaN</td>\n      <td>NaN</td>\n    </tr>\n    <tr>\n      <th>42847</th>\n      <td>47</td>\n      <td>沖縄県</td>\n      <td>47207</td>\n      <td>石垣市</td>\n      <td>47207002000</td>\n      <td>字大川</td>\n      <td>24.340819</td>\n      <td>124.158194</td>\n      <td>49585251</td>\n      <td>80</td>\n      <td>...</td>\n      <td>1</td>\n      <td>女性</td>\n      <td>21</td>\n      <td>子供（女性）</td>\n      <td>NaN</td>\n      <td>NaN</td>\n      <td>NaN</td>\n      <td>NaN</td>\n      <td>NaN</td>\n      <td>NaN</td>\n    </tr>\n    <tr>\n      <th>42848</th>\n      <td>47</td>\n      <td>沖縄県</td>\n      <td>47207</td>\n      <td>石垣市</td>\n      <td>47207002000</td>\n      <td>字大川</td>\n      <td>24.340819</td>\n      <td>124.158194</td>\n      <td>49585251</td>\n      <td>80</td>\n      <td>...</td>\n      <td>1</td>\n      <td>女性</td>\n      <td>31</td>\n      <td>親（女性）</td>\n      <td>NaN</td>\n      <td>NaN</td>\n      <td>NaN</td>\n      <td>NaN</td>\n      <td>NaN</td>\n      <td>NaN</td>\n    </tr>\n  </tbody>\n</table>\n<p>42849 rows × 25 columns</p>\n</div>"
     },
     "execution_count": 30,
     "metadata": {},
     "output_type": "execute_result"
    }
   ],
   "source": [
    "df"
   ],
   "metadata": {
    "collapsed": false,
    "ExecuteTime": {
     "end_time": "2024-09-25T02:17:22.840868500Z",
     "start_time": "2024-09-25T02:17:22.750985900Z"
    }
   },
   "id": "c9022feae0958efa"
  },
  {
   "cell_type": "code",
   "execution_count": null,
   "outputs": [],
   "source": [],
   "metadata": {
    "collapsed": false
   },
   "id": "5b62a5018eaf1919"
  }
 ],
 "metadata": {
  "kernelspec": {
   "display_name": "Python 3",
   "language": "python",
   "name": "python3"
  },
  "language_info": {
   "codemirror_mode": {
    "name": "ipython",
    "version": 2
   },
   "file_extension": ".py",
   "mimetype": "text/x-python",
   "name": "python",
   "nbconvert_exporter": "python",
   "pygments_lexer": "ipython2",
   "version": "2.7.6"
  }
 },
 "nbformat": 4,
 "nbformat_minor": 5
}
