{
 "cells": [
  {
   "cell_type": "code",
   "execution_count": 1,
   "id": "initial_id",
   "metadata": {
    "collapsed": true,
    "ExecuteTime": {
     "end_time": "2024-09-26T02:04:54.392527900Z",
     "start_time": "2024-09-26T02:04:53.571402100Z"
    }
   },
   "outputs": [],
   "source": [
    "import pandas as pd\n",
    "import geopandas as gpd"
   ]
  },
  {
   "cell_type": "code",
   "execution_count": 2,
   "outputs": [],
   "source": [
    "DIR_LOGS = \"Z:\\\\lab\\\\output\\\\logs\\\\\""
   ],
   "metadata": {
    "collapsed": false,
    "ExecuteTime": {
     "end_time": "2024-09-26T02:06:05.410983200Z",
     "start_time": "2024-09-26T02:06:05.388709800Z"
    }
   },
   "id": "47e62ab858ef36df"
  },
  {
   "cell_type": "code",
   "execution_count": 3,
   "outputs": [],
   "source": [
    "spot = pd.read_csv(DIR_LOGS + \"spot_log.csv\")\n",
    "location = pd.read_csv(DIR_LOGS + \"location_log.csv\")"
   ],
   "metadata": {
    "collapsed": false,
    "ExecuteTime": {
     "end_time": "2024-09-26T02:07:23.745556100Z",
     "start_time": "2024-09-26T02:07:14.642369200Z"
    }
   },
   "id": "22b2cd15e8954f8d"
  },
  {
   "cell_type": "code",
   "execution_count": 8,
   "outputs": [
    {
     "data": {
      "text/plain": "     CurrentTime CurrentDay  Person84\n0     0/00:00:00     MONDAY  Home1642\n1     0/00:01:00     MONDAY  Home1642\n2     0/00:02:00     MONDAY  Home1642\n3     0/00:03:00     MONDAY  Home1642\n4     0/00:04:00     MONDAY  Home1642\n...          ...        ...       ...\n1435  0/23:55:00     MONDAY  Home1642\n1436  0/23:56:00     MONDAY  Home1642\n1437  0/23:57:00     MONDAY  Home1642\n1438  0/23:58:00     MONDAY  Home1642\n1439  0/23:59:00     MONDAY  Home1642\n\n[1440 rows x 3 columns]",
      "text/html": "<div>\n<style scoped>\n    .dataframe tbody tr th:only-of-type {\n        vertical-align: middle;\n    }\n\n    .dataframe tbody tr th {\n        vertical-align: top;\n    }\n\n    .dataframe thead th {\n        text-align: right;\n    }\n</style>\n<table border=\"1\" class=\"dataframe\">\n  <thead>\n    <tr style=\"text-align: right;\">\n      <th></th>\n      <th>CurrentTime</th>\n      <th>CurrentDay</th>\n      <th>Person84</th>\n    </tr>\n  </thead>\n  <tbody>\n    <tr>\n      <th>0</th>\n      <td>0/00:00:00</td>\n      <td>MONDAY</td>\n      <td>Home1642</td>\n    </tr>\n    <tr>\n      <th>1</th>\n      <td>0/00:01:00</td>\n      <td>MONDAY</td>\n      <td>Home1642</td>\n    </tr>\n    <tr>\n      <th>2</th>\n      <td>0/00:02:00</td>\n      <td>MONDAY</td>\n      <td>Home1642</td>\n    </tr>\n    <tr>\n      <th>3</th>\n      <td>0/00:03:00</td>\n      <td>MONDAY</td>\n      <td>Home1642</td>\n    </tr>\n    <tr>\n      <th>4</th>\n      <td>0/00:04:00</td>\n      <td>MONDAY</td>\n      <td>Home1642</td>\n    </tr>\n    <tr>\n      <th>...</th>\n      <td>...</td>\n      <td>...</td>\n      <td>...</td>\n    </tr>\n    <tr>\n      <th>1435</th>\n      <td>0/23:55:00</td>\n      <td>MONDAY</td>\n      <td>Home1642</td>\n    </tr>\n    <tr>\n      <th>1436</th>\n      <td>0/23:56:00</td>\n      <td>MONDAY</td>\n      <td>Home1642</td>\n    </tr>\n    <tr>\n      <th>1437</th>\n      <td>0/23:57:00</td>\n      <td>MONDAY</td>\n      <td>Home1642</td>\n    </tr>\n    <tr>\n      <th>1438</th>\n      <td>0/23:58:00</td>\n      <td>MONDAY</td>\n      <td>Home1642</td>\n    </tr>\n    <tr>\n      <th>1439</th>\n      <td>0/23:59:00</td>\n      <td>MONDAY</td>\n      <td>Home1642</td>\n    </tr>\n  </tbody>\n</table>\n<p>1440 rows × 3 columns</p>\n</div>"
     },
     "execution_count": 8,
     "metadata": {},
     "output_type": "execute_result"
    }
   ],
   "source": [
    "spot.filter(items=[\"CurrentTime\",\"CurrentDay\",\"Person84\"])"
   ],
   "metadata": {
    "collapsed": false,
    "ExecuteTime": {
     "end_time": "2024-09-26T02:09:52.039703300Z",
     "start_time": "2024-09-26T02:09:52.016675900Z"
    }
   },
   "id": "1cf640ac43727311"
  },
  {
   "cell_type": "code",
   "execution_count": 10,
   "outputs": [
    {
     "data": {
      "text/plain": "        PersonId  Gender  Age     Day CurrentTime  NttTime   Latitude  \\\n83      Person84  FEMALE   29  MONDAY  0/00:00:00        0  24.342587   \n10083   Person84  FEMALE   29  MONDAY  0/01:00:00      100        NaN   \n20083   Person84  FEMALE   29  MONDAY  0/02:00:00      200  24.342587   \n30083   Person84  FEMALE   29  MONDAY  0/03:00:00      300  24.342587   \n40083   Person84  FEMALE   29  MONDAY  0/04:00:00      400  24.342587   \n50083   Person84  FEMALE   29  MONDAY  0/05:00:00      500  24.342587   \n60083   Person84  FEMALE   29  MONDAY  0/06:00:00      600  24.342587   \n70083   Person84  FEMALE   29  MONDAY  0/07:00:00      700  24.342587   \n80083   Person84  FEMALE   29  MONDAY  0/08:00:00      800        NaN   \n90083   Person84  FEMALE   29  MONDAY  0/09:00:00      900        NaN   \n100083  Person84  FEMALE   29  MONDAY  0/10:00:00     1000        NaN   \n110083  Person84  FEMALE   29  MONDAY  0/11:00:00     1100        NaN   \n120083  Person84  FEMALE   29  MONDAY  0/12:00:00     1200  24.342587   \n130083  Person84  FEMALE   29  MONDAY  0/13:00:00     1300  24.342587   \n140083  Person84  FEMALE   29  MONDAY  0/14:00:00     1400  24.342587   \n150083  Person84  FEMALE   29  MONDAY  0/15:00:00     1500  24.342587   \n160083  Person84  FEMALE   29  MONDAY  0/16:00:00     1600  24.342587   \n170083  Person84  FEMALE   29  MONDAY  0/17:00:00     1700  24.342587   \n180083  Person84  FEMALE   29  MONDAY  0/18:00:00     1800        NaN   \n190083  Person84  FEMALE   29  MONDAY  0/19:00:00     1900        NaN   \n200083  Person84  FEMALE   29  MONDAY  0/20:00:00     2000        NaN   \n210083  Person84  FEMALE   29  MONDAY  0/21:00:00     2100        NaN   \n220083  Person84  FEMALE   29  MONDAY  0/22:00:00     2200  24.342587   \n230083  Person84  FEMALE   29  MONDAY  0/23:00:00     2300  24.342587   \n\n         Longitude  \n83      124.173665  \n10083          NaN  \n20083   124.173665  \n30083   124.173665  \n40083   124.173665  \n50083   124.173665  \n60083   124.173665  \n70083   124.173665  \n80083          NaN  \n90083          NaN  \n100083         NaN  \n110083         NaN  \n120083  124.173665  \n130083  124.173665  \n140083  124.173665  \n150083  124.173665  \n160083  124.173665  \n170083  124.173665  \n180083         NaN  \n190083         NaN  \n200083         NaN  \n210083         NaN  \n220083  124.173665  \n230083  124.173665  ",
      "text/html": "<div>\n<style scoped>\n    .dataframe tbody tr th:only-of-type {\n        vertical-align: middle;\n    }\n\n    .dataframe tbody tr th {\n        vertical-align: top;\n    }\n\n    .dataframe thead th {\n        text-align: right;\n    }\n</style>\n<table border=\"1\" class=\"dataframe\">\n  <thead>\n    <tr style=\"text-align: right;\">\n      <th></th>\n      <th>PersonId</th>\n      <th>Gender</th>\n      <th>Age</th>\n      <th>Day</th>\n      <th>CurrentTime</th>\n      <th>NttTime</th>\n      <th>Latitude</th>\n      <th>Longitude</th>\n    </tr>\n  </thead>\n  <tbody>\n    <tr>\n      <th>83</th>\n      <td>Person84</td>\n      <td>FEMALE</td>\n      <td>29</td>\n      <td>MONDAY</td>\n      <td>0/00:00:00</td>\n      <td>0</td>\n      <td>24.342587</td>\n      <td>124.173665</td>\n    </tr>\n    <tr>\n      <th>10083</th>\n      <td>Person84</td>\n      <td>FEMALE</td>\n      <td>29</td>\n      <td>MONDAY</td>\n      <td>0/01:00:00</td>\n      <td>100</td>\n      <td>NaN</td>\n      <td>NaN</td>\n    </tr>\n    <tr>\n      <th>20083</th>\n      <td>Person84</td>\n      <td>FEMALE</td>\n      <td>29</td>\n      <td>MONDAY</td>\n      <td>0/02:00:00</td>\n      <td>200</td>\n      <td>24.342587</td>\n      <td>124.173665</td>\n    </tr>\n    <tr>\n      <th>30083</th>\n      <td>Person84</td>\n      <td>FEMALE</td>\n      <td>29</td>\n      <td>MONDAY</td>\n      <td>0/03:00:00</td>\n      <td>300</td>\n      <td>24.342587</td>\n      <td>124.173665</td>\n    </tr>\n    <tr>\n      <th>40083</th>\n      <td>Person84</td>\n      <td>FEMALE</td>\n      <td>29</td>\n      <td>MONDAY</td>\n      <td>0/04:00:00</td>\n      <td>400</td>\n      <td>24.342587</td>\n      <td>124.173665</td>\n    </tr>\n    <tr>\n      <th>50083</th>\n      <td>Person84</td>\n      <td>FEMALE</td>\n      <td>29</td>\n      <td>MONDAY</td>\n      <td>0/05:00:00</td>\n      <td>500</td>\n      <td>24.342587</td>\n      <td>124.173665</td>\n    </tr>\n    <tr>\n      <th>60083</th>\n      <td>Person84</td>\n      <td>FEMALE</td>\n      <td>29</td>\n      <td>MONDAY</td>\n      <td>0/06:00:00</td>\n      <td>600</td>\n      <td>24.342587</td>\n      <td>124.173665</td>\n    </tr>\n    <tr>\n      <th>70083</th>\n      <td>Person84</td>\n      <td>FEMALE</td>\n      <td>29</td>\n      <td>MONDAY</td>\n      <td>0/07:00:00</td>\n      <td>700</td>\n      <td>24.342587</td>\n      <td>124.173665</td>\n    </tr>\n    <tr>\n      <th>80083</th>\n      <td>Person84</td>\n      <td>FEMALE</td>\n      <td>29</td>\n      <td>MONDAY</td>\n      <td>0/08:00:00</td>\n      <td>800</td>\n      <td>NaN</td>\n      <td>NaN</td>\n    </tr>\n    <tr>\n      <th>90083</th>\n      <td>Person84</td>\n      <td>FEMALE</td>\n      <td>29</td>\n      <td>MONDAY</td>\n      <td>0/09:00:00</td>\n      <td>900</td>\n      <td>NaN</td>\n      <td>NaN</td>\n    </tr>\n    <tr>\n      <th>100083</th>\n      <td>Person84</td>\n      <td>FEMALE</td>\n      <td>29</td>\n      <td>MONDAY</td>\n      <td>0/10:00:00</td>\n      <td>1000</td>\n      <td>NaN</td>\n      <td>NaN</td>\n    </tr>\n    <tr>\n      <th>110083</th>\n      <td>Person84</td>\n      <td>FEMALE</td>\n      <td>29</td>\n      <td>MONDAY</td>\n      <td>0/11:00:00</td>\n      <td>1100</td>\n      <td>NaN</td>\n      <td>NaN</td>\n    </tr>\n    <tr>\n      <th>120083</th>\n      <td>Person84</td>\n      <td>FEMALE</td>\n      <td>29</td>\n      <td>MONDAY</td>\n      <td>0/12:00:00</td>\n      <td>1200</td>\n      <td>24.342587</td>\n      <td>124.173665</td>\n    </tr>\n    <tr>\n      <th>130083</th>\n      <td>Person84</td>\n      <td>FEMALE</td>\n      <td>29</td>\n      <td>MONDAY</td>\n      <td>0/13:00:00</td>\n      <td>1300</td>\n      <td>24.342587</td>\n      <td>124.173665</td>\n    </tr>\n    <tr>\n      <th>140083</th>\n      <td>Person84</td>\n      <td>FEMALE</td>\n      <td>29</td>\n      <td>MONDAY</td>\n      <td>0/14:00:00</td>\n      <td>1400</td>\n      <td>24.342587</td>\n      <td>124.173665</td>\n    </tr>\n    <tr>\n      <th>150083</th>\n      <td>Person84</td>\n      <td>FEMALE</td>\n      <td>29</td>\n      <td>MONDAY</td>\n      <td>0/15:00:00</td>\n      <td>1500</td>\n      <td>24.342587</td>\n      <td>124.173665</td>\n    </tr>\n    <tr>\n      <th>160083</th>\n      <td>Person84</td>\n      <td>FEMALE</td>\n      <td>29</td>\n      <td>MONDAY</td>\n      <td>0/16:00:00</td>\n      <td>1600</td>\n      <td>24.342587</td>\n      <td>124.173665</td>\n    </tr>\n    <tr>\n      <th>170083</th>\n      <td>Person84</td>\n      <td>FEMALE</td>\n      <td>29</td>\n      <td>MONDAY</td>\n      <td>0/17:00:00</td>\n      <td>1700</td>\n      <td>24.342587</td>\n      <td>124.173665</td>\n    </tr>\n    <tr>\n      <th>180083</th>\n      <td>Person84</td>\n      <td>FEMALE</td>\n      <td>29</td>\n      <td>MONDAY</td>\n      <td>0/18:00:00</td>\n      <td>1800</td>\n      <td>NaN</td>\n      <td>NaN</td>\n    </tr>\n    <tr>\n      <th>190083</th>\n      <td>Person84</td>\n      <td>FEMALE</td>\n      <td>29</td>\n      <td>MONDAY</td>\n      <td>0/19:00:00</td>\n      <td>1900</td>\n      <td>NaN</td>\n      <td>NaN</td>\n    </tr>\n    <tr>\n      <th>200083</th>\n      <td>Person84</td>\n      <td>FEMALE</td>\n      <td>29</td>\n      <td>MONDAY</td>\n      <td>0/20:00:00</td>\n      <td>2000</td>\n      <td>NaN</td>\n      <td>NaN</td>\n    </tr>\n    <tr>\n      <th>210083</th>\n      <td>Person84</td>\n      <td>FEMALE</td>\n      <td>29</td>\n      <td>MONDAY</td>\n      <td>0/21:00:00</td>\n      <td>2100</td>\n      <td>NaN</td>\n      <td>NaN</td>\n    </tr>\n    <tr>\n      <th>220083</th>\n      <td>Person84</td>\n      <td>FEMALE</td>\n      <td>29</td>\n      <td>MONDAY</td>\n      <td>0/22:00:00</td>\n      <td>2200</td>\n      <td>24.342587</td>\n      <td>124.173665</td>\n    </tr>\n    <tr>\n      <th>230083</th>\n      <td>Person84</td>\n      <td>FEMALE</td>\n      <td>29</td>\n      <td>MONDAY</td>\n      <td>0/23:00:00</td>\n      <td>2300</td>\n      <td>24.342587</td>\n      <td>124.173665</td>\n    </tr>\n  </tbody>\n</table>\n</div>"
     },
     "execution_count": 10,
     "metadata": {},
     "output_type": "execute_result"
    }
   ],
   "source": [
    "location.query(\"Latitude != Latitude\" and \"PersonId == 'Person84'\")"
   ],
   "metadata": {
    "collapsed": false,
    "ExecuteTime": {
     "end_time": "2024-09-26T02:11:50.286234300Z",
     "start_time": "2024-09-26T02:11:50.254023900Z"
    }
   },
   "id": "caf54f810009e092"
  },
  {
   "cell_type": "code",
   "execution_count": 9,
   "outputs": [
    {
     "data": {
      "text/plain": "(240000, 8)"
     },
     "execution_count": 9,
     "metadata": {},
     "output_type": "execute_result"
    }
   ],
   "source": [
    "location.shape"
   ],
   "metadata": {
    "collapsed": false,
    "ExecuteTime": {
     "end_time": "2024-09-26T02:11:02.515060300Z",
     "start_time": "2024-09-26T02:11:02.507325900Z"
    }
   },
   "id": "4f81e764cd0c6ef8"
  },
  {
   "cell_type": "code",
   "execution_count": null,
   "outputs": [],
   "source": [],
   "metadata": {
    "collapsed": false
   },
   "id": "cab0ff89ffb075ff"
  }
 ],
 "metadata": {
  "kernelspec": {
   "display_name": "Python 3",
   "language": "python",
   "name": "python3"
  },
  "language_info": {
   "codemirror_mode": {
    "name": "ipython",
    "version": 2
   },
   "file_extension": ".py",
   "mimetype": "text/x-python",
   "name": "python",
   "nbconvert_exporter": "python",
   "pygments_lexer": "ipython2",
   "version": "2.7.6"
  }
 },
 "nbformat": 4,
 "nbformat_minor": 5
}
