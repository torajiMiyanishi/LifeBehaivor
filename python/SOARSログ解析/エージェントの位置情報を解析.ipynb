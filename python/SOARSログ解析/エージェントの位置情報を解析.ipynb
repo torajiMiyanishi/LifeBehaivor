{
 "cells": [
  {
   "cell_type": "code",
   "execution_count": 18,
   "id": "initial_id",
   "metadata": {
    "collapsed": true,
    "ExecuteTime": {
     "end_time": "2024-09-27T17:54:46.822366500Z",
     "start_time": "2024-09-27T17:54:46.812656200Z"
    }
   },
   "outputs": [],
   "source": [
    "import plotly.io as pio\n",
    "pio.templates.default = 'plotly'\n",
    "pio.templates\n",
    "import pandas as pd\n",
    "import plotly.express as px\n",
    "import plotly.graph_objs as go\n",
    "from plotly.subplots import make_subplots\n",
    "import geopandas as gpd\n",
    "import statsmodels.api as sm\n",
    "from tqdm import tqdm"
   ]
  },
  {
   "cell_type": "code",
   "execution_count": 2,
   "outputs": [],
   "source": [
    "def latlonTable2GDF(table: pd.DataFrame, colName_lat: str, colName_lon: str):\n",
    "    return gpd.GeoDataFrame(table, geometry=gpd.points_from_xy(table[colName_lon], table[colName_lat])).set_crs(6668)\n",
    "NTT_TIME_LIST = ['0000', '0100', '0200', '0300', '0400', '0500', '0600', '0700', '0800', '0900', '1000', '1100', '1200', '1300', '1400', '1500', '1600', '1700', '1800', '1900', '2000', '2100', '2200', '2300']"
   ],
   "metadata": {
    "collapsed": false,
    "ExecuteTime": {
     "end_time": "2024-09-26T12:17:48.789903500Z",
     "start_time": "2024-09-26T12:17:48.752067900Z"
    }
   },
   "id": "1232a0642d152eb1"
  },
  {
   "cell_type": "code",
   "execution_count": 20,
   "outputs": [],
   "source": [
    "DIR_LOGS = \"Z:\\\\lab\\\\output\\\\logs\\\\\"\n",
    "DIR_MOBILE = \"Z:\\\\lab\\\\SSI2024_検証\\\\モバイル空間統計_WEEKDAY\\\\\"\n",
    "seed = 20000\n",
    "noOfPeople = 40000\n",
    "FILE_NAME_HEAD = f\"seed_{seed}_no_{noOfPeople}_\""
   ],
   "metadata": {
    "collapsed": false,
    "ExecuteTime": {
     "end_time": "2024-09-27T17:55:37.596091800Z",
     "start_time": "2024-09-27T17:55:37.578070Z"
    }
   },
   "id": "47e62ab858ef36df"
  },
  {
   "cell_type": "code",
   "execution_count": 21,
   "outputs": [],
   "source": [
    "spot = pd.read_csv(DIR_LOGS + FILE_NAME_HEAD + \"spot_log.csv\")\n",
    "location = pd.read_csv(DIR_LOGS + FILE_NAME_HEAD + \"location_log.csv\",dtype={\"NttTime\":str})"
   ],
   "metadata": {
    "collapsed": false,
    "ExecuteTime": {
     "end_time": "2024-09-27T17:59:19.541220400Z",
     "start_time": "2024-09-27T17:55:42.090810600Z"
    }
   },
   "id": "22b2cd15e8954f8d"
  },
  {
   "cell_type": "code",
   "execution_count": 78,
   "outputs": [],
   "source": [
    "# spot.filter(items=[\"CurrentTime\",\"CurrentDay\",\"Person2\"]).query(\"CurrentTime.str.contains(':00:00')\", engine='python')"
   ],
   "metadata": {
    "collapsed": false,
    "ExecuteTime": {
     "end_time": "2024-09-26T10:10:57.018989300Z",
     "start_time": "2024-09-26T10:10:56.967898400Z"
    }
   },
   "id": "1cf640ac43727311"
  },
  {
   "cell_type": "code",
   "execution_count": 19,
   "outputs": [],
   "source": [
    "mesh_poly = gpd.read_file(\"Z:\\\\lab\\\\SSI2024_検証\\\\47207_mesh_poly\\\\47207_mesh_poly.shp\").drop(columns=[\"JCODE\"])"
   ],
   "metadata": {
    "collapsed": false,
    "ExecuteTime": {
     "end_time": "2024-09-27T17:55:15.487031500Z",
     "start_time": "2024-09-27T17:55:14.326211900Z"
    }
   },
   "id": "c8eddbd05b35c511"
  },
  {
   "cell_type": "code",
   "execution_count": 49,
   "outputs": [
    {
     "name": "stderr",
     "output_type": "stream",
     "text": [
      "100%|██████████| 24/24 [01:35<00:00,  3.99s/it]\n"
     ]
    }
   ],
   "source": [
    "## 5×5の可視化\n",
    "# 全データのx, y最大値を計算するためのリスト\n",
    "all_sim_pop = []\n",
    "all_population = []\n",
    "\n",
    "# 相関係数を保存するリスト\n",
    "corr_list = []\n",
    "\n",
    "# すべてのデータを読み込み、最大値を算出\n",
    "for HHMM in tqdm(NTT_TIME_LIST):\n",
    "    df = pd.read_csv(DIR_MOBILE + f\"{HHMM}.csv\", dtype={\"KEY_CODE\": str, \"time\": str, \"population\": int})\n",
    "\n",
    "    location_count = gpd.sjoin(latlonTable2GDF(location, \"Latitude\", \"Longitude\"), mesh_poly, how=\"left\", predicate=\"intersects\")\n",
    "    location_count = location_count.filter(items=[\"KEY_CODE\", \"NttTime\", \"PersonId\"]).groupby([\"KEY_CODE\", \"NttTime\"], as_index=False).count()\n",
    "    location_count = location_count.set_axis([\"mesh_code\", \"ntt_time\", \"sim_pop\"], axis=1).query(\"ntt_time == @HHMM\")\n",
    "\n",
    "    result = pd.merge(df, location_count, left_on=\"KEY_CODE\", right_on=\"mesh_code\", how=\"left\").filter([\"KEY_CODE\", \"population\", \"sim_pop\"])\n",
    "    result[\"sim_pop\"] = result[\"sim_pop\"].fillna(0.0)\n",
    "\n",
    "    # 全データのx, y値を集める\n",
    "    all_sim_pop.extend(result['sim_pop'].values)\n",
    "    all_population.extend(result['population'].values)\n",
    "\n",
    "    # 相関係数を計算しリストに保存\n",
    "    corr_value = result['population'].corr(result['sim_pop'])\n",
    "    corr_list.append(corr_value)\n",
    "\n",
    "# x, y の最大値を取得\n",
    "max_value = max(max(all_sim_pop), max(all_population))\n",
    "\n",
    "# 相関係数を含めたサブプロットタイトルを生成\n",
    "subplot_titles = [f\"{str(i).zfill(2)}:00 (Corr: {corr_list[i]:.3f})\" for i in range(len(NTT_TIME_LIST))]"
   ],
   "metadata": {
    "collapsed": false,
    "ExecuteTime": {
     "end_time": "2024-09-29T08:36:05.327376300Z",
     "start_time": "2024-09-29T08:34:29.465984400Z"
    }
   },
   "id": "db010d8a64b08e30"
  },
  {
   "cell_type": "code",
   "execution_count": 50,
   "outputs": [
    {
     "name": "stderr",
     "output_type": "stream",
     "text": [
      " 88%|████████▊ | 21/24 [01:27<00:12,  4.14s/it]\n"
     ]
    },
    {
     "ename": "Exception",
     "evalue": "The (row, col) pair sent is out of range. Use Figure.print_grid to view the subplot grid. ",
     "output_type": "error",
     "traceback": [
      "\u001B[1;31m---------------------------------------------------------------------------\u001B[0m",
      "\u001B[1;31mIndexError\u001B[0m                                Traceback (most recent call last)",
      "File \u001B[1;32m~\\anaconda3\\envs\\geo_env\\Lib\\site-packages\\plotly\\_subplots.py:1383\u001B[0m, in \u001B[0;36m_set_trace_grid_reference\u001B[1;34m(trace, layout, grid_ref, row, col, secondary_y)\u001B[0m\n\u001B[0;32m   1382\u001B[0m \u001B[38;5;28;01mtry\u001B[39;00m:\n\u001B[1;32m-> 1383\u001B[0m     subplot_refs \u001B[38;5;241m=\u001B[39m \u001B[43mgrid_ref\u001B[49m\u001B[43m[\u001B[49m\u001B[43mrow\u001B[49m\u001B[43m \u001B[49m\u001B[38;5;241;43m-\u001B[39;49m\u001B[43m \u001B[49m\u001B[38;5;241;43m1\u001B[39;49m\u001B[43m]\u001B[49m[col \u001B[38;5;241m-\u001B[39m \u001B[38;5;241m1\u001B[39m]\n\u001B[0;32m   1384\u001B[0m \u001B[38;5;28;01mexcept\u001B[39;00m \u001B[38;5;167;01mIndexError\u001B[39;00m:\n",
      "\u001B[1;31mIndexError\u001B[0m: list index out of range",
      "\nDuring handling of the above exception, another exception occurred:\n",
      "\u001B[1;31mException\u001B[0m                                 Traceback (most recent call last)",
      "Cell \u001B[1;32mIn[50], line 25\u001B[0m\n\u001B[0;32m     23\u001B[0m \u001B[38;5;66;03m# 各時刻の散布図を追加\u001B[39;00m\n\u001B[0;32m     24\u001B[0m scatter_trace \u001B[38;5;241m=\u001B[39m go\u001B[38;5;241m.\u001B[39mScatter(x\u001B[38;5;241m=\u001B[39mresult[\u001B[38;5;124m'\u001B[39m\u001B[38;5;124msim_pop\u001B[39m\u001B[38;5;124m'\u001B[39m], y\u001B[38;5;241m=\u001B[39mresult[\u001B[38;5;124m'\u001B[39m\u001B[38;5;124mpopulation\u001B[39m\u001B[38;5;124m'\u001B[39m], mode\u001B[38;5;241m=\u001B[39m\u001B[38;5;124m'\u001B[39m\u001B[38;5;124mmarkers\u001B[39m\u001B[38;5;124m'\u001B[39m, name\u001B[38;5;241m=\u001B[39m\u001B[38;5;124mf\u001B[39m\u001B[38;5;124m\"\u001B[39m\u001B[38;5;132;01m{\u001B[39;00mHHMM[:\u001B[38;5;241m2\u001B[39m]\u001B[38;5;132;01m}\u001B[39;00m\u001B[38;5;124m:\u001B[39m\u001B[38;5;132;01m{\u001B[39;00mHHMM[\u001B[38;5;241m2\u001B[39m:]\u001B[38;5;132;01m}\u001B[39;00m\u001B[38;5;124m\"\u001B[39m)\n\u001B[1;32m---> 25\u001B[0m \u001B[43mfig\u001B[49m\u001B[38;5;241;43m.\u001B[39;49m\u001B[43madd_trace\u001B[49m\u001B[43m(\u001B[49m\u001B[43mscatter_trace\u001B[49m\u001B[43m,\u001B[49m\u001B[43m \u001B[49m\u001B[43mrow\u001B[49m\u001B[38;5;241;43m=\u001B[39;49m\u001B[43mrow\u001B[49m\u001B[43m,\u001B[49m\u001B[43m \u001B[49m\u001B[43mcol\u001B[49m\u001B[38;5;241;43m=\u001B[39;49m\u001B[43mcol\u001B[49m\u001B[43m)\u001B[49m\n\u001B[0;32m     27\u001B[0m \u001B[38;5;66;03m# x, y 軸の範囲を固定\u001B[39;00m\n\u001B[0;32m     28\u001B[0m fig\u001B[38;5;241m.\u001B[39mupdate_xaxes(\u001B[38;5;28mrange\u001B[39m\u001B[38;5;241m=\u001B[39m[\u001B[38;5;241m0\u001B[39m, max_value], row\u001B[38;5;241m=\u001B[39mrow, col\u001B[38;5;241m=\u001B[39mcol)\n",
      "File \u001B[1;32m~\\anaconda3\\envs\\geo_env\\Lib\\site-packages\\plotly\\graph_objs\\_figure.py:900\u001B[0m, in \u001B[0;36mFigure.add_trace\u001B[1;34m(self, trace, row, col, secondary_y, exclude_empty_subplots)\u001B[0m\n\u001B[0;32m    825\u001B[0m \u001B[38;5;28;01mdef\u001B[39;00m \u001B[38;5;21madd_trace\u001B[39m(\n\u001B[0;32m    826\u001B[0m     \u001B[38;5;28mself\u001B[39m, trace, row\u001B[38;5;241m=\u001B[39m\u001B[38;5;28;01mNone\u001B[39;00m, col\u001B[38;5;241m=\u001B[39m\u001B[38;5;28;01mNone\u001B[39;00m, secondary_y\u001B[38;5;241m=\u001B[39m\u001B[38;5;28;01mNone\u001B[39;00m, exclude_empty_subplots\u001B[38;5;241m=\u001B[39m\u001B[38;5;28;01mFalse\u001B[39;00m\n\u001B[0;32m    827\u001B[0m ) \u001B[38;5;241m-\u001B[39m\u001B[38;5;241m>\u001B[39m \u001B[38;5;124m\"\u001B[39m\u001B[38;5;124mFigure\u001B[39m\u001B[38;5;124m\"\u001B[39m:\n\u001B[0;32m    828\u001B[0m \u001B[38;5;250m    \u001B[39m\u001B[38;5;124;03m\"\"\"\u001B[39;00m\n\u001B[0;32m    829\u001B[0m \n\u001B[0;32m    830\u001B[0m \u001B[38;5;124;03m    Add a trace to the figure\u001B[39;00m\n\u001B[1;32m   (...)\u001B[0m\n\u001B[0;32m    898\u001B[0m \n\u001B[0;32m    899\u001B[0m \u001B[38;5;124;03m    \"\"\"\u001B[39;00m\n\u001B[1;32m--> 900\u001B[0m     \u001B[38;5;28;01mreturn\u001B[39;00m \u001B[38;5;28;43msuper\u001B[39;49m\u001B[43m(\u001B[49m\u001B[43mFigure\u001B[49m\u001B[43m,\u001B[49m\u001B[43m \u001B[49m\u001B[38;5;28;43mself\u001B[39;49m\u001B[43m)\u001B[49m\u001B[38;5;241;43m.\u001B[39;49m\u001B[43madd_trace\u001B[49m\u001B[43m(\u001B[49m\n\u001B[0;32m    901\u001B[0m \u001B[43m        \u001B[49m\u001B[43mtrace\u001B[49m\u001B[43m,\u001B[49m\u001B[43m \u001B[49m\u001B[43mrow\u001B[49m\u001B[43m,\u001B[49m\u001B[43m \u001B[49m\u001B[43mcol\u001B[49m\u001B[43m,\u001B[49m\u001B[43m \u001B[49m\u001B[43msecondary_y\u001B[49m\u001B[43m,\u001B[49m\u001B[43m \u001B[49m\u001B[43mexclude_empty_subplots\u001B[49m\n\u001B[0;32m    902\u001B[0m \u001B[43m    \u001B[49m\u001B[43m)\u001B[49m\n",
      "File \u001B[1;32m~\\anaconda3\\envs\\geo_env\\Lib\\site-packages\\plotly\\basedatatypes.py:2106\u001B[0m, in \u001B[0;36mBaseFigure.add_trace\u001B[1;34m(self, trace, row, col, secondary_y, exclude_empty_subplots)\u001B[0m\n\u001B[0;32m   2097\u001B[0m         \u001B[38;5;28mself\u001B[39m\u001B[38;5;241m.\u001B[39madd_trace(\n\u001B[0;32m   2098\u001B[0m             trace,\n\u001B[0;32m   2099\u001B[0m             row\u001B[38;5;241m=\u001B[39mr,\n\u001B[1;32m   (...)\u001B[0m\n\u001B[0;32m   2102\u001B[0m             exclude_empty_subplots\u001B[38;5;241m=\u001B[39mexclude_empty_subplots,\n\u001B[0;32m   2103\u001B[0m         )\n\u001B[0;32m   2104\u001B[0m     \u001B[38;5;28;01mreturn\u001B[39;00m \u001B[38;5;28mself\u001B[39m\n\u001B[1;32m-> 2106\u001B[0m \u001B[38;5;28;01mreturn\u001B[39;00m \u001B[38;5;28;43mself\u001B[39;49m\u001B[38;5;241;43m.\u001B[39;49m\u001B[43madd_traces\u001B[49m\u001B[43m(\u001B[49m\n\u001B[0;32m   2107\u001B[0m \u001B[43m    \u001B[49m\u001B[43mdata\u001B[49m\u001B[38;5;241;43m=\u001B[39;49m\u001B[43m[\u001B[49m\u001B[43mtrace\u001B[49m\u001B[43m]\u001B[49m\u001B[43m,\u001B[49m\n\u001B[0;32m   2108\u001B[0m \u001B[43m    \u001B[49m\u001B[43mrows\u001B[49m\u001B[38;5;241;43m=\u001B[39;49m\u001B[43m[\u001B[49m\u001B[43mrow\u001B[49m\u001B[43m]\u001B[49m\u001B[43m \u001B[49m\u001B[38;5;28;43;01mif\u001B[39;49;00m\u001B[43m \u001B[49m\u001B[43mrow\u001B[49m\u001B[43m \u001B[49m\u001B[38;5;129;43;01mis\u001B[39;49;00m\u001B[43m \u001B[49m\u001B[38;5;129;43;01mnot\u001B[39;49;00m\u001B[43m \u001B[49m\u001B[38;5;28;43;01mNone\u001B[39;49;00m\u001B[43m \u001B[49m\u001B[38;5;28;43;01melse\u001B[39;49;00m\u001B[43m \u001B[49m\u001B[38;5;28;43;01mNone\u001B[39;49;00m\u001B[43m,\u001B[49m\n\u001B[0;32m   2109\u001B[0m \u001B[43m    \u001B[49m\u001B[43mcols\u001B[49m\u001B[38;5;241;43m=\u001B[39;49m\u001B[43m[\u001B[49m\u001B[43mcol\u001B[49m\u001B[43m]\u001B[49m\u001B[43m \u001B[49m\u001B[38;5;28;43;01mif\u001B[39;49;00m\u001B[43m \u001B[49m\u001B[43mcol\u001B[49m\u001B[43m \u001B[49m\u001B[38;5;129;43;01mis\u001B[39;49;00m\u001B[43m \u001B[49m\u001B[38;5;129;43;01mnot\u001B[39;49;00m\u001B[43m \u001B[49m\u001B[38;5;28;43;01mNone\u001B[39;49;00m\u001B[43m \u001B[49m\u001B[38;5;28;43;01melse\u001B[39;49;00m\u001B[43m \u001B[49m\u001B[38;5;28;43;01mNone\u001B[39;49;00m\u001B[43m,\u001B[49m\n\u001B[0;32m   2110\u001B[0m \u001B[43m    \u001B[49m\u001B[43msecondary_ys\u001B[49m\u001B[38;5;241;43m=\u001B[39;49m\u001B[43m[\u001B[49m\u001B[43msecondary_y\u001B[49m\u001B[43m]\u001B[49m\u001B[43m \u001B[49m\u001B[38;5;28;43;01mif\u001B[39;49;00m\u001B[43m \u001B[49m\u001B[43msecondary_y\u001B[49m\u001B[43m \u001B[49m\u001B[38;5;129;43;01mis\u001B[39;49;00m\u001B[43m \u001B[49m\u001B[38;5;129;43;01mnot\u001B[39;49;00m\u001B[43m \u001B[49m\u001B[38;5;28;43;01mNone\u001B[39;49;00m\u001B[43m \u001B[49m\u001B[38;5;28;43;01melse\u001B[39;49;00m\u001B[43m \u001B[49m\u001B[38;5;28;43;01mNone\u001B[39;49;00m\u001B[43m,\u001B[49m\n\u001B[0;32m   2111\u001B[0m \u001B[43m    \u001B[49m\u001B[43mexclude_empty_subplots\u001B[49m\u001B[38;5;241;43m=\u001B[39;49m\u001B[43mexclude_empty_subplots\u001B[49m\u001B[43m,\u001B[49m\n\u001B[0;32m   2112\u001B[0m \u001B[43m\u001B[49m\u001B[43m)\u001B[49m\n",
      "File \u001B[1;32m~\\anaconda3\\envs\\geo_env\\Lib\\site-packages\\plotly\\graph_objs\\_figure.py:980\u001B[0m, in \u001B[0;36mFigure.add_traces\u001B[1;34m(self, data, rows, cols, secondary_ys, exclude_empty_subplots)\u001B[0m\n\u001B[0;32m    904\u001B[0m \u001B[38;5;28;01mdef\u001B[39;00m \u001B[38;5;21madd_traces\u001B[39m(\n\u001B[0;32m    905\u001B[0m     \u001B[38;5;28mself\u001B[39m,\n\u001B[0;32m    906\u001B[0m     data,\n\u001B[1;32m   (...)\u001B[0m\n\u001B[0;32m    910\u001B[0m     exclude_empty_subplots\u001B[38;5;241m=\u001B[39m\u001B[38;5;28;01mFalse\u001B[39;00m,\n\u001B[0;32m    911\u001B[0m ) \u001B[38;5;241m-\u001B[39m\u001B[38;5;241m>\u001B[39m \u001B[38;5;124m\"\u001B[39m\u001B[38;5;124mFigure\u001B[39m\u001B[38;5;124m\"\u001B[39m:\n\u001B[0;32m    912\u001B[0m \u001B[38;5;250m    \u001B[39m\u001B[38;5;124;03m\"\"\"\u001B[39;00m\n\u001B[0;32m    913\u001B[0m \n\u001B[0;32m    914\u001B[0m \u001B[38;5;124;03m    Add traces to the figure\u001B[39;00m\n\u001B[1;32m   (...)\u001B[0m\n\u001B[0;32m    978\u001B[0m \n\u001B[0;32m    979\u001B[0m \u001B[38;5;124;03m    \"\"\"\u001B[39;00m\n\u001B[1;32m--> 980\u001B[0m     \u001B[38;5;28;01mreturn\u001B[39;00m \u001B[38;5;28;43msuper\u001B[39;49m\u001B[43m(\u001B[49m\u001B[43mFigure\u001B[49m\u001B[43m,\u001B[49m\u001B[43m \u001B[49m\u001B[38;5;28;43mself\u001B[39;49m\u001B[43m)\u001B[49m\u001B[38;5;241;43m.\u001B[39;49m\u001B[43madd_traces\u001B[49m\u001B[43m(\u001B[49m\n\u001B[0;32m    981\u001B[0m \u001B[43m        \u001B[49m\u001B[43mdata\u001B[49m\u001B[43m,\u001B[49m\u001B[43m \u001B[49m\u001B[43mrows\u001B[49m\u001B[43m,\u001B[49m\u001B[43m \u001B[49m\u001B[43mcols\u001B[49m\u001B[43m,\u001B[49m\u001B[43m \u001B[49m\u001B[43msecondary_ys\u001B[49m\u001B[43m,\u001B[49m\u001B[43m \u001B[49m\u001B[43mexclude_empty_subplots\u001B[49m\n\u001B[0;32m    982\u001B[0m \u001B[43m    \u001B[49m\u001B[43m)\u001B[49m\n",
      "File \u001B[1;32m~\\anaconda3\\envs\\geo_env\\Lib\\site-packages\\plotly\\basedatatypes.py:2236\u001B[0m, in \u001B[0;36mBaseFigure.add_traces\u001B[1;34m(self, data, rows, cols, secondary_ys, exclude_empty_subplots)\u001B[0m\n\u001B[0;32m   2234\u001B[0m \u001B[38;5;28;01mif\u001B[39;00m rows \u001B[38;5;129;01mis\u001B[39;00m \u001B[38;5;129;01mnot\u001B[39;00m \u001B[38;5;28;01mNone\u001B[39;00m:\n\u001B[0;32m   2235\u001B[0m     \u001B[38;5;28;01mfor\u001B[39;00m trace, row, col, secondary_y \u001B[38;5;129;01min\u001B[39;00m \u001B[38;5;28mzip\u001B[39m(data, rows, cols, secondary_ys):\n\u001B[1;32m-> 2236\u001B[0m         \u001B[38;5;28;43mself\u001B[39;49m\u001B[38;5;241;43m.\u001B[39;49m\u001B[43m_set_trace_grid_position\u001B[49m\u001B[43m(\u001B[49m\u001B[43mtrace\u001B[49m\u001B[43m,\u001B[49m\u001B[43m \u001B[49m\u001B[43mrow\u001B[49m\u001B[43m,\u001B[49m\u001B[43m \u001B[49m\u001B[43mcol\u001B[49m\u001B[43m,\u001B[49m\u001B[43m \u001B[49m\u001B[43msecondary_y\u001B[49m\u001B[43m)\u001B[49m\n\u001B[0;32m   2238\u001B[0m \u001B[38;5;28;01mif\u001B[39;00m exclude_empty_subplots:\n\u001B[0;32m   2239\u001B[0m     data \u001B[38;5;241m=\u001B[39m \u001B[38;5;28mlist\u001B[39m(\n\u001B[0;32m   2240\u001B[0m         \u001B[38;5;28mfilter\u001B[39m(\n\u001B[0;32m   2241\u001B[0m             \u001B[38;5;28;01mlambda\u001B[39;00m trace: \u001B[38;5;28mself\u001B[39m\u001B[38;5;241m.\u001B[39m_subplot_not_empty(\n\u001B[1;32m   (...)\u001B[0m\n\u001B[0;32m   2245\u001B[0m         )\n\u001B[0;32m   2246\u001B[0m     )\n",
      "File \u001B[1;32m~\\anaconda3\\envs\\geo_env\\Lib\\site-packages\\plotly\\basedatatypes.py:2328\u001B[0m, in \u001B[0;36mBaseFigure._set_trace_grid_position\u001B[1;34m(self, trace, row, col, secondary_y)\u001B[0m\n\u001B[0;32m   2325\u001B[0m \u001B[38;5;28;01mfrom\u001B[39;00m \u001B[38;5;21;01mplotly\u001B[39;00m\u001B[38;5;21;01m.\u001B[39;00m\u001B[38;5;21;01m_subplots\u001B[39;00m \u001B[38;5;28;01mimport\u001B[39;00m _set_trace_grid_reference\n\u001B[0;32m   2327\u001B[0m grid_ref \u001B[38;5;241m=\u001B[39m \u001B[38;5;28mself\u001B[39m\u001B[38;5;241m.\u001B[39m_validate_get_grid_ref()\n\u001B[1;32m-> 2328\u001B[0m \u001B[38;5;28;01mreturn\u001B[39;00m \u001B[43m_set_trace_grid_reference\u001B[49m\u001B[43m(\u001B[49m\n\u001B[0;32m   2329\u001B[0m \u001B[43m    \u001B[49m\u001B[43mtrace\u001B[49m\u001B[43m,\u001B[49m\u001B[43m \u001B[49m\u001B[38;5;28;43mself\u001B[39;49m\u001B[38;5;241;43m.\u001B[39;49m\u001B[43mlayout\u001B[49m\u001B[43m,\u001B[49m\u001B[43m \u001B[49m\u001B[43mgrid_ref\u001B[49m\u001B[43m,\u001B[49m\u001B[43m \u001B[49m\u001B[43mrow\u001B[49m\u001B[43m,\u001B[49m\u001B[43m \u001B[49m\u001B[43mcol\u001B[49m\u001B[43m,\u001B[49m\u001B[43m \u001B[49m\u001B[43msecondary_y\u001B[49m\n\u001B[0;32m   2330\u001B[0m \u001B[43m\u001B[49m\u001B[43m)\u001B[49m\n",
      "File \u001B[1;32m~\\anaconda3\\envs\\geo_env\\Lib\\site-packages\\plotly\\_subplots.py:1385\u001B[0m, in \u001B[0;36m_set_trace_grid_reference\u001B[1;34m(trace, layout, grid_ref, row, col, secondary_y)\u001B[0m\n\u001B[0;32m   1383\u001B[0m         subplot_refs \u001B[38;5;241m=\u001B[39m grid_ref[row \u001B[38;5;241m-\u001B[39m \u001B[38;5;241m1\u001B[39m][col \u001B[38;5;241m-\u001B[39m \u001B[38;5;241m1\u001B[39m]\n\u001B[0;32m   1384\u001B[0m     \u001B[38;5;28;01mexcept\u001B[39;00m \u001B[38;5;167;01mIndexError\u001B[39;00m:\n\u001B[1;32m-> 1385\u001B[0m         \u001B[38;5;28;01mraise\u001B[39;00m \u001B[38;5;167;01mException\u001B[39;00m(\n\u001B[0;32m   1386\u001B[0m             \u001B[38;5;124m\"\u001B[39m\u001B[38;5;124mThe (row, col) pair sent is out of \u001B[39m\u001B[38;5;124m\"\u001B[39m\n\u001B[0;32m   1387\u001B[0m             \u001B[38;5;124m\"\u001B[39m\u001B[38;5;124mrange. Use Figure.print_grid to view the \u001B[39m\u001B[38;5;124m\"\u001B[39m\n\u001B[0;32m   1388\u001B[0m             \u001B[38;5;124m\"\u001B[39m\u001B[38;5;124msubplot grid. \u001B[39m\u001B[38;5;124m\"\u001B[39m\n\u001B[0;32m   1389\u001B[0m         )\n\u001B[0;32m   1391\u001B[0m     \u001B[38;5;28;01mif\u001B[39;00m \u001B[38;5;129;01mnot\u001B[39;00m subplot_refs:\n\u001B[0;32m   1392\u001B[0m         \u001B[38;5;28;01mraise\u001B[39;00m \u001B[38;5;167;01mValueError\u001B[39;00m(\n\u001B[0;32m   1393\u001B[0m \u001B[38;5;250m            \u001B[39m\u001B[38;5;124;03m\"\"\"\u001B[39;00m\n\u001B[0;32m   1394\u001B[0m \u001B[38;5;124;03mNo subplot specified at grid position ({row}, {col})\"\"\"\u001B[39;00m\u001B[38;5;241m.\u001B[39mformat(\n\u001B[0;32m   1395\u001B[0m                 row\u001B[38;5;241m=\u001B[39mrow, col\u001B[38;5;241m=\u001B[39mcol\n\u001B[0;32m   1396\u001B[0m             )\n\u001B[0;32m   1397\u001B[0m         )\n",
      "\u001B[1;31mException\u001B[0m: The (row, col) pair sent is out of range. Use Figure.print_grid to view the subplot grid. "
     ]
    }
   ],
   "source": [
    "# 7x3のサブプロットを作成\n",
    "fig = make_subplots(rows=7, cols=3, subplot_titles=subplot_titles,\n",
    "                    vertical_spacing=0.05, horizontal_spacing=0.05)  # 間隔を調整\n",
    "\n",
    "# 行列位置を追跡するためのカウンタ\n",
    "row, col = 1, 1\n",
    "\n",
    "# 各時刻のデータに対して散布図をプロット\n",
    "for idx, HHMM in enumerate(tqdm(NTT_TIME_LIST)):\n",
    "    df = pd.read_csv(DIR_MOBILE + f\"{HHMM}.csv\", dtype={\"KEY_CODE\": str, \"time\": str, \"population\": int})\n",
    "\n",
    "    location_count = gpd.sjoin(latlonTable2GDF(location, \"Latitude\", \"Longitude\"), mesh_poly, how=\"left\", predicate=\"intersects\")\n",
    "    location_count = location_count.filter(items=[\"KEY_CODE\", \"NttTime\", \"PersonId\"]).groupby([\"KEY_CODE\", \"NttTime\"], as_index=False).count()\n",
    "    location_count = location_count.set_axis([\"mesh_code\", \"ntt_time\", \"sim_pop\"], axis=1).query(\"ntt_time == @HHMM\")\n",
    "\n",
    "    result = pd.merge(df, location_count, left_on=\"KEY_CODE\", right_on=\"mesh_code\", how=\"left\").filter([\"KEY_CODE\", \"population\", \"sim_pop\"])\n",
    "    result[\"sim_pop\"] = result[\"sim_pop\"].fillna(0.0)\n",
    "\n",
    "    # 列と行の更新（5x5グリッド）\n",
    "    row = (idx // 3) + 1\n",
    "    col = (idx % 3) + 1\n",
    "    \n",
    "    # 各時刻の散布図を追加\n",
    "    scatter_trace = go.Scatter(x=result['sim_pop'], y=result['population'], mode='markers', name=f\"{HHMM[:2]}:{HHMM[2:]}\")\n",
    "    fig.add_trace(scatter_trace, row=row, col=col)\n",
    "\n",
    "    # x, y 軸の範囲を固定\n",
    "    fig.update_xaxes(range=[0, max_value], row=row, col=col)\n",
    "    fig.update_yaxes(range=[0, max_value], row=row, col=col)\n",
    "\n",
    "# グラフ全体のタイトル設定\n",
    "fig.update_layout(\n",
    "    annotations=[\n",
    "        dict(\n",
    "            x=0.5,  # 横方向の中央\n",
    "            y=-0.15,  # 縦方向、少し下に配置\n",
    "            xref='paper',\n",
    "            yref='paper',\n",
    "            showarrow=False,\n",
    "            text=\"シミュレーション値（人）\",\n",
    "            font=dict(size=16)\n",
    "        ),\n",
    "        dict(\n",
    "            x=-0.15,\n",
    "            y=0.5,\n",
    "            xref='paper',\n",
    "            yref='paper',\n",
    "            showarrow=False,\n",
    "            text=\"モバイル空間統計（人）\",\n",
    "            font=dict(size=16),\n",
    "            textangle=-90  # 縦向きに回転\n",
    "        )\n",
    "    ],\n",
    "    height=1000, width=1000,  # グラフのサイズも調整して有効活用\n",
    "    showlegend=False\n",
    ")\n",
    "\n",
    "# グラフを保存\n",
    "fig.write_html(f\"Z:/lab/SSI2024_検証/chart/相関図/seed_{seed}-no_{noOfPeople}-correlation_plots_7×3_add_label.html\")\n",
    "fig"
   ],
   "metadata": {
    "collapsed": false,
    "ExecuteTime": {
     "end_time": "2024-09-29T08:44:09.834545300Z",
     "start_time": "2024-09-29T08:42:42.596168500Z"
    }
   },
   "id": "8e59a9fcfd98e1ec"
  },
  {
   "cell_type": "code",
   "execution_count": 44,
   "outputs": [
    {
     "ename": "SyntaxError",
     "evalue": "closing parenthesis '}' does not match opening parenthesis '(' on line 39 (3602306343.py, line 44)",
     "output_type": "error",
     "traceback": [
      "\u001B[1;36m  Cell \u001B[1;32mIn[44], line 44\u001B[1;36m\u001B[0m\n\u001B[1;33m    }\u001B[0m\n\u001B[1;37m    ^\u001B[0m\n\u001B[1;31mSyntaxError\u001B[0m\u001B[1;31m:\u001B[0m closing parenthesis '}' does not match opening parenthesis '(' on line 39\n"
     ]
    }
   ],
   "source": [
    "# 各時刻のデータに対して個別の相関図を出力\n",
    "for HHMM in tqdm(NTT_TIME_LIST):\n",
    "    df = pd.read_csv(DIR_MOBILE + f\"{HHMM}.csv\", dtype={\"KEY_CODE\": str, \"time\": str, \"population\": int})\n",
    "\n",
    "    location_count = gpd.sjoin(latlonTable2GDF(location, \"Latitude\", \"Longitude\"), mesh_poly, how=\"left\", predicate=\"intersects\")\n",
    "    location_count = location_count.filter(items=[\"KEY_CODE\", \"NttTime\", \"PersonId\"]).groupby([\"KEY_CODE\", \"NttTime\"], as_index=False).count()\n",
    "    location_count = location_count.set_axis([\"mesh_code\", \"ntt_time\", \"sim_pop\"], axis=1).query(\"ntt_time == @HHMM\")\n",
    "\n",
    "    result = pd.merge(df, location_count, left_on=\"KEY_CODE\", right_on=\"mesh_code\", how=\"left\").filter([\"KEY_CODE\", \"population\", \"sim_pop\"])\n",
    "    result[\"sim_pop\"] = result[\"sim_pop\"].fillna(0.0)\n",
    "\n",
    "    # 各時刻のデータのx, yの最大値を計算\n",
    "    max_value = max(result[\"sim_pop\"].max(), result[\"population\"].max())\n",
    "\n",
    "    # 相関係数の計算\n",
    "    corr_value = result['population'].corr(result['sim_pop'])\n",
    "\n",
    "    # 各時刻の散布図を作成\n",
    "    fig = go.Figure()\n",
    "\n",
    "    scatter_trace = go.Scatter(x=result['sim_pop'], y=result['population'], mode='markers', name=f\"{HHMM[:2]}:{HHMM[2:]}\")\n",
    "    fig.add_trace(scatter_trace)\n",
    "\n",
    "    # x, y 軸の範囲を固定 (0から各時刻の最大値まで)\n",
    "    fig.update_xaxes(range=[0, max_value])\n",
    "    fig.update_yaxes(range=[0, max_value])\n",
    "\n",
    "    # グラフのタイトルを相関係数付きで設定\n",
    "    fig.update_layout(\n",
    "        title_text=f\"相関図 {HHMM[:2]}:{HHMM[2:]} (Corr: {corr_value:.3f})\",\n",
    "        xaxis_title=\"シミュレーション値\",\n",
    "        yaxis_title=\"モバイル空間統計\",\n",
    "        height=600,\n",
    "        width=600,\n",
    "        showlegend=False\n",
    "    )\n",
    "    \n",
    "\n",
    "    # グラフを保存\n",
    "    fig.write_html(f\"Z:/lab/SSI2024_検証/chart/相関図/seed_{seed}-no_{noOfPeople}-correlation_plots_{HHMM}.html\")\n"
   ],
   "metadata": {
    "collapsed": false,
    "ExecuteTime": {
     "end_time": "2024-09-29T08:17:16.013258Z",
     "start_time": "2024-09-29T08:17:15.935046200Z"
    }
   },
   "id": "30c14c3353a7e8bc"
  },
  {
   "cell_type": "code",
   "execution_count": 41,
   "outputs": [
    {
     "name": "stderr",
     "output_type": "stream",
     "text": [
      "100%|██████████| 24/24 [01:32<00:00,  3.85s/it]\n"
     ]
    }
   ],
   "source": [
    "## 相関係数の折れ線グラフ\n",
    "corr_s = []\n",
    "for HHMM in tqdm(NTT_TIME_LIST):\n",
    "    df = pd.read_csv(DIR_MOBILE + f\"{HHMM}.csv\", dtype={\"KEY_CODE\": str, \"time\": str, \"population\": int})\n",
    "\n",
    "    location_count = gpd.sjoin(latlonTable2GDF(location, \"Latitude\", \"Longitude\"), mesh_poly, how=\"left\", predicate=\"intersects\")\n",
    "    location_count = location_count.filter(items=[\"KEY_CODE\", \"NttTime\", \"PersonId\"]).groupby([\"KEY_CODE\", \"NttTime\"], as_index=False).count()\n",
    "    location_count = location_count.set_axis([\"mesh_code\", \"ntt_time\", \"sim_pop\"], axis=1).query(\"ntt_time == @HHMM\")\n",
    "\n",
    "    result = pd.merge(df, location_count, left_on=\"KEY_CODE\", right_on=\"mesh_code\", how=\"left\").filter([\"KEY_CODE\", \"population\", \"sim_pop\"])\n",
    "    result[\"sim_pop\"] = result[\"sim_pop\"].fillna(0.0)\n",
    "\n",
    "    # 相関係数の計算\n",
    "    corr_value = result['population'].corr(result['sim_pop'])\n",
    "    corr_s.append((HHMM,corr_value))"
   ],
   "metadata": {
    "collapsed": false,
    "ExecuteTime": {
     "end_time": "2024-09-28T04:29:00.585050200Z",
     "start_time": "2024-09-28T04:27:28.063757900Z"
    }
   },
   "id": "7cc3ae0594c9f13a"
  },
  {
   "cell_type": "code",
   "execution_count": 30,
   "outputs": [
    {
     "name": "stdout",
     "output_type": "stream",
     "text": [
      "[('0000', 0.9325290195771836), ('0100', 0.9312377745093523), ('0200', 0.9337450710754305), ('0300', 0.9357898991287035), ('0400', 0.9342556388200544), ('0500', 0.9504296911732172), ('0600', 0.8305619480064528), ('0700', 0.7255960556662129), ('0800', 0.4760842139524341), ('0900', 0.6398410174939843), ('1000', 0.5456440552129626), ('1100', 0.4274700153427039), ('1200', 0.25198443990838776), ('1300', 0.4122400739515708), ('1400', 0.35839101491483677), ('1500', 0.44032590547276573), ('1600', 0.24364017006897196), ('1700', 0.38880243297149514), ('1800', 0.3865434397025216), ('1900', 0.43566082825464714), ('2000', 0.55762608923348), ('2100', 0.6581296856854868), ('2200', 0.7921972796445244), ('2300', 0.837413727426291)]\n"
     ]
    }
   ],
   "source": [
    "print(corr_s)"
   ],
   "metadata": {
    "collapsed": false,
    "ExecuteTime": {
     "end_time": "2024-09-27T18:55:07.305917Z",
     "start_time": "2024-09-27T18:55:07.284155Z"
    }
   },
   "id": "bcd2fb8c82674ac2"
  },
  {
   "cell_type": "code",
   "execution_count": 43,
   "outputs": [],
   "source": [
    "corr = pd.DataFrame(corr_s).set_axis([\"時刻\",\"相関係数\"],axis=1)\n",
    "corr[\"時刻\"] = corr[\"時刻\"].apply(lambda x:x[:2]+\":\"+x[2:])\n",
    "fig = px.line(corr,x=\"時刻\",y=\"相関係数\",range_y=[0,1])\n",
    "fig.write_html(f\"Z:/lab/SSI2024_検証/chart/相関図/seed_{seed}-no_{noOfPeople}-Corr_line_chart.html\")"
   ],
   "metadata": {
    "collapsed": false,
    "ExecuteTime": {
     "end_time": "2024-09-28T04:30:39.753559900Z",
     "start_time": "2024-09-28T04:30:38.129347800Z"
    }
   },
   "id": "f704e349b3f0ae00"
  },
  {
   "cell_type": "code",
   "execution_count": null,
   "outputs": [],
   "source": [],
   "metadata": {
    "collapsed": false
   },
   "id": "449e97f271776e6b"
  }
 ],
 "metadata": {
  "kernelspec": {
   "display_name": "Python 3",
   "language": "python",
   "name": "python3"
  },
  "language_info": {
   "codemirror_mode": {
    "name": "ipython",
    "version": 2
   },
   "file_extension": ".py",
   "mimetype": "text/x-python",
   "name": "python",
   "nbconvert_exporter": "python",
   "pygments_lexer": "ipython2",
   "version": "2.7.6"
  }
 },
 "nbformat": 4,
 "nbformat_minor": 5
}
