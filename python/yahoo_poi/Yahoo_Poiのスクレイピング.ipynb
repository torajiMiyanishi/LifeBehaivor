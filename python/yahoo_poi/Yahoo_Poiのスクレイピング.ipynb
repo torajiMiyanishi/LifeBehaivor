{
 "cells": [
  {
   "cell_type": "code",
   "execution_count": 128,
   "id": "00cd88c9-83a1-47fa-951e-1ebcd6bcd7a6",
   "metadata": {
    "ExecuteTime": {
     "end_time": "2024-09-22T10:55:53.206413600Z",
     "start_time": "2024-09-22T10:55:53.166527600Z"
    }
   },
   "outputs": [],
   "source": [
    "import requests\n",
    "import glob\n",
    "import sys\n",
    "import csv\n",
    "import os\n",
    "import time\n",
    "import pandas as pd\n",
    "from tqdm import tqdm\n",
    "import os\n",
    "import sqlite3\n",
    "# from sqlalchemy import create_engine, Table, MetaData, text\n",
    "import numpy as np"
   ]
  },
  {
   "cell_type": "code",
   "execution_count": 35,
   "id": "b1e57a9d-33c9-4022-b1cd-06a9e9a3757b",
   "metadata": {
    "ExecuteTime": {
     "end_time": "2024-09-22T07:26:17.023468900Z",
     "start_time": "2024-09-22T07:26:17.012467200Z"
    }
   },
   "outputs": [],
   "source": [
    "pd.set_option(\"display.max_columns\",100)"
   ]
  },
  {
   "cell_type": "code",
   "execution_count": 36,
   "id": "5b530cc1-368c-4033-83ce-c54c699c75ff",
   "metadata": {
    "ExecuteTime": {
     "end_time": "2024-09-22T07:26:17.521543Z",
     "start_time": "2024-09-22T07:26:17.428465Z"
    }
   },
   "outputs": [],
   "source": [
    "# jcode=pd.read_csv(\"Z:/都市構造データ/yahoopoi/jcode.csv\",encoding=\"shift-jis\",dtype=object)\n",
    "JCODE = \"47207\"\n",
    "# ベースとなるURL\n",
    "API_KEY = \"dj00aiZpPUlqUGhLTkRONXZDbiZzPWNvbnN1bWVyc2VjcmV0Jng9NDM-\"  # ここにAPIキーを直接記述してください\n",
    "\n",
    "#genreの台帳作成\n",
    "genre=pd.read_csv(\"Y:/都市構造データ/yahoopoi/genre.csv\",dtype=object)\n",
    "genre[\"genre_name\"]=genre[\"業種名1\"]+\"_\"+genre[\"業種名2\"]+\"_\"+genre[\"業種名3\"]\n",
    "genre_dict=dict(zip(genre.業種コード3,genre.genre_name))\n",
    "#genreを選択\n",
    "genre_code1=genre[genre[\"業種コード1\"]==\"01\"]\n",
    "genre_list=list(genre_code1[\"業種コード3\"])"
   ]
  },
  {
   "cell_type": "code",
   "execution_count": 78,
   "outputs": [],
   "source": [
    "# データ取得用の関数\n",
    "def fetch_data(params_02, total_num):\n",
    "    base_url = \"https://map.yahooapis.jp/search/local/V1/localSearch\"\n",
    "    max_return = 100  # APIの仕様では一回のリクエストにつき100件まで取得可能\n",
    "    pages = (int(total_num) // int(max_return)) + 1  # 全件を取得するために必要なリクエスト回数を算定\n",
    "\n",
    "    params_02['results'] = max_return  # 全件取得用のパラメータを設定\n",
    "\n",
    "    Records = []  # 取得データを格納するための空リストを用意\n",
    "\n",
    "    # 全件取得するためのループ処理\n",
    "    for i in range(pages):\n",
    "        i_startRecord = 1 + (i * int(max_return))\n",
    "        params_02['start'] = i_startRecord\n",
    "        response_02 = requests.get(base_url, params=params_02)\n",
    "\n",
    "        # レスポンスのステータスが200＝正常取得だった場合の処理\n",
    "        if response_02.status_code == 200:\n",
    "            try:\n",
    "                jsonData_02 = response_02.json()  # レスポンスをJSONデータとして格納する\n",
    "            except ValueError:\n",
    "                # print(\"エラー: レスポンスデータの解析処理に失敗しました。\")\n",
    "                continue\n",
    "        else:\n",
    "            # print(\"エラー:\", response_02.status_code)\n",
    "            continue\n",
    "\n",
    "        # JSONデータ内の各要素をそのままリストに格納する\n",
    "        for poi in jsonData_02.get('Feature', []):\n",
    "            Records.append(poi)\n",
    "\n",
    "        sys.stdout.flush()\n",
    "        time.sleep(0.5)\n",
    "\n",
    "    return Records\n",
    "\n",
    "# フラット化\n",
    "def flatten(d, parent_key='', sep='.'):\n",
    "    items = []\n",
    "    for k, v in d.items():\n",
    "        #列名の生成\n",
    "        new_key = parent_key + sep + k if parent_key else k\n",
    "        # 辞書型項目のフラット化\n",
    "        if isinstance(v, dict):\n",
    "            items.extend(flatten(v, new_key, sep=sep).items())\n",
    "        # リスト項目のフラット化\n",
    "        elif isinstance(v, list):\n",
    "            new_key_tmp = new_key\n",
    "            for i, elm in enumerate(v):\n",
    "                new_key = new_key_tmp + sep + str(i)\n",
    "                # リストの中の辞書\n",
    "                if isinstance(elm, dict):\n",
    "                    items.extend(flatten(elm, new_key, sep=sep).items())\n",
    "                # 単なるリスト\n",
    "                else:\n",
    "                    items.append((new_key, elm))\n",
    "        # 値追加\n",
    "        else:\n",
    "            items.append((new_key, v))\n",
    "    return dict(items)\n",
    "def scraping_jcode(category_code, api_key, jcode):\n",
    "    base_url = \"https://map.yahooapis.jp/search/local/V1/localSearch\"\n",
    "    # URLパラメータ用の辞書を用意\n",
    "    params_01 = {\n",
    "        \"appid\": api_key,\n",
    "        \"results\": 1,\n",
    "        \"output\": \"json\",\n",
    "        \"gc\": category_code\n",
    "    }\n",
    "    params_02 = {\n",
    "        \"appid\": api_key,\n",
    "        \"sort\": \"kana\",\n",
    "        \"output\": \"json\",\n",
    "        \"gc\": category_code,\n",
    "        \"detail\": \"full\"  # すべての詳細項目を取得\n",
    "    }\n",
    "\n",
    "    params_01['ac'] = jcode\n",
    "    params_02['ac'] = jcode\n",
    "\n",
    "\n",
    "    # ヒット件数の確認用のリクエストを投げる処理\n",
    "    try:\n",
    "        response_01 = requests.get(base_url, params=params_01)\n",
    "        jsonData_01 = response_01.json()\n",
    "        total_num_each = jsonData_01[\"ResultInfo\"][\"Total\"]\n",
    "    except ValueError:\n",
    "        pass\n",
    "    \n",
    "    # ヒット件数が0件以上かつ取得条件の3100件以内だった場合は取得処理を実行\n",
    "    if total_num_each > 3100:\n",
    "        print(f\"データ取得上限の件数を超えているため、取得処理をスキップします。\")\n",
    "    elif total_num_each > 0:\n",
    "        r = fetch_data(params_02, total_num_each)\n",
    "        # フラット化\n",
    "        dlist = [flatten(di) for di in r]\n",
    "        df = pd.DataFrame.from_dict(dlist)\n",
    "\n",
    "\n",
    "        col = ['Id', 'Gid', 'Name', 'Geometry.Coordinates', 'Property.Uid', 'Property.Yomi',\n",
    "               'Property.Country.Code', 'Property.Country.Name', 'Property.Address',\n",
    "               'Property.GovernmentCode', 'Property.Tel1', 'Property.Genre.0.Code',\n",
    "               'Property.Genre.0.Name', 'Property.Building.0.Id', 'Property.Building.0.Name',\n",
    "               'Property.Building.0.Floor', 'Property.Building.0.Area']\n",
    "\n",
    "\n",
    "\n",
    "        rename_col = ['Id', 'Gid', 'Name', 'Geometry', 'Uid', 'Yomi', 'CountryCode',\n",
    "                      'CountryName', 'Address', 'GovernmentCode', 'Tel', 'GenreCode',\n",
    "                      'GenreName', 'BuildingId', 'BuildingName', 'BuildingFloor',\n",
    "                      'BuildingArea']\n",
    "        for c in col:\n",
    "            if c in list(df.columns):\n",
    "                pass\n",
    "            else:\n",
    "                df[c]=np.nan\n",
    "\n",
    "        df_ = df[col].rename(columns=dict(zip(col, rename_col)))\n",
    "        df_[\"X\"] = df_[\"Geometry\"].apply(lambda x: x.split(\",\")[0])\n",
    "        df_[\"Y\"] = df_[\"Geometry\"].apply(lambda x: x.split(\",\")[1])\n",
    "\n",
    "        # データを追加\n",
    "        #df_.to_csv(output_name)\n",
    "        return df_"
   ],
   "metadata": {
    "collapsed": false,
    "ExecuteTime": {
     "end_time": "2024-09-22T08:12:52.324732600Z",
     "start_time": "2024-09-22T08:12:52.279409900Z"
    }
   },
   "id": "667b475b39c4b91c"
  },
  {
   "cell_type": "code",
   "execution_count": 79,
   "outputs": [
    {
     "name": "stderr",
     "output_type": "stream",
     "text": [
      "100%|██████████| 181/181 [03:36<00:00,  1.19s/it]\n"
     ]
    }
   ],
   "source": [
    "dfs = []\n",
    "for category_code in tqdm(genre_list):\n",
    "    df = scraping_jcode(category_code,API_KEY,JCODE)\n",
    "    dfs.append(df)\n",
    "result = pd.concat(dfs)"
   ],
   "metadata": {
    "collapsed": false,
    "ExecuteTime": {
     "end_time": "2024-09-22T08:16:29.606553900Z",
     "start_time": "2024-09-22T08:12:53.353207100Z"
    }
   },
   "id": "2e4e943b42e69458"
  },
  {
   "cell_type": "code",
   "execution_count": 42,
   "outputs": [
    {
     "ename": "OSError",
     "evalue": "Cannot save file into a non-existent directory: 'Z:\\lab\\yahoo_poi\\origin'",
     "output_type": "error",
     "traceback": [
      "\u001B[1;31m---------------------------------------------------------------------------\u001B[0m",
      "\u001B[1;31mOSError\u001B[0m                                   Traceback (most recent call last)",
      "Cell \u001B[1;32mIn[42], line 1\u001B[0m\n\u001B[1;32m----> 1\u001B[0m \u001B[43mresult\u001B[49m\u001B[38;5;241;43m.\u001B[39;49m\u001B[43mto_csv\u001B[49m\u001B[43m(\u001B[49m\u001B[38;5;124;43mf\u001B[39;49m\u001B[38;5;124;43m\"\u001B[39;49m\u001B[38;5;124;43mZ:\u001B[39;49m\u001B[38;5;130;43;01m\\\\\u001B[39;49;00m\u001B[38;5;124;43mlab\u001B[39;49m\u001B[38;5;130;43;01m\\\\\u001B[39;49;00m\u001B[38;5;124;43myahoo_poi\u001B[39;49m\u001B[38;5;130;43;01m\\\\\u001B[39;49;00m\u001B[38;5;124;43morigin\u001B[39;49m\u001B[38;5;130;43;01m\\\\\u001B[39;49;00m\u001B[38;5;132;43;01m{\u001B[39;49;00m\u001B[43mJCODE\u001B[49m\u001B[38;5;132;43;01m}\u001B[39;49;00m\u001B[38;5;124;43m.csv\u001B[39;49m\u001B[38;5;124;43m\"\u001B[39;49m\u001B[43m)\u001B[49m\n",
      "File \u001B[1;32m~\\anaconda3\\envs\\geo_env\\Lib\\site-packages\\pandas\\util\\_decorators.py:333\u001B[0m, in \u001B[0;36mdeprecate_nonkeyword_arguments.<locals>.decorate.<locals>.wrapper\u001B[1;34m(*args, **kwargs)\u001B[0m\n\u001B[0;32m    327\u001B[0m \u001B[38;5;28;01mif\u001B[39;00m \u001B[38;5;28mlen\u001B[39m(args) \u001B[38;5;241m>\u001B[39m num_allow_args:\n\u001B[0;32m    328\u001B[0m     warnings\u001B[38;5;241m.\u001B[39mwarn(\n\u001B[0;32m    329\u001B[0m         msg\u001B[38;5;241m.\u001B[39mformat(arguments\u001B[38;5;241m=\u001B[39m_format_argument_list(allow_args)),\n\u001B[0;32m    330\u001B[0m         \u001B[38;5;167;01mFutureWarning\u001B[39;00m,\n\u001B[0;32m    331\u001B[0m         stacklevel\u001B[38;5;241m=\u001B[39mfind_stack_level(),\n\u001B[0;32m    332\u001B[0m     )\n\u001B[1;32m--> 333\u001B[0m \u001B[38;5;28;01mreturn\u001B[39;00m \u001B[43mfunc\u001B[49m\u001B[43m(\u001B[49m\u001B[38;5;241;43m*\u001B[39;49m\u001B[43margs\u001B[49m\u001B[43m,\u001B[49m\u001B[43m \u001B[49m\u001B[38;5;241;43m*\u001B[39;49m\u001B[38;5;241;43m*\u001B[39;49m\u001B[43mkwargs\u001B[49m\u001B[43m)\u001B[49m\n",
      "File \u001B[1;32m~\\anaconda3\\envs\\geo_env\\Lib\\site-packages\\pandas\\core\\generic.py:3967\u001B[0m, in \u001B[0;36mNDFrame.to_csv\u001B[1;34m(self, path_or_buf, sep, na_rep, float_format, columns, header, index, index_label, mode, encoding, compression, quoting, quotechar, lineterminator, chunksize, date_format, doublequote, escapechar, decimal, errors, storage_options)\u001B[0m\n\u001B[0;32m   3956\u001B[0m df \u001B[38;5;241m=\u001B[39m \u001B[38;5;28mself\u001B[39m \u001B[38;5;28;01mif\u001B[39;00m \u001B[38;5;28misinstance\u001B[39m(\u001B[38;5;28mself\u001B[39m, ABCDataFrame) \u001B[38;5;28;01melse\u001B[39;00m \u001B[38;5;28mself\u001B[39m\u001B[38;5;241m.\u001B[39mto_frame()\n\u001B[0;32m   3958\u001B[0m formatter \u001B[38;5;241m=\u001B[39m DataFrameFormatter(\n\u001B[0;32m   3959\u001B[0m     frame\u001B[38;5;241m=\u001B[39mdf,\n\u001B[0;32m   3960\u001B[0m     header\u001B[38;5;241m=\u001B[39mheader,\n\u001B[1;32m   (...)\u001B[0m\n\u001B[0;32m   3964\u001B[0m     decimal\u001B[38;5;241m=\u001B[39mdecimal,\n\u001B[0;32m   3965\u001B[0m )\n\u001B[1;32m-> 3967\u001B[0m \u001B[38;5;28;01mreturn\u001B[39;00m \u001B[43mDataFrameRenderer\u001B[49m\u001B[43m(\u001B[49m\u001B[43mformatter\u001B[49m\u001B[43m)\u001B[49m\u001B[38;5;241;43m.\u001B[39;49m\u001B[43mto_csv\u001B[49m\u001B[43m(\u001B[49m\n\u001B[0;32m   3968\u001B[0m \u001B[43m    \u001B[49m\u001B[43mpath_or_buf\u001B[49m\u001B[43m,\u001B[49m\n\u001B[0;32m   3969\u001B[0m \u001B[43m    \u001B[49m\u001B[43mlineterminator\u001B[49m\u001B[38;5;241;43m=\u001B[39;49m\u001B[43mlineterminator\u001B[49m\u001B[43m,\u001B[49m\n\u001B[0;32m   3970\u001B[0m \u001B[43m    \u001B[49m\u001B[43msep\u001B[49m\u001B[38;5;241;43m=\u001B[39;49m\u001B[43msep\u001B[49m\u001B[43m,\u001B[49m\n\u001B[0;32m   3971\u001B[0m \u001B[43m    \u001B[49m\u001B[43mencoding\u001B[49m\u001B[38;5;241;43m=\u001B[39;49m\u001B[43mencoding\u001B[49m\u001B[43m,\u001B[49m\n\u001B[0;32m   3972\u001B[0m \u001B[43m    \u001B[49m\u001B[43merrors\u001B[49m\u001B[38;5;241;43m=\u001B[39;49m\u001B[43merrors\u001B[49m\u001B[43m,\u001B[49m\n\u001B[0;32m   3973\u001B[0m \u001B[43m    \u001B[49m\u001B[43mcompression\u001B[49m\u001B[38;5;241;43m=\u001B[39;49m\u001B[43mcompression\u001B[49m\u001B[43m,\u001B[49m\n\u001B[0;32m   3974\u001B[0m \u001B[43m    \u001B[49m\u001B[43mquoting\u001B[49m\u001B[38;5;241;43m=\u001B[39;49m\u001B[43mquoting\u001B[49m\u001B[43m,\u001B[49m\n\u001B[0;32m   3975\u001B[0m \u001B[43m    \u001B[49m\u001B[43mcolumns\u001B[49m\u001B[38;5;241;43m=\u001B[39;49m\u001B[43mcolumns\u001B[49m\u001B[43m,\u001B[49m\n\u001B[0;32m   3976\u001B[0m \u001B[43m    \u001B[49m\u001B[43mindex_label\u001B[49m\u001B[38;5;241;43m=\u001B[39;49m\u001B[43mindex_label\u001B[49m\u001B[43m,\u001B[49m\n\u001B[0;32m   3977\u001B[0m \u001B[43m    \u001B[49m\u001B[43mmode\u001B[49m\u001B[38;5;241;43m=\u001B[39;49m\u001B[43mmode\u001B[49m\u001B[43m,\u001B[49m\n\u001B[0;32m   3978\u001B[0m \u001B[43m    \u001B[49m\u001B[43mchunksize\u001B[49m\u001B[38;5;241;43m=\u001B[39;49m\u001B[43mchunksize\u001B[49m\u001B[43m,\u001B[49m\n\u001B[0;32m   3979\u001B[0m \u001B[43m    \u001B[49m\u001B[43mquotechar\u001B[49m\u001B[38;5;241;43m=\u001B[39;49m\u001B[43mquotechar\u001B[49m\u001B[43m,\u001B[49m\n\u001B[0;32m   3980\u001B[0m \u001B[43m    \u001B[49m\u001B[43mdate_format\u001B[49m\u001B[38;5;241;43m=\u001B[39;49m\u001B[43mdate_format\u001B[49m\u001B[43m,\u001B[49m\n\u001B[0;32m   3981\u001B[0m \u001B[43m    \u001B[49m\u001B[43mdoublequote\u001B[49m\u001B[38;5;241;43m=\u001B[39;49m\u001B[43mdoublequote\u001B[49m\u001B[43m,\u001B[49m\n\u001B[0;32m   3982\u001B[0m \u001B[43m    \u001B[49m\u001B[43mescapechar\u001B[49m\u001B[38;5;241;43m=\u001B[39;49m\u001B[43mescapechar\u001B[49m\u001B[43m,\u001B[49m\n\u001B[0;32m   3983\u001B[0m \u001B[43m    \u001B[49m\u001B[43mstorage_options\u001B[49m\u001B[38;5;241;43m=\u001B[39;49m\u001B[43mstorage_options\u001B[49m\u001B[43m,\u001B[49m\n\u001B[0;32m   3984\u001B[0m \u001B[43m\u001B[49m\u001B[43m)\u001B[49m\n",
      "File \u001B[1;32m~\\anaconda3\\envs\\geo_env\\Lib\\site-packages\\pandas\\io\\formats\\format.py:1014\u001B[0m, in \u001B[0;36mDataFrameRenderer.to_csv\u001B[1;34m(self, path_or_buf, encoding, sep, columns, index_label, mode, compression, quoting, quotechar, lineterminator, chunksize, date_format, doublequote, escapechar, errors, storage_options)\u001B[0m\n\u001B[0;32m    993\u001B[0m     created_buffer \u001B[38;5;241m=\u001B[39m \u001B[38;5;28;01mFalse\u001B[39;00m\n\u001B[0;32m    995\u001B[0m csv_formatter \u001B[38;5;241m=\u001B[39m CSVFormatter(\n\u001B[0;32m    996\u001B[0m     path_or_buf\u001B[38;5;241m=\u001B[39mpath_or_buf,\n\u001B[0;32m    997\u001B[0m     lineterminator\u001B[38;5;241m=\u001B[39mlineterminator,\n\u001B[1;32m   (...)\u001B[0m\n\u001B[0;32m   1012\u001B[0m     formatter\u001B[38;5;241m=\u001B[39m\u001B[38;5;28mself\u001B[39m\u001B[38;5;241m.\u001B[39mfmt,\n\u001B[0;32m   1013\u001B[0m )\n\u001B[1;32m-> 1014\u001B[0m \u001B[43mcsv_formatter\u001B[49m\u001B[38;5;241;43m.\u001B[39;49m\u001B[43msave\u001B[49m\u001B[43m(\u001B[49m\u001B[43m)\u001B[49m\n\u001B[0;32m   1016\u001B[0m \u001B[38;5;28;01mif\u001B[39;00m created_buffer:\n\u001B[0;32m   1017\u001B[0m     \u001B[38;5;28;01massert\u001B[39;00m \u001B[38;5;28misinstance\u001B[39m(path_or_buf, StringIO)\n",
      "File \u001B[1;32m~\\anaconda3\\envs\\geo_env\\Lib\\site-packages\\pandas\\io\\formats\\csvs.py:251\u001B[0m, in \u001B[0;36mCSVFormatter.save\u001B[1;34m(self)\u001B[0m\n\u001B[0;32m    247\u001B[0m \u001B[38;5;250m\u001B[39m\u001B[38;5;124;03m\"\"\"\u001B[39;00m\n\u001B[0;32m    248\u001B[0m \u001B[38;5;124;03mCreate the writer & save.\u001B[39;00m\n\u001B[0;32m    249\u001B[0m \u001B[38;5;124;03m\"\"\"\u001B[39;00m\n\u001B[0;32m    250\u001B[0m \u001B[38;5;66;03m# apply compression and byte/text conversion\u001B[39;00m\n\u001B[1;32m--> 251\u001B[0m \u001B[38;5;28;01mwith\u001B[39;00m \u001B[43mget_handle\u001B[49m\u001B[43m(\u001B[49m\n\u001B[0;32m    252\u001B[0m \u001B[43m    \u001B[49m\u001B[38;5;28;43mself\u001B[39;49m\u001B[38;5;241;43m.\u001B[39;49m\u001B[43mfilepath_or_buffer\u001B[49m\u001B[43m,\u001B[49m\n\u001B[0;32m    253\u001B[0m \u001B[43m    \u001B[49m\u001B[38;5;28;43mself\u001B[39;49m\u001B[38;5;241;43m.\u001B[39;49m\u001B[43mmode\u001B[49m\u001B[43m,\u001B[49m\n\u001B[0;32m    254\u001B[0m \u001B[43m    \u001B[49m\u001B[43mencoding\u001B[49m\u001B[38;5;241;43m=\u001B[39;49m\u001B[38;5;28;43mself\u001B[39;49m\u001B[38;5;241;43m.\u001B[39;49m\u001B[43mencoding\u001B[49m\u001B[43m,\u001B[49m\n\u001B[0;32m    255\u001B[0m \u001B[43m    \u001B[49m\u001B[43merrors\u001B[49m\u001B[38;5;241;43m=\u001B[39;49m\u001B[38;5;28;43mself\u001B[39;49m\u001B[38;5;241;43m.\u001B[39;49m\u001B[43merrors\u001B[49m\u001B[43m,\u001B[49m\n\u001B[0;32m    256\u001B[0m \u001B[43m    \u001B[49m\u001B[43mcompression\u001B[49m\u001B[38;5;241;43m=\u001B[39;49m\u001B[38;5;28;43mself\u001B[39;49m\u001B[38;5;241;43m.\u001B[39;49m\u001B[43mcompression\u001B[49m\u001B[43m,\u001B[49m\n\u001B[0;32m    257\u001B[0m \u001B[43m    \u001B[49m\u001B[43mstorage_options\u001B[49m\u001B[38;5;241;43m=\u001B[39;49m\u001B[38;5;28;43mself\u001B[39;49m\u001B[38;5;241;43m.\u001B[39;49m\u001B[43mstorage_options\u001B[49m\u001B[43m,\u001B[49m\n\u001B[0;32m    258\u001B[0m \u001B[43m\u001B[49m\u001B[43m)\u001B[49m \u001B[38;5;28;01mas\u001B[39;00m handles:\n\u001B[0;32m    259\u001B[0m     \u001B[38;5;66;03m# Note: self.encoding is irrelevant here\u001B[39;00m\n\u001B[0;32m    260\u001B[0m     \u001B[38;5;28mself\u001B[39m\u001B[38;5;241m.\u001B[39mwriter \u001B[38;5;241m=\u001B[39m csvlib\u001B[38;5;241m.\u001B[39mwriter(\n\u001B[0;32m    261\u001B[0m         handles\u001B[38;5;241m.\u001B[39mhandle,\n\u001B[0;32m    262\u001B[0m         lineterminator\u001B[38;5;241m=\u001B[39m\u001B[38;5;28mself\u001B[39m\u001B[38;5;241m.\u001B[39mlineterminator,\n\u001B[1;32m   (...)\u001B[0m\n\u001B[0;32m    267\u001B[0m         quotechar\u001B[38;5;241m=\u001B[39m\u001B[38;5;28mself\u001B[39m\u001B[38;5;241m.\u001B[39mquotechar,\n\u001B[0;32m    268\u001B[0m     )\n\u001B[0;32m    270\u001B[0m     \u001B[38;5;28mself\u001B[39m\u001B[38;5;241m.\u001B[39m_save()\n",
      "File \u001B[1;32m~\\anaconda3\\envs\\geo_env\\Lib\\site-packages\\pandas\\io\\common.py:749\u001B[0m, in \u001B[0;36mget_handle\u001B[1;34m(path_or_buf, mode, encoding, compression, memory_map, is_text, errors, storage_options)\u001B[0m\n\u001B[0;32m    747\u001B[0m \u001B[38;5;66;03m# Only for write methods\u001B[39;00m\n\u001B[0;32m    748\u001B[0m \u001B[38;5;28;01mif\u001B[39;00m \u001B[38;5;124m\"\u001B[39m\u001B[38;5;124mr\u001B[39m\u001B[38;5;124m\"\u001B[39m \u001B[38;5;129;01mnot\u001B[39;00m \u001B[38;5;129;01min\u001B[39;00m mode \u001B[38;5;129;01mand\u001B[39;00m is_path:\n\u001B[1;32m--> 749\u001B[0m     \u001B[43mcheck_parent_directory\u001B[49m\u001B[43m(\u001B[49m\u001B[38;5;28;43mstr\u001B[39;49m\u001B[43m(\u001B[49m\u001B[43mhandle\u001B[49m\u001B[43m)\u001B[49m\u001B[43m)\u001B[49m\n\u001B[0;32m    751\u001B[0m \u001B[38;5;28;01mif\u001B[39;00m compression:\n\u001B[0;32m    752\u001B[0m     \u001B[38;5;28;01mif\u001B[39;00m compression \u001B[38;5;241m!=\u001B[39m \u001B[38;5;124m\"\u001B[39m\u001B[38;5;124mzstd\u001B[39m\u001B[38;5;124m\"\u001B[39m:\n\u001B[0;32m    753\u001B[0m         \u001B[38;5;66;03m# compression libraries do not like an explicit text-mode\u001B[39;00m\n",
      "File \u001B[1;32m~\\anaconda3\\envs\\geo_env\\Lib\\site-packages\\pandas\\io\\common.py:616\u001B[0m, in \u001B[0;36mcheck_parent_directory\u001B[1;34m(path)\u001B[0m\n\u001B[0;32m    614\u001B[0m parent \u001B[38;5;241m=\u001B[39m Path(path)\u001B[38;5;241m.\u001B[39mparent\n\u001B[0;32m    615\u001B[0m \u001B[38;5;28;01mif\u001B[39;00m \u001B[38;5;129;01mnot\u001B[39;00m parent\u001B[38;5;241m.\u001B[39mis_dir():\n\u001B[1;32m--> 616\u001B[0m     \u001B[38;5;28;01mraise\u001B[39;00m \u001B[38;5;167;01mOSError\u001B[39;00m(\u001B[38;5;124mrf\u001B[39m\u001B[38;5;124m\"\u001B[39m\u001B[38;5;124mCannot save file into a non-existent directory: \u001B[39m\u001B[38;5;124m'\u001B[39m\u001B[38;5;132;01m{\u001B[39;00mparent\u001B[38;5;132;01m}\u001B[39;00m\u001B[38;5;124m'\u001B[39m\u001B[38;5;124m\"\u001B[39m)\n",
      "\u001B[1;31mOSError\u001B[0m: Cannot save file into a non-existent directory: 'Z:\\lab\\yahoo_poi\\origin'"
     ]
    }
   ],
   "source": [
    "result.to_csv(f\"Z:\\\\lab\\\\yahoo_poi\\\\origin\\\\{JCODE}.csv\")"
   ],
   "metadata": {
    "collapsed": false,
    "ExecuteTime": {
     "end_time": "2024-09-22T07:37:19.411337Z",
     "start_time": "2024-09-22T07:37:18.853846100Z"
    }
   },
   "id": "41dc7ac53b0a63a0"
  },
  {
   "cell_type": "code",
   "execution_count": 81,
   "outputs": [],
   "source": [
    "poi = result.copy()"
   ],
   "metadata": {
    "collapsed": false,
    "ExecuteTime": {
     "end_time": "2024-09-22T08:17:14.930464900Z",
     "start_time": "2024-09-22T08:17:14.914530600Z"
    }
   },
   "id": "5813121eaa17b496"
  },
  {
   "cell_type": "code",
   "execution_count": 83,
   "outputs": [],
   "source": [
    "PATH_TO_NON_OFFICE = r\"Z:\\lab\\yahoo_poi\\Yahoo POIマスタ - 非就業地.csv\"\n",
    "PATH_TO_OFFICE = r\"Z:\\lab\\yahoo_poi\\Yahoo POIマスタ - 就業地.csv\""
   ],
   "metadata": {
    "collapsed": false,
    "ExecuteTime": {
     "end_time": "2024-09-22T08:17:31.232005Z",
     "start_time": "2024-09-22T08:17:31.201708700Z"
    }
   },
   "id": "9d3a5cc3ae38cec8"
  },
  {
   "cell_type": "code",
   "execution_count": 109,
   "outputs": [],
   "source": [
    "non_office = pd.read_csv(PATH_TO_NON_OFFICE,dtype=str)\n",
    "office = pd.read_csv(PATH_TO_OFFICE,dtype=str)\n",
    "non_office_4 = non_office.copy().drop(columns=[\"業種コード3\",\"業種名3\"]).drop_duplicates()\n",
    "office_4 = office.copy().drop(columns=[\"業種コード3\",\"業種名3\"]).drop_duplicates()"
   ],
   "metadata": {
    "collapsed": false,
    "ExecuteTime": {
     "end_time": "2024-09-22T08:31:04.234654100Z",
     "start_time": "2024-09-22T08:31:03.991410100Z"
    }
   },
   "id": "8c340aec2274fd0"
  },
  {
   "cell_type": "code",
   "execution_count": 112,
   "outputs": [],
   "source": [
    "result_4 = poi[poi['GenreCode'].str.len() == 4]\n",
    "result_4_office = result_4.merge(office_4,left_on=\"GenreCode\",right_on=\"業種コード2\",how=\"left\")\n",
    "result_4_added = result_4_office.merge(non_office_4,left_on=\"GenreCode\",right_on=\"業種コード2\",how=\"left\")\n",
    "\n",
    "result_7 = poi[poi['GenreCode'].str.len() == 7]\n",
    "result_7_office = result_7.merge(office,left_on=\"GenreCode\",right_on=\"業種コード3\",how=\"left\")\n",
    "result_7_added = result_7_office.merge(non_office,left_on=\"GenreCode\",right_on=\"業種コード3\",how=\"left\")"
   ],
   "metadata": {
    "collapsed": false,
    "ExecuteTime": {
     "end_time": "2024-09-22T08:31:25.362040400Z",
     "start_time": "2024-09-22T08:31:25.324442300Z"
    }
   },
   "id": "b4674c30331033bc"
  },
  {
   "cell_type": "code",
   "execution_count": 122,
   "outputs": [],
   "source": [
    "poi_added = pd.concat([result_7_added,result_4_added]).filter(items=[\"Name\",\"BuildingFloor\",\"BuildingArea\",\"X\",\"Y\",\"GenreCode\",\"産業大分類\",\"モデル用定義\"]).set_axis([\"Name\",\"Floor\",\"Area\",\"Longitude\",\"Latitude\",\"GenreCode\",\"Industry\",\"Activity\"],axis=1)"
   ],
   "metadata": {
    "collapsed": false,
    "ExecuteTime": {
     "end_time": "2024-09-22T08:44:00.313888400Z",
     "start_time": "2024-09-22T08:44:00.288872100Z"
    }
   },
   "id": "184a2662866454dc"
  },
  {
   "cell_type": "code",
   "execution_count": 124,
   "outputs": [],
   "source": [
    "poi_added.to_csv(f\"Z:\\\\lab\\\\yahoo_poi\\\\modified\\\\{JCODE}.csv\",index=False)"
   ],
   "metadata": {
    "collapsed": false,
    "ExecuteTime": {
     "end_time": "2024-09-22T08:45:17.744971900Z",
     "start_time": "2024-09-22T08:45:17.561297100Z"
    }
   },
   "id": "612125c8330394bc"
  },
  {
   "cell_type": "code",
   "execution_count": 127,
   "outputs": [
    {
     "data": {
      "text/plain": "                           Name Floor  Area     Longitude     Latitude  \\\n0                         割烹三寿司     2   127  124.15341151  24.34180227   \n1                    こっかーら八重山膳符     2   135  124.16836665    24.352812   \n2    HANARE/フサキビーチリゾート ホテル&ヴィラズ   NaN   NaN    124.114308   24.3700527   \n3                      有限会社舟蔵の里     2   111  124.13026591  24.35651634   \n4      八重山/ANAインターコンチネンタル石垣リゾート    12  2803    124.189280   24.3360226   \n..                          ...   ...   ...           ...          ...   \n234        カレーハウスCoCo壱番屋 沖縄・石垣店     2   580  124.17926536  24.33817635   \n235              ミスタードーナツ石垣ショップ     2   145  124.16662191  24.34202093   \n236               島のごちそう てぃんがーら     2   111  124.16998283  24.33765493   \n237   ロッジビストロ 島のごちそう てぃんがーら 石垣島     2   111  124.16999091  24.33766778   \n238                         芭蕉布     2   134   124.1551254  24.33981894   \n\n    GenreCode       Industry     Activity  \n0     0101012  M　宿泊業，飲食サービス業  食事, 仕事のつきあい  \n1     0101033  M　宿泊業，飲食サービス業  食事, 仕事のつきあい  \n2     0101001  M　宿泊業，飲食サービス業  食事, 仕事のつきあい  \n3     0101034  M　宿泊業，飲食サービス業  食事, 仕事のつきあい  \n4     0101001  M　宿泊業，飲食サービス業  食事, 仕事のつきあい  \n..        ...            ...          ...  \n234      0107  M　宿泊業，飲食サービス業  食事, 仕事のつきあい  \n235      0115  M　宿泊業，飲食サービス業  食事, 仕事のつきあい  \n236      0110  M　宿泊業，飲食サービス業  食事, 仕事のつきあい  \n237      0110  M　宿泊業，飲食サービス業  食事, 仕事のつきあい  \n238      0110  M　宿泊業，飲食サービス業  食事, 仕事のつきあい  \n\n[1131 rows x 8 columns]",
      "text/html": "<div>\n<style scoped>\n    .dataframe tbody tr th:only-of-type {\n        vertical-align: middle;\n    }\n\n    .dataframe tbody tr th {\n        vertical-align: top;\n    }\n\n    .dataframe thead th {\n        text-align: right;\n    }\n</style>\n<table border=\"1\" class=\"dataframe\">\n  <thead>\n    <tr style=\"text-align: right;\">\n      <th></th>\n      <th>Name</th>\n      <th>Floor</th>\n      <th>Area</th>\n      <th>Longitude</th>\n      <th>Latitude</th>\n      <th>GenreCode</th>\n      <th>Industry</th>\n      <th>Activity</th>\n    </tr>\n  </thead>\n  <tbody>\n    <tr>\n      <th>0</th>\n      <td>割烹三寿司</td>\n      <td>2</td>\n      <td>127</td>\n      <td>124.15341151</td>\n      <td>24.34180227</td>\n      <td>0101012</td>\n      <td>M　宿泊業，飲食サービス業</td>\n      <td>食事, 仕事のつきあい</td>\n    </tr>\n    <tr>\n      <th>1</th>\n      <td>こっかーら八重山膳符</td>\n      <td>2</td>\n      <td>135</td>\n      <td>124.16836665</td>\n      <td>24.352812</td>\n      <td>0101033</td>\n      <td>M　宿泊業，飲食サービス業</td>\n      <td>食事, 仕事のつきあい</td>\n    </tr>\n    <tr>\n      <th>2</th>\n      <td>HANARE/フサキビーチリゾート ホテル&amp;ヴィラズ</td>\n      <td>NaN</td>\n      <td>NaN</td>\n      <td>124.114308</td>\n      <td>24.3700527</td>\n      <td>0101001</td>\n      <td>M　宿泊業，飲食サービス業</td>\n      <td>食事, 仕事のつきあい</td>\n    </tr>\n    <tr>\n      <th>3</th>\n      <td>有限会社舟蔵の里</td>\n      <td>2</td>\n      <td>111</td>\n      <td>124.13026591</td>\n      <td>24.35651634</td>\n      <td>0101034</td>\n      <td>M　宿泊業，飲食サービス業</td>\n      <td>食事, 仕事のつきあい</td>\n    </tr>\n    <tr>\n      <th>4</th>\n      <td>八重山/ANAインターコンチネンタル石垣リゾート</td>\n      <td>12</td>\n      <td>2803</td>\n      <td>124.189280</td>\n      <td>24.3360226</td>\n      <td>0101001</td>\n      <td>M　宿泊業，飲食サービス業</td>\n      <td>食事, 仕事のつきあい</td>\n    </tr>\n    <tr>\n      <th>...</th>\n      <td>...</td>\n      <td>...</td>\n      <td>...</td>\n      <td>...</td>\n      <td>...</td>\n      <td>...</td>\n      <td>...</td>\n      <td>...</td>\n    </tr>\n    <tr>\n      <th>234</th>\n      <td>カレーハウスCoCo壱番屋 沖縄・石垣店</td>\n      <td>2</td>\n      <td>580</td>\n      <td>124.17926536</td>\n      <td>24.33817635</td>\n      <td>0107</td>\n      <td>M　宿泊業，飲食サービス業</td>\n      <td>食事, 仕事のつきあい</td>\n    </tr>\n    <tr>\n      <th>235</th>\n      <td>ミスタードーナツ石垣ショップ</td>\n      <td>2</td>\n      <td>145</td>\n      <td>124.16662191</td>\n      <td>24.34202093</td>\n      <td>0115</td>\n      <td>M　宿泊業，飲食サービス業</td>\n      <td>食事, 仕事のつきあい</td>\n    </tr>\n    <tr>\n      <th>236</th>\n      <td>島のごちそう てぃんがーら</td>\n      <td>2</td>\n      <td>111</td>\n      <td>124.16998283</td>\n      <td>24.33765493</td>\n      <td>0110</td>\n      <td>M　宿泊業，飲食サービス業</td>\n      <td>食事, 仕事のつきあい</td>\n    </tr>\n    <tr>\n      <th>237</th>\n      <td>ロッジビストロ 島のごちそう てぃんがーら 石垣島</td>\n      <td>2</td>\n      <td>111</td>\n      <td>124.16999091</td>\n      <td>24.33766778</td>\n      <td>0110</td>\n      <td>M　宿泊業，飲食サービス業</td>\n      <td>食事, 仕事のつきあい</td>\n    </tr>\n    <tr>\n      <th>238</th>\n      <td>芭蕉布</td>\n      <td>2</td>\n      <td>134</td>\n      <td>124.1551254</td>\n      <td>24.33981894</td>\n      <td>0110</td>\n      <td>M　宿泊業，飲食サービス業</td>\n      <td>食事, 仕事のつきあい</td>\n    </tr>\n  </tbody>\n</table>\n<p>1131 rows × 8 columns</p>\n</div>"
     },
     "execution_count": 127,
     "metadata": {},
     "output_type": "execute_result"
    }
   ],
   "source": [
    "poi_added"
   ],
   "metadata": {
    "collapsed": false,
    "ExecuteTime": {
     "end_time": "2024-09-22T10:55:27.298622700Z",
     "start_time": "2024-09-22T10:55:27.253840200Z"
    }
   },
   "id": "1c1348e34ac86240"
  },
  {
   "cell_type": "code",
   "execution_count": null,
   "outputs": [],
   "source": [],
   "metadata": {
    "collapsed": false
   },
   "id": "2698f9813a3f338b"
  }
 ],
 "metadata": {
  "kernelspec": {
   "display_name": "Python 3 (ipykernel)",
   "language": "python",
   "name": "python3"
  },
  "language_info": {
   "codemirror_mode": {
    "name": "ipython",
    "version": 3
   },
   "file_extension": ".py",
   "mimetype": "text/x-python",
   "name": "python",
   "nbconvert_exporter": "python",
   "pygments_lexer": "ipython3",
   "version": "3.12.3"
  }
 },
 "nbformat": 4,
 "nbformat_minor": 5
}
