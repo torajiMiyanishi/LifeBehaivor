{
 "cells": [
  {
   "cell_type": "code",
   "execution_count": 4,
   "metadata": {},
   "outputs": [],
   "source": [
    "import random\n",
    "import pandas as pd\n",
    "import numpy as np\n",
    "import pickle\n",
    "import glob\n",
    "import cvxpy as cp\n",
    "import seaborn as sns\n",
    "import matplotlib.pyplot as plt\n",
    "import matplotlib\n",
    "from tqdm import tqdm\n",
    "import os\n",
    "from concurrent.futures import ThreadPoolExecutor\n",
    "\n",
    "\n",
    "\"\"\"pathの定義\"\"\"\n",
    "DIR_HOURLY = 'Z:/lab/lifebehavior/2020_jikoku_danjonenso.csv'\n",
    "DIR_FULL_DAY = 'Z:/lab/lifebehavior/2020_4shihyo_danjonenso.csv'\n",
    "DIR_GENRE = 'Z:/lab/lifebehavior/nhk_genre.csv'\n",
    "\n",
    "\n",
    "\n",
    "def calc_list_diff(list1:list, list2:list):\n",
    "    # リストの長さが異なる場合のエラーチェック\n",
    "    if len(list1) != len(list2):\n",
    "        raise ValueError(\"リストの長さが異なります。\")\n",
    "    \n",
    "    # 各要素の差分を計算して新しいリストを生成\n",
    "    difference = [a - b for a, b in zip(list1, list2)]\n",
    "    return difference\n",
    "\n",
    "# not P_iの算出による P_iの算出\n",
    "def get_P_i(hourly_table:pd.DataFrame,Transition_rates:list,activity_ordering:list):\n",
    "    t_0_table = sort_df_by_list(hourly_table[(hourly_table[\"Time\"].dt.hour == 0) & (hourly_table[\"Time\"].dt.minute == 0)],\"Activity\",activity_ordering).copy()\n",
    "    initial_rate = np.array(t_0_table[\"Rate\"])\n",
    "\n",
    "    # 正規化\n",
    "    initial_rate = initial_rate / np.sum(initial_rate)\n",
    "\n",
    "    P_i_list = []\n",
    "    for i in range(len(activity_ordering)):\n",
    "\n",
    "        # 行列の加工\n",
    "        n = len(initial_rate)\n",
    "        one_vector = np.ones(n)\n",
    "        modified_transition_rates = []\n",
    "\n",
    "        for A in Transition_rates:\n",
    "            A_i = A.copy()\n",
    "            A_i[i, :] = 0  # 行 i を全て 0 に置き換える\n",
    "            modified_transition_rates.append(A_i)\n",
    "\n",
    "        # 初期行為者率ベクトルの加工\n",
    "        modified_initial_rate = initial_rate.copy()\n",
    "        modified_initial_rate[i] = 0\n",
    "\n",
    "        # 最終的な行為者率ベクトルの計算\n",
    "        final_rate = modified_initial_rate\n",
    "\n",
    "        for A_i in modified_transition_rates:\n",
    "            final_rate = A_i @ final_rate\n",
    "\n",
    "        # 行為 i を一度も行わない確率の計算\n",
    "        P_not_i = one_vector @ final_rate\n",
    "\n",
    "        P_i = 1-P_not_i\n",
    "\n",
    "        # 独自定義のラベルを適用しているため、重複集計の関係上どうしても例外が発生する。\n",
    "        if P_i < 0:\n",
    "            P_i = 0\n",
    "\n",
    "        P_i_list.append(P_i)\n",
    "\n",
    "    return P_i_list\n",
    "\n",
    "# データフレームを参照リストに基づいてソートするヘルパー関数\n",
    "def sort_df_by_list(df, column, reference_list):\n",
    "    return df.set_index(column).reindex(reference_list).reset_index()\n",
    "\n",
    "# 遷移率を計算する関数\n",
    "def calc_transition_rates(beta_i: np.ndarray, time_list: list, time_table: pd.DataFrame, activity_list: list):\n",
    "    transition_rates = []\n",
    "    middle = activity_list  # 活動のリストを基準として使用\n",
    "    \n",
    "    for i in range(len(time_list)):\n",
    "        time_t = time_list[i]\n",
    "        time_t1 = time_list[(i+1) % len(time_list)]  # 次の時間帯\n",
    "        \n",
    "        # 両方の時間帯の行動率を取得\n",
    "        y_t = np.array(sort_df_by_list(time_table[(time_table[\"Time\"].dt.hour == time_t.hour) & (time_table[\"Time\"].dt.minute == time_t.minute) ], \"Activity\", middle)[\"Rate\"])\n",
    "        y_t1 = np.array(sort_df_by_list(time_table[(time_table[\"Time\"].dt.hour == time_t1.hour) & (time_table[\"Time\"].dt.minute == time_t1.minute) ], \"Activity\", middle)[\"Rate\"])\n",
    "        \n",
    "        # 変数の定義\n",
    "        no_of_elem = len(middle)\n",
    "        a = cp.Variable((no_of_elem, no_of_elem), nonneg=True)  # 非負の要素を持つ遷移行列\n",
    "\n",
    "        # 目的関数と制約条件の定義\n",
    "        delta = np.eye(no_of_elem)  # クロネッカーのデルタ\n",
    "        # 目的関数: (1 - beta_i * delta) で修正された、二乗差の合計を最小化\n",
    "        objective = cp.Minimize(cp.sum(cp.multiply(1 - beta_i * delta, cp.square(a))))\n",
    "\n",
    "        # 行の和が1になる制約に変更\n",
    "        constraints = [\n",
    "            cp.sum(a, axis=1) == 1,  # 遷移行列の各行の和が1になる制約\n",
    "            a >= 0,  # 非負制約\n",
    "        ]\n",
    "\n",
    "        # 行動率を正規化\n",
    "        y_t = y_t / np.sum(y_t)\n",
    "        y_t1 = y_t1 / np.sum(y_t1)\n",
    "\n",
    "        # 次の時間帯の行動率と遷移行列の適用が一致する制約\n",
    "        constraints.append(y_t1 - a.T @ y_t == 0)\n",
    "\n",
    "        # 問題を定義する\n",
    "        problem = cp.Problem(objective, constraints)\n",
    "\n",
    "        # ソルバーを使用して問題を解く（別のソルバーを指定して解く）\n",
    "        problem.solve(solver=cp.SCS, verbose=False)\n",
    "\n",
    "        # 得られた遷移行列を格納\n",
    "        transition_rates.append(a.value)\n",
    "\n",
    "    return np.array(transition_rates)\n",
    "\n",
    "def roulette_wheel_selection(weights:list,labels:list):\n",
    "    \"\"\"\n",
    "    Performs roulette wheel selection on a list of weights.\n",
    "    \n",
    "    Args:\n",
    "    weights (list of float): The weights or probabilities for each item.\n",
    "    \n",
    "    Returns:\n",
    "    int: The index of the selected item.\n",
    "    \"\"\"\n",
    "    if (len(weights) != len(labels)):\n",
    "        print(\"weights and labels has different length @roulette_wheel_selection\")\n",
    "        os._exit(1)\n",
    "    # Calculate the cumulative sum of weights\n",
    "    cumulative_sum = [sum(weights[:i+1]) for i in range(len(weights))]\n",
    "    total_sum = cumulative_sum[-1]\n",
    "    \n",
    "    # Generate a random number in the range [0, total_sum)\n",
    "    random_num = random.uniform(0, total_sum)\n",
    "    \n",
    "    # Find the index where the random number would fit in the cumulative sum\n",
    "    for i, cum_sum in enumerate(cumulative_sum):\n",
    "        if random_num < cum_sum:\n",
    "            return i, labels[i]\n",
    "        \n",
    "# 目的関数\n",
    "def objective(beta_i:np.ndarray, time_list:list, time_table:pd.DataFrame, activity_list:list,orig_P_i:list):\n",
    "    transition_rates = calc_transition_rates(beta_i, time_list, time_table, activity_list)\n",
    "    calclated_P_i = get_P_i(time_table,transition_rates,activity_list) # 一日のユニークな行為者率の算出\n",
    "    diff_1 = [e for e in calc_list_diff(orig_P_i,calclated_P_i)]\n",
    "    diff_2 = sum([e**2 for e in diff_1])\n",
    "    return diff_2,diff_1\n",
    "\n",
    "# 各粒子の評価を並列で行う関数\n",
    "def evaluate_particle(objective, particle_position, time_list, time_table, activity_ordering, orig_P_i):\n",
    "    return objective(particle_position, time_list, time_table, activity_ordering, orig_P_i)[0]\n",
    "\n",
    "# βのパラメータフィッティング\n",
    "def pso(objective, bounds, n_iterations, num_particles, w, c1, c2, time_list, time_table, activity_ordering, orig_P_i):\n",
    "    # 粒子の位置と速度を初期化\n",
    "    num_dimensions = len(activity_ordering)\n",
    "    particles_position = np.random.uniform(bounds[:, 0], bounds[:, 1], (num_particles, num_dimensions))\n",
    "    particles_velocity = np.random.uniform(-1, 1, (num_particles, num_dimensions))\n",
    "\n",
    "    # 粒子の最良位置と全体の最良位置を初期化\n",
    "    personal_best_position = particles_position.copy()\n",
    "    \n",
    "    # 並列で初期評価を計算\n",
    "    with ThreadPoolExecutor() as executor:\n",
    "        personal_best_eval = list(executor.map(lambda p: evaluate_particle(objective, p, time_list, time_table, activity_ordering, orig_P_i), particles_position))\n",
    "    \n",
    "    global_best_position = personal_best_position[np.argmin(personal_best_eval)]\n",
    "    global_best_eval = np.min(personal_best_eval)\n",
    "\n",
    "    print(f\"Starting PSO >>> Initial Global Best Evaluation : {global_best_eval}\")\n",
    "\n",
    "    for i in tqdm(range(n_iterations)):\n",
    "        for j in range(num_particles):\n",
    "            # 粒子の速度を更新\n",
    "            r1 = np.random.rand(num_dimensions)\n",
    "            r2 = np.random.rand(num_dimensions)\n",
    "            particles_velocity[j] = (w * particles_velocity[j] +\n",
    "                                     c1 * r1 * (personal_best_position[j] - particles_position[j]) +\n",
    "                                     c2 * r2 * (global_best_position - particles_position[j]))\n",
    "            \n",
    "            # 粒子の位置を更新\n",
    "            particles_position[j] += particles_velocity[j]\n",
    "            particles_position[j] = np.clip(particles_position[j], bounds[:, 0], bounds[:, 1])  # 境界のチェック\n",
    "        \n",
    "        # 並列で各粒子の評価を計算\n",
    "        with ThreadPoolExecutor() as executor:\n",
    "            current_evals = list(executor.map(lambda p: evaluate_particle(objective, p, time_list, time_table, activity_ordering, orig_P_i), particles_position))\n",
    "        \n",
    "        # 粒子の最良位置を更新\n",
    "        for j in range(num_particles):\n",
    "            if current_evals[j] < personal_best_eval[j]:\n",
    "                personal_best_position[j] = particles_position[j].copy()\n",
    "                personal_best_eval[j] = current_evals[j]\n",
    "            \n",
    "            # 全体の最良位置を更新\n",
    "            if current_evals[j] < global_best_eval:\n",
    "                global_best_position = particles_position[j].copy()\n",
    "                global_best_eval = current_evals[j]\n",
    "                print(f\"Global Best Evaluation is Updated [Iteration {i+1}] : {global_best_eval}\")\n",
    "\n",
    "    return global_best_position, global_best_eval"
   ]
  },
  {
   "cell_type": "code",
   "execution_count": 18,
   "metadata": {},
   "outputs": [
    {
     "name": "stderr",
     "output_type": "stream",
     "text": [
      "100%|██████████| 14/14 [00:00<00:00, 306.29it/s]\n"
     ]
    }
   ],
   "source": [
    "# 最良評価値が高い順にソート（評価値が高い、最適化が不十分な属性から優先する仕様）\n",
    "# 初期化\n",
    "group_dict = {}\n",
    "\n",
    "# 各属性ごとに処理\n",
    "for label in tqdm([\n",
    "        '男１０代', '男２０代', '男３０代', '男４０代', '男５０代', '男６０代', '男７０歳以上',\n",
    "        '女１０代', '女２０代', '女３０代', '女４０代', '女５０代', '女６０代', '女７０歳以上']):\n",
    "    \n",
    "    for day in [\"平日\", \"土曜日\", \"日曜日\"]:\n",
    "        smallest_group = None\n",
    "        smallest_eval = float('inf')  # 初期値を無限大に設定\n",
    "        \n",
    "        # 各パスの評価値を比較\n",
    "        for path in glob.glob(f\"Z:/lab/lifebehavior/βパラメータ_{label}_{day}-*-.pickle\"):\n",
    "            try:\n",
    "                evaluation = float(path.split(\"-\")[1])  # 評価値の抽出\n",
    "                if evaluation < smallest_eval:\n",
    "                    smallest_eval = evaluation\n",
    "                    smallest_group = (label,day)\n",
    "            except ValueError:\n",
    "                continue  # 評価値が数値でない場合はスキップ\n",
    "        \n",
    "        if smallest_group != None:\n",
    "            group_dict[smallest_group] = smallest_eval\n",
    "\n",
    "# 評価値が大きい順にソートされたパスのリストを作成\n",
    "sorted_groups = sorted(group_dict.keys(), key=lambda x: group_dict[x], reverse=True)"
   ]
  },
  {
   "cell_type": "code",
   "execution_count": 21,
   "metadata": {},
   "outputs": [
    {
     "name": "stderr",
     "output_type": "stream",
     "text": [
      "  0%|          | 0/42 [00:00<?, ?it/s]"
     ]
    },
    {
     "name": "stdout",
     "output_type": "stream",
     "text": [
      "Starting PSO >>> Initial Global Best Evaluation : 1.9087440476584179\n"
     ]
    },
    {
     "name": "stderr",
     "output_type": "stream",
     "text": []
    },
    {
     "name": "stdout",
     "output_type": "stream",
     "text": [
      "Global Best Evaluation is Updated [Iteration 1] : 1.9001114101849503\n",
      "Global Best Evaluation is Updated [Iteration 1] : 1.8659791917268491\n",
      "Global Best Evaluation is Updated [Iteration 1] : 1.8657201555707683\n"
     ]
    },
    {
     "name": "stderr",
     "output_type": "stream",
     "text": []
    },
    {
     "name": "stdout",
     "output_type": "stream",
     "text": [
      "Global Best Evaluation is Updated [Iteration 2] : 1.864106303506031\n",
      "Global Best Evaluation is Updated [Iteration 2] : 1.8636380381174662\n",
      "Global Best Evaluation is Updated [Iteration 2] : 1.852356512960407\n"
     ]
    },
    {
     "name": "stderr",
     "output_type": "stream",
     "text": []
    },
    {
     "name": "stdout",
     "output_type": "stream",
     "text": [
      "Global Best Evaluation is Updated [Iteration 3] : 1.833375400443062\n"
     ]
    },
    {
     "name": "stderr",
     "output_type": "stream",
     "text": []
    },
    {
     "name": "stdout",
     "output_type": "stream",
     "text": [
      "Global Best Evaluation is Updated [Iteration 4] : 1.8146527798475136\n",
      "Global Best Evaluation is Updated [Iteration 4] : 1.8090584092485975\n",
      "Global Best Evaluation is Updated [Iteration 4] : 1.8089441068237935\n",
      "Global Best Evaluation is Updated [Iteration 4] : 1.8046852952208166\n",
      "Global Best Evaluation is Updated [Iteration 4] : 1.80052123038062\n"
     ]
    },
    {
     "name": "stderr",
     "output_type": "stream",
     "text": []
    },
    {
     "name": "stdout",
     "output_type": "stream",
     "text": [
      "Global Best Evaluation is Updated [Iteration 6] : 1.7999333037935843\n",
      "Global Best Evaluation is Updated [Iteration 6] : 1.799832419325574\n"
     ]
    },
    {
     "name": "stderr",
     "output_type": "stream",
     "text": []
    },
    {
     "name": "stdout",
     "output_type": "stream",
     "text": [
      "Global Best Evaluation is Updated [Iteration 9] : 1.7997098017551736\n"
     ]
    },
    {
     "name": "stderr",
     "output_type": "stream",
     "text": [
      "100%|██████████| 10/10 [20:27<00:00, 122.73s/it]\n",
      "  2%|▏         | 1/42 [22:30<15:22:37, 1350.19s/it]"
     ]
    },
    {
     "name": "stdout",
     "output_type": "stream",
     "text": [
      "Starting PSO >>> Initial Global Best Evaluation : 1.659750352101674\n"
     ]
    },
    {
     "name": "stderr",
     "output_type": "stream",
     "text": []
    },
    {
     "name": "stdout",
     "output_type": "stream",
     "text": [
      "Global Best Evaluation is Updated [Iteration 1] : 1.6406975105890735\n",
      "Global Best Evaluation is Updated [Iteration 1] : 1.6319537973681282\n"
     ]
    },
    {
     "name": "stderr",
     "output_type": "stream",
     "text": []
    },
    {
     "name": "stdout",
     "output_type": "stream",
     "text": [
      "Global Best Evaluation is Updated [Iteration 2] : 1.6305990775056756\n",
      "Global Best Evaluation is Updated [Iteration 2] : 1.6254793822500262\n"
     ]
    },
    {
     "name": "stderr",
     "output_type": "stream",
     "text": []
    },
    {
     "name": "stdout",
     "output_type": "stream",
     "text": [
      "Global Best Evaluation is Updated [Iteration 3] : 1.6241959646959165\n",
      "Global Best Evaluation is Updated [Iteration 3] : 1.6234729422134213\n"
     ]
    },
    {
     "name": "stderr",
     "output_type": "stream",
     "text": []
    },
    {
     "name": "stdout",
     "output_type": "stream",
     "text": [
      "Global Best Evaluation is Updated [Iteration 4] : 1.6216894092675163\n",
      "Global Best Evaluation is Updated [Iteration 4] : 1.61960662535598\n"
     ]
    },
    {
     "name": "stderr",
     "output_type": "stream",
     "text": []
    },
    {
     "name": "stdout",
     "output_type": "stream",
     "text": [
      "Global Best Evaluation is Updated [Iteration 5] : 1.6193108553384303\n"
     ]
    },
    {
     "name": "stderr",
     "output_type": "stream",
     "text": []
    },
    {
     "name": "stdout",
     "output_type": "stream",
     "text": [
      "Global Best Evaluation is Updated [Iteration 6] : 1.6191884176454923\n"
     ]
    },
    {
     "name": "stderr",
     "output_type": "stream",
     "text": []
    },
    {
     "name": "stdout",
     "output_type": "stream",
     "text": [
      "Global Best Evaluation is Updated [Iteration 7] : 1.6190296371349941\n"
     ]
    },
    {
     "name": "stderr",
     "output_type": "stream",
     "text": []
    },
    {
     "name": "stdout",
     "output_type": "stream",
     "text": [
      "Global Best Evaluation is Updated [Iteration 8] : 1.6179795408174762\n"
     ]
    },
    {
     "name": "stderr",
     "output_type": "stream",
     "text": [
      "100%|██████████| 10/10 [31:15<00:00, 187.53s/it]"
     ]
    },
    {
     "name": "stdout",
     "output_type": "stream",
     "text": [
      "Global Best Evaluation is Updated [Iteration 10] : 1.617743475682744\n",
      "Global Best Evaluation is Updated [Iteration 10] : 1.6177112357075574\n"
     ]
    },
    {
     "name": "stderr",
     "output_type": "stream",
     "text": [
      "\n",
      "  5%|▍         | 2/42 [56:52<19:39:26, 1769.16s/it]"
     ]
    },
    {
     "name": "stdout",
     "output_type": "stream",
     "text": [
      "Starting PSO >>> Initial Global Best Evaluation : 1.6670543043498767\n"
     ]
    },
    {
     "name": "stderr",
     "output_type": "stream",
     "text": []
    },
    {
     "name": "stdout",
     "output_type": "stream",
     "text": [
      "Global Best Evaluation is Updated [Iteration 2] : 1.6132692395776054\n"
     ]
    },
    {
     "name": "stderr",
     "output_type": "stream",
     "text": []
    },
    {
     "name": "stdout",
     "output_type": "stream",
     "text": [
      "Global Best Evaluation is Updated [Iteration 3] : 1.6095067492480222\n",
      "Global Best Evaluation is Updated [Iteration 3] : 1.578689776262955\n",
      "Global Best Evaluation is Updated [Iteration 3] : 1.551808271644946\n",
      "Global Best Evaluation is Updated [Iteration 3] : 1.5293786669401412\n"
     ]
    },
    {
     "name": "stderr",
     "output_type": "stream",
     "text": []
    },
    {
     "name": "stdout",
     "output_type": "stream",
     "text": [
      "Global Best Evaluation is Updated [Iteration 4] : 1.5166118528563177\n",
      "Global Best Evaluation is Updated [Iteration 4] : 1.5140496744721925\n",
      "Global Best Evaluation is Updated [Iteration 4] : 1.5130559805966295\n",
      "Global Best Evaluation is Updated [Iteration 4] : 1.498366762623626\n",
      "Global Best Evaluation is Updated [Iteration 4] : 1.4803046207204185\n"
     ]
    },
    {
     "name": "stderr",
     "output_type": "stream",
     "text": []
    },
    {
     "name": "stdout",
     "output_type": "stream",
     "text": [
      "Global Best Evaluation is Updated [Iteration 5] : 1.4662359587079825\n",
      "Global Best Evaluation is Updated [Iteration 5] : 1.4204059117543835\n"
     ]
    },
    {
     "name": "stderr",
     "output_type": "stream",
     "text": []
    },
    {
     "name": "stdout",
     "output_type": "stream",
     "text": [
      "Global Best Evaluation is Updated [Iteration 6] : 1.384171518260638\n",
      "Global Best Evaluation is Updated [Iteration 6] : 1.3726301821301254\n",
      "Global Best Evaluation is Updated [Iteration 6] : 1.3599998390355725\n"
     ]
    },
    {
     "name": "stderr",
     "output_type": "stream",
     "text": []
    },
    {
     "name": "stdout",
     "output_type": "stream",
     "text": [
      "Global Best Evaluation is Updated [Iteration 7] : 1.3544321997212805\n",
      "Global Best Evaluation is Updated [Iteration 7] : 1.3295236395086234\n",
      "Global Best Evaluation is Updated [Iteration 7] : 1.318442124798963\n"
     ]
    },
    {
     "name": "stderr",
     "output_type": "stream",
     "text": []
    },
    {
     "name": "stdout",
     "output_type": "stream",
     "text": [
      "Global Best Evaluation is Updated [Iteration 8] : 1.3125127628484765\n",
      "Global Best Evaluation is Updated [Iteration 8] : 1.2830834881729\n",
      "Global Best Evaluation is Updated [Iteration 8] : 1.2656378406041124\n"
     ]
    },
    {
     "name": "stderr",
     "output_type": "stream",
     "text": []
    },
    {
     "name": "stdout",
     "output_type": "stream",
     "text": [
      "Global Best Evaluation is Updated [Iteration 9] : 1.2494516923429853\n",
      "Global Best Evaluation is Updated [Iteration 9] : 1.2491339725558075\n",
      "Global Best Evaluation is Updated [Iteration 9] : 1.240565177176132\n"
     ]
    },
    {
     "name": "stderr",
     "output_type": "stream",
     "text": [
      "100%|██████████| 10/10 [20:05<00:00, 120.52s/it]"
     ]
    },
    {
     "name": "stdout",
     "output_type": "stream",
     "text": [
      "Global Best Evaluation is Updated [Iteration 10] : 1.2354474772893245\n",
      "Global Best Evaluation is Updated [Iteration 10] : 1.2294291329130107\n",
      "Global Best Evaluation is Updated [Iteration 10] : 1.226906337547593\n"
     ]
    },
    {
     "name": "stderr",
     "output_type": "stream",
     "text": [
      "\n",
      "  7%|▋         | 3/42 [1:19:05<17:00:24, 1569.86s/it]"
     ]
    },
    {
     "name": "stdout",
     "output_type": "stream",
     "text": [
      "Starting PSO >>> Initial Global Best Evaluation : 1.747963490814803\n"
     ]
    },
    {
     "name": "stderr",
     "output_type": "stream",
     "text": []
    },
    {
     "name": "stdout",
     "output_type": "stream",
     "text": [
      "Global Best Evaluation is Updated [Iteration 1] : 1.6464663371039518\n",
      "Global Best Evaluation is Updated [Iteration 1] : 1.4916517677320449\n",
      "Global Best Evaluation is Updated [Iteration 1] : 1.4100978613234352\n"
     ]
    },
    {
     "name": "stderr",
     "output_type": "stream",
     "text": []
    },
    {
     "name": "stdout",
     "output_type": "stream",
     "text": [
      "Global Best Evaluation is Updated [Iteration 2] : 1.3989448341927186\n",
      "Global Best Evaluation is Updated [Iteration 2] : 1.3839698623511059\n",
      "Global Best Evaluation is Updated [Iteration 2] : 1.3107897276539398\n"
     ]
    },
    {
     "name": "stderr",
     "output_type": "stream",
     "text": []
    },
    {
     "name": "stdout",
     "output_type": "stream",
     "text": [
      "Global Best Evaluation is Updated [Iteration 3] : 1.2837051116289653\n",
      "Global Best Evaluation is Updated [Iteration 3] : 1.2672836045246823\n"
     ]
    },
    {
     "name": "stderr",
     "output_type": "stream",
     "text": []
    },
    {
     "name": "stdout",
     "output_type": "stream",
     "text": [
      "Global Best Evaluation is Updated [Iteration 4] : 1.2616570798121982\n"
     ]
    },
    {
     "name": "stderr",
     "output_type": "stream",
     "text": []
    },
    {
     "name": "stdout",
     "output_type": "stream",
     "text": [
      "Global Best Evaluation is Updated [Iteration 5] : 1.2606027775324775\n",
      "Global Best Evaluation is Updated [Iteration 5] : 1.2506408533063453\n",
      "Global Best Evaluation is Updated [Iteration 5] : 1.247967963090036\n"
     ]
    },
    {
     "name": "stderr",
     "output_type": "stream",
     "text": []
    },
    {
     "name": "stdout",
     "output_type": "stream",
     "text": [
      "Global Best Evaluation is Updated [Iteration 6] : 1.2442620926297088\n"
     ]
    },
    {
     "name": "stderr",
     "output_type": "stream",
     "text": []
    },
    {
     "name": "stdout",
     "output_type": "stream",
     "text": [
      "Global Best Evaluation is Updated [Iteration 7] : 1.2426791816147016\n",
      "Global Best Evaluation is Updated [Iteration 7] : 1.2403473279510047\n",
      "Global Best Evaluation is Updated [Iteration 7] : 1.239579897299117\n"
     ]
    },
    {
     "name": "stderr",
     "output_type": "stream",
     "text": []
    },
    {
     "name": "stdout",
     "output_type": "stream",
     "text": [
      "Global Best Evaluation is Updated [Iteration 8] : 1.2381329295633172\n",
      "Global Best Evaluation is Updated [Iteration 8] : 1.2374632968887922\n"
     ]
    },
    {
     "name": "stderr",
     "output_type": "stream",
     "text": []
    },
    {
     "name": "stdout",
     "output_type": "stream",
     "text": [
      "Global Best Evaluation is Updated [Iteration 9] : 1.23525416866142\n",
      "Global Best Evaluation is Updated [Iteration 9] : 1.2346140250232889\n"
     ]
    },
    {
     "name": "stderr",
     "output_type": "stream",
     "text": [
      "100%|██████████| 10/10 [19:02<00:00, 114.23s/it]"
     ]
    },
    {
     "name": "stdout",
     "output_type": "stream",
     "text": [
      "Global Best Evaluation is Updated [Iteration 10] : 1.234531917984995\n",
      "Global Best Evaluation is Updated [Iteration 10] : 1.2316782996420859\n",
      "Global Best Evaluation is Updated [Iteration 10] : 1.231291007329203\n",
      "Global Best Evaluation is Updated [Iteration 10] : 1.2307968257404915\n"
     ]
    },
    {
     "name": "stderr",
     "output_type": "stream",
     "text": [
      "\n",
      " 10%|▉         | 4/42 [1:40:09<15:17:55, 1449.35s/it]"
     ]
    },
    {
     "name": "stdout",
     "output_type": "stream",
     "text": [
      "Starting PSO >>> Initial Global Best Evaluation : 1.458008635432146\n"
     ]
    },
    {
     "name": "stderr",
     "output_type": "stream",
     "text": []
    },
    {
     "name": "stdout",
     "output_type": "stream",
     "text": [
      "Global Best Evaluation is Updated [Iteration 1] : 1.4107476284199734\n",
      "Global Best Evaluation is Updated [Iteration 1] : 1.3910706553153858\n",
      "Global Best Evaluation is Updated [Iteration 1] : 1.3826169949836082\n",
      "Global Best Evaluation is Updated [Iteration 1] : 1.2557590385957462\n"
     ]
    },
    {
     "name": "stderr",
     "output_type": "stream",
     "text": []
    },
    {
     "name": "stdout",
     "output_type": "stream",
     "text": [
      "Global Best Evaluation is Updated [Iteration 2] : 1.2255351970545485\n"
     ]
    },
    {
     "name": "stderr",
     "output_type": "stream",
     "text": []
    },
    {
     "name": "stdout",
     "output_type": "stream",
     "text": [
      "Global Best Evaluation is Updated [Iteration 3] : 1.2125996598624385\n",
      "Global Best Evaluation is Updated [Iteration 3] : 1.2077435787150337\n"
     ]
    },
    {
     "name": "stderr",
     "output_type": "stream",
     "text": []
    },
    {
     "name": "stdout",
     "output_type": "stream",
     "text": [
      "Global Best Evaluation is Updated [Iteration 4] : 1.202951375662546\n",
      "Global Best Evaluation is Updated [Iteration 4] : 1.2015760031054352\n",
      "Global Best Evaluation is Updated [Iteration 4] : 1.178615575965016\n"
     ]
    },
    {
     "name": "stderr",
     "output_type": "stream",
     "text": []
    },
    {
     "name": "stdout",
     "output_type": "stream",
     "text": [
      "Global Best Evaluation is Updated [Iteration 5] : 1.1516149344370603\n",
      "Global Best Evaluation is Updated [Iteration 5] : 1.1454830267957543\n"
     ]
    },
    {
     "name": "stderr",
     "output_type": "stream",
     "text": []
    },
    {
     "name": "stdout",
     "output_type": "stream",
     "text": [
      "Global Best Evaluation is Updated [Iteration 6] : 1.1315715711018381\n"
     ]
    },
    {
     "name": "stderr",
     "output_type": "stream",
     "text": []
    },
    {
     "name": "stdout",
     "output_type": "stream",
     "text": [
      "Global Best Evaluation is Updated [Iteration 7] : 1.1247760412704206\n"
     ]
    },
    {
     "name": "stderr",
     "output_type": "stream",
     "text": []
    },
    {
     "name": "stdout",
     "output_type": "stream",
     "text": [
      "Global Best Evaluation is Updated [Iteration 9] : 1.1235086164022543\n"
     ]
    },
    {
     "name": "stderr",
     "output_type": "stream",
     "text": [
      "100%|██████████| 10/10 [26:43<00:00, 160.38s/it]"
     ]
    },
    {
     "name": "stdout",
     "output_type": "stream",
     "text": [
      "Global Best Evaluation is Updated [Iteration 10] : 1.119297901223516\n"
     ]
    },
    {
     "name": "stderr",
     "output_type": "stream",
     "text": [
      "\n",
      " 12%|█▏        | 5/42 [2:09:34<16:03:50, 1562.99s/it]"
     ]
    },
    {
     "name": "stdout",
     "output_type": "stream",
     "text": [
      "Starting PSO >>> Initial Global Best Evaluation : 1.5899686153990438\n"
     ]
    },
    {
     "name": "stderr",
     "output_type": "stream",
     "text": []
    },
    {
     "name": "stdout",
     "output_type": "stream",
     "text": [
      "Global Best Evaluation is Updated [Iteration 4] : 1.5890170181434915\n"
     ]
    },
    {
     "name": "stderr",
     "output_type": "stream",
     "text": []
    },
    {
     "name": "stdout",
     "output_type": "stream",
     "text": [
      "Global Best Evaluation is Updated [Iteration 6] : 1.5855135649627992\n"
     ]
    },
    {
     "name": "stderr",
     "output_type": "stream",
     "text": []
    },
    {
     "name": "stdout",
     "output_type": "stream",
     "text": [
      "Global Best Evaluation is Updated [Iteration 7] : 1.5851143709004252\n",
      "Global Best Evaluation is Updated [Iteration 7] : 1.5849974151233532\n",
      "Global Best Evaluation is Updated [Iteration 7] : 1.582405386738742\n",
      "Global Best Evaluation is Updated [Iteration 7] : 1.5821989690540754\n",
      "Global Best Evaluation is Updated [Iteration 7] : 1.5821898288889504\n"
     ]
    },
    {
     "name": "stderr",
     "output_type": "stream",
     "text": []
    },
    {
     "name": "stdout",
     "output_type": "stream",
     "text": [
      "Global Best Evaluation is Updated [Iteration 8] : 1.580767264107128\n",
      "Global Best Evaluation is Updated [Iteration 8] : 1.5784991780774258\n"
     ]
    },
    {
     "name": "stderr",
     "output_type": "stream",
     "text": []
    },
    {
     "name": "stdout",
     "output_type": "stream",
     "text": [
      "Global Best Evaluation is Updated [Iteration 9] : 1.578089349076486\n",
      "Global Best Evaluation is Updated [Iteration 9] : 1.5757625551989154\n"
     ]
    },
    {
     "name": "stderr",
     "output_type": "stream",
     "text": [
      "100%|██████████| 10/10 [22:03<00:00, 132.39s/it]"
     ]
    },
    {
     "name": "stdout",
     "output_type": "stream",
     "text": [
      "Global Best Evaluation is Updated [Iteration 10] : 1.574492892398417\n",
      "Global Best Evaluation is Updated [Iteration 10] : 1.5739404449804242\n",
      "Global Best Evaluation is Updated [Iteration 10] : 1.57298794706318\n",
      "Global Best Evaluation is Updated [Iteration 10] : 1.5711218698432448\n"
     ]
    },
    {
     "name": "stderr",
     "output_type": "stream",
     "text": [
      "\n",
      " 14%|█▍        | 6/42 [2:34:01<15:18:17, 1530.50s/it]"
     ]
    },
    {
     "name": "stdout",
     "output_type": "stream",
     "text": [
      "Starting PSO >>> Initial Global Best Evaluation : 1.1648925421446195\n"
     ]
    },
    {
     "name": "stderr",
     "output_type": "stream",
     "text": []
    },
    {
     "name": "stdout",
     "output_type": "stream",
     "text": [
      "Global Best Evaluation is Updated [Iteration 1] : 1.1562295048663234\n",
      "Global Best Evaluation is Updated [Iteration 1] : 1.13571028831114\n"
     ]
    },
    {
     "name": "stderr",
     "output_type": "stream",
     "text": []
    },
    {
     "name": "stdout",
     "output_type": "stream",
     "text": [
      "Global Best Evaluation is Updated [Iteration 3] : 1.116023019553791\n",
      "Global Best Evaluation is Updated [Iteration 3] : 1.1060216642460705\n"
     ]
    },
    {
     "name": "stderr",
     "output_type": "stream",
     "text": []
    },
    {
     "name": "stdout",
     "output_type": "stream",
     "text": [
      "Global Best Evaluation is Updated [Iteration 4] : 1.097940127570401\n",
      "Global Best Evaluation is Updated [Iteration 4] : 1.0816201325103025\n"
     ]
    },
    {
     "name": "stderr",
     "output_type": "stream",
     "text": []
    },
    {
     "name": "stdout",
     "output_type": "stream",
     "text": [
      "Global Best Evaluation is Updated [Iteration 5] : 1.073878475249427\n",
      "Global Best Evaluation is Updated [Iteration 5] : 1.0717903067915049\n"
     ]
    },
    {
     "name": "stderr",
     "output_type": "stream",
     "text": []
    },
    {
     "name": "stdout",
     "output_type": "stream",
     "text": [
      "Global Best Evaluation is Updated [Iteration 6] : 1.0709676821415077\n",
      "Global Best Evaluation is Updated [Iteration 6] : 1.0593801473538456\n"
     ]
    },
    {
     "name": "stderr",
     "output_type": "stream",
     "text": []
    },
    {
     "name": "stdout",
     "output_type": "stream",
     "text": [
      "Global Best Evaluation is Updated [Iteration 7] : 1.0585248882826015\n"
     ]
    },
    {
     "name": "stderr",
     "output_type": "stream",
     "text": []
    },
    {
     "name": "stdout",
     "output_type": "stream",
     "text": [
      "Global Best Evaluation is Updated [Iteration 9] : 1.0580978806023993\n",
      "Global Best Evaluation is Updated [Iteration 9] : 1.0559677142524462\n"
     ]
    },
    {
     "name": "stderr",
     "output_type": "stream",
     "text": [
      "100%|██████████| 10/10 [19:40<00:00, 118.05s/it]"
     ]
    },
    {
     "name": "stdout",
     "output_type": "stream",
     "text": [
      "Global Best Evaluation is Updated [Iteration 10] : 1.0555687298049423\n"
     ]
    },
    {
     "name": "stderr",
     "output_type": "stream",
     "text": [
      "\n",
      " 17%|█▋        | 7/42 [2:55:49<14:10:16, 1457.62s/it]"
     ]
    },
    {
     "name": "stdout",
     "output_type": "stream",
     "text": [
      "Starting PSO >>> Initial Global Best Evaluation : 1.4504222934021582\n"
     ]
    },
    {
     "name": "stderr",
     "output_type": "stream",
     "text": []
    },
    {
     "name": "stdout",
     "output_type": "stream",
     "text": [
      "Global Best Evaluation is Updated [Iteration 1] : 1.3048674252635615\n"
     ]
    },
    {
     "name": "stderr",
     "output_type": "stream",
     "text": []
    },
    {
     "name": "stdout",
     "output_type": "stream",
     "text": [
      "Global Best Evaluation is Updated [Iteration 4] : 1.2968258774909422\n",
      "Global Best Evaluation is Updated [Iteration 4] : 1.287447272569306\n",
      "Global Best Evaluation is Updated [Iteration 4] : 1.2861142481857342\n"
     ]
    },
    {
     "name": "stderr",
     "output_type": "stream",
     "text": []
    },
    {
     "name": "stdout",
     "output_type": "stream",
     "text": [
      "Global Best Evaluation is Updated [Iteration 6] : 1.2739564533723544\n"
     ]
    },
    {
     "name": "stderr",
     "output_type": "stream",
     "text": []
    },
    {
     "name": "stdout",
     "output_type": "stream",
     "text": [
      "Global Best Evaluation is Updated [Iteration 7] : 1.2695919429001037\n"
     ]
    },
    {
     "name": "stderr",
     "output_type": "stream",
     "text": []
    },
    {
     "name": "stdout",
     "output_type": "stream",
     "text": [
      "Global Best Evaluation is Updated [Iteration 8] : 1.2583417990733425\n",
      "Global Best Evaluation is Updated [Iteration 8] : 1.257736969212994\n",
      "Global Best Evaluation is Updated [Iteration 8] : 1.2042171712559304\n"
     ]
    },
    {
     "name": "stderr",
     "output_type": "stream",
     "text": []
    },
    {
     "name": "stdout",
     "output_type": "stream",
     "text": [
      "Global Best Evaluation is Updated [Iteration 9] : 1.1915920833154803\n",
      "Global Best Evaluation is Updated [Iteration 9] : 1.190899842800574\n",
      "Global Best Evaluation is Updated [Iteration 9] : 1.1896098017055665\n",
      "Global Best Evaluation is Updated [Iteration 9] : 1.189156915033326\n"
     ]
    },
    {
     "name": "stderr",
     "output_type": "stream",
     "text": [
      "100%|██████████| 10/10 [36:20<00:00, 218.07s/it]"
     ]
    },
    {
     "name": "stdout",
     "output_type": "stream",
     "text": [
      "Global Best Evaluation is Updated [Iteration 10] : 1.187095083522909\n"
     ]
    },
    {
     "name": "stderr",
     "output_type": "stream",
     "text": [
      "\n",
      " 19%|█▉        | 8/42 [3:35:56<16:37:15, 1759.86s/it]"
     ]
    },
    {
     "name": "stdout",
     "output_type": "stream",
     "text": [
      "Starting PSO >>> Initial Global Best Evaluation : 1.1916135320313255\n"
     ]
    },
    {
     "name": "stderr",
     "output_type": "stream",
     "text": []
    },
    {
     "name": "stdout",
     "output_type": "stream",
     "text": [
      "Global Best Evaluation is Updated [Iteration 1] : 1.1131974636984694\n"
     ]
    },
    {
     "name": "stderr",
     "output_type": "stream",
     "text": []
    },
    {
     "name": "stdout",
     "output_type": "stream",
     "text": [
      "Global Best Evaluation is Updated [Iteration 2] : 1.000967982342545\n",
      "Global Best Evaluation is Updated [Iteration 2] : 0.9198211948496071\n"
     ]
    },
    {
     "name": "stderr",
     "output_type": "stream",
     "text": []
    },
    {
     "name": "stdout",
     "output_type": "stream",
     "text": [
      "Global Best Evaluation is Updated [Iteration 6] : 0.8905887104731913\n"
     ]
    },
    {
     "name": "stderr",
     "output_type": "stream",
     "text": []
    },
    {
     "name": "stdout",
     "output_type": "stream",
     "text": [
      "Global Best Evaluation is Updated [Iteration 7] : 0.8903204412453667\n",
      "Global Best Evaluation is Updated [Iteration 7] : 0.8893870535651709\n",
      "Global Best Evaluation is Updated [Iteration 7] : 0.8653060708144007\n",
      "Global Best Evaluation is Updated [Iteration 7] : 0.8635269473737921\n"
     ]
    },
    {
     "name": "stderr",
     "output_type": "stream",
     "text": []
    },
    {
     "name": "stdout",
     "output_type": "stream",
     "text": [
      "Global Best Evaluation is Updated [Iteration 8] : 0.861045564849533\n",
      "Global Best Evaluation is Updated [Iteration 8] : 0.8530668825508716\n"
     ]
    },
    {
     "name": "stderr",
     "output_type": "stream",
     "text": []
    },
    {
     "name": "stdout",
     "output_type": "stream",
     "text": [
      "Global Best Evaluation is Updated [Iteration 9] : 0.8525512130630375\n"
     ]
    },
    {
     "name": "stderr",
     "output_type": "stream",
     "text": [
      "100%|██████████| 10/10 [28:46<00:00, 172.61s/it]"
     ]
    },
    {
     "name": "stdout",
     "output_type": "stream",
     "text": [
      "Global Best Evaluation is Updated [Iteration 10] : 0.8515005630922345\n",
      "Global Best Evaluation is Updated [Iteration 10] : 0.847496853053701\n"
     ]
    },
    {
     "name": "stderr",
     "output_type": "stream",
     "text": [
      "\n",
      " 21%|██▏       | 9/42 [4:07:32<16:31:22, 1802.51s/it]"
     ]
    },
    {
     "name": "stdout",
     "output_type": "stream",
     "text": [
      "Starting PSO >>> Initial Global Best Evaluation : 1.0853401441264618\n"
     ]
    },
    {
     "name": "stderr",
     "output_type": "stream",
     "text": []
    },
    {
     "name": "stdout",
     "output_type": "stream",
     "text": [
      "Global Best Evaluation is Updated [Iteration 1] : 1.066991350082874\n",
      "Global Best Evaluation is Updated [Iteration 1] : 1.0256205865985322\n"
     ]
    },
    {
     "name": "stderr",
     "output_type": "stream",
     "text": []
    },
    {
     "name": "stdout",
     "output_type": "stream",
     "text": [
      "Global Best Evaluation is Updated [Iteration 2] : 1.0047647256668095\n"
     ]
    },
    {
     "name": "stderr",
     "output_type": "stream",
     "text": []
    },
    {
     "name": "stdout",
     "output_type": "stream",
     "text": [
      "Global Best Evaluation is Updated [Iteration 3] : 1.001064449484097\n"
     ]
    },
    {
     "name": "stderr",
     "output_type": "stream",
     "text": []
    },
    {
     "name": "stdout",
     "output_type": "stream",
     "text": [
      "Global Best Evaluation is Updated [Iteration 4] : 0.9900730776336448\n",
      "Global Best Evaluation is Updated [Iteration 4] : 0.981195922107166\n",
      "Global Best Evaluation is Updated [Iteration 4] : 0.9788662453692643\n"
     ]
    },
    {
     "name": "stderr",
     "output_type": "stream",
     "text": []
    },
    {
     "name": "stdout",
     "output_type": "stream",
     "text": [
      "Global Best Evaluation is Updated [Iteration 6] : 0.9772127881619762\n",
      "Global Best Evaluation is Updated [Iteration 6] : 0.9731735871634066\n",
      "Global Best Evaluation is Updated [Iteration 6] : 0.9689281179313461\n"
     ]
    },
    {
     "name": "stderr",
     "output_type": "stream",
     "text": []
    },
    {
     "name": "stdout",
     "output_type": "stream",
     "text": [
      "Global Best Evaluation is Updated [Iteration 7] : 0.967689984711968\n",
      "Global Best Evaluation is Updated [Iteration 7] : 0.9673230287968567\n"
     ]
    },
    {
     "name": "stderr",
     "output_type": "stream",
     "text": []
    },
    {
     "name": "stdout",
     "output_type": "stream",
     "text": [
      "Global Best Evaluation is Updated [Iteration 8] : 0.9605201274173398\n"
     ]
    },
    {
     "name": "stderr",
     "output_type": "stream",
     "text": []
    },
    {
     "name": "stdout",
     "output_type": "stream",
     "text": [
      "Global Best Evaluation is Updated [Iteration 9] : 0.9541368429972197\n",
      "Global Best Evaluation is Updated [Iteration 9] : 0.9513306831241322\n"
     ]
    },
    {
     "name": "stderr",
     "output_type": "stream",
     "text": [
      "100%|██████████| 10/10 [21:00<00:00, 126.01s/it]"
     ]
    },
    {
     "name": "stdout",
     "output_type": "stream",
     "text": [
      "Global Best Evaluation is Updated [Iteration 10] : 0.9507922080756165\n",
      "Global Best Evaluation is Updated [Iteration 10] : 0.9507767067118217\n",
      "Global Best Evaluation is Updated [Iteration 10] : 0.9505387340996687\n",
      "Global Best Evaluation is Updated [Iteration 10] : 0.9503768393574648\n"
     ]
    },
    {
     "name": "stderr",
     "output_type": "stream",
     "text": [
      "\n",
      " 24%|██▍       | 10/42 [4:30:55<14:55:31, 1679.12s/it]"
     ]
    },
    {
     "name": "stdout",
     "output_type": "stream",
     "text": [
      "Starting PSO >>> Initial Global Best Evaluation : 1.297114716091226\n"
     ]
    },
    {
     "name": "stderr",
     "output_type": "stream",
     "text": []
    },
    {
     "name": "stdout",
     "output_type": "stream",
     "text": [
      "Global Best Evaluation is Updated [Iteration 1] : 1.2962594312795181\n",
      "Global Best Evaluation is Updated [Iteration 1] : 1.2802496740759854\n"
     ]
    },
    {
     "name": "stderr",
     "output_type": "stream",
     "text": []
    },
    {
     "name": "stdout",
     "output_type": "stream",
     "text": [
      "Global Best Evaluation is Updated [Iteration 2] : 1.279202161409595\n",
      "Global Best Evaluation is Updated [Iteration 2] : 1.2773546201655046\n"
     ]
    },
    {
     "name": "stderr",
     "output_type": "stream",
     "text": []
    },
    {
     "name": "stdout",
     "output_type": "stream",
     "text": [
      "Global Best Evaluation is Updated [Iteration 3] : 1.2673311927379398\n"
     ]
    },
    {
     "name": "stderr",
     "output_type": "stream",
     "text": []
    },
    {
     "name": "stdout",
     "output_type": "stream",
     "text": [
      "Global Best Evaluation is Updated [Iteration 4] : 1.2645804945449055\n",
      "Global Best Evaluation is Updated [Iteration 4] : 1.2622798240807334\n"
     ]
    },
    {
     "name": "stderr",
     "output_type": "stream",
     "text": []
    },
    {
     "name": "stdout",
     "output_type": "stream",
     "text": [
      "Global Best Evaluation is Updated [Iteration 5] : 1.259623922743239\n",
      "Global Best Evaluation is Updated [Iteration 5] : 1.219262872480959\n"
     ]
    },
    {
     "name": "stderr",
     "output_type": "stream",
     "text": []
    },
    {
     "name": "stdout",
     "output_type": "stream",
     "text": [
      "Global Best Evaluation is Updated [Iteration 6] : 1.2164154185425842\n",
      "Global Best Evaluation is Updated [Iteration 6] : 1.2130426194183497\n",
      "Global Best Evaluation is Updated [Iteration 6] : 1.2128407436219557\n"
     ]
    },
    {
     "name": "stderr",
     "output_type": "stream",
     "text": []
    },
    {
     "name": "stdout",
     "output_type": "stream",
     "text": [
      "Global Best Evaluation is Updated [Iteration 7] : 1.1988634888646001\n",
      "Global Best Evaluation is Updated [Iteration 7] : 1.1961836988977694\n"
     ]
    },
    {
     "name": "stderr",
     "output_type": "stream",
     "text": []
    },
    {
     "name": "stdout",
     "output_type": "stream",
     "text": [
      "Global Best Evaluation is Updated [Iteration 8] : 1.1889383374992524\n",
      "Global Best Evaluation is Updated [Iteration 8] : 1.1872200867739642\n",
      "Global Best Evaluation is Updated [Iteration 8] : 1.1861010098971758\n"
     ]
    },
    {
     "name": "stderr",
     "output_type": "stream",
     "text": []
    },
    {
     "name": "stdout",
     "output_type": "stream",
     "text": [
      "Global Best Evaluation is Updated [Iteration 9] : 1.1839194669274435\n",
      "Global Best Evaluation is Updated [Iteration 9] : 1.1825668720698639\n",
      "Global Best Evaluation is Updated [Iteration 9] : 1.1800446838436172\n"
     ]
    },
    {
     "name": "stderr",
     "output_type": "stream",
     "text": [
      "100%|██████████| 10/10 [28:01<00:00, 168.13s/it]"
     ]
    },
    {
     "name": "stdout",
     "output_type": "stream",
     "text": [
      "Global Best Evaluation is Updated [Iteration 10] : 1.1791163239603855\n",
      "Global Best Evaluation is Updated [Iteration 10] : 1.171346578484583\n"
     ]
    },
    {
     "name": "stderr",
     "output_type": "stream",
     "text": [
      "\n",
      " 26%|██▌       | 11/42 [5:01:55<14:56:05, 1734.38s/it]"
     ]
    },
    {
     "name": "stdout",
     "output_type": "stream",
     "text": [
      "Starting PSO >>> Initial Global Best Evaluation : 1.2633126809566608\n"
     ]
    },
    {
     "name": "stderr",
     "output_type": "stream",
     "text": []
    },
    {
     "name": "stdout",
     "output_type": "stream",
     "text": [
      "Global Best Evaluation is Updated [Iteration 1] : 1.2613725647374379\n"
     ]
    },
    {
     "name": "stderr",
     "output_type": "stream",
     "text": []
    },
    {
     "name": "stdout",
     "output_type": "stream",
     "text": [
      "Global Best Evaluation is Updated [Iteration 2] : 1.2608878552927367\n",
      "Global Best Evaluation is Updated [Iteration 2] : 1.2518266670838785\n",
      "Global Best Evaluation is Updated [Iteration 2] : 1.2470485335839885\n",
      "Global Best Evaluation is Updated [Iteration 2] : 1.2465410017017207\n"
     ]
    },
    {
     "name": "stderr",
     "output_type": "stream",
     "text": []
    },
    {
     "name": "stdout",
     "output_type": "stream",
     "text": [
      "Global Best Evaluation is Updated [Iteration 3] : 1.2378065127722755\n"
     ]
    },
    {
     "name": "stderr",
     "output_type": "stream",
     "text": []
    },
    {
     "name": "stdout",
     "output_type": "stream",
     "text": [
      "Global Best Evaluation is Updated [Iteration 4] : 1.2233683282647232\n"
     ]
    },
    {
     "name": "stderr",
     "output_type": "stream",
     "text": []
    },
    {
     "name": "stdout",
     "output_type": "stream",
     "text": [
      "Global Best Evaluation is Updated [Iteration 5] : 1.2212957164051181\n",
      "Global Best Evaluation is Updated [Iteration 5] : 1.2205283704511118\n"
     ]
    },
    {
     "name": "stderr",
     "output_type": "stream",
     "text": []
    },
    {
     "name": "stdout",
     "output_type": "stream",
     "text": [
      "Global Best Evaluation is Updated [Iteration 6] : 1.2191964722714794\n",
      "Global Best Evaluation is Updated [Iteration 6] : 1.2183187655205243\n",
      "Global Best Evaluation is Updated [Iteration 6] : 1.2168933479184054\n"
     ]
    },
    {
     "name": "stderr",
     "output_type": "stream",
     "text": []
    },
    {
     "name": "stdout",
     "output_type": "stream",
     "text": [
      "Global Best Evaluation is Updated [Iteration 7] : 1.2151867022901315\n"
     ]
    },
    {
     "name": "stderr",
     "output_type": "stream",
     "text": []
    },
    {
     "name": "stdout",
     "output_type": "stream",
     "text": [
      "Global Best Evaluation is Updated [Iteration 8] : 1.2144297325578508\n",
      "Global Best Evaluation is Updated [Iteration 8] : 1.2141214612613873\n"
     ]
    },
    {
     "name": "stderr",
     "output_type": "stream",
     "text": []
    },
    {
     "name": "stdout",
     "output_type": "stream",
     "text": [
      "Global Best Evaluation is Updated [Iteration 9] : 1.2138396962986657\n",
      "Global Best Evaluation is Updated [Iteration 9] : 1.2135314759941496\n",
      "Global Best Evaluation is Updated [Iteration 9] : 1.212171369765329\n"
     ]
    },
    {
     "name": "stderr",
     "output_type": "stream",
     "text": [
      "100%|██████████| 10/10 [33:59<00:00, 203.94s/it]"
     ]
    },
    {
     "name": "stdout",
     "output_type": "stream",
     "text": [
      "Global Best Evaluation is Updated [Iteration 10] : 1.212034668692338\n",
      "Global Best Evaluation is Updated [Iteration 10] : 1.2117034243532636\n",
      "Global Best Evaluation is Updated [Iteration 10] : 1.2114423524576008\n",
      "Global Best Evaluation is Updated [Iteration 10] : 1.2113587423889567\n"
     ]
    },
    {
     "name": "stderr",
     "output_type": "stream",
     "text": [
      "\n",
      " 29%|██▊       | 12/42 [5:38:58<15:41:35, 1883.17s/it]"
     ]
    },
    {
     "name": "stdout",
     "output_type": "stream",
     "text": [
      "Starting PSO >>> Initial Global Best Evaluation : 0.8744511627244528\n"
     ]
    },
    {
     "name": "stderr",
     "output_type": "stream",
     "text": []
    },
    {
     "name": "stdout",
     "output_type": "stream",
     "text": [
      "Global Best Evaluation is Updated [Iteration 1] : 0.7706900159106643\n",
      "Global Best Evaluation is Updated [Iteration 1] : 0.6344155409512641\n"
     ]
    },
    {
     "name": "stderr",
     "output_type": "stream",
     "text": []
    },
    {
     "name": "stdout",
     "output_type": "stream",
     "text": [
      "Global Best Evaluation is Updated [Iteration 2] : 0.6298165371802869\n",
      "Global Best Evaluation is Updated [Iteration 2] : 0.5591334104100295\n",
      "Global Best Evaluation is Updated [Iteration 2] : 0.5563304083815824\n"
     ]
    },
    {
     "name": "stderr",
     "output_type": "stream",
     "text": []
    },
    {
     "name": "stdout",
     "output_type": "stream",
     "text": [
      "Global Best Evaluation is Updated [Iteration 4] : 0.548186726219562\n",
      "Global Best Evaluation is Updated [Iteration 4] : 0.48081448455075204\n"
     ]
    },
    {
     "name": "stderr",
     "output_type": "stream",
     "text": []
    },
    {
     "name": "stdout",
     "output_type": "stream",
     "text": [
      "Global Best Evaluation is Updated [Iteration 5] : 0.4712221043133429\n",
      "Global Best Evaluation is Updated [Iteration 5] : 0.4491184906500617\n"
     ]
    },
    {
     "name": "stderr",
     "output_type": "stream",
     "text": []
    },
    {
     "name": "stdout",
     "output_type": "stream",
     "text": [
      "Global Best Evaluation is Updated [Iteration 6] : 0.44846801123971897\n"
     ]
    },
    {
     "name": "stderr",
     "output_type": "stream",
     "text": []
    },
    {
     "name": "stdout",
     "output_type": "stream",
     "text": [
      "Global Best Evaluation is Updated [Iteration 7] : 0.44460566701213067\n"
     ]
    },
    {
     "name": "stderr",
     "output_type": "stream",
     "text": [
      "100%|██████████| 10/10 [18:29<00:00, 110.91s/it]"
     ]
    },
    {
     "name": "stdout",
     "output_type": "stream",
     "text": [
      "Global Best Evaluation is Updated [Iteration 10] : 0.4406973269865909\n"
     ]
    },
    {
     "name": "stderr",
     "output_type": "stream",
     "text": [
      "\n",
      " 31%|███       | 13/42 [5:59:25<13:34:03, 1684.26s/it]"
     ]
    },
    {
     "name": "stdout",
     "output_type": "stream",
     "text": [
      "Starting PSO >>> Initial Global Best Evaluation : 0.7660496861022442\n"
     ]
    },
    {
     "name": "stderr",
     "output_type": "stream",
     "text": []
    },
    {
     "name": "stdout",
     "output_type": "stream",
     "text": [
      "Global Best Evaluation is Updated [Iteration 1] : 0.6163707724139694\n",
      "Global Best Evaluation is Updated [Iteration 1] : 0.587256064679887\n"
     ]
    },
    {
     "name": "stderr",
     "output_type": "stream",
     "text": []
    },
    {
     "name": "stdout",
     "output_type": "stream",
     "text": [
      "Global Best Evaluation is Updated [Iteration 2] : 0.585586676701886\n"
     ]
    },
    {
     "name": "stderr",
     "output_type": "stream",
     "text": []
    },
    {
     "name": "stdout",
     "output_type": "stream",
     "text": [
      "Global Best Evaluation is Updated [Iteration 3] : 0.5844576360603789\n",
      "Global Best Evaluation is Updated [Iteration 3] : 0.5642154031376495\n",
      "Global Best Evaluation is Updated [Iteration 3] : 0.5176249561073918\n"
     ]
    },
    {
     "name": "stderr",
     "output_type": "stream",
     "text": []
    },
    {
     "name": "stdout",
     "output_type": "stream",
     "text": [
      "Global Best Evaluation is Updated [Iteration 4] : 0.5021641654364394\n"
     ]
    },
    {
     "name": "stderr",
     "output_type": "stream",
     "text": []
    },
    {
     "name": "stdout",
     "output_type": "stream",
     "text": [
      "Global Best Evaluation is Updated [Iteration 8] : 0.49640812446926086\n"
     ]
    },
    {
     "name": "stderr",
     "output_type": "stream",
     "text": []
    },
    {
     "name": "stdout",
     "output_type": "stream",
     "text": [
      "Global Best Evaluation is Updated [Iteration 9] : 0.4896353686348475\n",
      "Global Best Evaluation is Updated [Iteration 9] : 0.4870039070461928\n",
      "Global Best Evaluation is Updated [Iteration 9] : 0.48355418599697486\n"
     ]
    },
    {
     "name": "stderr",
     "output_type": "stream",
     "text": [
      "100%|██████████| 10/10 [17:55<00:00, 107.59s/it]"
     ]
    },
    {
     "name": "stdout",
     "output_type": "stream",
     "text": [
      "Global Best Evaluation is Updated [Iteration 10] : 0.48196487485000855\n",
      "Global Best Evaluation is Updated [Iteration 10] : 0.476530981583258\n"
     ]
    },
    {
     "name": "stderr",
     "output_type": "stream",
     "text": [
      "\n",
      " 33%|███▎      | 14/42 [6:19:12<11:55:53, 1534.04s/it]"
     ]
    },
    {
     "name": "stdout",
     "output_type": "stream",
     "text": [
      "Starting PSO >>> Initial Global Best Evaluation : 1.0208697606838701\n"
     ]
    },
    {
     "name": "stderr",
     "output_type": "stream",
     "text": []
    },
    {
     "name": "stdout",
     "output_type": "stream",
     "text": [
      "Global Best Evaluation is Updated [Iteration 1] : 1.0146084924221808\n"
     ]
    },
    {
     "name": "stderr",
     "output_type": "stream",
     "text": []
    },
    {
     "name": "stdout",
     "output_type": "stream",
     "text": [
      "Global Best Evaluation is Updated [Iteration 2] : 0.9941250659880524\n",
      "Global Best Evaluation is Updated [Iteration 2] : 0.9465418850237799\n"
     ]
    },
    {
     "name": "stderr",
     "output_type": "stream",
     "text": []
    },
    {
     "name": "stdout",
     "output_type": "stream",
     "text": [
      "Global Best Evaluation is Updated [Iteration 3] : 0.9331719313339087\n",
      "Global Best Evaluation is Updated [Iteration 3] : 0.9330283468177086\n",
      "Global Best Evaluation is Updated [Iteration 3] : 0.9252069913050014\n"
     ]
    },
    {
     "name": "stderr",
     "output_type": "stream",
     "text": []
    },
    {
     "name": "stdout",
     "output_type": "stream",
     "text": [
      "Global Best Evaluation is Updated [Iteration 4] : 0.8988100366907992\n"
     ]
    },
    {
     "name": "stderr",
     "output_type": "stream",
     "text": []
    },
    {
     "name": "stdout",
     "output_type": "stream",
     "text": [
      "Global Best Evaluation is Updated [Iteration 5] : 0.8972411711639817\n"
     ]
    },
    {
     "name": "stderr",
     "output_type": "stream",
     "text": []
    },
    {
     "name": "stdout",
     "output_type": "stream",
     "text": [
      "Global Best Evaluation is Updated [Iteration 7] : 0.8969806058225032\n"
     ]
    },
    {
     "name": "stderr",
     "output_type": "stream",
     "text": []
    },
    {
     "name": "stdout",
     "output_type": "stream",
     "text": [
      "Global Best Evaluation is Updated [Iteration 9] : 0.8967260238622216\n",
      "Global Best Evaluation is Updated [Iteration 9] : 0.8961743040643476\n"
     ]
    },
    {
     "name": "stderr",
     "output_type": "stream",
     "text": [
      "100%|██████████| 10/10 [18:46<00:00, 112.67s/it]"
     ]
    },
    {
     "name": "stdout",
     "output_type": "stream",
     "text": [
      "Global Best Evaluation is Updated [Iteration 10] : 0.8955878413684077\n"
     ]
    },
    {
     "name": "stderr",
     "output_type": "stream",
     "text": [
      "\n",
      " 36%|███▌      | 15/42 [6:39:59<10:51:28, 1447.71s/it]"
     ]
    },
    {
     "name": "stdout",
     "output_type": "stream",
     "text": [
      "Starting PSO >>> Initial Global Best Evaluation : 0.8801919678957904\n"
     ]
    },
    {
     "name": "stderr",
     "output_type": "stream",
     "text": []
    },
    {
     "name": "stdout",
     "output_type": "stream",
     "text": [
      "Global Best Evaluation is Updated [Iteration 1] : 0.6930429252143868\n",
      "Global Best Evaluation is Updated [Iteration 1] : 0.5995000356175249\n",
      "Global Best Evaluation is Updated [Iteration 1] : 0.45843675484713575\n"
     ]
    },
    {
     "name": "stderr",
     "output_type": "stream",
     "text": []
    },
    {
     "name": "stdout",
     "output_type": "stream",
     "text": [
      "Global Best Evaluation is Updated [Iteration 2] : 0.3714498623982819\n"
     ]
    },
    {
     "name": "stderr",
     "output_type": "stream",
     "text": []
    },
    {
     "name": "stdout",
     "output_type": "stream",
     "text": [
      "Global Best Evaluation is Updated [Iteration 4] : 0.3618685701972696\n"
     ]
    },
    {
     "name": "stderr",
     "output_type": "stream",
     "text": []
    },
    {
     "name": "stdout",
     "output_type": "stream",
     "text": [
      "Global Best Evaluation is Updated [Iteration 5] : 0.3599724852401037\n"
     ]
    },
    {
     "name": "stderr",
     "output_type": "stream",
     "text": []
    },
    {
     "name": "stdout",
     "output_type": "stream",
     "text": [
      "Global Best Evaluation is Updated [Iteration 6] : 0.34663510229152966\n"
     ]
    },
    {
     "name": "stderr",
     "output_type": "stream",
     "text": []
    },
    {
     "name": "stdout",
     "output_type": "stream",
     "text": [
      "Global Best Evaluation is Updated [Iteration 7] : 0.34503698667036814\n"
     ]
    },
    {
     "name": "stderr",
     "output_type": "stream",
     "text": []
    },
    {
     "name": "stdout",
     "output_type": "stream",
     "text": [
      "Global Best Evaluation is Updated [Iteration 9] : 0.3428641999040418\n"
     ]
    },
    {
     "name": "stderr",
     "output_type": "stream",
     "text": [
      "100%|██████████| 10/10 [19:28<00:00, 116.82s/it]"
     ]
    },
    {
     "name": "stdout",
     "output_type": "stream",
     "text": [
      "Global Best Evaluation is Updated [Iteration 10] : 0.34256455823246923\n"
     ]
    },
    {
     "name": "stderr",
     "output_type": "stream",
     "text": [
      "\n",
      " 38%|███▊      | 16/42 [7:01:28<10:06:32, 1399.71s/it]"
     ]
    },
    {
     "name": "stdout",
     "output_type": "stream",
     "text": [
      "Starting PSO >>> Initial Global Best Evaluation : 0.9358855742147083\n"
     ]
    },
    {
     "name": "stderr",
     "output_type": "stream",
     "text": []
    },
    {
     "name": "stdout",
     "output_type": "stream",
     "text": [
      "Global Best Evaluation is Updated [Iteration 1] : 0.884516295705656\n"
     ]
    },
    {
     "name": "stderr",
     "output_type": "stream",
     "text": []
    }
   ],
   "source": [
    "# 独自定義のラベルを適用するためにまず辞書を作る\n",
    "small = [\n",
    "    \"睡眠\", \"食事\", \"身のまわりの用事\", \"療養・静養\", \"仕事\", \"仕事のつきあい\", \n",
    "    \"授業・学内の活動\", \"学校外の学習\", \"炊事・掃除・洗濯\", \"買い物\", \n",
    "    \"子どもの世話\", \"家庭雑事\", \"通勤\", \"通学\", \"社会参加\", \"会話・交際\", \n",
    "    \"スポーツ\", \"行楽・散策\", \"趣味・娯楽・教養(インターネット除く)\", \n",
    "    \"趣味・娯楽・教養のインターネット(動画除く)\", \"インターネット動画\", \n",
    "    \"テレビ\", \"録画番組・DVD\", \"ラジオ\", \"新聞\", \"雑誌・マンガ・本\", \n",
    "    \"音楽\", \"休息\", \"その他\", \"不明\"\n",
    "]\n",
    "label_master = pd.read_csv(DIR_GENRE)\n",
    "label_dict = {}\n",
    "for k,v in zip(label_master[\"小分類\"],label_master[\"モデル用定義\"]):\n",
    "    label_dict[k]=v\n",
    "\n",
    "# 行動種別の並び順管理\n",
    "ACTIVITY_ORDERING = ['睡眠', '食事', '身のまわりの用事', '療養・静養', '仕事', '仕事のつきあい', '授業・学内の活動',\n",
    "       '学校外の学習', '炊事・掃除・洗濯', '買い物', '子どもの世話', '家庭雑事', '通勤', '通学', '社会参加',\n",
    "       '会話・交際', 'スポーツ', '行楽・散策', '趣味・娯楽・教養', 'マスメディア接触', '休息']\n",
    "\n",
    "# label_master[\"モデル用定義\"].unique()\n",
    "\n",
    "\n",
    "# PSOのパラメータ\n",
    "num_particles = 50  # 粒子の数\n",
    "n_iterations = 10  # 反復回数\n",
    "w = 0.5  # 慣性項\n",
    "c1 = 1.5  # 粒子の最良位置への係数\n",
    "c2 = 1.5  # 全体の最良位置への係数\n",
    "\n",
    "# for label in tqdm([\n",
    "#         '男１０代', '男２０代', '男３０代', '男４０代', '男５０代', '男６０代', '男７０歳以上',\n",
    "#         '女１０代', '女２０代', '女３０代', '女４０代', '女５０代', '女６０代', '女７０歳以上']):\n",
    "#     for day in ([\"平日\",\"土曜日\",\"日曜日\"]):\n",
    "\n",
    "for label,day in tqdm(sorted_groups):\n",
    "\n",
    "    # 時間帯ごとの行為者率テーブルの処理\n",
    "    data_hourly = pd.read_csv(DIR_HOURLY)\n",
    "    data_hourly = data_hourly.set_axis([\"Day\",\"Group\",\"Activity\",\"Time\",\"Rate\"],axis=1)\n",
    "    data_hourly[\"Time\"] = pd.to_datetime(data_hourly[\"Time\"], format=\"%H:%M\")\n",
    "    data_hourly = data_hourly.query(\"Group == @label & Activity in @small & Day == @day\")\n",
    "    data_hourly[\"Activity\"] = data_hourly[\"Activity\"].map(label_dict) # 独自定義のラベル適用\n",
    "    data_hourly_cleaned = data_hourly[[\"Activity\",\"Time\",\"Rate\"]].groupby([\"Time\",\"Activity\"],as_index=False).sum().copy()\n",
    "    data_hourly_cleaned = data_hourly_cleaned.sort_values(by=\"Time\")\n",
    "    # 一日の行為者率のテーブルの処理\n",
    "    data_full_day = pd.read_csv(DIR_FULL_DAY)\n",
    "    df1 = data_full_day.copy()\n",
    "    data_full_day = data_full_day.set_axis([\"Day\",\"Group\",\"Activity\",\"DailyRate\",\"NetAverageTime\",\"GrossAverageTime\",\"Gross_SD\"],axis=1)\n",
    "    df2 = data_full_day.copy()\n",
    "    data_full_day = data_full_day.query(\"Group == @label & Activity in @small & Day == @day\")\n",
    "    df3 = data_full_day.copy()\n",
    "    data_full_day[\"Activity\"] = data_full_day[\"Activity\"].map(label_dict) # 独自定義のラベル適用\n",
    "    data_full_day_cleaned = data_full_day[[\"Activity\",\"DailyRate\"]].groupby([\"Activity\"],as_index=False).sum().copy()\n",
    "    df4 = data_full_day.copy()\n",
    "    data_full_day_cleaned = sort_df_by_list(data_full_day_cleaned,\"Activity\",ACTIVITY_ORDERING)\n",
    "    Orig_P_i = (data_full_day_cleaned[\"DailyRate\"]/100).to_list()\n",
    "    # アクティビティと時間のリストを取得\n",
    "    time_list_hourly = data_hourly_cleaned['Time'].unique()\n",
    "\n",
    "\n",
    "    # パラメータの設定\n",
    "    bounds = np.array([[0.0, 1.0] for _ in range(len(ACTIVITY_ORDERING))])\n",
    "\n",
    "    # 最適化の実行\n",
    "    best_solution, best_evaluation = pso(objective=objective, bounds=bounds, n_iterations=n_iterations, \n",
    "                                        num_particles=num_particles, w=w, c1=c1, c2=c2, \n",
    "                                        time_list=time_list_hourly, time_table=data_hourly_cleaned, \n",
    "                                        activity_ordering=ACTIVITY_ORDERING, orig_P_i=Orig_P_i)\n",
    "    \n",
    "    # pickleで保存\n",
    "    with open(f\"Z:/lab/lifebehavior/βパラメータ_{label}_{day}-{str(best_evaluation)}-.pickle\", 'wb') as f:\n",
    "        pickle.dump(best_solution, f)\n",
    "    transition_rates = calc_transition_rates(best_solution, time_list_hourly, data_hourly_cleaned, ACTIVITY_ORDERING)\n",
    "    with open(f\"Z:/lab/lifebehavior/遷移確率_{label}_{day}-{str(best_evaluation)}-.pickle\", 'wb') as f:\n",
    "        pickle.dump(transition_rates, f)"
   ]
  },
  {
   "cell_type": "code",
   "execution_count": null,
   "metadata": {},
   "outputs": [],
   "source": []
  }
 ],
 "metadata": {
  "kernelspec": {
   "display_name": "geo_env",
   "language": "python",
   "name": "python3"
  },
  "language_info": {
   "codemirror_mode": {
    "name": "ipython",
    "version": 3
   },
   "file_extension": ".py",
   "mimetype": "text/x-python",
   "name": "python",
   "nbconvert_exporter": "python",
   "pygments_lexer": "ipython3",
   "version": "3.12.0"
  }
 },
 "nbformat": 4,
 "nbformat_minor": 2
}
