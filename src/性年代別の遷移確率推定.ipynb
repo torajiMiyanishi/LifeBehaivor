{
 "cells": [
  {
   "cell_type": "code",
   "execution_count": 1,
   "metadata": {},
   "outputs": [
    {
     "name": "stdout",
     "output_type": "stream",
     "text": [
      "(CVXPY) Sep 18 09:36:48 PM: Encountered unexpected exception importing solver OSQP:\n",
      "ImportError('DLL load failed while importing qdldl: 指定されたモジュールが見つかりません。')\n"
     ]
    }
   ],
   "source": [
    "import random\n",
    "import pandas as pd\n",
    "import numpy as np\n",
    "import pickle\n",
    "import cvxpy as cp\n",
    "import seaborn as sns\n",
    "import matplotlib.pyplot as plt\n",
    "import matplotlib\n",
    "from tqdm import tqdm\n",
    "import os\n",
    "from concurrent.futures import ThreadPoolExecutor\n",
    "\n",
    "\n",
    "\"\"\"pathの定義\"\"\"\n",
    "DIR_HOURLY = 'Z:/lab/lifebehavior/2020_jikoku_danjonenso.csv'\n",
    "DIR_FULL_DAY = 'Z:/lab/lifebehavior/2020_4shihyo_danjonenso.csv'\n",
    "DIR_GENRE = 'Z:/lab/lifebehavior/nhk_genre.csv'\n",
    "\n",
    "\n",
    "\n",
    "def calc_list_diff(list1:list, list2:list):\n",
    "    # リストの長さが異なる場合のエラーチェック\n",
    "    if len(list1) != len(list2):\n",
    "        raise ValueError(\"リストの長さが異なります。\")\n",
    "    \n",
    "    # 各要素の差分を計算して新しいリストを生成\n",
    "    difference = [a - b for a, b in zip(list1, list2)]\n",
    "    return difference\n",
    "\n",
    "# not P_iの算出による P_iの算出\n",
    "def get_P_i(hourly_table:pd.DataFrame,Transition_rates:list,activity_ordering:list):\n",
    "    t_0_table = sort_df_by_list(hourly_table[(hourly_table[\"Time\"].dt.hour == 0) & (hourly_table[\"Time\"].dt.minute == 0)],\"Activity\",activity_ordering).copy()\n",
    "    initial_rate = np.array(t_0_table[\"Rate\"])\n",
    "\n",
    "    # 正規化\n",
    "    initial_rate = initial_rate / np.sum(initial_rate)\n",
    "\n",
    "    P_i_list = []\n",
    "    for i in range(len(activity_ordering)):\n",
    "\n",
    "        # 行列の加工\n",
    "        n = len(initial_rate)\n",
    "        one_vector = np.ones(n)\n",
    "        modified_transition_rates = []\n",
    "\n",
    "        for A in Transition_rates:\n",
    "            A_i = A.copy()\n",
    "            A_i[i, :] = 0  # 行 i を全て 0 に置き換える\n",
    "            modified_transition_rates.append(A_i)\n",
    "\n",
    "        # 初期行為者率ベクトルの加工\n",
    "        modified_initial_rate = initial_rate.copy()\n",
    "        modified_initial_rate[i] = 0\n",
    "\n",
    "        # 最終的な行為者率ベクトルの計算\n",
    "        final_rate = modified_initial_rate\n",
    "\n",
    "        for A_i in modified_transition_rates:\n",
    "            final_rate = A_i @ final_rate\n",
    "\n",
    "        # 行為 i を一度も行わない確率の計算\n",
    "        P_not_i = one_vector @ final_rate\n",
    "\n",
    "        P_i = 1-P_not_i\n",
    "\n",
    "        # 独自定義のラベルを適用しているため、重複集計の関係上どうしても例外が発生する。\n",
    "        if P_i < 0:\n",
    "            P_i = 0\n",
    "\n",
    "        P_i_list.append(P_i)\n",
    "\n",
    "    return P_i_list\n",
    "\n",
    "# データフレームを参照リストに基づいてソートするヘルパー関数\n",
    "def sort_df_by_list(df, column, reference_list):\n",
    "    return df.set_index(column).reindex(reference_list).reset_index()\n",
    "\n",
    "# 遷移率を計算する関数\n",
    "def calc_transition_rates(beta_i: np.ndarray, time_list: list, time_table: pd.DataFrame, activity_list: list):\n",
    "    transition_rates = []\n",
    "    middle = activity_list  # 活動のリストを基準として使用\n",
    "    \n",
    "    for i in range(len(time_list)):\n",
    "        time_t = time_list[i]\n",
    "        time_t1 = time_list[(i+1) % len(time_list)]  # 次の時間帯\n",
    "        \n",
    "        # 両方の時間帯の行動率を取得\n",
    "        y_t = np.array(sort_df_by_list(time_table[(time_table[\"Time\"].dt.hour == time_t.hour) & (time_table[\"Time\"].dt.minute == time_t.minute) ], \"Activity\", middle)[\"Rate\"])\n",
    "        y_t1 = np.array(sort_df_by_list(time_table[(time_table[\"Time\"].dt.hour == time_t1.hour) & (time_table[\"Time\"].dt.minute == time_t1.minute) ], \"Activity\", middle)[\"Rate\"])\n",
    "        \n",
    "        # 変数の定義\n",
    "        no_of_elem = len(middle)\n",
    "        a = cp.Variable((no_of_elem, no_of_elem), nonneg=True)  # 非負の要素を持つ遷移行列\n",
    "\n",
    "        # 目的関数と制約条件の定義\n",
    "        delta = np.eye(no_of_elem)  # クロネッカーのデルタ\n",
    "        # 目的関数: (1 - beta_i * delta) で修正された、二乗差の合計を最小化\n",
    "        objective = cp.Minimize(cp.sum(cp.multiply(1 - beta_i * delta, cp.square(a))))\n",
    "\n",
    "        # 行の和が1になる制約に変更\n",
    "        constraints = [\n",
    "            cp.sum(a, axis=1) == 1,  # 遷移行列の各行の和が1になる制約\n",
    "            a >= 0,  # 非負制約\n",
    "        ]\n",
    "\n",
    "        # 行動率を正規化\n",
    "        y_t = y_t / np.sum(y_t)\n",
    "        y_t1 = y_t1 / np.sum(y_t1)\n",
    "\n",
    "        # 次の時間帯の行動率と遷移行列の適用が一致する制約\n",
    "        constraints.append(y_t1 - a.T @ y_t == 0)\n",
    "\n",
    "        # 問題を定義する\n",
    "        problem = cp.Problem(objective, constraints)\n",
    "\n",
    "        # ソルバーを使用して問題を解く（別のソルバーを指定して解く）\n",
    "        problem.solve(solver=cp.SCS, verbose=False)\n",
    "\n",
    "        # 得られた遷移行列を格納\n",
    "        transition_rates.append(a.value)\n",
    "\n",
    "    return np.array(transition_rates)\n",
    "\n",
    "def roulette_wheel_selection(weights:list,labels:list):\n",
    "    \"\"\"\n",
    "    Performs roulette wheel selection on a list of weights.\n",
    "    \n",
    "    Args:\n",
    "    weights (list of float): The weights or probabilities for each item.\n",
    "    \n",
    "    Returns:\n",
    "    int: The index of the selected item.\n",
    "    \"\"\"\n",
    "    if (len(weights) != len(labels)):\n",
    "        print(\"weights and labels has different length @roulette_wheel_selection\")\n",
    "        os._exit(1)\n",
    "    # Calculate the cumulative sum of weights\n",
    "    cumulative_sum = [sum(weights[:i+1]) for i in range(len(weights))]\n",
    "    total_sum = cumulative_sum[-1]\n",
    "    \n",
    "    # Generate a random number in the range [0, total_sum)\n",
    "    random_num = random.uniform(0, total_sum)\n",
    "    \n",
    "    # Find the index where the random number would fit in the cumulative sum\n",
    "    for i, cum_sum in enumerate(cumulative_sum):\n",
    "        if random_num < cum_sum:\n",
    "            return i, labels[i]\n",
    "        \n",
    "# 目的関数\n",
    "def objective(beta_i:np.ndarray, time_list:list, time_table:pd.DataFrame, activity_list:list,orig_P_i:list):\n",
    "    transition_rates = calc_transition_rates(beta_i, time_list, time_table, activity_list)\n",
    "    calclated_P_i = get_P_i(time_table,transition_rates,activity_list) # 一日のユニークな行為者率の算出\n",
    "    diff_1 = [e for e in calc_list_diff(orig_P_i,calclated_P_i)]\n",
    "    diff_2 = sum([e**2 for e in diff_1])\n",
    "    return diff_2,diff_1\n",
    "\n",
    "# 各粒子の評価を並列で行う関数\n",
    "def evaluate_particle(objective, particle_position, time_list, time_table, activity_ordering, orig_P_i):\n",
    "    return objective(particle_position, time_list, time_table, activity_ordering, orig_P_i)[0]\n",
    "\n",
    "# βのパラメータフィッティング\n",
    "def pso(objective, bounds, n_iterations, num_particles, w, c1, c2, time_list, time_table, activity_ordering, orig_P_i):\n",
    "    # 粒子の位置と速度を初期化\n",
    "    num_dimensions = len(activity_ordering)\n",
    "    particles_position = np.random.uniform(bounds[:, 0], bounds[:, 1], (num_particles, num_dimensions))\n",
    "    particles_velocity = np.random.uniform(-1, 1, (num_particles, num_dimensions))\n",
    "\n",
    "    # 粒子の最良位置と全体の最良位置を初期化\n",
    "    personal_best_position = particles_position.copy()\n",
    "    \n",
    "    # 並列で初期評価を計算\n",
    "    with ThreadPoolExecutor() as executor:\n",
    "        personal_best_eval = list(executor.map(lambda p: evaluate_particle(objective, p, time_list, time_table, activity_ordering, orig_P_i), particles_position))\n",
    "    \n",
    "    global_best_position = personal_best_position[np.argmin(personal_best_eval)]\n",
    "    global_best_eval = np.min(personal_best_eval)\n",
    "\n",
    "    print(f\"Starting PSO >>> Initial Global Best Evaluation : {global_best_eval}\")\n",
    "\n",
    "    for i in tqdm(range(n_iterations)):\n",
    "        for j in range(num_particles):\n",
    "            # 粒子の速度を更新\n",
    "            r1 = np.random.rand(num_dimensions)\n",
    "            r2 = np.random.rand(num_dimensions)\n",
    "            particles_velocity[j] = (w * particles_velocity[j] +\n",
    "                                     c1 * r1 * (personal_best_position[j] - particles_position[j]) +\n",
    "                                     c2 * r2 * (global_best_position - particles_position[j]))\n",
    "            \n",
    "            # 粒子の位置を更新\n",
    "            particles_position[j] += particles_velocity[j]\n",
    "            particles_position[j] = np.clip(particles_position[j], bounds[:, 0], bounds[:, 1])  # 境界のチェック\n",
    "        \n",
    "        # 並列で各粒子の評価を計算\n",
    "        with ThreadPoolExecutor() as executor:\n",
    "            current_evals = list(executor.map(lambda p: evaluate_particle(objective, p, time_list, time_table, activity_ordering, orig_P_i), particles_position))\n",
    "        \n",
    "        # 粒子の最良位置を更新\n",
    "        for j in range(num_particles):\n",
    "            if current_evals[j] < personal_best_eval[j]:\n",
    "                personal_best_position[j] = particles_position[j].copy()\n",
    "                personal_best_eval[j] = current_evals[j]\n",
    "            \n",
    "            # 全体の最良位置を更新\n",
    "            if current_evals[j] < global_best_eval:\n",
    "                global_best_position = particles_position[j].copy()\n",
    "                global_best_eval = current_evals[j]\n",
    "                print(f\"Global Best Evaluation is Updated [Iteration {i+1}] : {global_best_eval}\")\n",
    "\n",
    "    return global_best_position, global_best_eval"
   ]
  },
  {
   "cell_type": "code",
   "execution_count": 2,
   "metadata": {},
   "outputs": [
    {
     "name": "stderr",
     "output_type": "stream",
     "text": [
      "  0%|          | 0/14 [00:00<?, ?it/s]"
     ]
    },
    {
     "name": "stdout",
     "output_type": "stream",
     "text": [
      "Starting PSO >>> Initial Global Best Evaluation : 0.3884906303148565\n"
     ]
    },
    {
     "name": "stderr",
     "output_type": "stream",
     "text": []
    },
    {
     "name": "stdout",
     "output_type": "stream",
     "text": [
      "Global Best Evaluation is Updated [Iteration 1] : 0.37652479437014214\n",
      "Global Best Evaluation is Updated [Iteration 1] : 0.36792283736571124\n",
      "Global Best Evaluation is Updated [Iteration 1] : 0.35598947811020193\n",
      "Global Best Evaluation is Updated [Iteration 1] : 0.3263701804174426\n",
      "Global Best Evaluation is Updated [Iteration 1] : 0.3070118432752413\n"
     ]
    },
    {
     "name": "stderr",
     "output_type": "stream",
     "text": []
    },
    {
     "name": "stdout",
     "output_type": "stream",
     "text": [
      "Global Best Evaluation is Updated [Iteration 2] : 0.28148442900915815\n",
      "Global Best Evaluation is Updated [Iteration 2] : 0.16680647686634303\n",
      "Global Best Evaluation is Updated [Iteration 2] : 0.1242840704067568\n"
     ]
    },
    {
     "name": "stderr",
     "output_type": "stream",
     "text": []
    },
    {
     "name": "stdout",
     "output_type": "stream",
     "text": [
      "Global Best Evaluation is Updated [Iteration 3] : 0.10404409821966126\n",
      "Global Best Evaluation is Updated [Iteration 3] : 0.1020916484359986\n",
      "Global Best Evaluation is Updated [Iteration 3] : 0.09555940748608992\n"
     ]
    },
    {
     "name": "stderr",
     "output_type": "stream",
     "text": []
    },
    {
     "name": "stdout",
     "output_type": "stream",
     "text": [
      "Global Best Evaluation is Updated [Iteration 4] : 0.09053039097513595\n",
      "Global Best Evaluation is Updated [Iteration 4] : 0.0861058460331764\n"
     ]
    },
    {
     "name": "stderr",
     "output_type": "stream",
     "text": []
    },
    {
     "name": "stdout",
     "output_type": "stream",
     "text": [
      "Global Best Evaluation is Updated [Iteration 5] : 0.07871342579984046\n",
      "Global Best Evaluation is Updated [Iteration 5] : 0.07796547211220561\n",
      "Global Best Evaluation is Updated [Iteration 5] : 0.07768189474656469\n",
      "Global Best Evaluation is Updated [Iteration 5] : 0.07416570067284156\n"
     ]
    },
    {
     "name": "stderr",
     "output_type": "stream",
     "text": []
    },
    {
     "name": "stdout",
     "output_type": "stream",
     "text": [
      "Global Best Evaluation is Updated [Iteration 7] : 0.07332732716322819\n"
     ]
    },
    {
     "name": "stderr",
     "output_type": "stream",
     "text": []
    },
    {
     "name": "stdout",
     "output_type": "stream",
     "text": [
      "Global Best Evaluation is Updated [Iteration 8] : 0.07298073343962273\n",
      "Global Best Evaluation is Updated [Iteration 8] : 0.0715051809988069\n",
      "Global Best Evaluation is Updated [Iteration 8] : 0.07068949510781088\n"
     ]
    },
    {
     "name": "stderr",
     "output_type": "stream",
     "text": []
    },
    {
     "name": "stdout",
     "output_type": "stream",
     "text": [
      "Global Best Evaluation is Updated [Iteration 9] : 0.07025223327074595\n",
      "Global Best Evaluation is Updated [Iteration 9] : 0.06796485364936715\n"
     ]
    },
    {
     "name": "stderr",
     "output_type": "stream",
     "text": [
      "100%|██████████| 10/10 [20:57<00:00, 125.74s/it]"
     ]
    },
    {
     "name": "stdout",
     "output_type": "stream",
     "text": [
      "Global Best Evaluation is Updated [Iteration 10] : 0.06785535731846831\n",
      "Global Best Evaluation is Updated [Iteration 10] : 0.0675896733604189\n"
     ]
    },
    {
     "name": "stderr",
     "output_type": "stream",
     "text": [
      "\n"
     ]
    },
    {
     "name": "stdout",
     "output_type": "stream",
     "text": [
      "Starting PSO >>> Initial Global Best Evaluation : 0.6981824582790175\n"
     ]
    },
    {
     "name": "stderr",
     "output_type": "stream",
     "text": []
    },
    {
     "name": "stdout",
     "output_type": "stream",
     "text": [
      "Global Best Evaluation is Updated [Iteration 1] : 0.6980647748078936\n",
      "Global Best Evaluation is Updated [Iteration 1] : 0.6140498010848283\n",
      "Global Best Evaluation is Updated [Iteration 1] : 0.5808752316785637\n",
      "Global Best Evaluation is Updated [Iteration 1] : 0.5425409402229562\n",
      "Global Best Evaluation is Updated [Iteration 1] : 0.5228502628585974\n"
     ]
    },
    {
     "name": "stderr",
     "output_type": "stream",
     "text": []
    },
    {
     "name": "stdout",
     "output_type": "stream",
     "text": [
      "Global Best Evaluation is Updated [Iteration 2] : 0.5075719278009398\n",
      "Global Best Evaluation is Updated [Iteration 2] : 0.5034730227799804\n"
     ]
    },
    {
     "name": "stderr",
     "output_type": "stream",
     "text": []
    },
    {
     "name": "stdout",
     "output_type": "stream",
     "text": [
      "Global Best Evaluation is Updated [Iteration 3] : 0.42471702812531886\n",
      "Global Best Evaluation is Updated [Iteration 3] : 0.42433778270506367\n"
     ]
    },
    {
     "name": "stderr",
     "output_type": "stream",
     "text": []
    },
    {
     "name": "stdout",
     "output_type": "stream",
     "text": [
      "Global Best Evaluation is Updated [Iteration 4] : 0.3809761815026088\n"
     ]
    },
    {
     "name": "stderr",
     "output_type": "stream",
     "text": []
    },
    {
     "name": "stdout",
     "output_type": "stream",
     "text": [
      "Global Best Evaluation is Updated [Iteration 5] : 0.36775781730765106\n",
      "Global Best Evaluation is Updated [Iteration 5] : 0.3527772353790275\n",
      "Global Best Evaluation is Updated [Iteration 5] : 0.33313529073749504\n"
     ]
    },
    {
     "name": "stderr",
     "output_type": "stream",
     "text": []
    },
    {
     "name": "stdout",
     "output_type": "stream",
     "text": [
      "Global Best Evaluation is Updated [Iteration 7] : 0.33089080569715806\n"
     ]
    },
    {
     "name": "stderr",
     "output_type": "stream",
     "text": []
    },
    {
     "name": "stdout",
     "output_type": "stream",
     "text": [
      "Global Best Evaluation is Updated [Iteration 8] : 0.3254424655552626\n"
     ]
    },
    {
     "name": "stderr",
     "output_type": "stream",
     "text": []
    },
    {
     "name": "stdout",
     "output_type": "stream",
     "text": [
      "Global Best Evaluation is Updated [Iteration 9] : 0.31946407680598293\n"
     ]
    },
    {
     "name": "stderr",
     "output_type": "stream",
     "text": [
      "100%|██████████| 10/10 [18:07<00:00, 108.72s/it]"
     ]
    },
    {
     "name": "stdout",
     "output_type": "stream",
     "text": [
      "Global Best Evaluation is Updated [Iteration 10] : 0.31480218860328013\n"
     ]
    },
    {
     "name": "stderr",
     "output_type": "stream",
     "text": [
      "\n"
     ]
    },
    {
     "name": "stdout",
     "output_type": "stream",
     "text": [
      "Starting PSO >>> Initial Global Best Evaluation : 0.6669218183373669\n"
     ]
    },
    {
     "name": "stderr",
     "output_type": "stream",
     "text": []
    },
    {
     "name": "stdout",
     "output_type": "stream",
     "text": [
      "Global Best Evaluation is Updated [Iteration 1] : 0.5155746534487708\n"
     ]
    },
    {
     "name": "stderr",
     "output_type": "stream",
     "text": []
    },
    {
     "name": "stdout",
     "output_type": "stream",
     "text": [
      "Global Best Evaluation is Updated [Iteration 2] : 0.4750436946088596\n"
     ]
    },
    {
     "name": "stderr",
     "output_type": "stream",
     "text": []
    },
    {
     "name": "stdout",
     "output_type": "stream",
     "text": [
      "Global Best Evaluation is Updated [Iteration 3] : 0.44028675649364496\n",
      "Global Best Evaluation is Updated [Iteration 3] : 0.3947417069241365\n"
     ]
    },
    {
     "name": "stderr",
     "output_type": "stream",
     "text": []
    },
    {
     "name": "stdout",
     "output_type": "stream",
     "text": [
      "Global Best Evaluation is Updated [Iteration 4] : 0.3712797042146624\n"
     ]
    },
    {
     "name": "stderr",
     "output_type": "stream",
     "text": []
    },
    {
     "name": "stdout",
     "output_type": "stream",
     "text": [
      "Global Best Evaluation is Updated [Iteration 5] : 0.3670527698128398\n",
      "Global Best Evaluation is Updated [Iteration 5] : 0.3653047165648643\n"
     ]
    },
    {
     "name": "stderr",
     "output_type": "stream",
     "text": []
    },
    {
     "name": "stdout",
     "output_type": "stream",
     "text": [
      "Global Best Evaluation is Updated [Iteration 6] : 0.35494029912621\n",
      "Global Best Evaluation is Updated [Iteration 6] : 0.3531440994257422\n",
      "Global Best Evaluation is Updated [Iteration 6] : 0.3522610265430135\n"
     ]
    },
    {
     "name": "stderr",
     "output_type": "stream",
     "text": []
    },
    {
     "name": "stdout",
     "output_type": "stream",
     "text": [
      "Global Best Evaluation is Updated [Iteration 7] : 0.3508610721836518\n",
      "Global Best Evaluation is Updated [Iteration 7] : 0.3475825053228927\n"
     ]
    },
    {
     "name": "stderr",
     "output_type": "stream",
     "text": []
    },
    {
     "name": "stdout",
     "output_type": "stream",
     "text": [
      "Global Best Evaluation is Updated [Iteration 8] : 0.33288531378889097\n"
     ]
    },
    {
     "name": "stderr",
     "output_type": "stream",
     "text": []
    },
    {
     "name": "stdout",
     "output_type": "stream",
     "text": [
      "Global Best Evaluation is Updated [Iteration 9] : 0.3244791479445973\n"
     ]
    },
    {
     "name": "stderr",
     "output_type": "stream",
     "text": [
      "100%|██████████| 10/10 [18:00<00:00, 108.07s/it]\n",
      "  7%|▋         | 1/14 [1:03:04<13:40:04, 3784.93s/it]"
     ]
    },
    {
     "name": "stdout",
     "output_type": "stream",
     "text": [
      "Starting PSO >>> Initial Global Best Evaluation : 0.7191249931161628\n"
     ]
    },
    {
     "name": "stderr",
     "output_type": "stream",
     "text": []
    },
    {
     "name": "stdout",
     "output_type": "stream",
     "text": [
      "Global Best Evaluation is Updated [Iteration 1] : 0.7104623418370845\n",
      "Global Best Evaluation is Updated [Iteration 1] : 0.6748987318727592\n",
      "Global Best Evaluation is Updated [Iteration 1] : 0.6626716167945698\n"
     ]
    },
    {
     "name": "stderr",
     "output_type": "stream",
     "text": []
    },
    {
     "name": "stdout",
     "output_type": "stream",
     "text": [
      "Global Best Evaluation is Updated [Iteration 2] : 0.6607499298382751\n",
      "Global Best Evaluation is Updated [Iteration 2] : 0.657215346843729\n",
      "Global Best Evaluation is Updated [Iteration 2] : 0.606219002484491\n",
      "Global Best Evaluation is Updated [Iteration 2] : 0.6061967832438108\n",
      "Global Best Evaluation is Updated [Iteration 2] : 0.6008017298083803\n",
      "Global Best Evaluation is Updated [Iteration 2] : 0.6002553397051358\n",
      "Global Best Evaluation is Updated [Iteration 2] : 0.5634110687553702\n"
     ]
    }
   ],
   "source": [
    "# 独自定義のラベルを適用するためにまず辞書を作る\n",
    "small = [\n",
    "    \"睡眠\", \"食事\", \"身のまわりの用事\", \"療養・静養\", \"仕事\", \"仕事のつきあい\", \n",
    "    \"授業・学内の活動\", \"学校外の学習\", \"炊事・掃除・洗濯\", \"買い物\", \n",
    "    \"子どもの世話\", \"家庭雑事\", \"通勤\", \"通学\", \"社会参加\", \"会話・交際\", \n",
    "    \"スポーツ\", \"行楽・散策\", \"趣味・娯楽・教養(インターネット除く)\", \n",
    "    \"趣味・娯楽・教養のインターネット(動画除く)\", \"インターネット動画\", \n",
    "    \"テレビ\", \"録画番組・DVD\", \"ラジオ\", \"新聞\", \"雑誌・マンガ・本\", \n",
    "    \"音楽\", \"休息\", \"その他\", \"不明\"\n",
    "]\n",
    "label_master = pd.read_csv(DIR_GENRE)\n",
    "label_dict = {}\n",
    "for k,v in zip(label_master[\"小分類\"],label_master[\"モデル用定義\"]):\n",
    "    label_dict[k]=v\n",
    "\n",
    "# 行動種別の並び順管理\n",
    "ACTIVITY_ORDERING = ['睡眠', '食事', '身のまわりの用事', '療養・静養', '仕事', '仕事のつきあい', '授業・学内の活動',\n",
    "       '学校外の学習', '炊事・掃除・洗濯', '買い物', '子どもの世話', '家庭雑事', '通勤', '通学', '社会参加',\n",
    "       '会話・交際', 'スポーツ', '行楽・散策', '趣味・娯楽・教養', 'マスメディア接触', '休息']\n",
    "\n",
    "# label_master[\"モデル用定義\"].unique()\n",
    "\n",
    "\n",
    "# PSOのパラメータ\n",
    "num_particles = 50  # 粒子の数\n",
    "n_iterations = 10  # 反復回数\n",
    "w = 0.5  # 慣性項\n",
    "c1 = 1.5  # 粒子の最良位置への係数\n",
    "c2 = 1.5  # 全体の最良位置への係数\n",
    "\n",
    "for label in tqdm([\n",
    "        '男１０代', '男２０代', '男３０代', '男４０代', '男５０代', '男６０代', '男７０歳以上',\n",
    "        '女１０代', '女２０代', '女３０代', '女４０代', '女５０代', '女６０代', '女７０歳以上']):\n",
    "    for day in ([\"平日\",\"土曜日\",\"日曜日\"]):\n",
    "\n",
    "        # 時間帯ごとの行為者率テーブルの処理\n",
    "        data_hourly = pd.read_csv(DIR_HOURLY)\n",
    "        data_hourly = data_hourly.set_axis([\"Day\",\"Group\",\"Activity\",\"Time\",\"Rate\"],axis=1)\n",
    "        data_hourly[\"Time\"] = pd.to_datetime(data_hourly[\"Time\"], format=\"%H:%M\")\n",
    "        data_hourly = data_hourly.query(\"Group == @label & Activity in @small & Day == @day\")\n",
    "        data_hourly[\"Activity\"] = data_hourly[\"Activity\"].map(label_dict) # 独自定義のラベル適用\n",
    "        data_hourly_cleaned = data_hourly[[\"Activity\",\"Time\",\"Rate\"]].groupby([\"Time\",\"Activity\"],as_index=False).sum().copy()\n",
    "        data_hourly_cleaned = data_hourly_cleaned.sort_values(by=\"Time\")\n",
    "        # 一日の行為者率のテーブルの処理\n",
    "        data_full_day = pd.read_csv(DIR_FULL_DAY)\n",
    "        df1 = data_full_day.copy()\n",
    "        data_full_day = data_full_day.set_axis([\"Day\",\"Group\",\"Activity\",\"DailyRate\",\"NetAverageTime\",\"GrossAverageTime\",\"Gross_SD\"],axis=1)\n",
    "        df2 = data_full_day.copy()\n",
    "        data_full_day = data_full_day.query(\"Group == @label & Activity in @small & Day == @day\")\n",
    "        df3 = data_full_day.copy()\n",
    "        data_full_day[\"Activity\"] = data_full_day[\"Activity\"].map(label_dict) # 独自定義のラベル適用\n",
    "        data_full_day_cleaned = data_full_day[[\"Activity\",\"DailyRate\"]].groupby([\"Activity\"],as_index=False).sum().copy()\n",
    "        df4 = data_full_day.copy()\n",
    "        data_full_day_cleaned = sort_df_by_list(data_full_day_cleaned,\"Activity\",ACTIVITY_ORDERING)\n",
    "        Orig_P_i = (data_full_day_cleaned[\"DailyRate\"]/100).to_list()\n",
    "        # アクティビティと時間のリストを取得\n",
    "        time_list_hourly = data_hourly_cleaned['Time'].unique()\n",
    "\n",
    "\n",
    "        # パラメータの設定\n",
    "        bounds = np.array([[0.0, 1.0] for _ in range(len(ACTIVITY_ORDERING))])\n",
    "\n",
    "        # 最適化の実行\n",
    "        best_solution, best_evaluation = pso(objective=objective, bounds=bounds, n_iterations=n_iterations, \n",
    "                                            num_particles=num_particles, w=w, c1=c1, c2=c2, \n",
    "                                            time_list=time_list_hourly, time_table=data_hourly_cleaned, \n",
    "                                            activity_ordering=ACTIVITY_ORDERING, orig_P_i=Orig_P_i)\n",
    "        \n",
    "        # pickleで保存\n",
    "        with open(f\"Z:/lab/lifebehavior/βパラメータ_{label}_{day}-{str(best_evaluation)}-.pickle\", 'wb') as f:\n",
    "            pickle.dump(best_solution, f)\n",
    "        transition_rates = calc_transition_rates(best_solution, time_list_hourly, data_hourly_cleaned, ACTIVITY_ORDERING)\n",
    "        with open(f\"Z:/lab/lifebehavior/遷移確率_{label}_{day}-{str(best_evaluation)}-.pickle\", 'wb') as f:\n",
    "            pickle.dump(transition_rates, f)"
   ]
  },
  {
   "cell_type": "code",
   "execution_count": null,
   "metadata": {},
   "outputs": [],
   "source": []
  }
 ],
 "metadata": {
  "kernelspec": {
   "display_name": "geo_env",
   "language": "python",
   "name": "python3"
  },
  "language_info": {
   "codemirror_mode": {
    "name": "ipython",
    "version": 3
   },
   "file_extension": ".py",
   "mimetype": "text/x-python",
   "name": "python",
   "nbconvert_exporter": "python",
   "pygments_lexer": "ipython3",
   "version": "3.12.0"
  }
 },
 "nbformat": 4,
 "nbformat_minor": 2
}
