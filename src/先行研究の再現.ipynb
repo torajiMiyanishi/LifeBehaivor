{
 "cells": [
  {
   "cell_type": "code",
   "execution_count": 1,
   "metadata": {},
   "outputs": [
    {
     "name": "stdout",
     "output_type": "stream",
     "text": [
      "(CVXPY) Sep 10 04:05:22 AM: Encountered unexpected exception importing solver OSQP:\n",
      "ImportError('DLL load failed while importing qdldl: 指定されたモジュールが見つかりません。')\n"
     ]
    }
   ],
   "source": [
    "import random\n",
    "import pandas as pd\n",
    "import numpy as np\n",
    "import cvxpy as cp\n",
    "import seaborn as sns\n",
    "import matplotlib.pyplot as plt\n",
    "import matplotlib\n",
    "from tqdm import tqdm\n",
    "import os\n",
    "matplotlib.rc('font', family='BIZ UDGothic')"
   ]
  },
  {
   "cell_type": "code",
   "execution_count": 2,
   "metadata": {},
   "outputs": [],
   "source": [
    "\"\"\"pathの定義\"\"\"\n",
    "DIR_HOURLY = '../data/2020_jikoku_danjonenso.csv'\n",
    "DIR_FULL_DAY = '../data/2020_4shihyo_danjonenso.csv'\n",
    "DIR_GENRE = '../data/nhk_genre.csv'"
   ]
  },
  {
   "cell_type": "code",
   "execution_count": 3,
   "metadata": {},
   "outputs": [],
   "source": [
    "def calc_list_diff(list1:list, list2:list):\n",
    "    # リストの長さが異なる場合のエラーチェック\n",
    "    if len(list1) != len(list2):\n",
    "        raise ValueError(\"リストの長さが異なります。\")\n",
    "    \n",
    "    # 各要素の差分を計算して新しいリストを生成\n",
    "    difference = [a - b for a, b in zip(list1, list2)]\n",
    "    return difference\n",
    "\n",
    "# not P_iの算出による P_iの算出\n",
    "def get_P_i(hourly_table:pd.DataFrame,Transition_rates:list,activity_ordering:list):\n",
    "    t_0_table = sort_df_by_list(hourly_table[(hourly_table[\"Time\"].dt.hour == 0) & (hourly_table[\"Time\"].dt.minute == 0)],\"Activity\",activity_ordering).copy()\n",
    "    initial_rate = np.array(t_0_table[\"Rate\"])\n",
    "\n",
    "    # 正規化\n",
    "    initial_rate = initial_rate / np.sum(initial_rate)\n",
    "\n",
    "    P_i_list = []\n",
    "    for i in range(len(activity_ordering)):\n",
    "\n",
    "        # 行列の加工\n",
    "        n = len(initial_rate)\n",
    "        one_vector = np.ones(n)\n",
    "        modified_transition_rates = []\n",
    "\n",
    "        for A in Transition_rates:\n",
    "            A_i = A.copy()\n",
    "            A_i[i, :] = 0  # 行 i を全て 0 に置き換える\n",
    "            modified_transition_rates.append(A_i)\n",
    "\n",
    "        # 初期行為者率ベクトルの加工\n",
    "        modified_initial_rate = initial_rate.copy()\n",
    "        modified_initial_rate[i] = 0\n",
    "\n",
    "        # 最終的な行為者率ベクトルの計算\n",
    "        final_rate = modified_initial_rate\n",
    "\n",
    "        for A_i in modified_transition_rates:\n",
    "            final_rate = A_i @ final_rate\n",
    "\n",
    "        # 行為 i を一度も行わない確率の計算\n",
    "        P_not_i = one_vector @ final_rate\n",
    "\n",
    "        P_i = 1-P_not_i\n",
    "\n",
    "        # 独自定義のラベルを適用しているため、重複集計の関係上どうしても例外が発生する。\n",
    "        if P_i < 0:\n",
    "            P_i = 0\n",
    "\n",
    "        P_i_list.append(P_i)\n",
    "\n",
    "    return P_i_list\n",
    "\n",
    "# データフレームを参照リストに基づいてソートするヘルパー関数\n",
    "def sort_df_by_list(df, column, reference_list):\n",
    "    return df.set_index(column).reindex(reference_list).reset_index()\n",
    "\n",
    "# 遷移率を計算する関数\n",
    "def calc_transition_rates(beta_i: np.ndarray, time_list: list, time_table: pd.DataFrame, activity_list: list):\n",
    "    transition_rates = []\n",
    "    middle = activity_list  # 活動のリストを基準として使用\n",
    "    \n",
    "    for i in range(len(time_list)):\n",
    "        time_t = time_list[i]\n",
    "        time_t1 = time_list[(i+1) % len(time_list)]  # 次の時間帯\n",
    "        \n",
    "        # 両方の時間帯の行動率を取得\n",
    "        y_t = np.array(sort_df_by_list(time_table[(time_table[\"Time\"].dt.hour == time_t.hour) & (time_table[\"Time\"].dt.minute == time_t.minute) ], \"Activity\", middle)[\"Rate\"])\n",
    "        y_t1 = np.array(sort_df_by_list(time_table[(time_table[\"Time\"].dt.hour == time_t1.hour) & (time_table[\"Time\"].dt.minute == time_t1.minute) ], \"Activity\", middle)[\"Rate\"])\n",
    "        \n",
    "        # 変数の定義\n",
    "        no_of_elem = len(middle)\n",
    "        a = cp.Variable((no_of_elem, no_of_elem), nonneg=True)  # 非負の要素を持つ遷移行列\n",
    "\n",
    "        # 目的関数と制約条件の定義\n",
    "        delta = np.eye(no_of_elem)  # クロネッカーのデルタ\n",
    "        # 目的関数: (1 - beta_i * delta) で修正された、二乗差の合計を最小化\n",
    "        objective = cp.Minimize(cp.sum(cp.multiply(1 - beta_i * delta, cp.square(a))))\n",
    "\n",
    "        # 行の和が1になる制約に変更\n",
    "        constraints = [\n",
    "            cp.sum(a, axis=1) == 1,  # 遷移行列の各行の和が1になる制約\n",
    "            a >= 0,  # 非負制約\n",
    "        ]\n",
    "\n",
    "        # 行動率を正規化\n",
    "        y_t = y_t / np.sum(y_t)\n",
    "        y_t1 = y_t1 / np.sum(y_t1)\n",
    "\n",
    "        # 次の時間帯の行動率と遷移行列の適用が一致する制約\n",
    "        constraints.append(y_t1 - a.T @ y_t == 0)\n",
    "\n",
    "        # 問題を定義する\n",
    "        problem = cp.Problem(objective, constraints)\n",
    "\n",
    "        # ソルバーを使用して問題を解く（別のソルバーを指定して解く）\n",
    "        problem.solve(solver=cp.SCS, verbose=False)\n",
    "\n",
    "        # 得られた遷移行列を格納\n",
    "        transition_rates.append(a.value)\n",
    "\n",
    "    return np.array(transition_rates)\n",
    "\n",
    "def roulette_wheel_selection(weights:list,labels:list):\n",
    "    \"\"\"\n",
    "    Performs roulette wheel selection on a list of weights.\n",
    "    \n",
    "    Args:\n",
    "    weights (list of float): The weights or probabilities for each item.\n",
    "    \n",
    "    Returns:\n",
    "    int: The index of the selected item.\n",
    "    \"\"\"\n",
    "    if (len(weights) != len(labels)):\n",
    "        print(\"weights and labels has different length @roulette_wheel_selection\")\n",
    "        os._exit(1)\n",
    "    # Calculate the cumulative sum of weights\n",
    "    cumulative_sum = [sum(weights[:i+1]) for i in range(len(weights))]\n",
    "    total_sum = cumulative_sum[-1]\n",
    "    \n",
    "    # Generate a random number in the range [0, total_sum)\n",
    "    random_num = random.uniform(0, total_sum)\n",
    "    \n",
    "    # Find the index where the random number would fit in the cumulative sum\n",
    "    for i, cum_sum in enumerate(cumulative_sum):\n",
    "        if random_num < cum_sum:\n",
    "            return i, labels[i]"
   ]
  },
  {
   "cell_type": "code",
   "execution_count": 4,
   "metadata": {},
   "outputs": [],
   "source": [
    "# 独自定義のラベルを適用するためにまず辞書を作る\n",
    "small = [\n",
    "    \"睡眠\", \"食事\", \"身のまわりの用事\", \"療養・静養\", \"仕事\", \"仕事のつきあい\", \n",
    "    \"授業・学内の活動\", \"学校外の学習\", \"炊事・掃除・洗濯\", \"買い物\", \n",
    "    \"子どもの世話\", \"家庭雑事\", \"通勤\", \"通学\", \"社会参加\", \"会話・交際\", \n",
    "    \"スポーツ\", \"行楽・散策\", \"趣味・娯楽・教養(インターネット除く)\", \n",
    "    \"趣味・娯楽・教養のインターネット(動画除く)\", \"インターネット動画\", \n",
    "    \"テレビ\", \"録画番組・DVD\", \"ラジオ\", \"新聞\", \"雑誌・マンガ・本\", \n",
    "    \"音楽\", \"休息\", \"その他\", \"不明\"\n",
    "]\n",
    "label_master = pd.read_csv(DIR_GENRE)\n",
    "label_dict = {}\n",
    "for k,v in zip(label_master[\"小分類\"],label_master[\"モデル用定義\"]):\n",
    "    label_dict[k]=v\n",
    "\n",
    "Activity_Ordering = list(set(label_dict.values()))"
   ]
  },
  {
   "cell_type": "code",
   "execution_count": 5,
   "metadata": {},
   "outputs": [],
   "source": [
    "# 時間帯ごとの行為者率テーブルの処理\n",
    "data_hourly = pd.read_csv(DIR_HOURLY)\n",
    "data_hourly = data_hourly.set_axis([\"Day\",\"Group\",\"Activity\",\"Time\",\"Rate\"],axis=1)\n",
    "data_hourly[\"Time\"] = pd.to_datetime(data_hourly[\"Time\"], format=\"%H:%M\")\n",
    "data_hourly = data_hourly.query(\"Group == '男１０代' & Activity in @small & Day == '平日'\")\n",
    "data_hourly[\"Activity\"] = data_hourly[\"Activity\"].map(label_dict) # 独自定義のラベル適用\n",
    "data_hourly_cleaned = data_hourly[[\"Activity\",\"Time\",\"Rate\"]].groupby([\"Time\",\"Activity\"],as_index=False).sum().copy()\n",
    "data_hourly_cleaned = data_hourly_cleaned.sort_values(by=\"Time\")\n",
    "# 一日の行為者率のテーブルの処理\n",
    "data_full_day = pd.read_csv(DIR_FULL_DAY)\n",
    "data_full_day = data_full_day.set_axis([\"Day\",\"Group\",\"Activity\",\"DailyRate\",\"NetAverageTime\",\"GrossAverageTime\",\"Gross_SD\"],axis=1)\n",
    "data_full_day = data_full_day.query(\"Group == '男１０代' & Activity in @small & Day == '平日'\")\n",
    "data_full_day[\"Activity\"] = data_full_day[\"Activity\"].map(label_dict) # 独自定義のラベル適用\n",
    "data_full_day_cleaned = data_full_day[[\"Activity\",\"DailyRate\"]].groupby([\"Activity\"],as_index=False).sum().copy()\n",
    "data_full_day_cleaned = sort_df_by_list(data_full_day_cleaned,\"Activity\",Activity_Ordering)\n",
    "Orig_P_i = (data_full_day_cleaned[\"DailyRate\"]/100).to_list()\n",
    "# アクティビティと時間のリストを取得\n",
    "time_list_hourly = data_hourly_cleaned['Time'].unique()"
   ]
  },
  {
   "cell_type": "code",
   "execution_count": 6,
   "metadata": {},
   "outputs": [
    {
     "name": "stderr",
     "output_type": "stream",
     "text": [
      "c:\\Users\\tora2\\anaconda3\\envs\\geo_env\\Lib\\site-packages\\cvxpy\\problems\\problem.py:1407: UserWarning: Solution may be inaccurate. Try another solver, adjusting the solver settings, or solve with verbose=True for more information.\n",
      "  warnings.warn(\n"
     ]
    },
    {
     "name": "stdout",
     "output_type": "stream",
     "text": [
      "[[[9.59225217e-01 5.61496592e-08 0.00000000e+00 ... 5.61496592e-08\n",
      "   5.61496592e-08 5.61496592e-08]\n",
      "  [7.82674829e-08 9.99998435e-01 7.82674829e-08 ... 7.82674829e-08\n",
      "   7.82674829e-08 7.82674829e-08]\n",
      "  [3.99597136e-03 4.54675799e-08 9.66653580e-01 ... 4.54675799e-08\n",
      "   4.54675799e-08 4.54675799e-08]\n",
      "  ...\n",
      "  [7.82674830e-08 7.82674830e-08 7.82674830e-08 ... 9.99998435e-01\n",
      "   7.82674830e-08 7.82674830e-08]\n",
      "  [7.82674830e-08 7.82674830e-08 7.82674830e-08 ... 7.82674830e-08\n",
      "   9.99998435e-01 7.82674830e-08]\n",
      "  [7.82674830e-08 7.82674830e-08 7.82674830e-08 ... 7.82674830e-08\n",
      "   7.82674830e-08 9.99998435e-01]]\n",
      "\n",
      " [[8.82112775e-01 0.00000000e+00 0.00000000e+00 ... 0.00000000e+00\n",
      "   0.00000000e+00 0.00000000e+00]\n",
      "  [8.85070583e-09 9.99999823e-01 8.85070582e-09 ... 8.85070582e-09\n",
      "   8.85070582e-09 8.85070582e-09]\n",
      "  [1.05580881e-01 9.63989425e-08 4.05410311e-01 ... 9.63989425e-08\n",
      "   9.63989425e-08 9.63989425e-08]\n",
      "  ...\n",
      "  [8.85070837e-09 8.85070836e-09 8.85070836e-09 ... 9.99999823e-01\n",
      "   8.85070836e-09 8.85070836e-09]\n",
      "  [8.85070710e-09 8.85070712e-09 8.85070712e-09 ... 8.85070712e-09\n",
      "   9.99999823e-01 8.85070712e-09]\n",
      "  [8.85070713e-09 8.85070710e-09 8.85070710e-09 ... 8.85070710e-09\n",
      "   8.85070710e-09 9.99999823e-01]]\n",
      "\n",
      " [[9.99998117e-01 0.00000000e+00 3.29518099e-07 ... 0.00000000e+00\n",
      "   0.00000000e+00 0.00000000e+00]\n",
      "  [0.00000000e+00 1.00000000e+00 0.00000000e+00 ... 0.00000000e+00\n",
      "   0.00000000e+00 0.00000000e+00]\n",
      "  [1.25138819e-07 0.00000000e+00 9.99999482e-01 ... 0.00000000e+00\n",
      "   0.00000000e+00 0.00000000e+00]\n",
      "  ...\n",
      "  [0.00000000e+00 0.00000000e+00 0.00000000e+00 ... 1.00000000e+00\n",
      "   0.00000000e+00 0.00000000e+00]\n",
      "  [0.00000000e+00 0.00000000e+00 0.00000000e+00 ... 0.00000000e+00\n",
      "   1.00000000e+00 0.00000000e+00]\n",
      "  [0.00000000e+00 0.00000000e+00 0.00000000e+00 ... 0.00000000e+00\n",
      "   0.00000000e+00 1.00000000e+00]]\n",
      "\n",
      " ...\n",
      "\n",
      " [[7.76631277e-01 3.61982120e-07 3.81583710e-07 ... 3.48394427e-07\n",
      "   3.48394427e-07 3.48394427e-07]\n",
      "  [1.28716833e-01 6.61724929e-08 1.24524688e-01 ... 1.63334033e-05\n",
      "   1.63334033e-05 1.63334033e-05]\n",
      "  [5.86898883e-02 6.22178952e-08 5.06204933e-01 ... 4.60972700e-08\n",
      "   4.60972700e-08 4.60972700e-08]\n",
      "  ...\n",
      "  [0.00000000e+00 0.00000000e+00 0.00000000e+00 ... 1.00000000e+00\n",
      "   0.00000000e+00 0.00000000e+00]\n",
      "  [0.00000000e+00 0.00000000e+00 0.00000000e+00 ... 0.00000000e+00\n",
      "   1.00000000e+00 0.00000000e+00]\n",
      "  [0.00000000e+00 0.00000000e+00 0.00000000e+00 ... 0.00000000e+00\n",
      "   0.00000000e+00 1.00000000e+00]]\n",
      "\n",
      " [[8.17542537e-01 4.17376977e-03 0.00000000e+00 ... 0.00000000e+00\n",
      "   0.00000000e+00 0.00000000e+00]\n",
      "  [0.00000000e+00 1.00000000e+00 0.00000000e+00 ... 0.00000000e+00\n",
      "   0.00000000e+00 0.00000000e+00]\n",
      "  [6.57079307e-02 6.86218043e-02 5.53537476e-01 ... 0.00000000e+00\n",
      "   0.00000000e+00 0.00000000e+00]\n",
      "  ...\n",
      "  [0.00000000e+00 0.00000000e+00 0.00000000e+00 ... 1.00000000e+00\n",
      "   0.00000000e+00 0.00000000e+00]\n",
      "  [0.00000000e+00 0.00000000e+00 0.00000000e+00 ... 0.00000000e+00\n",
      "   1.00000000e+00 0.00000000e+00]\n",
      "  [0.00000000e+00 0.00000000e+00 0.00000000e+00 ... 0.00000000e+00\n",
      "   0.00000000e+00 1.00000000e+00]]\n",
      "\n",
      " [[3.53154334e-01 0.00000000e+00 0.00000000e+00 ... 0.00000000e+00\n",
      "   0.00000000e+00 0.00000000e+00]\n",
      "  [1.22688892e-01 0.00000000e+00 1.10216299e-01 ... 0.00000000e+00\n",
      "   0.00000000e+00 0.00000000e+00]\n",
      "  [5.23848952e-02 0.00000000e+00 4.32272809e-01 ... 0.00000000e+00\n",
      "   0.00000000e+00 0.00000000e+00]\n",
      "  ...\n",
      "  [8.18322549e-09 8.18322553e-09 8.18322553e-09 ... 9.99999836e-01\n",
      "   8.18322553e-09 8.18322553e-09]\n",
      "  [8.18322567e-09 8.18322571e-09 8.18322571e-09 ... 8.18322571e-09\n",
      "   9.99999836e-01 8.18322571e-09]\n",
      "  [8.18322629e-09 8.18322630e-09 8.18322630e-09 ... 8.18322630e-09\n",
      "   8.18322630e-09 9.99999836e-01]]]\n"
     ]
    }
   ],
   "source": [
    "# 遷移確率を計算\n",
    "transition_rates_hourly = calc_transition_rates(np.ones(len(Activity_Ordering)), time_list_hourly, data_hourly_cleaned, Activity_Ordering)\n",
    "# 原因は不明だが、一部1超過する確率が含まれる 故に、1を超過したものは1に修正する。\n",
    "transition_rates_hourly[transition_rates_hourly > 1] = 1\n",
    "# 遷移確率を表示\n",
    "print(transition_rates_hourly)"
   ]
  },
  {
   "cell_type": "code",
   "execution_count": null,
   "metadata": {},
   "outputs": [],
   "source": [
    "# \"\"\"SA法によるβのパラメータフィッティング(事前知識加味)\"\"\"\n",
    "# def objective(beta_i:np.ndarray, time_list:list, time_table:pd.DataFrame, activity_list:list,orig_P_i:list):\n",
    "#     transition_rates = calc_transition_rates(beta_i, time_list, time_table, activity_list)\n",
    "#     calclated_P_i = get_P_i(time_table,transition_rates,activity_list) # 一日のユニークな行為者率の算出\n",
    "#     diff_1 = [e for e in calc_list_diff(orig_P_i,calclated_P_i)]\n",
    "#     diff_2 = sum([e**2 for e in diff_1])\n",
    "#     return diff_2,diff_1\n",
    "\n",
    "# def simulated_annealing(objective, bounds, n_iterations, step_size, temp, time_list, time_table, activity_ordering, orig_P_i):\n",
    "#     # 初期解を生成\n",
    "#     initial_beta = np.random.uniform(bounds[:, 0], bounds[:, 1])\n",
    "#     # 初期評価値を計算\n",
    "#     best_eval, best_eval_raw = objective(initial_beta,time_list,time_table,activity_ordering,orig_P_i)\n",
    "#     curr, curr_eval, curr_eval_raw = initial_beta, best_eval, best_eval_raw\n",
    "#     print(f\"Starting Simulated Annealing >>> Initial Evaluation : {best_eval}\")\n",
    "    \n",
    "#     for i in tqdm(range(n_iterations)):\n",
    "#         # 新しい候補解を生成\n",
    "#         candidate_R = np.random.uniform(0, step_size, len(activity_ordering))\n",
    "#         \"\"\"候補を事前知識から補正(βは大きいほど同行為の継続確率が大きくなる)\"\"\"\n",
    "#         candidate_updated = []\n",
    "#         for curr_,candidate_r,eval_raw in zip(list(curr),list(candidate_R),curr_eval_raw):\n",
    "#             if (eval_raw > 0): # 計算値が実データを上回る場合、βiを大きく設定する\n",
    "#                 if (curr_ == 0):\n",
    "#                     additional = np.random.uniform(0,1)\n",
    "#                 else:\n",
    "#                     inverse = 1/curr_\n",
    "#                     additional = np.random.uniform(1,inverse) * curr_\n",
    "#                 new_candidate = curr_ + (additional*candidate_r)\n",
    "#             elif (eval_raw < 0): # 計算値が実データを下回る場合、βiを小さく設定する。\n",
    "#                 new_candidate = np.random.uniform(0,1)*candidate_r*curr_\n",
    "#             else:\n",
    "#                 new_candidate = curr_ # 現状値を維持\n",
    "#             candidate_updated.append(new_candidate)\n",
    "#         candidate = candidate_updated\n",
    "#         # 境界チェック\n",
    "#         candidate = np.clip(candidate, bounds[:, 0], bounds[:, 1])\n",
    "#         # 新しい評価値を計算\n",
    "#         candidate_eval, candidate_eval_raw = objective(candidate,time_list,time_table,activity_ordering,orig_P_i)\n",
    "#         # 温度の減衰\n",
    "#         t = temp * (0.99 ** i)  # 指数的に減衰\n",
    "#         # 新しい解を受け入れるかの確率を計算\n",
    "#         if candidate_eval < curr_eval or np.exp((curr_eval - candidate_eval) / t) > np.random.rand():\n",
    "#             curr, curr_eval = candidate, candidate_eval\n",
    "#         # ベスト解を更新\n",
    "#         if candidate_eval < best_eval:\n",
    "#             best, best_eval, best_eval_raw = candidate, candidate_eval, candidate_eval_raw\n",
    "#             print(f\"Best Evaluation is Updated [BestEvaluation] : {best_eval}\")\n",
    "\n",
    "#     return best, best_eval\n",
    "\n",
    "\n",
    "# # パラメータの設定\n",
    "\n",
    "\n",
    "# bounds = np.array([[0.0,1.0] for i in range(len(Activity_Ordering))])\n",
    "# n_iterations = 100\n",
    "# step_size = 0.9\n",
    "# temp = 1000.0\n",
    "\n",
    "# # 最適化の実行\n",
    "# best_solution, best_evaluation = simulated_annealing(objective=objective, bounds=bounds, n_iterations=n_iterations, step_size=step_size, temp=temp, time_list=time_list_hourly, time_table=data_hourly_cleaned, activity_ordering=Activity_Ordering, orig_P_i=Orig_P_i)\n",
    "\n",
    "# print(f'Best Solution: {best_solution}')\n",
    "# print(f'Best Evaluation: {best_evaluation}')"
   ]
  },
  {
   "cell_type": "code",
   "execution_count": null,
   "metadata": {},
   "outputs": [],
   "source": [
    "# 目的関数\n",
    "def objective(beta_i:np.ndarray, time_list:list, time_table:pd.DataFrame, activity_list:list,orig_P_i:list):\n",
    "    transition_rates = calc_transition_rates(beta_i, time_list, time_table, activity_list)\n",
    "    calclated_P_i = get_P_i(time_table,transition_rates,activity_list) # 一日のユニークな行為者率の算出\n",
    "    diff_1 = [e for e in calc_list_diff(orig_P_i,calclated_P_i)]\n",
    "    diff_2 = sum([e**2 for e in diff_1])\n",
    "    return diff_2,diff_1\n",
    "# PSOのパラメータ\n",
    "num_particles = 30  # 粒子の数\n",
    "n_iterations = 10  # 反復回数\n",
    "w = 0.5  # 慣性項\n",
    "c1 = 1.5  # 粒子の最良位置への係数\n",
    "c2 = 1.5  # 全体の最良位置への係数\n",
    "\n",
    "def pso(objective, bounds, n_iterations, num_particles, w, c1, c2, time_list, time_table, activity_ordering, orig_P_i):\n",
    "    # 粒子の位置と速度を初期化\n",
    "    num_dimensions = len(activity_ordering)\n",
    "    particles_position = np.random.uniform(bounds[:, 0], bounds[:, 1], (num_particles, num_dimensions))\n",
    "    particles_velocity = np.random.uniform(-1, 1, (num_particles, num_dimensions))\n",
    "\n",
    "    # 粒子の最良位置と全体の最良位置を初期化\n",
    "    personal_best_position = particles_position.copy()\n",
    "    personal_best_eval = np.array([objective(p, time_list, time_table, activity_ordering, orig_P_i)[0] for p in particles_position])\n",
    "    global_best_position = personal_best_position[np.argmin(personal_best_eval)]\n",
    "    global_best_eval = np.min(personal_best_eval)\n",
    "\n",
    "    print(f\"Starting PSO >>> Initial Global Best Evaluation : {global_best_eval}\")\n",
    "\n",
    "    for i in tqdm(range(n_iterations)):\n",
    "        for j in range(num_particles):\n",
    "            # 粒子の速度を更新\n",
    "            r1 = np.random.rand(num_dimensions)\n",
    "            r2 = np.random.rand(num_dimensions)\n",
    "            particles_velocity[j] = (w * particles_velocity[j] +\n",
    "                                     c1 * r1 * (personal_best_position[j] - particles_position[j]) +\n",
    "                                     c2 * r2 * (global_best_position - particles_position[j]))\n",
    "            \n",
    "            # 粒子の位置を更新\n",
    "            particles_position[j] += particles_velocity[j]\n",
    "            particles_position[j] = np.clip(particles_position[j], bounds[:, 0], bounds[:, 1])  # 境界のチェック\n",
    "            \n",
    "            # 新しい評価値を計算\n",
    "            current_eval = objective(particles_position[j], time_list, time_table, activity_ordering, orig_P_i)[0]\n",
    "            \n",
    "            # 粒子の最良位置を更新\n",
    "            if current_eval < personal_best_eval[j]:\n",
    "                personal_best_position[j] = particles_position[j].copy()\n",
    "                personal_best_eval[j] = current_eval\n",
    "            \n",
    "            # 全体の最良位置を更新\n",
    "            if current_eval < global_best_eval:\n",
    "                global_best_position = particles_position[j].copy()\n",
    "                global_best_eval = current_eval\n",
    "                print(f\"Global Best Evaluation is Updated [Iteration {i+1}] : {global_best_eval}\")\n",
    "\n",
    "    return global_best_position, global_best_eval\n",
    "\n",
    "\n",
    "# パラメータの設定\n",
    "bounds = np.array([[0.0, 1.0] for _ in range(len(Activity_Ordering))])\n",
    "\n",
    "# 最適化の実行\n",
    "best_solution, best_evaluation = pso(objective=objective, bounds=bounds, n_iterations=n_iterations, \n",
    "                                     num_particles=num_particles, w=w, c1=c1, c2=c2, \n",
    "                                     time_list=time_list_hourly, time_table=data_hourly_cleaned, \n",
    "                                     activity_ordering=Activity_Ordering, orig_P_i=Orig_P_i)\n",
    "\n",
    "print(f'Best Solution: {best_solution}')\n",
    "print(f'Best Evaluation: {best_evaluation}')"
   ]
  },
  {
   "cell_type": "code",
   "execution_count": 9,
   "metadata": {},
   "outputs": [],
   "source": [
    "from concurrent.futures import ThreadPoolExecutor"
   ]
  },
  {
   "cell_type": "code",
   "execution_count": 10,
   "metadata": {},
   "outputs": [
    {
     "name": "stdout",
     "output_type": "stream",
     "text": [
      "Starting PSO >>> Initial Global Best Evaluation : 0.32791009783595065\n"
     ]
    },
    {
     "name": "stderr",
     "output_type": "stream",
     "text": [
      " 10%|█         | 1/10 [01:32<13:51, 92.34s/it]"
     ]
    },
    {
     "name": "stdout",
     "output_type": "stream",
     "text": [
      "Global Best Evaluation is Updated [Iteration 1] : 0.32512509530134287\n",
      "Global Best Evaluation is Updated [Iteration 1] : 0.3091767450944461\n"
     ]
    },
    {
     "name": "stderr",
     "output_type": "stream",
     "text": [
      " 20%|██        | 2/10 [02:51<11:16, 84.59s/it]"
     ]
    },
    {
     "name": "stdout",
     "output_type": "stream",
     "text": [
      "Global Best Evaluation is Updated [Iteration 2] : 0.2670165684857261\n",
      "Global Best Evaluation is Updated [Iteration 2] : 0.24268153953856375\n"
     ]
    },
    {
     "name": "stderr",
     "output_type": "stream",
     "text": [
      " 30%|███       | 3/10 [04:06<09:21, 80.28s/it]"
     ]
    },
    {
     "name": "stdout",
     "output_type": "stream",
     "text": [
      "Global Best Evaluation is Updated [Iteration 3] : 0.22412690084125542\n"
     ]
    },
    {
     "name": "stderr",
     "output_type": "stream",
     "text": [
      " 40%|████      | 4/10 [05:21<07:48, 78.08s/it]"
     ]
    },
    {
     "name": "stdout",
     "output_type": "stream",
     "text": [
      "Global Best Evaluation is Updated [Iteration 4] : 0.1506997284653801\n",
      "Global Best Evaluation is Updated [Iteration 4] : 0.11451367158477152\n"
     ]
    },
    {
     "name": "stderr",
     "output_type": "stream",
     "text": [
      " 50%|█████     | 5/10 [06:39<06:29, 77.99s/it]"
     ]
    },
    {
     "name": "stdout",
     "output_type": "stream",
     "text": [
      "Global Best Evaluation is Updated [Iteration 5] : 0.10509885402245993\n"
     ]
    },
    {
     "name": "stderr",
     "output_type": "stream",
     "text": [
      " 60%|██████    | 6/10 [07:58<05:13, 78.46s/it]"
     ]
    },
    {
     "name": "stdout",
     "output_type": "stream",
     "text": [
      "Global Best Evaluation is Updated [Iteration 6] : 0.08851326663693111\n"
     ]
    },
    {
     "name": "stderr",
     "output_type": "stream",
     "text": [
      " 70%|███████   | 7/10 [09:17<03:55, 78.58s/it]"
     ]
    },
    {
     "name": "stdout",
     "output_type": "stream",
     "text": [
      "Global Best Evaluation is Updated [Iteration 7] : 0.08840114705454577\n",
      "Global Best Evaluation is Updated [Iteration 7] : 0.08332611414725662\n"
     ]
    },
    {
     "name": "stderr",
     "output_type": "stream",
     "text": [
      " 80%|████████  | 8/10 [10:36<02:37, 78.88s/it]"
     ]
    },
    {
     "name": "stdout",
     "output_type": "stream",
     "text": [
      "Global Best Evaluation is Updated [Iteration 8] : 0.08292259491121289\n",
      "Global Best Evaluation is Updated [Iteration 8] : 0.08241267386576565\n",
      "Global Best Evaluation is Updated [Iteration 8] : 0.07771106977596517\n"
     ]
    },
    {
     "name": "stderr",
     "output_type": "stream",
     "text": [
      " 90%|█████████ | 9/10 [12:13<01:24, 84.48s/it]"
     ]
    },
    {
     "name": "stdout",
     "output_type": "stream",
     "text": [
      "Global Best Evaluation is Updated [Iteration 9] : 0.07752898899976293\n",
      "Global Best Evaluation is Updated [Iteration 9] : 0.0772219811351483\n"
     ]
    },
    {
     "name": "stderr",
     "output_type": "stream",
     "text": [
      "100%|██████████| 10/10 [14:00<00:00, 84.03s/it]"
     ]
    },
    {
     "name": "stdout",
     "output_type": "stream",
     "text": [
      "Global Best Evaluation is Updated [Iteration 10] : 0.0770199987987852\n",
      "Best Solution: [0.9978305  0.43388824 0.         0.         0.01591624 1.\n",
      " 0.         1.         1.         1.         0.         1.\n",
      " 1.         0.         0.98295211 0.         0.         1.\n",
      " 0.81986692 1.         0.        ]\n",
      "Best Evaluation: 0.0770199987987852\n"
     ]
    },
    {
     "name": "stderr",
     "output_type": "stream",
     "text": [
      "\n"
     ]
    }
   ],
   "source": [
    "# 目的関数\n",
    "def objective(beta_i:np.ndarray, time_list:list, time_table:pd.DataFrame, activity_list:list,orig_P_i:list):\n",
    "    transition_rates = calc_transition_rates(beta_i, time_list, time_table, activity_list)\n",
    "    calclated_P_i = get_P_i(time_table,transition_rates,activity_list) # 一日のユニークな行為者率の算出\n",
    "    diff_1 = [e for e in calc_list_diff(orig_P_i,calclated_P_i)]\n",
    "    diff_2 = sum([e**2 for e in diff_1])\n",
    "    return diff_2,diff_1\n",
    "# PSOのパラメータ\n",
    "num_particles = 30  # 粒子の数\n",
    "n_iterations = 10  # 反復回数\n",
    "w = 0.5  # 慣性項\n",
    "c1 = 1.5  # 粒子の最良位置への係数\n",
    "c2 = 1.5  # 全体の最良位置への係数\n",
    "\n",
    "def evaluate_particle(objective, particle_position, time_list, time_table, activity_ordering, orig_P_i):\n",
    "    \"\"\"各粒子の評価を並列で行う関数\"\"\"\n",
    "    return objective(particle_position, time_list, time_table, activity_ordering, orig_P_i)[0]\n",
    "\n",
    "def pso(objective, bounds, n_iterations, num_particles, w, c1, c2, time_list, time_table, activity_ordering, orig_P_i):\n",
    "    # 粒子の位置と速度を初期化\n",
    "    num_dimensions = len(activity_ordering)\n",
    "    particles_position = np.random.uniform(bounds[:, 0], bounds[:, 1], (num_particles, num_dimensions))\n",
    "    particles_velocity = np.random.uniform(-1, 1, (num_particles, num_dimensions))\n",
    "\n",
    "    # 粒子の最良位置と全体の最良位置を初期化\n",
    "    personal_best_position = particles_position.copy()\n",
    "    \n",
    "    # 並列で初期評価を計算\n",
    "    with ThreadPoolExecutor() as executor:\n",
    "        personal_best_eval = list(executor.map(lambda p: evaluate_particle(objective, p, time_list, time_table, activity_ordering, orig_P_i), particles_position))\n",
    "    \n",
    "    global_best_position = personal_best_position[np.argmin(personal_best_eval)]\n",
    "    global_best_eval = np.min(personal_best_eval)\n",
    "\n",
    "    print(f\"Starting PSO >>> Initial Global Best Evaluation : {global_best_eval}\")\n",
    "\n",
    "    for i in tqdm(range(n_iterations)):\n",
    "        for j in range(num_particles):\n",
    "            # 粒子の速度を更新\n",
    "            r1 = np.random.rand(num_dimensions)\n",
    "            r2 = np.random.rand(num_dimensions)\n",
    "            particles_velocity[j] = (w * particles_velocity[j] +\n",
    "                                     c1 * r1 * (personal_best_position[j] - particles_position[j]) +\n",
    "                                     c2 * r2 * (global_best_position - particles_position[j]))\n",
    "            \n",
    "            # 粒子の位置を更新\n",
    "            particles_position[j] += particles_velocity[j]\n",
    "            particles_position[j] = np.clip(particles_position[j], bounds[:, 0], bounds[:, 1])  # 境界のチェック\n",
    "        \n",
    "        # 並列で各粒子の評価を計算\n",
    "        with ThreadPoolExecutor() as executor:\n",
    "            current_evals = list(executor.map(lambda p: evaluate_particle(objective, p, time_list, time_table, activity_ordering, orig_P_i), particles_position))\n",
    "        \n",
    "        # 粒子の最良位置を更新\n",
    "        for j in range(num_particles):\n",
    "            if current_evals[j] < personal_best_eval[j]:\n",
    "                personal_best_position[j] = particles_position[j].copy()\n",
    "                personal_best_eval[j] = current_evals[j]\n",
    "            \n",
    "            # 全体の最良位置を更新\n",
    "            if current_evals[j] < global_best_eval:\n",
    "                global_best_position = particles_position[j].copy()\n",
    "                global_best_eval = current_evals[j]\n",
    "                print(f\"Global Best Evaluation is Updated [Iteration {i+1}] : {global_best_eval}\")\n",
    "\n",
    "    return global_best_position, global_best_eval\n",
    "\n",
    "\n",
    "# パラメータの設定\n",
    "bounds = np.array([[0.0, 1.0] for _ in range(len(Activity_Ordering))])\n",
    "\n",
    "# 最適化の実行\n",
    "best_solution, best_evaluation = pso(objective=objective, bounds=bounds, n_iterations=n_iterations, \n",
    "                                     num_particles=num_particles, w=w, c1=c1, c2=c2, \n",
    "                                     time_list=time_list_hourly, time_table=data_hourly_cleaned, \n",
    "                                     activity_ordering=Activity_Ordering, orig_P_i=Orig_P_i)\n",
    "\n",
    "print(f'Best Solution: {best_solution}')\n",
    "print(f'Best Evaluation: {best_evaluation}')"
   ]
  },
  {
   "cell_type": "markdown",
   "metadata": {},
   "source": [
    "以下可視化"
   ]
  },
  {
   "cell_type": "code",
   "execution_count": 217,
   "metadata": {},
   "outputs": [
    {
     "data": {
      "application/vnd.plotly.v1+json": {
       "config": {
        "plotlyServerURL": "https://plot.ly"
       },
       "data": [
        {
         "mode": "lines",
         "name": "calc_P_i",
         "type": "scatter",
         "x": [
          "学校外の学習",
          "睡眠",
          "休息",
          "社会参加",
          "子どもの世話",
          "仕事",
          "趣味・娯楽・教養",
          "仕事のつきあい",
          "家庭雑事",
          "行楽・散策",
          "マスメディア接触",
          "通学",
          "買い物",
          "通勤",
          "療養・静養",
          "食事",
          "身のまわりの用事",
          "炊事・掃除・洗濯",
          "授業・学内の活動",
          "スポーツ",
          "会話・交際"
         ],
         "y": [
          0.8244181886117756,
          0.9996522296702709,
          0.23596575656043783,
          0,
          0,
          0,
          0.46308656032630924,
          0,
          0,
          0,
          0.9175920474541831,
          0.8770337542638864,
          0,
          0,
          0,
          0.9448065784020266,
          0.9410804443033536,
          0,
          0.8608331196649907,
          0,
          0
         ]
        },
        {
         "mode": "lines",
         "name": "original_P_i",
         "type": "scatter",
         "x": [
          "学校外の学習",
          "睡眠",
          "休息",
          "社会参加",
          "子どもの世話",
          "仕事",
          "趣味・娯楽・教養",
          "仕事のつきあい",
          "家庭雑事",
          "行楽・散策",
          "マスメディア接触",
          "通学",
          "買い物",
          "通勤",
          "療養・静養",
          "食事",
          "身のまわりの用事",
          "炊事・掃除・洗濯",
          "授業・学内の活動",
          "スポーツ",
          "会話・交際"
         ],
         "y": [
          0.738,
          0.9890000000000001,
          0.23,
          0,
          0,
          0.016,
          0.48100000000000004,
          0.021,
          0.037000000000000005,
          0.037000000000000005,
          0.9570000000000001,
          0.92,
          0.043,
          0.043,
          0.043,
          0.9890000000000001,
          0.995,
          0.064,
          0.9470000000000001,
          0.11199999999999999,
          0.134
         ]
        },
        {
         "line": {
          "dash": "dot"
         },
         "mode": "lines",
         "name": "diff(calc-orig)",
         "type": "scatter",
         "x": [
          "学校外の学習",
          "睡眠",
          "休息",
          "社会参加",
          "子どもの世話",
          "仕事",
          "趣味・娯楽・教養",
          "仕事のつきあい",
          "家庭雑事",
          "行楽・散策",
          "マスメディア接触",
          "通学",
          "買い物",
          "通勤",
          "療養・静養",
          "食事",
          "身のまわりの用事",
          "炊事・掃除・洗濯",
          "授業・学内の活動",
          "スポーツ",
          "会話・交際"
         ],
         "y": [
          0.08641818861177564,
          0.010652229670270796,
          0.005965756560437824,
          0,
          0,
          -0.016,
          -0.0179134396736908,
          -0.021,
          -0.037000000000000005,
          -0.037000000000000005,
          -0.03940795254581697,
          -0.04296624573611363,
          -0.043,
          -0.043,
          -0.043,
          -0.04419342159797346,
          -0.053919555696646415,
          -0.064,
          -0.08616688033500941,
          -0.11199999999999999,
          -0.134
         ],
         "yaxis": "y2"
        }
       ],
       "layout": {
        "legend": {
         "orientation": "h",
         "x": 1,
         "xanchor": "right",
         "y": 1.02,
         "yanchor": "bottom"
        },
        "template": {
         "data": {
          "bar": [
           {
            "error_x": {
             "color": "#2a3f5f"
            },
            "error_y": {
             "color": "#2a3f5f"
            },
            "marker": {
             "line": {
              "color": "#E5ECF6",
              "width": 0.5
             },
             "pattern": {
              "fillmode": "overlay",
              "size": 10,
              "solidity": 0.2
             }
            },
            "type": "bar"
           }
          ],
          "barpolar": [
           {
            "marker": {
             "line": {
              "color": "#E5ECF6",
              "width": 0.5
             },
             "pattern": {
              "fillmode": "overlay",
              "size": 10,
              "solidity": 0.2
             }
            },
            "type": "barpolar"
           }
          ],
          "carpet": [
           {
            "aaxis": {
             "endlinecolor": "#2a3f5f",
             "gridcolor": "white",
             "linecolor": "white",
             "minorgridcolor": "white",
             "startlinecolor": "#2a3f5f"
            },
            "baxis": {
             "endlinecolor": "#2a3f5f",
             "gridcolor": "white",
             "linecolor": "white",
             "minorgridcolor": "white",
             "startlinecolor": "#2a3f5f"
            },
            "type": "carpet"
           }
          ],
          "choropleth": [
           {
            "colorbar": {
             "outlinewidth": 0,
             "ticks": ""
            },
            "type": "choropleth"
           }
          ],
          "contour": [
           {
            "colorbar": {
             "outlinewidth": 0,
             "ticks": ""
            },
            "colorscale": [
             [
              0,
              "#0d0887"
             ],
             [
              0.1111111111111111,
              "#46039f"
             ],
             [
              0.2222222222222222,
              "#7201a8"
             ],
             [
              0.3333333333333333,
              "#9c179e"
             ],
             [
              0.4444444444444444,
              "#bd3786"
             ],
             [
              0.5555555555555556,
              "#d8576b"
             ],
             [
              0.6666666666666666,
              "#ed7953"
             ],
             [
              0.7777777777777778,
              "#fb9f3a"
             ],
             [
              0.8888888888888888,
              "#fdca26"
             ],
             [
              1,
              "#f0f921"
             ]
            ],
            "type": "contour"
           }
          ],
          "contourcarpet": [
           {
            "colorbar": {
             "outlinewidth": 0,
             "ticks": ""
            },
            "type": "contourcarpet"
           }
          ],
          "heatmap": [
           {
            "colorbar": {
             "outlinewidth": 0,
             "ticks": ""
            },
            "colorscale": [
             [
              0,
              "#0d0887"
             ],
             [
              0.1111111111111111,
              "#46039f"
             ],
             [
              0.2222222222222222,
              "#7201a8"
             ],
             [
              0.3333333333333333,
              "#9c179e"
             ],
             [
              0.4444444444444444,
              "#bd3786"
             ],
             [
              0.5555555555555556,
              "#d8576b"
             ],
             [
              0.6666666666666666,
              "#ed7953"
             ],
             [
              0.7777777777777778,
              "#fb9f3a"
             ],
             [
              0.8888888888888888,
              "#fdca26"
             ],
             [
              1,
              "#f0f921"
             ]
            ],
            "type": "heatmap"
           }
          ],
          "heatmapgl": [
           {
            "colorbar": {
             "outlinewidth": 0,
             "ticks": ""
            },
            "colorscale": [
             [
              0,
              "#0d0887"
             ],
             [
              0.1111111111111111,
              "#46039f"
             ],
             [
              0.2222222222222222,
              "#7201a8"
             ],
             [
              0.3333333333333333,
              "#9c179e"
             ],
             [
              0.4444444444444444,
              "#bd3786"
             ],
             [
              0.5555555555555556,
              "#d8576b"
             ],
             [
              0.6666666666666666,
              "#ed7953"
             ],
             [
              0.7777777777777778,
              "#fb9f3a"
             ],
             [
              0.8888888888888888,
              "#fdca26"
             ],
             [
              1,
              "#f0f921"
             ]
            ],
            "type": "heatmapgl"
           }
          ],
          "histogram": [
           {
            "marker": {
             "pattern": {
              "fillmode": "overlay",
              "size": 10,
              "solidity": 0.2
             }
            },
            "type": "histogram"
           }
          ],
          "histogram2d": [
           {
            "colorbar": {
             "outlinewidth": 0,
             "ticks": ""
            },
            "colorscale": [
             [
              0,
              "#0d0887"
             ],
             [
              0.1111111111111111,
              "#46039f"
             ],
             [
              0.2222222222222222,
              "#7201a8"
             ],
             [
              0.3333333333333333,
              "#9c179e"
             ],
             [
              0.4444444444444444,
              "#bd3786"
             ],
             [
              0.5555555555555556,
              "#d8576b"
             ],
             [
              0.6666666666666666,
              "#ed7953"
             ],
             [
              0.7777777777777778,
              "#fb9f3a"
             ],
             [
              0.8888888888888888,
              "#fdca26"
             ],
             [
              1,
              "#f0f921"
             ]
            ],
            "type": "histogram2d"
           }
          ],
          "histogram2dcontour": [
           {
            "colorbar": {
             "outlinewidth": 0,
             "ticks": ""
            },
            "colorscale": [
             [
              0,
              "#0d0887"
             ],
             [
              0.1111111111111111,
              "#46039f"
             ],
             [
              0.2222222222222222,
              "#7201a8"
             ],
             [
              0.3333333333333333,
              "#9c179e"
             ],
             [
              0.4444444444444444,
              "#bd3786"
             ],
             [
              0.5555555555555556,
              "#d8576b"
             ],
             [
              0.6666666666666666,
              "#ed7953"
             ],
             [
              0.7777777777777778,
              "#fb9f3a"
             ],
             [
              0.8888888888888888,
              "#fdca26"
             ],
             [
              1,
              "#f0f921"
             ]
            ],
            "type": "histogram2dcontour"
           }
          ],
          "mesh3d": [
           {
            "colorbar": {
             "outlinewidth": 0,
             "ticks": ""
            },
            "type": "mesh3d"
           }
          ],
          "parcoords": [
           {
            "line": {
             "colorbar": {
              "outlinewidth": 0,
              "ticks": ""
             }
            },
            "type": "parcoords"
           }
          ],
          "pie": [
           {
            "automargin": true,
            "type": "pie"
           }
          ],
          "scatter": [
           {
            "fillpattern": {
             "fillmode": "overlay",
             "size": 10,
             "solidity": 0.2
            },
            "type": "scatter"
           }
          ],
          "scatter3d": [
           {
            "line": {
             "colorbar": {
              "outlinewidth": 0,
              "ticks": ""
             }
            },
            "marker": {
             "colorbar": {
              "outlinewidth": 0,
              "ticks": ""
             }
            },
            "type": "scatter3d"
           }
          ],
          "scattercarpet": [
           {
            "marker": {
             "colorbar": {
              "outlinewidth": 0,
              "ticks": ""
             }
            },
            "type": "scattercarpet"
           }
          ],
          "scattergeo": [
           {
            "marker": {
             "colorbar": {
              "outlinewidth": 0,
              "ticks": ""
             }
            },
            "type": "scattergeo"
           }
          ],
          "scattergl": [
           {
            "marker": {
             "colorbar": {
              "outlinewidth": 0,
              "ticks": ""
             }
            },
            "type": "scattergl"
           }
          ],
          "scattermapbox": [
           {
            "marker": {
             "colorbar": {
              "outlinewidth": 0,
              "ticks": ""
             }
            },
            "type": "scattermapbox"
           }
          ],
          "scatterpolar": [
           {
            "marker": {
             "colorbar": {
              "outlinewidth": 0,
              "ticks": ""
             }
            },
            "type": "scatterpolar"
           }
          ],
          "scatterpolargl": [
           {
            "marker": {
             "colorbar": {
              "outlinewidth": 0,
              "ticks": ""
             }
            },
            "type": "scatterpolargl"
           }
          ],
          "scatterternary": [
           {
            "marker": {
             "colorbar": {
              "outlinewidth": 0,
              "ticks": ""
             }
            },
            "type": "scatterternary"
           }
          ],
          "surface": [
           {
            "colorbar": {
             "outlinewidth": 0,
             "ticks": ""
            },
            "colorscale": [
             [
              0,
              "#0d0887"
             ],
             [
              0.1111111111111111,
              "#46039f"
             ],
             [
              0.2222222222222222,
              "#7201a8"
             ],
             [
              0.3333333333333333,
              "#9c179e"
             ],
             [
              0.4444444444444444,
              "#bd3786"
             ],
             [
              0.5555555555555556,
              "#d8576b"
             ],
             [
              0.6666666666666666,
              "#ed7953"
             ],
             [
              0.7777777777777778,
              "#fb9f3a"
             ],
             [
              0.8888888888888888,
              "#fdca26"
             ],
             [
              1,
              "#f0f921"
             ]
            ],
            "type": "surface"
           }
          ],
          "table": [
           {
            "cells": {
             "fill": {
              "color": "#EBF0F8"
             },
             "line": {
              "color": "white"
             }
            },
            "header": {
             "fill": {
              "color": "#C8D4E3"
             },
             "line": {
              "color": "white"
             }
            },
            "type": "table"
           }
          ]
         },
         "layout": {
          "annotationdefaults": {
           "arrowcolor": "#2a3f5f",
           "arrowhead": 0,
           "arrowwidth": 1
          },
          "autotypenumbers": "strict",
          "coloraxis": {
           "colorbar": {
            "outlinewidth": 0,
            "ticks": ""
           }
          },
          "colorscale": {
           "diverging": [
            [
             0,
             "#8e0152"
            ],
            [
             0.1,
             "#c51b7d"
            ],
            [
             0.2,
             "#de77ae"
            ],
            [
             0.3,
             "#f1b6da"
            ],
            [
             0.4,
             "#fde0ef"
            ],
            [
             0.5,
             "#f7f7f7"
            ],
            [
             0.6,
             "#e6f5d0"
            ],
            [
             0.7,
             "#b8e186"
            ],
            [
             0.8,
             "#7fbc41"
            ],
            [
             0.9,
             "#4d9221"
            ],
            [
             1,
             "#276419"
            ]
           ],
           "sequential": [
            [
             0,
             "#0d0887"
            ],
            [
             0.1111111111111111,
             "#46039f"
            ],
            [
             0.2222222222222222,
             "#7201a8"
            ],
            [
             0.3333333333333333,
             "#9c179e"
            ],
            [
             0.4444444444444444,
             "#bd3786"
            ],
            [
             0.5555555555555556,
             "#d8576b"
            ],
            [
             0.6666666666666666,
             "#ed7953"
            ],
            [
             0.7777777777777778,
             "#fb9f3a"
            ],
            [
             0.8888888888888888,
             "#fdca26"
            ],
            [
             1,
             "#f0f921"
            ]
           ],
           "sequentialminus": [
            [
             0,
             "#0d0887"
            ],
            [
             0.1111111111111111,
             "#46039f"
            ],
            [
             0.2222222222222222,
             "#7201a8"
            ],
            [
             0.3333333333333333,
             "#9c179e"
            ],
            [
             0.4444444444444444,
             "#bd3786"
            ],
            [
             0.5555555555555556,
             "#d8576b"
            ],
            [
             0.6666666666666666,
             "#ed7953"
            ],
            [
             0.7777777777777778,
             "#fb9f3a"
            ],
            [
             0.8888888888888888,
             "#fdca26"
            ],
            [
             1,
             "#f0f921"
            ]
           ]
          },
          "colorway": [
           "#636efa",
           "#EF553B",
           "#00cc96",
           "#ab63fa",
           "#FFA15A",
           "#19d3f3",
           "#FF6692",
           "#B6E880",
           "#FF97FF",
           "#FECB52"
          ],
          "font": {
           "color": "#2a3f5f"
          },
          "geo": {
           "bgcolor": "white",
           "lakecolor": "white",
           "landcolor": "#E5ECF6",
           "showlakes": true,
           "showland": true,
           "subunitcolor": "white"
          },
          "hoverlabel": {
           "align": "left"
          },
          "hovermode": "closest",
          "mapbox": {
           "style": "light"
          },
          "paper_bgcolor": "white",
          "plot_bgcolor": "#E5ECF6",
          "polar": {
           "angularaxis": {
            "gridcolor": "white",
            "linecolor": "white",
            "ticks": ""
           },
           "bgcolor": "#E5ECF6",
           "radialaxis": {
            "gridcolor": "white",
            "linecolor": "white",
            "ticks": ""
           }
          },
          "scene": {
           "xaxis": {
            "backgroundcolor": "#E5ECF6",
            "gridcolor": "white",
            "gridwidth": 2,
            "linecolor": "white",
            "showbackground": true,
            "ticks": "",
            "zerolinecolor": "white"
           },
           "yaxis": {
            "backgroundcolor": "#E5ECF6",
            "gridcolor": "white",
            "gridwidth": 2,
            "linecolor": "white",
            "showbackground": true,
            "ticks": "",
            "zerolinecolor": "white"
           },
           "zaxis": {
            "backgroundcolor": "#E5ECF6",
            "gridcolor": "white",
            "gridwidth": 2,
            "linecolor": "white",
            "showbackground": true,
            "ticks": "",
            "zerolinecolor": "white"
           }
          },
          "shapedefaults": {
           "line": {
            "color": "#2a3f5f"
           }
          },
          "ternary": {
           "aaxis": {
            "gridcolor": "white",
            "linecolor": "white",
            "ticks": ""
           },
           "baxis": {
            "gridcolor": "white",
            "linecolor": "white",
            "ticks": ""
           },
           "bgcolor": "#E5ECF6",
           "caxis": {
            "gridcolor": "white",
            "linecolor": "white",
            "ticks": ""
           }
          },
          "title": {
           "x": 0.05
          },
          "xaxis": {
           "automargin": true,
           "gridcolor": "white",
           "linecolor": "white",
           "ticks": "",
           "title": {
            "standoff": 15
           },
           "zerolinecolor": "white",
           "zerolinewidth": 2
          },
          "yaxis": {
           "automargin": true,
           "gridcolor": "white",
           "linecolor": "white",
           "ticks": "",
           "title": {
            "standoff": 15
           },
           "zerolinecolor": "white",
           "zerolinewidth": 2
          }
         }
        },
        "title": {
         "text": "Activity vs. calc_P_i, original_P_i and diff"
        },
        "xaxis": {
         "title": {
          "text": "Activity"
         }
        },
        "yaxis": {
         "title": {
          "text": "P_i"
         }
        },
        "yaxis2": {
         "overlaying": "y",
         "side": "right",
         "title": {
          "text": "diff(calc-orig)"
         }
        }
       }
      }
     },
     "metadata": {},
     "output_type": "display_data"
    }
   ],
   "source": [
    "# calc_P_i = [round(p_i*100,1) for p_i in get_P_i(data_hourly_cleaned,transition_rates_hourly,Activity_Ordering)]\n",
    "# pd.DataFrame({\n",
    "#     \"Activity\":Activity_Ordering,\n",
    "#     \"calc_P_i\":calc_P_i,\n",
    "#     \"original_P_i\":data_full_day_cleaned[\"DailyRate\"]\n",
    "#     })\n",
    "\n",
    "# 遷移確率を計算\n",
    "transition_rates_hourly = calc_transition_rates(best_solution, time_list_hourly, data_hourly_cleaned, Activity_Ordering)\n",
    "# 原因は不明だが、一部1超過する確率が含まれる 故に、1を超過したものは1に修正する。\n",
    "transition_rates_hourly[transition_rates_hourly > 1] = 1\n",
    "\n",
    "forVisualizetion = pd.DataFrame({\n",
    "    \"Activity\":Activity_Ordering,\n",
    "    \"calc_P_i\":get_P_i(data_hourly_cleaned,transition_rates_hourly,Activity_Ordering),\n",
    "    \"original_P_i\":np.array(data_full_day_cleaned[\"DailyRate\"])/100\n",
    "    })\n",
    "forVisualizetion[\"diff\"] = forVisualizetion[\"calc_P_i\"] - forVisualizetion[\"original_P_i\"]\n",
    "forVisualizetion = forVisualizetion.sort_values(\"diff\", ascending=False)\n",
    "\n",
    "# 可視化\n",
    "import plotly.express as px\n",
    "import plotly.graph_objects as go\n",
    "# 折れ線グラフを作成\n",
    "\n",
    "# Figureを作成\n",
    "fig = go.Figure()\n",
    "\n",
    "# calc_P_iの折れ線グラフ\n",
    "fig.add_trace(go.Scatter(x=forVisualizetion['Activity'], y=forVisualizetion['calc_P_i'], mode='lines', name='calc_P_i'))\n",
    "\n",
    "# original_P_iの折れ線グラフ\n",
    "fig.add_trace(go.Scatter(x=forVisualizetion['Activity'], y=forVisualizetion['original_P_i'], mode='lines', name='original_P_i'))\n",
    "\n",
    "# diffの点線グラフ（右側のy軸）\n",
    "fig.add_trace(go.Scatter(x=forVisualizetion['Activity'], y=forVisualizetion['diff'], mode='lines', name='diff(calc-orig)',\n",
    "                         line=dict(dash='dot'), yaxis='y2'))\n",
    "\n",
    "# レイアウトの設定\n",
    "fig.update_layout(\n",
    "    title=\"Activity vs. calc_P_i, original_P_i and diff\",\n",
    "    xaxis_title=\"Activity\",\n",
    "    yaxis_title=\"P_i\",\n",
    "    yaxis2=dict(\n",
    "        title=\"diff(calc-orig)\",\n",
    "        overlaying='y',  # 同じグラフ内で表示\n",
    "        side='right'     # 右側に配置\n",
    "    ),\n",
    "    legend=dict(\n",
    "    orientation=\"h\",\n",
    "    yanchor=\"bottom\",\n",
    "    y=1.02,\n",
    "    xanchor=\"right\",\n",
    "    x=1\n",
    "    )\n",
    ")\n",
    "\n",
    "# グラフを表示\n",
    "fig.show()"
   ]
  },
  {
   "cell_type": "code",
   "execution_count": 111,
   "metadata": {},
   "outputs": [
    {
     "data": {
      "application/vnd.plotly.v1+json": {
       "config": {
        "plotlyServerURL": "https://plot.ly"
       },
       "data": [
        {
         "mode": "lines",
         "name": "calc_P_i",
         "type": "scatter",
         "x": [
          "休息",
          "スポーツ",
          "会話・交際",
          "仕事のつきあい",
          "仕事",
          "趣味・娯楽・教養",
          "行楽・散策",
          "通勤",
          "睡眠",
          "子どもの世話",
          "社会参加",
          "炊事・掃除・洗濯",
          "買い物",
          "家庭雑事",
          "学校外の学習",
          "療養・静養",
          "食事",
          "身のまわりの用事",
          "マスメディア接触",
          "授業・学内の活動",
          "通学"
         ],
         "y": [
          0.4854891582703931,
          0.2634056512386618,
          0.28398838966805906,
          0.14703226421646431,
          0.12841604030280862,
          0.5718638798088485,
          0.07965240549854202,
          0.07317166264562869,
          0.9966469328769165,
          0,
          0,
          0.0560639922631746,
          0.03193611497353044,
          0.025066352026383965,
          0.7014998149256759,
          0.00022221665934551993,
          0.6810234189775721,
          0.668708336091361,
          0.6213010315326383,
          0.4488728508262192,
          0.3690868306640145
         ]
        },
        {
         "mode": "lines",
         "name": "original_P_i",
         "type": "scatter",
         "x": [
          "休息",
          "スポーツ",
          "会話・交際",
          "仕事のつきあい",
          "仕事",
          "趣味・娯楽・教養",
          "行楽・散策",
          "通勤",
          "睡眠",
          "子どもの世話",
          "社会参加",
          "炊事・掃除・洗濯",
          "買い物",
          "家庭雑事",
          "学校外の学習",
          "療養・静養",
          "食事",
          "身のまわりの用事",
          "マスメディア接触",
          "授業・学内の活動",
          "通学"
         ],
         "y": [
          0.23,
          0.11199999999999999,
          0.134,
          0.021,
          0.016,
          0.48100000000000004,
          0.037000000000000005,
          0.043,
          0.9890000000000001,
          0,
          0,
          0.064,
          0.043,
          0.037000000000000005,
          0.738,
          0.043,
          0.9890000000000001,
          0.995,
          0.9570000000000001,
          0.9470000000000001,
          0.92
         ]
        },
        {
         "line": {
          "dash": "dot"
         },
         "mode": "lines",
         "name": "diff(calc-orig)",
         "type": "scatter",
         "x": [
          "休息",
          "スポーツ",
          "会話・交際",
          "仕事のつきあい",
          "仕事",
          "趣味・娯楽・教養",
          "行楽・散策",
          "通勤",
          "睡眠",
          "子どもの世話",
          "社会参加",
          "炊事・掃除・洗濯",
          "買い物",
          "家庭雑事",
          "学校外の学習",
          "療養・静養",
          "食事",
          "身のまわりの用事",
          "マスメディア接触",
          "授業・学内の活動",
          "通学"
         ],
         "y": [
          0.2554891582703931,
          0.1514056512386618,
          0.14998838966805905,
          0.12603226421646432,
          0.11241604030280862,
          0.09086387980884841,
          0.04265240549854202,
          0.03017166264562869,
          0.0076469328769164235,
          0,
          0,
          -0.007936007736825401,
          -0.011063885026469558,
          -0.01193364797361604,
          -0.036500185074324065,
          -0.04277778334065448,
          -0.307976581022428,
          -0.32629166390863895,
          -0.3356989684673618,
          -0.49812714917378087,
          -0.5509131693359856
         ],
         "yaxis": "y2"
        }
       ],
       "layout": {
        "legend": {
         "orientation": "h",
         "x": 1,
         "xanchor": "right",
         "y": 1.02,
         "yanchor": "bottom"
        },
        "template": {
         "data": {
          "bar": [
           {
            "error_x": {
             "color": "#2a3f5f"
            },
            "error_y": {
             "color": "#2a3f5f"
            },
            "marker": {
             "line": {
              "color": "#E5ECF6",
              "width": 0.5
             },
             "pattern": {
              "fillmode": "overlay",
              "size": 10,
              "solidity": 0.2
             }
            },
            "type": "bar"
           }
          ],
          "barpolar": [
           {
            "marker": {
             "line": {
              "color": "#E5ECF6",
              "width": 0.5
             },
             "pattern": {
              "fillmode": "overlay",
              "size": 10,
              "solidity": 0.2
             }
            },
            "type": "barpolar"
           }
          ],
          "carpet": [
           {
            "aaxis": {
             "endlinecolor": "#2a3f5f",
             "gridcolor": "white",
             "linecolor": "white",
             "minorgridcolor": "white",
             "startlinecolor": "#2a3f5f"
            },
            "baxis": {
             "endlinecolor": "#2a3f5f",
             "gridcolor": "white",
             "linecolor": "white",
             "minorgridcolor": "white",
             "startlinecolor": "#2a3f5f"
            },
            "type": "carpet"
           }
          ],
          "choropleth": [
           {
            "colorbar": {
             "outlinewidth": 0,
             "ticks": ""
            },
            "type": "choropleth"
           }
          ],
          "contour": [
           {
            "colorbar": {
             "outlinewidth": 0,
             "ticks": ""
            },
            "colorscale": [
             [
              0,
              "#0d0887"
             ],
             [
              0.1111111111111111,
              "#46039f"
             ],
             [
              0.2222222222222222,
              "#7201a8"
             ],
             [
              0.3333333333333333,
              "#9c179e"
             ],
             [
              0.4444444444444444,
              "#bd3786"
             ],
             [
              0.5555555555555556,
              "#d8576b"
             ],
             [
              0.6666666666666666,
              "#ed7953"
             ],
             [
              0.7777777777777778,
              "#fb9f3a"
             ],
             [
              0.8888888888888888,
              "#fdca26"
             ],
             [
              1,
              "#f0f921"
             ]
            ],
            "type": "contour"
           }
          ],
          "contourcarpet": [
           {
            "colorbar": {
             "outlinewidth": 0,
             "ticks": ""
            },
            "type": "contourcarpet"
           }
          ],
          "heatmap": [
           {
            "colorbar": {
             "outlinewidth": 0,
             "ticks": ""
            },
            "colorscale": [
             [
              0,
              "#0d0887"
             ],
             [
              0.1111111111111111,
              "#46039f"
             ],
             [
              0.2222222222222222,
              "#7201a8"
             ],
             [
              0.3333333333333333,
              "#9c179e"
             ],
             [
              0.4444444444444444,
              "#bd3786"
             ],
             [
              0.5555555555555556,
              "#d8576b"
             ],
             [
              0.6666666666666666,
              "#ed7953"
             ],
             [
              0.7777777777777778,
              "#fb9f3a"
             ],
             [
              0.8888888888888888,
              "#fdca26"
             ],
             [
              1,
              "#f0f921"
             ]
            ],
            "type": "heatmap"
           }
          ],
          "heatmapgl": [
           {
            "colorbar": {
             "outlinewidth": 0,
             "ticks": ""
            },
            "colorscale": [
             [
              0,
              "#0d0887"
             ],
             [
              0.1111111111111111,
              "#46039f"
             ],
             [
              0.2222222222222222,
              "#7201a8"
             ],
             [
              0.3333333333333333,
              "#9c179e"
             ],
             [
              0.4444444444444444,
              "#bd3786"
             ],
             [
              0.5555555555555556,
              "#d8576b"
             ],
             [
              0.6666666666666666,
              "#ed7953"
             ],
             [
              0.7777777777777778,
              "#fb9f3a"
             ],
             [
              0.8888888888888888,
              "#fdca26"
             ],
             [
              1,
              "#f0f921"
             ]
            ],
            "type": "heatmapgl"
           }
          ],
          "histogram": [
           {
            "marker": {
             "pattern": {
              "fillmode": "overlay",
              "size": 10,
              "solidity": 0.2
             }
            },
            "type": "histogram"
           }
          ],
          "histogram2d": [
           {
            "colorbar": {
             "outlinewidth": 0,
             "ticks": ""
            },
            "colorscale": [
             [
              0,
              "#0d0887"
             ],
             [
              0.1111111111111111,
              "#46039f"
             ],
             [
              0.2222222222222222,
              "#7201a8"
             ],
             [
              0.3333333333333333,
              "#9c179e"
             ],
             [
              0.4444444444444444,
              "#bd3786"
             ],
             [
              0.5555555555555556,
              "#d8576b"
             ],
             [
              0.6666666666666666,
              "#ed7953"
             ],
             [
              0.7777777777777778,
              "#fb9f3a"
             ],
             [
              0.8888888888888888,
              "#fdca26"
             ],
             [
              1,
              "#f0f921"
             ]
            ],
            "type": "histogram2d"
           }
          ],
          "histogram2dcontour": [
           {
            "colorbar": {
             "outlinewidth": 0,
             "ticks": ""
            },
            "colorscale": [
             [
              0,
              "#0d0887"
             ],
             [
              0.1111111111111111,
              "#46039f"
             ],
             [
              0.2222222222222222,
              "#7201a8"
             ],
             [
              0.3333333333333333,
              "#9c179e"
             ],
             [
              0.4444444444444444,
              "#bd3786"
             ],
             [
              0.5555555555555556,
              "#d8576b"
             ],
             [
              0.6666666666666666,
              "#ed7953"
             ],
             [
              0.7777777777777778,
              "#fb9f3a"
             ],
             [
              0.8888888888888888,
              "#fdca26"
             ],
             [
              1,
              "#f0f921"
             ]
            ],
            "type": "histogram2dcontour"
           }
          ],
          "mesh3d": [
           {
            "colorbar": {
             "outlinewidth": 0,
             "ticks": ""
            },
            "type": "mesh3d"
           }
          ],
          "parcoords": [
           {
            "line": {
             "colorbar": {
              "outlinewidth": 0,
              "ticks": ""
             }
            },
            "type": "parcoords"
           }
          ],
          "pie": [
           {
            "automargin": true,
            "type": "pie"
           }
          ],
          "scatter": [
           {
            "fillpattern": {
             "fillmode": "overlay",
             "size": 10,
             "solidity": 0.2
            },
            "type": "scatter"
           }
          ],
          "scatter3d": [
           {
            "line": {
             "colorbar": {
              "outlinewidth": 0,
              "ticks": ""
             }
            },
            "marker": {
             "colorbar": {
              "outlinewidth": 0,
              "ticks": ""
             }
            },
            "type": "scatter3d"
           }
          ],
          "scattercarpet": [
           {
            "marker": {
             "colorbar": {
              "outlinewidth": 0,
              "ticks": ""
             }
            },
            "type": "scattercarpet"
           }
          ],
          "scattergeo": [
           {
            "marker": {
             "colorbar": {
              "outlinewidth": 0,
              "ticks": ""
             }
            },
            "type": "scattergeo"
           }
          ],
          "scattergl": [
           {
            "marker": {
             "colorbar": {
              "outlinewidth": 0,
              "ticks": ""
             }
            },
            "type": "scattergl"
           }
          ],
          "scattermapbox": [
           {
            "marker": {
             "colorbar": {
              "outlinewidth": 0,
              "ticks": ""
             }
            },
            "type": "scattermapbox"
           }
          ],
          "scatterpolar": [
           {
            "marker": {
             "colorbar": {
              "outlinewidth": 0,
              "ticks": ""
             }
            },
            "type": "scatterpolar"
           }
          ],
          "scatterpolargl": [
           {
            "marker": {
             "colorbar": {
              "outlinewidth": 0,
              "ticks": ""
             }
            },
            "type": "scatterpolargl"
           }
          ],
          "scatterternary": [
           {
            "marker": {
             "colorbar": {
              "outlinewidth": 0,
              "ticks": ""
             }
            },
            "type": "scatterternary"
           }
          ],
          "surface": [
           {
            "colorbar": {
             "outlinewidth": 0,
             "ticks": ""
            },
            "colorscale": [
             [
              0,
              "#0d0887"
             ],
             [
              0.1111111111111111,
              "#46039f"
             ],
             [
              0.2222222222222222,
              "#7201a8"
             ],
             [
              0.3333333333333333,
              "#9c179e"
             ],
             [
              0.4444444444444444,
              "#bd3786"
             ],
             [
              0.5555555555555556,
              "#d8576b"
             ],
             [
              0.6666666666666666,
              "#ed7953"
             ],
             [
              0.7777777777777778,
              "#fb9f3a"
             ],
             [
              0.8888888888888888,
              "#fdca26"
             ],
             [
              1,
              "#f0f921"
             ]
            ],
            "type": "surface"
           }
          ],
          "table": [
           {
            "cells": {
             "fill": {
              "color": "#EBF0F8"
             },
             "line": {
              "color": "white"
             }
            },
            "header": {
             "fill": {
              "color": "#C8D4E3"
             },
             "line": {
              "color": "white"
             }
            },
            "type": "table"
           }
          ]
         },
         "layout": {
          "annotationdefaults": {
           "arrowcolor": "#2a3f5f",
           "arrowhead": 0,
           "arrowwidth": 1
          },
          "autotypenumbers": "strict",
          "coloraxis": {
           "colorbar": {
            "outlinewidth": 0,
            "ticks": ""
           }
          },
          "colorscale": {
           "diverging": [
            [
             0,
             "#8e0152"
            ],
            [
             0.1,
             "#c51b7d"
            ],
            [
             0.2,
             "#de77ae"
            ],
            [
             0.3,
             "#f1b6da"
            ],
            [
             0.4,
             "#fde0ef"
            ],
            [
             0.5,
             "#f7f7f7"
            ],
            [
             0.6,
             "#e6f5d0"
            ],
            [
             0.7,
             "#b8e186"
            ],
            [
             0.8,
             "#7fbc41"
            ],
            [
             0.9,
             "#4d9221"
            ],
            [
             1,
             "#276419"
            ]
           ],
           "sequential": [
            [
             0,
             "#0d0887"
            ],
            [
             0.1111111111111111,
             "#46039f"
            ],
            [
             0.2222222222222222,
             "#7201a8"
            ],
            [
             0.3333333333333333,
             "#9c179e"
            ],
            [
             0.4444444444444444,
             "#bd3786"
            ],
            [
             0.5555555555555556,
             "#d8576b"
            ],
            [
             0.6666666666666666,
             "#ed7953"
            ],
            [
             0.7777777777777778,
             "#fb9f3a"
            ],
            [
             0.8888888888888888,
             "#fdca26"
            ],
            [
             1,
             "#f0f921"
            ]
           ],
           "sequentialminus": [
            [
             0,
             "#0d0887"
            ],
            [
             0.1111111111111111,
             "#46039f"
            ],
            [
             0.2222222222222222,
             "#7201a8"
            ],
            [
             0.3333333333333333,
             "#9c179e"
            ],
            [
             0.4444444444444444,
             "#bd3786"
            ],
            [
             0.5555555555555556,
             "#d8576b"
            ],
            [
             0.6666666666666666,
             "#ed7953"
            ],
            [
             0.7777777777777778,
             "#fb9f3a"
            ],
            [
             0.8888888888888888,
             "#fdca26"
            ],
            [
             1,
             "#f0f921"
            ]
           ]
          },
          "colorway": [
           "#636efa",
           "#EF553B",
           "#00cc96",
           "#ab63fa",
           "#FFA15A",
           "#19d3f3",
           "#FF6692",
           "#B6E880",
           "#FF97FF",
           "#FECB52"
          ],
          "font": {
           "color": "#2a3f5f"
          },
          "geo": {
           "bgcolor": "white",
           "lakecolor": "white",
           "landcolor": "#E5ECF6",
           "showlakes": true,
           "showland": true,
           "subunitcolor": "white"
          },
          "hoverlabel": {
           "align": "left"
          },
          "hovermode": "closest",
          "mapbox": {
           "style": "light"
          },
          "paper_bgcolor": "white",
          "plot_bgcolor": "#E5ECF6",
          "polar": {
           "angularaxis": {
            "gridcolor": "white",
            "linecolor": "white",
            "ticks": ""
           },
           "bgcolor": "#E5ECF6",
           "radialaxis": {
            "gridcolor": "white",
            "linecolor": "white",
            "ticks": ""
           }
          },
          "scene": {
           "xaxis": {
            "backgroundcolor": "#E5ECF6",
            "gridcolor": "white",
            "gridwidth": 2,
            "linecolor": "white",
            "showbackground": true,
            "ticks": "",
            "zerolinecolor": "white"
           },
           "yaxis": {
            "backgroundcolor": "#E5ECF6",
            "gridcolor": "white",
            "gridwidth": 2,
            "linecolor": "white",
            "showbackground": true,
            "ticks": "",
            "zerolinecolor": "white"
           },
           "zaxis": {
            "backgroundcolor": "#E5ECF6",
            "gridcolor": "white",
            "gridwidth": 2,
            "linecolor": "white",
            "showbackground": true,
            "ticks": "",
            "zerolinecolor": "white"
           }
          },
          "shapedefaults": {
           "line": {
            "color": "#2a3f5f"
           }
          },
          "ternary": {
           "aaxis": {
            "gridcolor": "white",
            "linecolor": "white",
            "ticks": ""
           },
           "baxis": {
            "gridcolor": "white",
            "linecolor": "white",
            "ticks": ""
           },
           "bgcolor": "#E5ECF6",
           "caxis": {
            "gridcolor": "white",
            "linecolor": "white",
            "ticks": ""
           }
          },
          "title": {
           "x": 0.05
          },
          "xaxis": {
           "automargin": true,
           "gridcolor": "white",
           "linecolor": "white",
           "ticks": "",
           "title": {
            "standoff": 15
           },
           "zerolinecolor": "white",
           "zerolinewidth": 2
          },
          "yaxis": {
           "automargin": true,
           "gridcolor": "white",
           "linecolor": "white",
           "ticks": "",
           "title": {
            "standoff": 15
           },
           "zerolinecolor": "white",
           "zerolinewidth": 2
          }
         }
        },
        "title": {
         "text": "Activity vs. calc_P_i, original_P_i and diff"
        },
        "xaxis": {
         "title": {
          "text": "Activity"
         }
        },
        "yaxis": {
         "title": {
          "text": "P_i"
         }
        },
        "yaxis2": {
         "overlaying": "y",
         "side": "right",
         "title": {
          "text": "diff(calc-orig)"
         }
        }
       }
      }
     },
     "metadata": {},
     "output_type": "display_data"
    }
   ],
   "source": [
    "# calc_P_i = [round(p_i*100,1) for p_i in get_P_i(data_hourly_cleaned,transition_rates_hourly,Activity_Ordering)]\n",
    "# pd.DataFrame({\n",
    "#     \"Activity\":Activity_Ordering,\n",
    "#     \"calc_P_i\":calc_P_i,\n",
    "#     \"original_P_i\":data_full_day_cleaned[\"DailyRate\"]\n",
    "#     })\n",
    "\n",
    "forVisualizetion = pd.DataFrame({\n",
    "    \"Activity\":Activity_Ordering,\n",
    "    \"calc_P_i\":get_P_i(data_hourly_cleaned,transition_rates_hourly,Activity_Ordering),\n",
    "    \"original_P_i\":np.array(data_full_day_cleaned[\"DailyRate\"])/100\n",
    "    })\n",
    "forVisualizetion[\"diff\"] = forVisualizetion[\"calc_P_i\"] - forVisualizetion[\"original_P_i\"]\n",
    "forVisualizetion = forVisualizetion.sort_values(\"diff\", ascending=False)\n",
    "\n",
    "# 可視化\n",
    "import plotly.express as px\n",
    "import plotly.graph_objects as go\n",
    "# 折れ線グラフを作成\n",
    "\n",
    "# Figureを作成\n",
    "fig = go.Figure()\n",
    "\n",
    "# calc_P_iの折れ線グラフ\n",
    "fig.add_trace(go.Scatter(x=forVisualizetion['Activity'], y=forVisualizetion['calc_P_i'], mode='lines', name='calc_P_i'))\n",
    "\n",
    "# original_P_iの折れ線グラフ\n",
    "fig.add_trace(go.Scatter(x=forVisualizetion['Activity'], y=forVisualizetion['original_P_i'], mode='lines', name='original_P_i'))\n",
    "\n",
    "# diffの点線グラフ（右側のy軸）\n",
    "fig.add_trace(go.Scatter(x=forVisualizetion['Activity'], y=forVisualizetion['diff'], mode='lines', name='diff(calc-orig)',\n",
    "                         line=dict(dash='dot'), yaxis='y2'))\n",
    "\n",
    "# レイアウトの設定\n",
    "fig.update_layout(\n",
    "    title=\"Activity vs. calc_P_i, original_P_i and diff\",\n",
    "    xaxis_title=\"Activity\",\n",
    "    yaxis_title=\"P_i\",\n",
    "    yaxis2=dict(\n",
    "        title=\"diff(calc-orig)\",\n",
    "        overlaying='y',  # 同じグラフ内で表示\n",
    "        side='right'     # 右側に配置\n",
    "    ),\n",
    "    legend=dict(\n",
    "    orientation=\"h\",\n",
    "    yanchor=\"bottom\",\n",
    "    y=1.02,\n",
    "    xanchor=\"right\",\n",
    "    x=1\n",
    "    )\n",
    ")\n",
    "\n",
    "# グラフを表示\n",
    "fig.show()"
   ]
  },
  {
   "cell_type": "code",
   "execution_count": 105,
   "metadata": {},
   "outputs": [
    {
     "data": {
      "text/html": [
       "<div>\n",
       "<style scoped>\n",
       "    .dataframe tbody tr th:only-of-type {\n",
       "        vertical-align: middle;\n",
       "    }\n",
       "\n",
       "    .dataframe tbody tr th {\n",
       "        vertical-align: top;\n",
       "    }\n",
       "\n",
       "    .dataframe thead th {\n",
       "        text-align: right;\n",
       "    }\n",
       "</style>\n",
       "<table border=\"1\" class=\"dataframe\">\n",
       "  <thead>\n",
       "    <tr style=\"text-align: right;\">\n",
       "      <th></th>\n",
       "      <th>Activity</th>\n",
       "      <th>calc_P_i</th>\n",
       "      <th>original_P_i</th>\n",
       "      <th>diff</th>\n",
       "    </tr>\n",
       "  </thead>\n",
       "  <tbody>\n",
       "    <tr>\n",
       "      <th>16</th>\n",
       "      <td>休息</td>\n",
       "      <td>0.485489</td>\n",
       "      <td>0.230</td>\n",
       "      <td>0.255489</td>\n",
       "    </tr>\n",
       "    <tr>\n",
       "      <th>3</th>\n",
       "      <td>スポーツ</td>\n",
       "      <td>0.263406</td>\n",
       "      <td>0.112</td>\n",
       "      <td>0.151406</td>\n",
       "    </tr>\n",
       "    <tr>\n",
       "      <th>14</th>\n",
       "      <td>会話・交際</td>\n",
       "      <td>0.283988</td>\n",
       "      <td>0.134</td>\n",
       "      <td>0.149988</td>\n",
       "    </tr>\n",
       "    <tr>\n",
       "      <th>11</th>\n",
       "      <td>仕事のつきあい</td>\n",
       "      <td>0.147032</td>\n",
       "      <td>0.021</td>\n",
       "      <td>0.126032</td>\n",
       "    </tr>\n",
       "    <tr>\n",
       "      <th>18</th>\n",
       "      <td>仕事</td>\n",
       "      <td>0.128416</td>\n",
       "      <td>0.016</td>\n",
       "      <td>0.112416</td>\n",
       "    </tr>\n",
       "    <tr>\n",
       "      <th>12</th>\n",
       "      <td>趣味・娯楽・教養</td>\n",
       "      <td>0.571864</td>\n",
       "      <td>0.481</td>\n",
       "      <td>0.090864</td>\n",
       "    </tr>\n",
       "    <tr>\n",
       "      <th>19</th>\n",
       "      <td>行楽・散策</td>\n",
       "      <td>0.079652</td>\n",
       "      <td>0.037</td>\n",
       "      <td>0.042652</td>\n",
       "    </tr>\n",
       "    <tr>\n",
       "      <th>4</th>\n",
       "      <td>通勤</td>\n",
       "      <td>0.073172</td>\n",
       "      <td>0.043</td>\n",
       "      <td>0.030172</td>\n",
       "    </tr>\n",
       "    <tr>\n",
       "      <th>0</th>\n",
       "      <td>睡眠</td>\n",
       "      <td>0.996647</td>\n",
       "      <td>0.989</td>\n",
       "      <td>0.007647</td>\n",
       "    </tr>\n",
       "    <tr>\n",
       "      <th>2</th>\n",
       "      <td>子どもの世話</td>\n",
       "      <td>0.000000</td>\n",
       "      <td>0.000</td>\n",
       "      <td>0.000000</td>\n",
       "    </tr>\n",
       "    <tr>\n",
       "      <th>1</th>\n",
       "      <td>社会参加</td>\n",
       "      <td>0.000000</td>\n",
       "      <td>0.000</td>\n",
       "      <td>0.000000</td>\n",
       "    </tr>\n",
       "    <tr>\n",
       "      <th>5</th>\n",
       "      <td>炊事・掃除・洗濯</td>\n",
       "      <td>0.056064</td>\n",
       "      <td>0.064</td>\n",
       "      <td>-0.007936</td>\n",
       "    </tr>\n",
       "    <tr>\n",
       "      <th>7</th>\n",
       "      <td>買い物</td>\n",
       "      <td>0.031936</td>\n",
       "      <td>0.043</td>\n",
       "      <td>-0.011064</td>\n",
       "    </tr>\n",
       "    <tr>\n",
       "      <th>10</th>\n",
       "      <td>家庭雑事</td>\n",
       "      <td>0.025066</td>\n",
       "      <td>0.037</td>\n",
       "      <td>-0.011934</td>\n",
       "    </tr>\n",
       "    <tr>\n",
       "      <th>15</th>\n",
       "      <td>学校外の学習</td>\n",
       "      <td>0.701500</td>\n",
       "      <td>0.738</td>\n",
       "      <td>-0.036500</td>\n",
       "    </tr>\n",
       "    <tr>\n",
       "      <th>17</th>\n",
       "      <td>療養・静養</td>\n",
       "      <td>0.000222</td>\n",
       "      <td>0.043</td>\n",
       "      <td>-0.042778</td>\n",
       "    </tr>\n",
       "    <tr>\n",
       "      <th>9</th>\n",
       "      <td>食事</td>\n",
       "      <td>0.681023</td>\n",
       "      <td>0.989</td>\n",
       "      <td>-0.307977</td>\n",
       "    </tr>\n",
       "    <tr>\n",
       "      <th>6</th>\n",
       "      <td>身のまわりの用事</td>\n",
       "      <td>0.668708</td>\n",
       "      <td>0.995</td>\n",
       "      <td>-0.326292</td>\n",
       "    </tr>\n",
       "    <tr>\n",
       "      <th>8</th>\n",
       "      <td>マスメディア接触</td>\n",
       "      <td>0.621301</td>\n",
       "      <td>0.957</td>\n",
       "      <td>-0.335699</td>\n",
       "    </tr>\n",
       "    <tr>\n",
       "      <th>20</th>\n",
       "      <td>授業・学内の活動</td>\n",
       "      <td>0.448873</td>\n",
       "      <td>0.947</td>\n",
       "      <td>-0.498127</td>\n",
       "    </tr>\n",
       "    <tr>\n",
       "      <th>13</th>\n",
       "      <td>通学</td>\n",
       "      <td>0.369087</td>\n",
       "      <td>0.920</td>\n",
       "      <td>-0.550913</td>\n",
       "    </tr>\n",
       "  </tbody>\n",
       "</table>\n",
       "</div>"
      ],
      "text/plain": [
       "    Activity  calc_P_i  original_P_i      diff\n",
       "16        休息  0.485489         0.230  0.255489\n",
       "3       スポーツ  0.263406         0.112  0.151406\n",
       "14     会話・交際  0.283988         0.134  0.149988\n",
       "11   仕事のつきあい  0.147032         0.021  0.126032\n",
       "18        仕事  0.128416         0.016  0.112416\n",
       "12  趣味・娯楽・教養  0.571864         0.481  0.090864\n",
       "19     行楽・散策  0.079652         0.037  0.042652\n",
       "4         通勤  0.073172         0.043  0.030172\n",
       "0         睡眠  0.996647         0.989  0.007647\n",
       "2     子どもの世話  0.000000         0.000  0.000000\n",
       "1       社会参加  0.000000         0.000  0.000000\n",
       "5   炊事・掃除・洗濯  0.056064         0.064 -0.007936\n",
       "7        買い物  0.031936         0.043 -0.011064\n",
       "10      家庭雑事  0.025066         0.037 -0.011934\n",
       "15    学校外の学習  0.701500         0.738 -0.036500\n",
       "17     療養・静養  0.000222         0.043 -0.042778\n",
       "9         食事  0.681023         0.989 -0.307977\n",
       "6   身のまわりの用事  0.668708         0.995 -0.326292\n",
       "8   マスメディア接触  0.621301         0.957 -0.335699\n",
       "20  授業・学内の活動  0.448873         0.947 -0.498127\n",
       "13        通学  0.369087         0.920 -0.550913"
      ]
     },
     "execution_count": 105,
     "metadata": {},
     "output_type": "execute_result"
    }
   ],
   "source": [
    "forVisualizetion"
   ]
  },
  {
   "cell_type": "code",
   "execution_count": 79,
   "metadata": {},
   "outputs": [
    {
     "data": {
      "text/plain": [
       "array([], dtype=float64)"
      ]
     },
     "execution_count": 79,
     "metadata": {},
     "output_type": "execute_result"
    }
   ],
   "source": [
    "\n",
    "transition_rates_hourly[transition_rates_hourly > 1]"
   ]
  },
  {
   "cell_type": "markdown",
   "metadata": {},
   "source": [
    "個票生成"
   ]
  },
  {
   "cell_type": "code",
   "execution_count": 218,
   "metadata": {},
   "outputs": [],
   "source": [
    "# 遷移確率を計算\n",
    "transition_rates_hourly = calc_transition_rates(best_solution, time_list_hourly, data_hourly_cleaned, Activity_Ordering)\n",
    "# 原因は不明だが、一部1超過する確率が含まれる 故に、1を超過したものは1に修正する。\n",
    "transition_rates_hourly[transition_rates_hourly > 1] = 1"
   ]
  },
  {
   "cell_type": "code",
   "execution_count": 12,
   "metadata": {},
   "outputs": [
    {
     "name": "stderr",
     "output_type": "stream",
     "text": [
      "100%|██████████| 10000/10000 [00:46<00:00, 216.58it/s]\n"
     ]
    }
   ],
   "source": [
    "# 推定したβをもとに遷移確率を算出\n",
    "no_of_pattern = 10000\n",
    "\n",
    "patterns =[]\n",
    "\n",
    "for i in tqdm(range(no_of_pattern)):\n",
    "    # 初期行動の規定\n",
    "    t_0_table = sort_df_by_list(data_hourly_cleaned[(data_hourly_cleaned[\"Time\"].dt.hour == 0)&(data_hourly_cleaned[\"Time\"].dt.minute == 0)],\"Activity\",Activity_Ordering) # 0:00における行為者率を抽出\n",
    "    idx, action = roulette_wheel_selection(t_0_table[\"Rate\"].to_list(),t_0_table[\"Activity\"].to_list()) # その時刻における行為者率を重みとしてルーレット選択\n",
    "    Actions =[] # 選択した行為種別の記録\n",
    "    Actions.append(action)\n",
    "    for t in range(4*24-1): # 15min間隔で24時間分繰り返す。\n",
    "        transition_r_t = transition_rates_hourly[t] # 時刻tの遷移確率行列を抽出\n",
    "        idx, action = roulette_wheel_selection(list(transition_r_t[idx,:]),Activity_Ordering) # 遷移確率をもとにt+1における行動種別を決定\n",
    "        Actions.append(action) # 行動種別履歴に追加\n",
    "    patterns.append(pd.DataFrame({\"Time\":time_list_hourly,\"Id\":[str(i+1)]*len(time_list_hourly),\"Activity\":Actions}))\n",
    "result = pd.concat(patterns)"
   ]
  },
  {
   "cell_type": "code",
   "execution_count": 26,
   "metadata": {},
   "outputs": [],
   "source": [
    "result.head(100*4*24).pivot(index=\"Id\",columns=\"Time\",values=\"Activity\").to_csv(\"C:/Users/tora2/downloads/result_100.csv\")"
   ]
  },
  {
   "cell_type": "code",
   "execution_count": 24,
   "metadata": {},
   "outputs": [
    {
     "name": "stderr",
     "output_type": "stream",
     "text": [
      "100%|██████████| 21/21 [00:01<00:00, 18.49it/s]\n"
     ]
    }
   ],
   "source": [
    "import plotly.express as px\n",
    "import plotly.graph_objects as go\n",
    "# result tableから集計\n",
    "df_grouped = result.groupby(['Time', 'Activity']).size().unstack(fill_value=0)\n",
    "df_percentage = df_grouped.div(df_grouped.sum(axis=1), axis=0)\n",
    "result_cleaned = df_percentage.reset_index().melt(id_vars=[\"Time\"],value_name=\"Rate\")\n",
    "\n",
    "# 各アクティビティに対して色を指定\n",
    "color_map = {\n",
    "    '食事': '#5DAE8B',  # 濃いめの柔らかいグリーン\n",
    "    '授業・学内の活動': '#E59866',  # 濃いめの柔らかいオレンジ\n",
    "    '買い物': '#F7DC6F',  # 濃いめのイエロー\n",
    "    '会話・交際': '#5499C7',  # 濃いめの柔らかいブルー\n",
    "    'マスメディア接触': '#AF7AC5',  # 濃いめのパープル\n",
    "    '仕事': '#F4D03F',  # 濃いライトゴールド\n",
    "    '療養・静養': '#EC7063',  # 濃いめのピンク\n",
    "    '子どもの世話': '#5DADE2',  # 濃いライトブルー\n",
    "    '行楽・散策': '#DC7633',  # 濃いめのオレンジ\n",
    "    '休息': '#58D68D',  # 濃いめのグリーン\n",
    "    '睡眠': '#28B463',  # 濃いめのグリーン\n",
    "    '通勤': '#85C1E9',  # 濃いめのブルー\n",
    "    'スポーツ': '#F1C40F',  # 濃いめのライトイエロー\n",
    "    '身のまわりの用事': '#E74C3C',  # 濃いめのレッド\n",
    "    '家庭雑事': '#48C9B0',  # 濃いめのアクア\n",
    "    '通学': '#A569BD',  # 濃いラベンダー\n",
    "    '炊事・掃除・洗濯': '#F1948A',  # 濃いめのピンクベージュ\n",
    "    '趣味・娯楽・教養': '#F5B041',  # 濃いゴールド\n",
    "    '仕事のつきあい': '#85929E',  # 濃いめのグレー\n",
    "    '社会参加': '#F8C471',  # 濃いめのライトオレンジ\n",
    "    '学校外の学習': '#76D7C4'  # 濃いめのアクア\n",
    "}\n",
    "\n",
    "\n",
    "\n",
    "for activity in tqdm(Activity_Ordering):\n",
    "    # Plotlyで折れ線グラフを作成\n",
    "    fig = go.Figure()\n",
    "    \n",
    "    # 元データの点線グラフ  \n",
    "    filtered_df = data_hourly_cleaned[data_hourly_cleaned['Activity'] == activity]\n",
    "    fig.add_trace(go.Scatter(\n",
    "        x=filtered_df['Time'], \n",
    "        y=filtered_df['Rate']/100, \n",
    "        mode='lines', \n",
    "        name=f'{activity} (sim)', \n",
    "        line=dict(dash='dash', color=color_map.get(activity))\n",
    "    ))\n",
    "\n",
    "# 算出データの実線グラフ\n",
    "# for activity in Activity_Ordering:\n",
    "    filtered_df = result_cleaned[result_cleaned['Activity'] == activity]\n",
    "    fig.add_trace(go.Scatter(\n",
    "        x=filtered_df['Time'], \n",
    "        y=filtered_df['Rate'], \n",
    "        mode='lines', \n",
    "        name=f'{activity} (統計値)', \n",
    "        line=dict(dash='solid', color=color_map.get(activity))\n",
    "    ))\n",
    "\n",
    "    fig.update_layout(\n",
    "        title=f\"平日 10代男性 {activity} における推定遷移確率によるマイクロシミュレーションの結果と統計値の比較\",\n",
    "        xaxis_title=\"時間\",\n",
    "        yaxis_title=\"割合\",\n",
    "        legend_title=\"活動\",\n",
    "        template=\"plotly\",\n",
    "    )\n",
    "\n",
    "    fig.write_html(f\"C:/Users/tora2/downloads/マルコフ連鎖モデル_{activity}.html\")"
   ]
  },
  {
   "cell_type": "code",
   "execution_count": 302,
   "metadata": {},
   "outputs": [],
   "source": [
    "fig.write_html(\"C:/Users/tora2/downloads/マルコフ連鎖モデル.html\")"
   ]
  }
 ],
 "metadata": {
  "kernelspec": {
   "display_name": "geo_env",
   "language": "python",
   "name": "python3"
  },
  "language_info": {
   "codemirror_mode": {
    "name": "ipython",
    "version": 3
   },
   "file_extension": ".py",
   "mimetype": "text/x-python",
   "name": "python",
   "nbconvert_exporter": "python",
   "pygments_lexer": "ipython3",
   "version": "3.12.0"
  }
 },
 "nbformat": 4,
 "nbformat_minor": 2
}
