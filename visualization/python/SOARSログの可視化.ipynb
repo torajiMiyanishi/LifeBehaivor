{
 "cells": [
  {
   "cell_type": "code",
   "execution_count": 1,
   "id": "initial_id",
   "metadata": {
    "collapsed": true,
    "ExecuteTime": {
     "end_time": "2024-09-24T22:53:52.606954Z",
     "start_time": "2024-09-24T22:53:51.849959200Z"
    }
   },
   "outputs": [],
   "source": [
    "import pandas as pd"
   ]
  },
  {
   "cell_type": "code",
   "execution_count": 21,
   "outputs": [],
   "source": [
    "DIR = \"C:\\\\Users\\\\tora2\\\\IdeaProjects\\\\LifeBehavior\\\\logs\\\\\""
   ],
   "metadata": {
    "collapsed": false,
    "ExecuteTime": {
     "end_time": "2024-09-25T04:11:01.438845300Z",
     "start_time": "2024-09-25T04:11:01.403615300Z"
    }
   },
   "id": "435909c6265b44d9"
  },
  {
   "cell_type": "code",
   "execution_count": 4,
   "outputs": [],
   "source": [
    "df = pd.read_csv(DIR + \"person_trips.csv\")"
   ],
   "metadata": {
    "collapsed": false,
    "ExecuteTime": {
     "end_time": "2024-09-24T22:54:25.622700700Z",
     "start_time": "2024-09-24T22:54:25.073343500Z"
    }
   },
   "id": "f760b76b476e7bf7"
  },
  {
   "cell_type": "code",
   "execution_count": 5,
   "outputs": [
    {
     "data": {
      "text/plain": "        person_id  start_day  start_hour  start_minute  end_day  end_hour  \\\n0       113653540          0         0.0           5.0      0.0       0.0   \n1       113636781          0         0.0           5.0      0.0       0.0   \n2       113636764          0         0.0           5.0      0.0       0.0   \n3       113617993          0         0.0           5.0      0.0       0.0   \n4       113635959          0         0.0           5.0      0.0       0.0   \n...           ...        ...         ...           ...      ...       ...   \n670977  113656192          0        17.0          50.0      0.0      17.0   \n670978  113651093          0        17.0          50.0      0.0      17.0   \n670979  113643149          0        17.0          50.0      0.0      18.0   \n670980  113646467          0        17.0          50.0      0.0      18.0   \n670981  113656217          0         NaN           NaN      NaN       NaN   \n\n        end_minute    origin destination  route_id modes  waking_time  \\\n0             15.0  Home4106       Poi60       0.0   CAR          0.0   \n1             18.0   Home143     Poi2046       1.0   CAR          0.0   \n2             10.0   Home130     Poi2743       2.0   CAR          0.0   \n3             10.0  Home7782     Poi1392       3.0   CAR          0.0   \n4              8.0   Home923     Poi2408       4.0   CAR          0.0   \n...            ...       ...         ...       ...   ...          ...   \n670977        58.0   Poi2525    Home5427  670421.0   CAR          0.0   \n670978        54.0   Poi2388     Poi1721  670422.0   CAR          0.0   \n670979         0.0     Poi89    Home2862  670423.0   CAR          0.0   \n670980        43.0    Poi553      Poi676  670424.0   CAR          0.0   \n670981         NaN       NaN         NaN       NaN   NaN          NaN   \n\n        waking_distance  \n0                   0.0  \n1                   0.0  \n2                   0.0  \n3                   0.0  \n4                   0.0  \n...                 ...  \n670977              0.0  \n670978              0.0  \n670979              0.0  \n670980              0.0  \n670981              NaN  \n\n[670982 rows x 13 columns]",
      "text/html": "<div>\n<style scoped>\n    .dataframe tbody tr th:only-of-type {\n        vertical-align: middle;\n    }\n\n    .dataframe tbody tr th {\n        vertical-align: top;\n    }\n\n    .dataframe thead th {\n        text-align: right;\n    }\n</style>\n<table border=\"1\" class=\"dataframe\">\n  <thead>\n    <tr style=\"text-align: right;\">\n      <th></th>\n      <th>person_id</th>\n      <th>start_day</th>\n      <th>start_hour</th>\n      <th>start_minute</th>\n      <th>end_day</th>\n      <th>end_hour</th>\n      <th>end_minute</th>\n      <th>origin</th>\n      <th>destination</th>\n      <th>route_id</th>\n      <th>modes</th>\n      <th>waking_time</th>\n      <th>waking_distance</th>\n    </tr>\n  </thead>\n  <tbody>\n    <tr>\n      <th>0</th>\n      <td>113653540</td>\n      <td>0</td>\n      <td>0.0</td>\n      <td>5.0</td>\n      <td>0.0</td>\n      <td>0.0</td>\n      <td>15.0</td>\n      <td>Home4106</td>\n      <td>Poi60</td>\n      <td>0.0</td>\n      <td>CAR</td>\n      <td>0.0</td>\n      <td>0.0</td>\n    </tr>\n    <tr>\n      <th>1</th>\n      <td>113636781</td>\n      <td>0</td>\n      <td>0.0</td>\n      <td>5.0</td>\n      <td>0.0</td>\n      <td>0.0</td>\n      <td>18.0</td>\n      <td>Home143</td>\n      <td>Poi2046</td>\n      <td>1.0</td>\n      <td>CAR</td>\n      <td>0.0</td>\n      <td>0.0</td>\n    </tr>\n    <tr>\n      <th>2</th>\n      <td>113636764</td>\n      <td>0</td>\n      <td>0.0</td>\n      <td>5.0</td>\n      <td>0.0</td>\n      <td>0.0</td>\n      <td>10.0</td>\n      <td>Home130</td>\n      <td>Poi2743</td>\n      <td>2.0</td>\n      <td>CAR</td>\n      <td>0.0</td>\n      <td>0.0</td>\n    </tr>\n    <tr>\n      <th>3</th>\n      <td>113617993</td>\n      <td>0</td>\n      <td>0.0</td>\n      <td>5.0</td>\n      <td>0.0</td>\n      <td>0.0</td>\n      <td>10.0</td>\n      <td>Home7782</td>\n      <td>Poi1392</td>\n      <td>3.0</td>\n      <td>CAR</td>\n      <td>0.0</td>\n      <td>0.0</td>\n    </tr>\n    <tr>\n      <th>4</th>\n      <td>113635959</td>\n      <td>0</td>\n      <td>0.0</td>\n      <td>5.0</td>\n      <td>0.0</td>\n      <td>0.0</td>\n      <td>8.0</td>\n      <td>Home923</td>\n      <td>Poi2408</td>\n      <td>4.0</td>\n      <td>CAR</td>\n      <td>0.0</td>\n      <td>0.0</td>\n    </tr>\n    <tr>\n      <th>...</th>\n      <td>...</td>\n      <td>...</td>\n      <td>...</td>\n      <td>...</td>\n      <td>...</td>\n      <td>...</td>\n      <td>...</td>\n      <td>...</td>\n      <td>...</td>\n      <td>...</td>\n      <td>...</td>\n      <td>...</td>\n      <td>...</td>\n    </tr>\n    <tr>\n      <th>670977</th>\n      <td>113656192</td>\n      <td>0</td>\n      <td>17.0</td>\n      <td>50.0</td>\n      <td>0.0</td>\n      <td>17.0</td>\n      <td>58.0</td>\n      <td>Poi2525</td>\n      <td>Home5427</td>\n      <td>670421.0</td>\n      <td>CAR</td>\n      <td>0.0</td>\n      <td>0.0</td>\n    </tr>\n    <tr>\n      <th>670978</th>\n      <td>113651093</td>\n      <td>0</td>\n      <td>17.0</td>\n      <td>50.0</td>\n      <td>0.0</td>\n      <td>17.0</td>\n      <td>54.0</td>\n      <td>Poi2388</td>\n      <td>Poi1721</td>\n      <td>670422.0</td>\n      <td>CAR</td>\n      <td>0.0</td>\n      <td>0.0</td>\n    </tr>\n    <tr>\n      <th>670979</th>\n      <td>113643149</td>\n      <td>0</td>\n      <td>17.0</td>\n      <td>50.0</td>\n      <td>0.0</td>\n      <td>18.0</td>\n      <td>0.0</td>\n      <td>Poi89</td>\n      <td>Home2862</td>\n      <td>670423.0</td>\n      <td>CAR</td>\n      <td>0.0</td>\n      <td>0.0</td>\n    </tr>\n    <tr>\n      <th>670980</th>\n      <td>113646467</td>\n      <td>0</td>\n      <td>17.0</td>\n      <td>50.0</td>\n      <td>0.0</td>\n      <td>18.0</td>\n      <td>43.0</td>\n      <td>Poi553</td>\n      <td>Poi676</td>\n      <td>670424.0</td>\n      <td>CAR</td>\n      <td>0.0</td>\n      <td>0.0</td>\n    </tr>\n    <tr>\n      <th>670981</th>\n      <td>113656217</td>\n      <td>0</td>\n      <td>NaN</td>\n      <td>NaN</td>\n      <td>NaN</td>\n      <td>NaN</td>\n      <td>NaN</td>\n      <td>NaN</td>\n      <td>NaN</td>\n      <td>NaN</td>\n      <td>NaN</td>\n      <td>NaN</td>\n      <td>NaN</td>\n    </tr>\n  </tbody>\n</table>\n<p>670982 rows × 13 columns</p>\n</div>"
     },
     "execution_count": 5,
     "metadata": {},
     "output_type": "execute_result"
    }
   ],
   "source": [
    "df"
   ],
   "metadata": {
    "collapsed": false,
    "ExecuteTime": {
     "end_time": "2024-09-24T22:54:29.289501900Z",
     "start_time": "2024-09-24T22:54:29.257765700Z"
    }
   },
   "id": "6835c701e91872e"
  },
  {
   "cell_type": "code",
   "execution_count": 8,
   "outputs": [
    {
     "data": {
      "text/plain": "15.93138162737137"
     },
     "execution_count": 8,
     "metadata": {},
     "output_type": "execute_result"
    }
   ],
   "source": [
    "df[\"person_id\"].value_counts().mean()"
   ],
   "metadata": {
    "collapsed": false,
    "ExecuteTime": {
     "end_time": "2024-09-24T22:57:50.706411800Z",
     "start_time": "2024-09-24T22:57:50.685702300Z"
    }
   },
   "id": "5cab4d70124ff7e1"
  },
  {
   "cell_type": "code",
   "execution_count": 29,
   "outputs": [],
   "source": [
    "behavior = pd.read_csv(DIR + \"behavior_log.csv\")"
   ],
   "metadata": {
    "collapsed": false,
    "ExecuteTime": {
     "end_time": "2024-09-25T04:20:07.747651900Z",
     "start_time": "2024-09-25T04:20:07.687120800Z"
    }
   },
   "id": "52c55c70d1363744"
  },
  {
   "cell_type": "code",
   "execution_count": 25,
   "outputs": [],
   "source": [
    "behavior_100 = behavior.iloc[:,0:100]"
   ],
   "metadata": {
    "collapsed": false,
    "ExecuteTime": {
     "end_time": "2024-09-25T04:11:12.348744200Z",
     "start_time": "2024-09-25T04:11:12.324031100Z"
    }
   },
   "id": "728fccfc8e45b874"
  },
  {
   "cell_type": "code",
   "execution_count": 30,
   "outputs": [],
   "source": [
    "spot = pd.read_csv(DIR + \"spot_log.csv\")"
   ],
   "metadata": {
    "collapsed": false,
    "ExecuteTime": {
     "end_time": "2024-09-25T04:20:09.788116Z",
     "start_time": "2024-09-25T04:20:09.726075200Z"
    }
   },
   "id": "7ce2182745811ffd"
  },
  {
   "cell_type": "code",
   "execution_count": 15,
   "outputs": [],
   "source": [
    "spot_100 = spot.iloc[:,0:100]"
   ],
   "metadata": {
    "collapsed": false,
    "ExecuteTime": {
     "end_time": "2024-09-25T00:27:54.310691600Z",
     "start_time": "2024-09-25T00:27:54.275365700Z"
    }
   },
   "id": "b1a0962c390c0f7b"
  },
  {
   "cell_type": "code",
   "execution_count": 31,
   "outputs": [],
   "source": [
    "# 'CurrentTime' で両方のDataFrameを結合\n",
    "merged_df = behavior.copy()\n",
    "for col in behavior.columns[2:]:  # 'CurrentTime' と 'CurrentDay' を除外\n",
    "    merged_df[col] = behavior[col] + \":\" + spot[col]"
   ],
   "metadata": {
    "collapsed": false,
    "ExecuteTime": {
     "end_time": "2024-09-25T04:20:10.930873700Z",
     "start_time": "2024-09-25T04:20:10.821046800Z"
    }
   },
   "id": "718a6b4a77d551bd"
  },
  {
   "cell_type": "code",
   "execution_count": 32,
   "outputs": [],
   "source": [
    "merged_df.to_csv(\"C:/Users/tora2/downloads/soars_merged_log.csv\",index=False)"
   ],
   "metadata": {
    "collapsed": false,
    "ExecuteTime": {
     "end_time": "2024-09-25T04:20:11.387434900Z",
     "start_time": "2024-09-25T04:20:11.207709Z"
    }
   },
   "id": "409bdb462b595ca6"
  },
  {
   "cell_type": "code",
   "execution_count": null,
   "outputs": [],
   "source": [],
   "metadata": {
    "collapsed": false
   },
   "id": "616e8a94e45c3a93"
  }
 ],
 "metadata": {
  "kernelspec": {
   "display_name": "Python 3",
   "language": "python",
   "name": "python3"
  },
  "language_info": {
   "codemirror_mode": {
    "name": "ipython",
    "version": 2
   },
   "file_extension": ".py",
   "mimetype": "text/x-python",
   "name": "python",
   "nbconvert_exporter": "python",
   "pygments_lexer": "ipython2",
   "version": "2.7.6"
  }
 },
 "nbformat": 4,
 "nbformat_minor": 5
}
