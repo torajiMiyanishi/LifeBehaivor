{
 "cells": [
  {
   "cell_type": "code",
   "execution_count": 1,
   "metadata": {
    "ExecuteTime": {
     "end_time": "2024-09-21T07:03:53.203884300Z",
     "start_time": "2024-09-21T07:03:51.971984600Z"
    }
   },
   "outputs": [],
   "source": [
    "import pandas as pd\n",
    "import plotly.express as px\n",
    "import plotly.graph_objects as go\n",
    "from datetime import datetime, timedelta"
   ]
  },
  {
   "cell_type": "code",
   "execution_count": 2,
   "metadata": {
    "ExecuteTime": {
     "end_time": "2024-09-21T07:04:30.577052400Z",
     "start_time": "2024-09-21T07:04:30.565076100Z"
    }
   },
   "outputs": [],
   "source": [
    "DIR_CSV = \"C:\\\\Users\\\\tora2\\\\IdeaProjects\\\\LifeBehavior\\\\logs\\\\behavior_log.csv\""
   ]
  },
  {
   "cell_type": "code",
   "execution_count": 3,
   "metadata": {
    "ExecuteTime": {
     "end_time": "2024-09-21T07:04:32.760154700Z",
     "start_time": "2024-09-21T07:04:32.751898400Z"
    }
   },
   "outputs": [],
   "source": [
    "BEHAVIOR_TYPE_TO_ACTIVITY = {\n",
    "    \"SLEEP\": \"睡眠\",\n",
    "    \"EATING\": \"食事\",\n",
    "    \"PERSONAL_CARE\": \"身のまわりの用事\",\n",
    "    \"MEDICAL_CARE\": \"療養・静養\",\n",
    "    \"WORK\": \"仕事\",\n",
    "    \"WORK_SOCIALIZING\": \"仕事のつきあい\",\n",
    "    \"SCHOOL_ACTIVITIES\": \"授業・学内の活動\",\n",
    "    \"STUDY_OUTSIDE\": \"学校外の学習\",\n",
    "    \"HOUSEWORK\": \"炊事・掃除・洗濯\",\n",
    "    \"SHOPPING\": \"買い物\",\n",
    "    \"CHILDCARE\": \"子どもの世話\",\n",
    "    \"HOUSEHOLD_TASKS\": \"家庭雑事\",\n",
    "    \"COMMUTING\": \"通勤\",\n",
    "    \"SCHOOL_COMMUTING\": \"通学\",\n",
    "    \"SOCIAL_PARTICIPATION\": \"社会参加\",\n",
    "    \"SOCIALIZING\": \"会話・交際\",\n",
    "    \"SPORTS\": \"スポーツ\",\n",
    "    \"RECREATION\": \"行楽・散策\",\n",
    "    \"HOBBIES\": \"趣味・娯楽・教養\",\n",
    "    \"MEDIA_CONSUMPTION\": \"マスメディア接触\",\n",
    "    \"REST\": \"休息\"\n",
    "}\n",
    "# 各アクティビティに対して色を指定\n",
    "COLOR_MAP = {\n",
    "    '食事': '#5DAE8B',  # 濃いめの柔らかいグリーン\n",
    "    '授業・学内の活動': '#E59866',  # 濃いめの柔らかいオレンジ\n",
    "    '買い物': '#F7DC6F',  # 濃いめのイエロー\n",
    "    '会話・交際': '#5499C7',  # 濃いめの柔らかいブルー\n",
    "    'マスメディア接触': '#AF7AC5',  # 濃いめのパープル\n",
    "    '仕事': '#F4D03F',  # 濃いライトゴールド\n",
    "    '療養・静養': '#EC7063',  # 濃いめのピンク\n",
    "    '子どもの世話': '#5DADE2',  # 濃いライトブルー\n",
    "    '行楽・散策': '#DC7633',  # 濃いめのオレンジ\n",
    "    '休息': '#58D68D',  # 濃いめのグリーン\n",
    "    '睡眠': '#28B463',  # 濃いめのグリーン\n",
    "    '通勤': '#85C1E9',  # 濃いめのブルー\n",
    "    'スポーツ': '#F1C40F',  # 濃いめのライトイエロー\n",
    "    '身のまわりの用事': '#E74C3C',  # 濃いめのレッド\n",
    "    '家庭雑事': '#48C9B0',  # 濃いめのアクア\n",
    "    '通学': '#A569BD',  # 濃いラベンダー\n",
    "    '炊事・掃除・洗濯': '#F1948A',  # 濃いめのピンクベージュ\n",
    "    '趣味・娯楽・教養': '#F5B041',  # 濃いゴールド\n",
    "    '仕事のつきあい': '#85929E',  # 濃いめのグレー\n",
    "    '社会参加': '#F8C471',  # 濃いめのライトオレンジ\n",
    "    '学校外の学習': '#76D7C4'  # 濃いめのアクア\n",
    "}\n",
    "ACTIVITY_ORDERING = [\n",
    "            \"睡眠\", \"食事\", \"身のまわりの用事\", \"療養・静養\", \"仕事\", \"仕事のつきあい\", \"授業・学内の活動\",\n",
    "            \"学校外の学習\", \"炊事・掃除・洗濯\", \"買い物\", \"子どもの世話\", \"家庭雑事\", \"通勤\", \"通学\", \"社会参加\",\n",
    "            \"会話・交際\", \"スポーツ\", \"行楽・散策\", \"趣味・娯楽・教養\", \"マスメディア接触\", \"休息\"]\n",
    "\n",
    "def parse_current_time_to_datetime(time_str):\n",
    "    # \"0/00:00:00\" 形式の文字列をパース\n",
    "    day_part, time_part = time_str.split('/')  # 例: \"0\", \"00:00:00\"\n",
    "    hours, minutes, seconds = map(int, time_part.split(':'))  # 時、分、秒をintに変換\n",
    "    days = int(day_part)  # 日数部分をintに変換\n",
    "\n",
    "    # 基準日（例えば、今日の日付）からの timedelta を計算\n",
    "    base_date = datetime(2024, 9, 1)  # 基準日を設定（任意の日付を使用）\n",
    "    delta = timedelta(days=days, hours=hours, minutes=minutes, seconds=seconds)\n",
    "    \n",
    "    # 基準日に timedelta を加えて最終的な datetime を計算\n",
    "    result_datetime = base_date + delta\n",
    "    return result_datetime"
   ]
  },
  {
   "cell_type": "code",
   "execution_count": 4,
   "metadata": {
    "ExecuteTime": {
     "end_time": "2024-09-21T07:04:37.489456100Z",
     "start_time": "2024-09-21T07:04:33.743562800Z"
    }
   },
   "outputs": [],
   "source": [
    "result = pd.read_csv(DIR_CSV).replace(BEHAVIOR_TYPE_TO_ACTIVITY)\n",
    "weekday = result.query(\"CurrentDay not in ('SUNDAY','SATURDAY')\").drop(columns=[\"CurrentDay\"])\n",
    "saturday = result.query(\"CurrentDay == 'SATURDAY'\").drop(columns=[\"CurrentDay\"])\n",
    "sunday = result.query(\"CurrentDay == 'SUNDAY'\").drop(columns=[\"CurrentDay\"])\n",
    "allday = result.drop(columns=[\"CurrentDay\"])"
   ]
  },
  {
   "cell_type": "code",
   "execution_count": 5,
   "metadata": {
    "ExecuteTime": {
     "end_time": "2024-09-21T07:04:39.530495800Z",
     "start_time": "2024-09-21T07:04:37.492174900Z"
    }
   },
   "outputs": [],
   "source": [
    "df_grouped = pd.melt(allday, id_vars=[\"CurrentTime\"], var_name=\"Human\", value_name=\"Activity\").groupby(['CurrentTime', 'Activity']).size().unstack(fill_value=0)\n",
    "df_percentage = df_grouped.div(df_grouped.sum(axis=1), axis=0)\n",
    "result_cleaned = df_percentage.reset_index().melt(id_vars=[\"CurrentTime\"],value_name=\"Rate\")\n",
    "result_cleaned[\"Time\"] = result_cleaned[\"CurrentTime\"].apply(parse_current_time_to_datetime)\n",
    "result_cleaned = result_cleaned.sort_values(\"Time\")\n",
    "result_cleaned['DayOfWeek'] = result_cleaned['Time'].dt.strftime('%a')  # 曜日 (Mon, Tue, etc.)\n",
    "# 横軸に日付と曜日を表示するようにするために、日時 + 曜日の文字列を作成\n",
    "result_cleaned['TimeWithDay'] = result_cleaned['Time'].dt.strftime('%m/%d %H:%M (%a)')"
   ]
  },
  {
   "cell_type": "code",
   "execution_count": 6,
   "metadata": {
    "ExecuteTime": {
     "end_time": "2024-09-21T07:04:41.454475200Z",
     "start_time": "2024-09-21T07:04:40.084967800Z"
    }
   },
   "outputs": [],
   "source": [
    "# 目盛りを間引いて設定するため、例えば1日ごとに間引いて設定\n",
    "tick_step = 96  # 15分間隔でのタイムティックで96が1日分に相当（24時間 ÷ 0.25時間）\n",
    "tickvals = result_cleaned['Time'][::tick_step]  # 1日ごとに目盛りを表示\n",
    "ticktext = result_cleaned['TimeWithDay'][::tick_step]  # 1日ごとの時間と曜日\n",
    "\n",
    "# 折れ線グラフを作成\n",
    "fig = go.Figure()\n",
    "\n",
    "# 算出データの実線グラフ\n",
    "for activity in ACTIVITY_ORDERING:\n",
    "    filtered_df = result_cleaned[result_cleaned['Activity'] == activity]\n",
    "    fig.add_trace(go.Scatter(\n",
    "        x=filtered_df['Time'],  # 時間軸はdatetimeのTime列\n",
    "        y=filtered_df['Rate'], \n",
    "        mode='lines', \n",
    "        name=f'{activity} (統計値)', \n",
    "        line=dict(dash='solid', color=COLOR_MAP.get(activity))\n",
    "    ))\n",
    "\n",
    "# グラフのレイアウトを更新\n",
    "fig.update_layout(\n",
    "    title=f\"推定遷移確率によるマイクロシミュレーションの結果\",\n",
    "    xaxis_title=\"時間\",\n",
    "    yaxis_title=\"割合\",\n",
    "    legend_title=\"活動\",\n",
    "    template=\"plotly\",\n",
    "    xaxis=dict(\n",
    "        tickmode='array',  # 固定された値で目盛りを表示\n",
    "        tickvals=tickvals,  # 表示したいタイムティック\n",
    "        ticktext=ticktext,  # 曜日を含めた目盛りテキスト\n",
    "    )\n",
    ")\n",
    "\n",
    "# 結果をHTMLで保存\n",
    "fig.write_html(f\"C:/Users/tora2/downloads/SOARS生活行動モデル_28日全体プロット_with_weekday.html\")"
   ]
  },
  {
   "cell_type": "code",
   "execution_count": null,
   "metadata": {},
   "outputs": [],
   "source": []
  }
 ],
 "metadata": {
  "kernelspec": {
   "display_name": "geo_env",
   "language": "python",
   "name": "python3"
  },
  "language_info": {
   "codemirror_mode": {
    "name": "ipython",
    "version": 3
   },
   "file_extension": ".py",
   "mimetype": "text/x-python",
   "name": "python",
   "nbconvert_exporter": "python",
   "pygments_lexer": "ipython3",
   "version": "3.12.0"
  }
 },
 "nbformat": 4,
 "nbformat_minor": 2
}
